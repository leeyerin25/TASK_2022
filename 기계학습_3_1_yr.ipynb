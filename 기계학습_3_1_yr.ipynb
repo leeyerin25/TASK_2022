{
  "nbformat": 4,
  "nbformat_minor": 0,
  "metadata": {
    "colab": {
      "provenance": [],
      "collapsed_sections": [],
      "mount_file_id": "118tqAv3nx4rVzvTa58qW8jbI8zdz4iPM",
      "authorship_tag": "ABX9TyNtirNO8Z4Xa/H0avFqOZ3N",
      "include_colab_link": true
    },
    "kernelspec": {
      "name": "python3",
      "display_name": "Python 3"
    },
    "language_info": {
      "name": "python"
    }
  },
  "cells": [
    {
      "cell_type": "markdown",
      "metadata": {
        "id": "view-in-github",
        "colab_type": "text"
      },
      "source": [
        "<a href=\"https://colab.research.google.com/github/leeyerin25/TIL_python/blob/main/%EA%B8%B0%EA%B3%84%ED%95%99%EC%8A%B5_3_1_yr.ipynb\" target=\"_parent\"><img src=\"https://colab.research.google.com/assets/colab-badge.svg\" alt=\"Open In Colab\"/></a>"
      ]
    },
    {
      "cell_type": "code",
      "source": [
        "import pandas as pd\n",
        "\n",
        "train = pd.read_csv('/content/drive/MyDrive/기계학습/suicide_data.csv')\n",
        "train.head()"
      ],
      "metadata": {
        "id": "sjXyrVi6QNsE",
        "colab": {
          "base_uri": "https://localhost:8080/",
          "height": 300
        },
        "outputId": "87d076a1-f777-4d45-b052-58a3819cad2e"
      },
      "execution_count": 1,
      "outputs": [
        {
          "output_type": "execute_result",
          "data": {
            "text/plain": [
              "           ID  apt_t  sex  cfam  allownc  house  live_t  marri_2  tins  npins  \\\n",
              "0  A739211515      1    2     3       20      2       3        1    10      1   \n",
              "1  A739211516      1    1     3       20      2       3        1    10      1   \n",
              "2  A739211517      1    2     3       20      2       3        3    20      1   \n",
              "3  A739219614      1    1     4       20      1       3        1    20      1   \n",
              "4  A739219615      1    2     4       20      1       3        1    20      1   \n",
              "\n",
              "   ...   N_CHOL    N_CHO   N_TDF     N_CA    N_FE      N_NA       N_K  \\\n",
              "0  ...  220.911  213.937  12.957  469.710   9.405  2117.652  2540.971   \n",
              "1  ...  352.617  274.917  20.682  372.172  14.404  3699.691  2589.378   \n",
              "2  ...  136.681  272.175  19.292  266.870  13.276  2265.539  2073.714   \n",
              "3  ...   41.882  243.170  25.090  358.145  20.760  4282.505  1830.424   \n",
              "4  ...  140.545  288.721  30.959  487.907  14.351  2875.440  6069.345   \n",
              "\n",
              "    N_VITC LF_SAFE LF_S2  \n",
              "0   31.666      2     3   \n",
              "1   43.118      2     3   \n",
              "2  105.935      2     3   \n",
              "3   41.371      2     3   \n",
              "4   88.895      2     3   \n",
              "\n",
              "[5 rows x 89 columns]"
            ],
            "text/html": [
              "\n",
              "  <div id=\"df-b71f093f-3e97-4b04-a56d-aa9b709b210d\">\n",
              "    <div class=\"colab-df-container\">\n",
              "      <div>\n",
              "<style scoped>\n",
              "    .dataframe tbody tr th:only-of-type {\n",
              "        vertical-align: middle;\n",
              "    }\n",
              "\n",
              "    .dataframe tbody tr th {\n",
              "        vertical-align: top;\n",
              "    }\n",
              "\n",
              "    .dataframe thead th {\n",
              "        text-align: right;\n",
              "    }\n",
              "</style>\n",
              "<table border=\"1\" class=\"dataframe\">\n",
              "  <thead>\n",
              "    <tr style=\"text-align: right;\">\n",
              "      <th></th>\n",
              "      <th>ID</th>\n",
              "      <th>apt_t</th>\n",
              "      <th>sex</th>\n",
              "      <th>cfam</th>\n",
              "      <th>allownc</th>\n",
              "      <th>house</th>\n",
              "      <th>live_t</th>\n",
              "      <th>marri_2</th>\n",
              "      <th>tins</th>\n",
              "      <th>npins</th>\n",
              "      <th>...</th>\n",
              "      <th>N_CHOL</th>\n",
              "      <th>N_CHO</th>\n",
              "      <th>N_TDF</th>\n",
              "      <th>N_CA</th>\n",
              "      <th>N_FE</th>\n",
              "      <th>N_NA</th>\n",
              "      <th>N_K</th>\n",
              "      <th>N_VITC</th>\n",
              "      <th>LF_SAFE</th>\n",
              "      <th>LF_S2</th>\n",
              "    </tr>\n",
              "  </thead>\n",
              "  <tbody>\n",
              "    <tr>\n",
              "      <th>0</th>\n",
              "      <td>A739211515</td>\n",
              "      <td>1</td>\n",
              "      <td>2</td>\n",
              "      <td>3</td>\n",
              "      <td>20</td>\n",
              "      <td>2</td>\n",
              "      <td>3</td>\n",
              "      <td>1</td>\n",
              "      <td>10</td>\n",
              "      <td>1</td>\n",
              "      <td>...</td>\n",
              "      <td>220.911</td>\n",
              "      <td>213.937</td>\n",
              "      <td>12.957</td>\n",
              "      <td>469.710</td>\n",
              "      <td>9.405</td>\n",
              "      <td>2117.652</td>\n",
              "      <td>2540.971</td>\n",
              "      <td>31.666</td>\n",
              "      <td>2</td>\n",
              "      <td>3</td>\n",
              "    </tr>\n",
              "    <tr>\n",
              "      <th>1</th>\n",
              "      <td>A739211516</td>\n",
              "      <td>1</td>\n",
              "      <td>1</td>\n",
              "      <td>3</td>\n",
              "      <td>20</td>\n",
              "      <td>2</td>\n",
              "      <td>3</td>\n",
              "      <td>1</td>\n",
              "      <td>10</td>\n",
              "      <td>1</td>\n",
              "      <td>...</td>\n",
              "      <td>352.617</td>\n",
              "      <td>274.917</td>\n",
              "      <td>20.682</td>\n",
              "      <td>372.172</td>\n",
              "      <td>14.404</td>\n",
              "      <td>3699.691</td>\n",
              "      <td>2589.378</td>\n",
              "      <td>43.118</td>\n",
              "      <td>2</td>\n",
              "      <td>3</td>\n",
              "    </tr>\n",
              "    <tr>\n",
              "      <th>2</th>\n",
              "      <td>A739211517</td>\n",
              "      <td>1</td>\n",
              "      <td>2</td>\n",
              "      <td>3</td>\n",
              "      <td>20</td>\n",
              "      <td>2</td>\n",
              "      <td>3</td>\n",
              "      <td>3</td>\n",
              "      <td>20</td>\n",
              "      <td>1</td>\n",
              "      <td>...</td>\n",
              "      <td>136.681</td>\n",
              "      <td>272.175</td>\n",
              "      <td>19.292</td>\n",
              "      <td>266.870</td>\n",
              "      <td>13.276</td>\n",
              "      <td>2265.539</td>\n",
              "      <td>2073.714</td>\n",
              "      <td>105.935</td>\n",
              "      <td>2</td>\n",
              "      <td>3</td>\n",
              "    </tr>\n",
              "    <tr>\n",
              "      <th>3</th>\n",
              "      <td>A739219614</td>\n",
              "      <td>1</td>\n",
              "      <td>1</td>\n",
              "      <td>4</td>\n",
              "      <td>20</td>\n",
              "      <td>1</td>\n",
              "      <td>3</td>\n",
              "      <td>1</td>\n",
              "      <td>20</td>\n",
              "      <td>1</td>\n",
              "      <td>...</td>\n",
              "      <td>41.882</td>\n",
              "      <td>243.170</td>\n",
              "      <td>25.090</td>\n",
              "      <td>358.145</td>\n",
              "      <td>20.760</td>\n",
              "      <td>4282.505</td>\n",
              "      <td>1830.424</td>\n",
              "      <td>41.371</td>\n",
              "      <td>2</td>\n",
              "      <td>3</td>\n",
              "    </tr>\n",
              "    <tr>\n",
              "      <th>4</th>\n",
              "      <td>A739219615</td>\n",
              "      <td>1</td>\n",
              "      <td>2</td>\n",
              "      <td>4</td>\n",
              "      <td>20</td>\n",
              "      <td>1</td>\n",
              "      <td>3</td>\n",
              "      <td>1</td>\n",
              "      <td>20</td>\n",
              "      <td>1</td>\n",
              "      <td>...</td>\n",
              "      <td>140.545</td>\n",
              "      <td>288.721</td>\n",
              "      <td>30.959</td>\n",
              "      <td>487.907</td>\n",
              "      <td>14.351</td>\n",
              "      <td>2875.440</td>\n",
              "      <td>6069.345</td>\n",
              "      <td>88.895</td>\n",
              "      <td>2</td>\n",
              "      <td>3</td>\n",
              "    </tr>\n",
              "  </tbody>\n",
              "</table>\n",
              "<p>5 rows × 89 columns</p>\n",
              "</div>\n",
              "      <button class=\"colab-df-convert\" onclick=\"convertToInteractive('df-b71f093f-3e97-4b04-a56d-aa9b709b210d')\"\n",
              "              title=\"Convert this dataframe to an interactive table.\"\n",
              "              style=\"display:none;\">\n",
              "        \n",
              "  <svg xmlns=\"http://www.w3.org/2000/svg\" height=\"24px\"viewBox=\"0 0 24 24\"\n",
              "       width=\"24px\">\n",
              "    <path d=\"M0 0h24v24H0V0z\" fill=\"none\"/>\n",
              "    <path d=\"M18.56 5.44l.94 2.06.94-2.06 2.06-.94-2.06-.94-.94-2.06-.94 2.06-2.06.94zm-11 1L8.5 8.5l.94-2.06 2.06-.94-2.06-.94L8.5 2.5l-.94 2.06-2.06.94zm10 10l.94 2.06.94-2.06 2.06-.94-2.06-.94-.94-2.06-.94 2.06-2.06.94z\"/><path d=\"M17.41 7.96l-1.37-1.37c-.4-.4-.92-.59-1.43-.59-.52 0-1.04.2-1.43.59L10.3 9.45l-7.72 7.72c-.78.78-.78 2.05 0 2.83L4 21.41c.39.39.9.59 1.41.59.51 0 1.02-.2 1.41-.59l7.78-7.78 2.81-2.81c.8-.78.8-2.07 0-2.86zM5.41 20L4 18.59l7.72-7.72 1.47 1.35L5.41 20z\"/>\n",
              "  </svg>\n",
              "      </button>\n",
              "      \n",
              "  <style>\n",
              "    .colab-df-container {\n",
              "      display:flex;\n",
              "      flex-wrap:wrap;\n",
              "      gap: 12px;\n",
              "    }\n",
              "\n",
              "    .colab-df-convert {\n",
              "      background-color: #E8F0FE;\n",
              "      border: none;\n",
              "      border-radius: 50%;\n",
              "      cursor: pointer;\n",
              "      display: none;\n",
              "      fill: #1967D2;\n",
              "      height: 32px;\n",
              "      padding: 0 0 0 0;\n",
              "      width: 32px;\n",
              "    }\n",
              "\n",
              "    .colab-df-convert:hover {\n",
              "      background-color: #E2EBFA;\n",
              "      box-shadow: 0px 1px 2px rgba(60, 64, 67, 0.3), 0px 1px 3px 1px rgba(60, 64, 67, 0.15);\n",
              "      fill: #174EA6;\n",
              "    }\n",
              "\n",
              "    [theme=dark] .colab-df-convert {\n",
              "      background-color: #3B4455;\n",
              "      fill: #D2E3FC;\n",
              "    }\n",
              "\n",
              "    [theme=dark] .colab-df-convert:hover {\n",
              "      background-color: #434B5C;\n",
              "      box-shadow: 0px 1px 3px 1px rgba(0, 0, 0, 0.15);\n",
              "      filter: drop-shadow(0px 1px 2px rgba(0, 0, 0, 0.3));\n",
              "      fill: #FFFFFF;\n",
              "    }\n",
              "  </style>\n",
              "\n",
              "      <script>\n",
              "        const buttonEl =\n",
              "          document.querySelector('#df-b71f093f-3e97-4b04-a56d-aa9b709b210d button.colab-df-convert');\n",
              "        buttonEl.style.display =\n",
              "          google.colab.kernel.accessAllowed ? 'block' : 'none';\n",
              "\n",
              "        async function convertToInteractive(key) {\n",
              "          const element = document.querySelector('#df-b71f093f-3e97-4b04-a56d-aa9b709b210d');\n",
              "          const dataTable =\n",
              "            await google.colab.kernel.invokeFunction('convertToInteractive',\n",
              "                                                     [key], {});\n",
              "          if (!dataTable) return;\n",
              "\n",
              "          const docLinkHtml = 'Like what you see? Visit the ' +\n",
              "            '<a target=\"_blank\" href=https://colab.research.google.com/notebooks/data_table.ipynb>data table notebook</a>'\n",
              "            + ' to learn more about interactive tables.';\n",
              "          element.innerHTML = '';\n",
              "          dataTable['output_type'] = 'display_data';\n",
              "          await google.colab.output.renderOutput(dataTable, element);\n",
              "          const docLink = document.createElement('div');\n",
              "          docLink.innerHTML = docLinkHtml;\n",
              "          element.appendChild(docLink);\n",
              "        }\n",
              "      </script>\n",
              "    </div>\n",
              "  </div>\n",
              "  "
            ]
          },
          "metadata": {},
          "execution_count": 1
        }
      ]
    },
    {
      "cell_type": "code",
      "execution_count": 2,
      "metadata": {
        "id": "1v_J0KoFLBAR"
      },
      "outputs": [],
      "source": [
        "import pandas as pd\n",
        "import numpy as np\n",
        "from collections import Counter\n",
        "import tensorflow as tf\n",
        "import matplotlib.pyplot as plt\n",
        "%matplotlib inline"
      ]
    },
    {
      "cell_type": "markdown",
      "source": [
        "# 새 섹션"
      ],
      "metadata": {
        "id": "7Tu7rzvZZsYy"
      }
    },
    {
      "cell_type": "code",
      "source": [
        "from google.colab import drive\n",
        "drive.mount('/sample_data')"
      ],
      "metadata": {
        "id": "ZdcQ2_MbLEm8",
        "colab": {
          "base_uri": "https://localhost:8080/"
        },
        "outputId": "f3a5b16c-8387-4708-bb3d-0deaf012ed55"
      },
      "execution_count": 3,
      "outputs": [
        {
          "output_type": "stream",
          "name": "stdout",
          "text": [
            "Mounted at /sample_data\n"
          ]
        }
      ]
    },
    {
      "cell_type": "markdown",
      "source": [
        "numeric => 나이와 같은 숫자"
      ],
      "metadata": {
        "id": "VWRGMt4Ob5iu"
      }
    },
    {
      "cell_type": "code",
      "source": [
        "np.random.seed(3)\n",
        "tf.random.set_seed(3)\n",
        "\n",
        "df = train"
      ],
      "metadata": {
        "id": "BsTjdYdgLEyi"
      },
      "execution_count": 5,
      "outputs": []
    },
    {
      "cell_type": "markdown",
      "source": [
        "결측값제거 / 파이썬에서 nan 은 numeric 만 찾아낼수있음 -> numeric 으로 다 변환필요"
      ],
      "metadata": {
        "id": "pxm58c9jhUCx"
      }
    },
    {
      "cell_type": "code",
      "source": [
        "df = df.replace({'cfam':8, 'cfam':np.nan})\n",
        "df = df.replace({'cfam':9, 'cfam':np.nan})\n",
        "df = df.replace({'BD1_11':8, 'BD1_11':np.nan})\n",
        "df = df.replace({'BD1_11':9, 'BD1_11':np.nan})\n",
        "df = df.replace({'BE8_1':88, 'BE8_1':np.nan})\n",
        "df = df.replace({'BE8_1':99, 'BE8_1':np.nan})"
      ],
      "metadata": {
        "id": "XiXkloSMhczd"
      },
      "execution_count": 7,
      "outputs": []
    },
    {
      "cell_type": "markdown",
      "source": [
        "뉴메릭으로 변환하는 과정임.  근데이거먼저해야하는거아닌가??\n",
        "coerce -> numeric 으로 변환안될시 null값으로 변경해줌"
      ],
      "metadata": {
        "id": "8SJmyT5iiHxx"
      }
    },
    {
      "cell_type": "code",
      "source": [
        "df = df.iloc[:,1:].apply(pd.to_numeric, errors='coerce')"
      ],
      "metadata": {
        "id": "DEOjtzLWhc_T"
      },
      "execution_count": 9,
      "outputs": []
    },
    {
      "cell_type": "markdown",
      "source": [
        "널값이 있는 부분을 다 찝어주는 함수 (변수,널값수)\n",
        "\n",
        "3500명이상(50%이상)은 쓸수없음."
      ],
      "metadata": {
        "id": "7Fd05H8ajamO"
      }
    },
    {
      "cell_type": "code",
      "source": [
        "def null_check(df):\n",
        "    null = df.isnull().sum()\n",
        "    \n",
        "    null_col=[]\n",
        "\n",
        "    for i in range(len(df.columns)):\n",
        "        if (null[i]!=0):\n",
        "            print(null.index[i],null[i])\n",
        "            null_col.append(null.index[i])\n",
        "\n",
        "null_check(df)"
      ],
      "metadata": {
        "id": "yLMiN8Q3ivaM",
        "colab": {
          "base_uri": "https://localhost:8080/"
        },
        "outputId": "3d4e78a3-3c7a-4e02-96bc-bc63beb67951"
      },
      "execution_count": 8,
      "outputs": [
        {
          "output_type": "stream",
          "name": "stdout",
          "text": [
            "HE_wc 413\n",
            "N_EN 752\n",
            "N_WATER 752\n",
            "N_PROT 752\n",
            "N_FAT 752\n",
            "N_SFA 752\n",
            "N_MUFA 752\n",
            "N_PUFA 752\n",
            "N_CHOL 752\n",
            "N_CHO 752\n",
            "N_TDF 752\n",
            "N_CA 752\n",
            "N_FE 752\n",
            "N_NA 752\n",
            "N_K 752\n",
            "N_VITC 752\n"
          ]
        }
      ]
    },
    {
      "cell_type": "markdown",
      "source": [
        "lable 에 값이 없는것들은 살릴수없음 . lable 없는거 먼저 지워야한다!! row 가 줄은걸 확인할수있다."
      ],
      "metadata": {
        "id": "v0sRiJjajZuA"
      }
    },
    {
      "cell_type": "code",
      "source": [
        "df1 = df.dropna(subset=['mh_suicide'])\n",
        "df1"
      ],
      "metadata": {
        "id": "RLJFj7Mcjq6C",
        "colab": {
          "base_uri": "https://localhost:8080/",
          "height": 488
        },
        "outputId": "4798133e-6ba6-4984-e897-77b22820a6bd"
      },
      "execution_count": 10,
      "outputs": [
        {
          "output_type": "execute_result",
          "data": {
            "text/plain": [
              "      apt_t  sex  cfam  allownc  house  live_t  marri_2  tins  npins  \\\n",
              "0         1    2     3       20      2       3        1    10      1   \n",
              "1         1    1     3       20      2       3        1    10      1   \n",
              "3         1    1     4       20      1       3        1    20      1   \n",
              "4         1    2     4       20      1       3        1    20      1   \n",
              "7         1    2     1       20      3       3        3    10      1   \n",
              "...     ...  ...   ...      ...    ...     ...      ...   ...    ...   \n",
              "7375      2    1     4       10      1       2       88    30      2   \n",
              "7376      2    2     2       20      1       2        3    10      2   \n",
              "7377      2    1     1       20      1       2        3    10      2   \n",
              "7378      2    1     1       10      1       2        2    30      2   \n",
              "7379      2    2     1       10      1       2        3    20      2   \n",
              "\n",
              "      mh_stress  ...   N_CHOL    N_CHO   N_TDF     N_CA    N_FE      N_NA  \\\n",
              "0           0.0  ...  220.911  213.937  12.957  469.710   9.405  2117.652   \n",
              "1           1.0  ...  352.617  274.917  20.682  372.172  14.404  3699.691   \n",
              "3           0.0  ...   41.882  243.170  25.090  358.145  20.760  4282.505   \n",
              "4           0.0  ...  140.545  288.721  30.959  487.907  14.351  2875.440   \n",
              "7           1.0  ...   72.310  210.397  15.754  264.357   5.499  3105.538   \n",
              "...         ...  ...      ...      ...     ...      ...     ...       ...   \n",
              "7375        0.0  ...  691.964  702.860  30.675  729.327  21.411  6821.265   \n",
              "7376        0.0  ...  227.482  297.520  42.728  503.535  19.751  3801.607   \n",
              "7377        0.0  ...   56.957  490.710  28.559  446.249  14.001  7703.677   \n",
              "7378        1.0  ...    2.523  335.034  14.751  183.639  11.132  1480.816   \n",
              "7379        0.0  ...   29.512  331.486  19.802  538.297   8.958  1840.088   \n",
              "\n",
              "           N_K   N_VITC  LF_SAFE  LF_S2  \n",
              "0     2540.971   31.666      2.0    3.0  \n",
              "1     2589.378   43.118      2.0    3.0  \n",
              "3     1830.424   41.371      2.0    3.0  \n",
              "4     6069.345   88.895      2.0    3.0  \n",
              "7     2331.930  224.503      1.0    3.0  \n",
              "...        ...      ...      ...    ...  \n",
              "7375  5393.122   85.347      3.0    1.0  \n",
              "7376  5115.446  332.436      1.0    3.0  \n",
              "7377  2881.317   62.240      2.0    3.0  \n",
              "7378  1686.216   18.751      2.0    1.0  \n",
              "7379  1946.663   30.119      2.0    3.0  \n",
              "\n",
              "[5935 rows x 88 columns]"
            ],
            "text/html": [
              "\n",
              "  <div id=\"df-aa201047-0489-4f15-b477-dfaf974df17a\">\n",
              "    <div class=\"colab-df-container\">\n",
              "      <div>\n",
              "<style scoped>\n",
              "    .dataframe tbody tr th:only-of-type {\n",
              "        vertical-align: middle;\n",
              "    }\n",
              "\n",
              "    .dataframe tbody tr th {\n",
              "        vertical-align: top;\n",
              "    }\n",
              "\n",
              "    .dataframe thead th {\n",
              "        text-align: right;\n",
              "    }\n",
              "</style>\n",
              "<table border=\"1\" class=\"dataframe\">\n",
              "  <thead>\n",
              "    <tr style=\"text-align: right;\">\n",
              "      <th></th>\n",
              "      <th>apt_t</th>\n",
              "      <th>sex</th>\n",
              "      <th>cfam</th>\n",
              "      <th>allownc</th>\n",
              "      <th>house</th>\n",
              "      <th>live_t</th>\n",
              "      <th>marri_2</th>\n",
              "      <th>tins</th>\n",
              "      <th>npins</th>\n",
              "      <th>mh_stress</th>\n",
              "      <th>...</th>\n",
              "      <th>N_CHOL</th>\n",
              "      <th>N_CHO</th>\n",
              "      <th>N_TDF</th>\n",
              "      <th>N_CA</th>\n",
              "      <th>N_FE</th>\n",
              "      <th>N_NA</th>\n",
              "      <th>N_K</th>\n",
              "      <th>N_VITC</th>\n",
              "      <th>LF_SAFE</th>\n",
              "      <th>LF_S2</th>\n",
              "    </tr>\n",
              "  </thead>\n",
              "  <tbody>\n",
              "    <tr>\n",
              "      <th>0</th>\n",
              "      <td>1</td>\n",
              "      <td>2</td>\n",
              "      <td>3</td>\n",
              "      <td>20</td>\n",
              "      <td>2</td>\n",
              "      <td>3</td>\n",
              "      <td>1</td>\n",
              "      <td>10</td>\n",
              "      <td>1</td>\n",
              "      <td>0.0</td>\n",
              "      <td>...</td>\n",
              "      <td>220.911</td>\n",
              "      <td>213.937</td>\n",
              "      <td>12.957</td>\n",
              "      <td>469.710</td>\n",
              "      <td>9.405</td>\n",
              "      <td>2117.652</td>\n",
              "      <td>2540.971</td>\n",
              "      <td>31.666</td>\n",
              "      <td>2.0</td>\n",
              "      <td>3.0</td>\n",
              "    </tr>\n",
              "    <tr>\n",
              "      <th>1</th>\n",
              "      <td>1</td>\n",
              "      <td>1</td>\n",
              "      <td>3</td>\n",
              "      <td>20</td>\n",
              "      <td>2</td>\n",
              "      <td>3</td>\n",
              "      <td>1</td>\n",
              "      <td>10</td>\n",
              "      <td>1</td>\n",
              "      <td>1.0</td>\n",
              "      <td>...</td>\n",
              "      <td>352.617</td>\n",
              "      <td>274.917</td>\n",
              "      <td>20.682</td>\n",
              "      <td>372.172</td>\n",
              "      <td>14.404</td>\n",
              "      <td>3699.691</td>\n",
              "      <td>2589.378</td>\n",
              "      <td>43.118</td>\n",
              "      <td>2.0</td>\n",
              "      <td>3.0</td>\n",
              "    </tr>\n",
              "    <tr>\n",
              "      <th>3</th>\n",
              "      <td>1</td>\n",
              "      <td>1</td>\n",
              "      <td>4</td>\n",
              "      <td>20</td>\n",
              "      <td>1</td>\n",
              "      <td>3</td>\n",
              "      <td>1</td>\n",
              "      <td>20</td>\n",
              "      <td>1</td>\n",
              "      <td>0.0</td>\n",
              "      <td>...</td>\n",
              "      <td>41.882</td>\n",
              "      <td>243.170</td>\n",
              "      <td>25.090</td>\n",
              "      <td>358.145</td>\n",
              "      <td>20.760</td>\n",
              "      <td>4282.505</td>\n",
              "      <td>1830.424</td>\n",
              "      <td>41.371</td>\n",
              "      <td>2.0</td>\n",
              "      <td>3.0</td>\n",
              "    </tr>\n",
              "    <tr>\n",
              "      <th>4</th>\n",
              "      <td>1</td>\n",
              "      <td>2</td>\n",
              "      <td>4</td>\n",
              "      <td>20</td>\n",
              "      <td>1</td>\n",
              "      <td>3</td>\n",
              "      <td>1</td>\n",
              "      <td>20</td>\n",
              "      <td>1</td>\n",
              "      <td>0.0</td>\n",
              "      <td>...</td>\n",
              "      <td>140.545</td>\n",
              "      <td>288.721</td>\n",
              "      <td>30.959</td>\n",
              "      <td>487.907</td>\n",
              "      <td>14.351</td>\n",
              "      <td>2875.440</td>\n",
              "      <td>6069.345</td>\n",
              "      <td>88.895</td>\n",
              "      <td>2.0</td>\n",
              "      <td>3.0</td>\n",
              "    </tr>\n",
              "    <tr>\n",
              "      <th>7</th>\n",
              "      <td>1</td>\n",
              "      <td>2</td>\n",
              "      <td>1</td>\n",
              "      <td>20</td>\n",
              "      <td>3</td>\n",
              "      <td>3</td>\n",
              "      <td>3</td>\n",
              "      <td>10</td>\n",
              "      <td>1</td>\n",
              "      <td>1.0</td>\n",
              "      <td>...</td>\n",
              "      <td>72.310</td>\n",
              "      <td>210.397</td>\n",
              "      <td>15.754</td>\n",
              "      <td>264.357</td>\n",
              "      <td>5.499</td>\n",
              "      <td>3105.538</td>\n",
              "      <td>2331.930</td>\n",
              "      <td>224.503</td>\n",
              "      <td>1.0</td>\n",
              "      <td>3.0</td>\n",
              "    </tr>\n",
              "    <tr>\n",
              "      <th>...</th>\n",
              "      <td>...</td>\n",
              "      <td>...</td>\n",
              "      <td>...</td>\n",
              "      <td>...</td>\n",
              "      <td>...</td>\n",
              "      <td>...</td>\n",
              "      <td>...</td>\n",
              "      <td>...</td>\n",
              "      <td>...</td>\n",
              "      <td>...</td>\n",
              "      <td>...</td>\n",
              "      <td>...</td>\n",
              "      <td>...</td>\n",
              "      <td>...</td>\n",
              "      <td>...</td>\n",
              "      <td>...</td>\n",
              "      <td>...</td>\n",
              "      <td>...</td>\n",
              "      <td>...</td>\n",
              "      <td>...</td>\n",
              "      <td>...</td>\n",
              "    </tr>\n",
              "    <tr>\n",
              "      <th>7375</th>\n",
              "      <td>2</td>\n",
              "      <td>1</td>\n",
              "      <td>4</td>\n",
              "      <td>10</td>\n",
              "      <td>1</td>\n",
              "      <td>2</td>\n",
              "      <td>88</td>\n",
              "      <td>30</td>\n",
              "      <td>2</td>\n",
              "      <td>0.0</td>\n",
              "      <td>...</td>\n",
              "      <td>691.964</td>\n",
              "      <td>702.860</td>\n",
              "      <td>30.675</td>\n",
              "      <td>729.327</td>\n",
              "      <td>21.411</td>\n",
              "      <td>6821.265</td>\n",
              "      <td>5393.122</td>\n",
              "      <td>85.347</td>\n",
              "      <td>3.0</td>\n",
              "      <td>1.0</td>\n",
              "    </tr>\n",
              "    <tr>\n",
              "      <th>7376</th>\n",
              "      <td>2</td>\n",
              "      <td>2</td>\n",
              "      <td>2</td>\n",
              "      <td>20</td>\n",
              "      <td>1</td>\n",
              "      <td>2</td>\n",
              "      <td>3</td>\n",
              "      <td>10</td>\n",
              "      <td>2</td>\n",
              "      <td>0.0</td>\n",
              "      <td>...</td>\n",
              "      <td>227.482</td>\n",
              "      <td>297.520</td>\n",
              "      <td>42.728</td>\n",
              "      <td>503.535</td>\n",
              "      <td>19.751</td>\n",
              "      <td>3801.607</td>\n",
              "      <td>5115.446</td>\n",
              "      <td>332.436</td>\n",
              "      <td>1.0</td>\n",
              "      <td>3.0</td>\n",
              "    </tr>\n",
              "    <tr>\n",
              "      <th>7377</th>\n",
              "      <td>2</td>\n",
              "      <td>1</td>\n",
              "      <td>1</td>\n",
              "      <td>20</td>\n",
              "      <td>1</td>\n",
              "      <td>2</td>\n",
              "      <td>3</td>\n",
              "      <td>10</td>\n",
              "      <td>2</td>\n",
              "      <td>0.0</td>\n",
              "      <td>...</td>\n",
              "      <td>56.957</td>\n",
              "      <td>490.710</td>\n",
              "      <td>28.559</td>\n",
              "      <td>446.249</td>\n",
              "      <td>14.001</td>\n",
              "      <td>7703.677</td>\n",
              "      <td>2881.317</td>\n",
              "      <td>62.240</td>\n",
              "      <td>2.0</td>\n",
              "      <td>3.0</td>\n",
              "    </tr>\n",
              "    <tr>\n",
              "      <th>7378</th>\n",
              "      <td>2</td>\n",
              "      <td>1</td>\n",
              "      <td>1</td>\n",
              "      <td>10</td>\n",
              "      <td>1</td>\n",
              "      <td>2</td>\n",
              "      <td>2</td>\n",
              "      <td>30</td>\n",
              "      <td>2</td>\n",
              "      <td>1.0</td>\n",
              "      <td>...</td>\n",
              "      <td>2.523</td>\n",
              "      <td>335.034</td>\n",
              "      <td>14.751</td>\n",
              "      <td>183.639</td>\n",
              "      <td>11.132</td>\n",
              "      <td>1480.816</td>\n",
              "      <td>1686.216</td>\n",
              "      <td>18.751</td>\n",
              "      <td>2.0</td>\n",
              "      <td>1.0</td>\n",
              "    </tr>\n",
              "    <tr>\n",
              "      <th>7379</th>\n",
              "      <td>2</td>\n",
              "      <td>2</td>\n",
              "      <td>1</td>\n",
              "      <td>10</td>\n",
              "      <td>1</td>\n",
              "      <td>2</td>\n",
              "      <td>3</td>\n",
              "      <td>20</td>\n",
              "      <td>2</td>\n",
              "      <td>0.0</td>\n",
              "      <td>...</td>\n",
              "      <td>29.512</td>\n",
              "      <td>331.486</td>\n",
              "      <td>19.802</td>\n",
              "      <td>538.297</td>\n",
              "      <td>8.958</td>\n",
              "      <td>1840.088</td>\n",
              "      <td>1946.663</td>\n",
              "      <td>30.119</td>\n",
              "      <td>2.0</td>\n",
              "      <td>3.0</td>\n",
              "    </tr>\n",
              "  </tbody>\n",
              "</table>\n",
              "<p>5935 rows × 88 columns</p>\n",
              "</div>\n",
              "      <button class=\"colab-df-convert\" onclick=\"convertToInteractive('df-aa201047-0489-4f15-b477-dfaf974df17a')\"\n",
              "              title=\"Convert this dataframe to an interactive table.\"\n",
              "              style=\"display:none;\">\n",
              "        \n",
              "  <svg xmlns=\"http://www.w3.org/2000/svg\" height=\"24px\"viewBox=\"0 0 24 24\"\n",
              "       width=\"24px\">\n",
              "    <path d=\"M0 0h24v24H0V0z\" fill=\"none\"/>\n",
              "    <path d=\"M18.56 5.44l.94 2.06.94-2.06 2.06-.94-2.06-.94-.94-2.06-.94 2.06-2.06.94zm-11 1L8.5 8.5l.94-2.06 2.06-.94-2.06-.94L8.5 2.5l-.94 2.06-2.06.94zm10 10l.94 2.06.94-2.06 2.06-.94-2.06-.94-.94-2.06-.94 2.06-2.06.94z\"/><path d=\"M17.41 7.96l-1.37-1.37c-.4-.4-.92-.59-1.43-.59-.52 0-1.04.2-1.43.59L10.3 9.45l-7.72 7.72c-.78.78-.78 2.05 0 2.83L4 21.41c.39.39.9.59 1.41.59.51 0 1.02-.2 1.41-.59l7.78-7.78 2.81-2.81c.8-.78.8-2.07 0-2.86zM5.41 20L4 18.59l7.72-7.72 1.47 1.35L5.41 20z\"/>\n",
              "  </svg>\n",
              "      </button>\n",
              "      \n",
              "  <style>\n",
              "    .colab-df-container {\n",
              "      display:flex;\n",
              "      flex-wrap:wrap;\n",
              "      gap: 12px;\n",
              "    }\n",
              "\n",
              "    .colab-df-convert {\n",
              "      background-color: #E8F0FE;\n",
              "      border: none;\n",
              "      border-radius: 50%;\n",
              "      cursor: pointer;\n",
              "      display: none;\n",
              "      fill: #1967D2;\n",
              "      height: 32px;\n",
              "      padding: 0 0 0 0;\n",
              "      width: 32px;\n",
              "    }\n",
              "\n",
              "    .colab-df-convert:hover {\n",
              "      background-color: #E2EBFA;\n",
              "      box-shadow: 0px 1px 2px rgba(60, 64, 67, 0.3), 0px 1px 3px 1px rgba(60, 64, 67, 0.15);\n",
              "      fill: #174EA6;\n",
              "    }\n",
              "\n",
              "    [theme=dark] .colab-df-convert {\n",
              "      background-color: #3B4455;\n",
              "      fill: #D2E3FC;\n",
              "    }\n",
              "\n",
              "    [theme=dark] .colab-df-convert:hover {\n",
              "      background-color: #434B5C;\n",
              "      box-shadow: 0px 1px 3px 1px rgba(0, 0, 0, 0.15);\n",
              "      filter: drop-shadow(0px 1px 2px rgba(0, 0, 0, 0.3));\n",
              "      fill: #FFFFFF;\n",
              "    }\n",
              "  </style>\n",
              "\n",
              "      <script>\n",
              "        const buttonEl =\n",
              "          document.querySelector('#df-aa201047-0489-4f15-b477-dfaf974df17a button.colab-df-convert');\n",
              "        buttonEl.style.display =\n",
              "          google.colab.kernel.accessAllowed ? 'block' : 'none';\n",
              "\n",
              "        async function convertToInteractive(key) {\n",
              "          const element = document.querySelector('#df-aa201047-0489-4f15-b477-dfaf974df17a');\n",
              "          const dataTable =\n",
              "            await google.colab.kernel.invokeFunction('convertToInteractive',\n",
              "                                                     [key], {});\n",
              "          if (!dataTable) return;\n",
              "\n",
              "          const docLinkHtml = 'Like what you see? Visit the ' +\n",
              "            '<a target=\"_blank\" href=https://colab.research.google.com/notebooks/data_table.ipynb>data table notebook</a>'\n",
              "            + ' to learn more about interactive tables.';\n",
              "          element.innerHTML = '';\n",
              "          dataTable['output_type'] = 'display_data';\n",
              "          await google.colab.output.renderOutput(dataTable, element);\n",
              "          const docLink = document.createElement('div');\n",
              "          docLink.innerHTML = docLinkHtml;\n",
              "          element.appendChild(docLink);\n",
              "        }\n",
              "      </script>\n",
              "    </div>\n",
              "  </div>\n",
              "  "
            ]
          },
          "metadata": {},
          "execution_count": 10
        }
      ]
    },
    {
      "cell_type": "markdown",
      "source": [
        "아까 결측과 값이 달라진걸볼수있음. mh_stress1 이 줄은걸 보니 무응답자중 우울증환자가 많다는걸 추측이 가능해짐\n"
      ],
      "metadata": {
        "id": "XD-JQ-f1j5vo"
      }
    },
    {
      "cell_type": "code",
      "source": [
        "null_check(df1)"
      ],
      "metadata": {
        "colab": {
          "base_uri": "https://localhost:8080/"
        },
        "id": "h3o3N9SOj4wU",
        "outputId": "eaab1709-a1d8-4795-e868-aaafaae2990c"
      },
      "execution_count": 11,
      "outputs": [
        {
          "output_type": "stream",
          "name": "stdout",
          "text": [
            "mh_stress 1\n",
            "L_OUT_FQ 643\n",
            "LW_mt 2640\n",
            "LW_oc 2640\n",
            "HE_HP 845\n",
            "HE_anem 411\n",
            "O_chew_d 531\n",
            "L_BR_FQ 643\n",
            "L_LN_FQ 643\n",
            "L_DN_FQ 643\n",
            "DI4_pr 365\n",
            "DM1_pr 365\n",
            "incm 36\n",
            "edu 398\n",
            "occp 652\n",
            "HE_wt 5\n",
            "HE_wc 7\n",
            "HE_BMI 9\n",
            "N_EN 645\n",
            "N_WATER 645\n",
            "N_PROT 645\n",
            "N_FAT 645\n",
            "N_SFA 645\n",
            "N_MUFA 645\n",
            "N_PUFA 645\n",
            "N_CHOL 645\n",
            "N_CHO 645\n",
            "N_TDF 645\n",
            "N_CA 645\n",
            "N_FE 645\n",
            "N_NA 645\n",
            "N_K 645\n",
            "N_VITC 645\n",
            "LF_SAFE 354\n",
            "LF_S2 354\n"
          ]
        }
      ]
    },
    {
      "cell_type": "markdown",
      "source": [
        "중요치않은 부분 삭제"
      ],
      "metadata": {
        "id": "o_UKKNaHkqJs"
      }
    },
    {
      "cell_type": "code",
      "source": [
        "df2 = df1.drop(['LW_mt','LW_oc'],axis='columns',inplace=False)"
      ],
      "metadata": {
        "id": "quDmeXvpkqRC"
      },
      "execution_count": 12,
      "outputs": []
    },
    {
      "cell_type": "code",
      "source": [
        "df2.describe()\n"
      ],
      "metadata": {
        "colab": {
          "base_uri": "https://localhost:8080/",
          "height": 394
        },
        "id": "Iey9lFtzfDSa",
        "outputId": "51856f32-2071-4dd6-ef97-5acba54fc770"
      },
      "execution_count": 13,
      "outputs": [
        {
          "output_type": "execute_result",
          "data": {
            "text/plain": [
              "             apt_t          sex         cfam      allownc        house  \\\n",
              "count  5935.000000  5935.000000  5935.000000  5935.000000  5935.000000   \n",
              "mean      1.507161     1.555181     3.057793    19.222578     1.829486   \n",
              "std       0.499991     0.496988     1.251300     3.451161     0.655978   \n",
              "min       1.000000     1.000000     1.000000    10.000000     1.000000   \n",
              "25%       1.000000     1.000000     2.000000    20.000000     1.000000   \n",
              "50%       2.000000     2.000000     3.000000    20.000000     2.000000   \n",
              "75%       2.000000     2.000000     4.000000    20.000000     2.000000   \n",
              "max       2.000000     2.000000     6.000000    99.000000     9.000000   \n",
              "\n",
              "            live_t      marri_2         tins        npins    mh_stress  ...  \\\n",
              "count  5935.000000  5935.000000  5935.000000  5935.000000  5934.000000  ...   \n",
              "mean      1.844819    21.952485    18.731424     1.303454     0.271149  ...   \n",
              "std       0.845504    36.845830    11.693536     0.815100     0.444590  ...   \n",
              "min       1.000000     1.000000    10.000000     1.000000     0.000000  ...   \n",
              "25%       1.000000     1.000000    10.000000     1.000000     0.000000  ...   \n",
              "50%       2.000000     1.000000    20.000000     1.000000     0.000000  ...   \n",
              "75%       2.000000     4.000000    20.000000     1.000000     1.000000  ...   \n",
              "max       5.000000    88.000000    99.000000     9.000000     1.000000  ...   \n",
              "\n",
              "            N_CHOL        N_CHO        N_TDF         N_CA         N_FE  \\\n",
              "count  5290.000000  5290.000000  5290.000000  5290.000000  5290.000000   \n",
              "mean    251.426087   313.905312    24.444346   491.780140    17.272302   \n",
              "std     282.460174   133.375861    14.003415   314.219462    11.920659   \n",
              "min       0.137000     7.173000     0.210000     5.401000     0.008000   \n",
              "25%      69.861750   223.391750    14.915000   284.223750    10.412000   \n",
              "50%     175.125000   295.344500    21.596500   426.221500    14.894000   \n",
              "75%     339.371250   383.326750    31.051500   616.074250    21.226250   \n",
              "max    7014.693000  1917.925000   158.909000  4026.348000   287.583000   \n",
              "\n",
              "                N_NA           N_K       N_VITC      LF_SAFE        LF_S2  \n",
              "count    5290.000000   5290.000000  5290.000000  5581.000000  5581.000000  \n",
              "mean     3845.975069   3032.421206   105.044051     1.571045     2.935316  \n",
              "std      3404.168789   1684.164395   120.842697     0.627489     0.276839  \n",
              "min         2.868000     16.499000    -0.121000     1.000000     1.000000  \n",
              "25%      2114.857500   1935.060000    30.028750     1.000000     3.000000  \n",
              "50%      3278.272500   2710.713500    62.349000     2.000000     3.000000  \n",
              "75%      4885.563250   3743.763750   136.316750     2.000000     3.000000  \n",
              "max    170392.575000  26645.021000  1947.548000     4.000000     4.000000  \n",
              "\n",
              "[8 rows x 86 columns]"
            ],
            "text/html": [
              "\n",
              "  <div id=\"df-1faf1514-587d-4a04-85ab-ce18bd61c2c4\">\n",
              "    <div class=\"colab-df-container\">\n",
              "      <div>\n",
              "<style scoped>\n",
              "    .dataframe tbody tr th:only-of-type {\n",
              "        vertical-align: middle;\n",
              "    }\n",
              "\n",
              "    .dataframe tbody tr th {\n",
              "        vertical-align: top;\n",
              "    }\n",
              "\n",
              "    .dataframe thead th {\n",
              "        text-align: right;\n",
              "    }\n",
              "</style>\n",
              "<table border=\"1\" class=\"dataframe\">\n",
              "  <thead>\n",
              "    <tr style=\"text-align: right;\">\n",
              "      <th></th>\n",
              "      <th>apt_t</th>\n",
              "      <th>sex</th>\n",
              "      <th>cfam</th>\n",
              "      <th>allownc</th>\n",
              "      <th>house</th>\n",
              "      <th>live_t</th>\n",
              "      <th>marri_2</th>\n",
              "      <th>tins</th>\n",
              "      <th>npins</th>\n",
              "      <th>mh_stress</th>\n",
              "      <th>...</th>\n",
              "      <th>N_CHOL</th>\n",
              "      <th>N_CHO</th>\n",
              "      <th>N_TDF</th>\n",
              "      <th>N_CA</th>\n",
              "      <th>N_FE</th>\n",
              "      <th>N_NA</th>\n",
              "      <th>N_K</th>\n",
              "      <th>N_VITC</th>\n",
              "      <th>LF_SAFE</th>\n",
              "      <th>LF_S2</th>\n",
              "    </tr>\n",
              "  </thead>\n",
              "  <tbody>\n",
              "    <tr>\n",
              "      <th>count</th>\n",
              "      <td>5935.000000</td>\n",
              "      <td>5935.000000</td>\n",
              "      <td>5935.000000</td>\n",
              "      <td>5935.000000</td>\n",
              "      <td>5935.000000</td>\n",
              "      <td>5935.000000</td>\n",
              "      <td>5935.000000</td>\n",
              "      <td>5935.000000</td>\n",
              "      <td>5935.000000</td>\n",
              "      <td>5934.000000</td>\n",
              "      <td>...</td>\n",
              "      <td>5290.000000</td>\n",
              "      <td>5290.000000</td>\n",
              "      <td>5290.000000</td>\n",
              "      <td>5290.000000</td>\n",
              "      <td>5290.000000</td>\n",
              "      <td>5290.000000</td>\n",
              "      <td>5290.000000</td>\n",
              "      <td>5290.000000</td>\n",
              "      <td>5581.000000</td>\n",
              "      <td>5581.000000</td>\n",
              "    </tr>\n",
              "    <tr>\n",
              "      <th>mean</th>\n",
              "      <td>1.507161</td>\n",
              "      <td>1.555181</td>\n",
              "      <td>3.057793</td>\n",
              "      <td>19.222578</td>\n",
              "      <td>1.829486</td>\n",
              "      <td>1.844819</td>\n",
              "      <td>21.952485</td>\n",
              "      <td>18.731424</td>\n",
              "      <td>1.303454</td>\n",
              "      <td>0.271149</td>\n",
              "      <td>...</td>\n",
              "      <td>251.426087</td>\n",
              "      <td>313.905312</td>\n",
              "      <td>24.444346</td>\n",
              "      <td>491.780140</td>\n",
              "      <td>17.272302</td>\n",
              "      <td>3845.975069</td>\n",
              "      <td>3032.421206</td>\n",
              "      <td>105.044051</td>\n",
              "      <td>1.571045</td>\n",
              "      <td>2.935316</td>\n",
              "    </tr>\n",
              "    <tr>\n",
              "      <th>std</th>\n",
              "      <td>0.499991</td>\n",
              "      <td>0.496988</td>\n",
              "      <td>1.251300</td>\n",
              "      <td>3.451161</td>\n",
              "      <td>0.655978</td>\n",
              "      <td>0.845504</td>\n",
              "      <td>36.845830</td>\n",
              "      <td>11.693536</td>\n",
              "      <td>0.815100</td>\n",
              "      <td>0.444590</td>\n",
              "      <td>...</td>\n",
              "      <td>282.460174</td>\n",
              "      <td>133.375861</td>\n",
              "      <td>14.003415</td>\n",
              "      <td>314.219462</td>\n",
              "      <td>11.920659</td>\n",
              "      <td>3404.168789</td>\n",
              "      <td>1684.164395</td>\n",
              "      <td>120.842697</td>\n",
              "      <td>0.627489</td>\n",
              "      <td>0.276839</td>\n",
              "    </tr>\n",
              "    <tr>\n",
              "      <th>min</th>\n",
              "      <td>1.000000</td>\n",
              "      <td>1.000000</td>\n",
              "      <td>1.000000</td>\n",
              "      <td>10.000000</td>\n",
              "      <td>1.000000</td>\n",
              "      <td>1.000000</td>\n",
              "      <td>1.000000</td>\n",
              "      <td>10.000000</td>\n",
              "      <td>1.000000</td>\n",
              "      <td>0.000000</td>\n",
              "      <td>...</td>\n",
              "      <td>0.137000</td>\n",
              "      <td>7.173000</td>\n",
              "      <td>0.210000</td>\n",
              "      <td>5.401000</td>\n",
              "      <td>0.008000</td>\n",
              "      <td>2.868000</td>\n",
              "      <td>16.499000</td>\n",
              "      <td>-0.121000</td>\n",
              "      <td>1.000000</td>\n",
              "      <td>1.000000</td>\n",
              "    </tr>\n",
              "    <tr>\n",
              "      <th>25%</th>\n",
              "      <td>1.000000</td>\n",
              "      <td>1.000000</td>\n",
              "      <td>2.000000</td>\n",
              "      <td>20.000000</td>\n",
              "      <td>1.000000</td>\n",
              "      <td>1.000000</td>\n",
              "      <td>1.000000</td>\n",
              "      <td>10.000000</td>\n",
              "      <td>1.000000</td>\n",
              "      <td>0.000000</td>\n",
              "      <td>...</td>\n",
              "      <td>69.861750</td>\n",
              "      <td>223.391750</td>\n",
              "      <td>14.915000</td>\n",
              "      <td>284.223750</td>\n",
              "      <td>10.412000</td>\n",
              "      <td>2114.857500</td>\n",
              "      <td>1935.060000</td>\n",
              "      <td>30.028750</td>\n",
              "      <td>1.000000</td>\n",
              "      <td>3.000000</td>\n",
              "    </tr>\n",
              "    <tr>\n",
              "      <th>50%</th>\n",
              "      <td>2.000000</td>\n",
              "      <td>2.000000</td>\n",
              "      <td>3.000000</td>\n",
              "      <td>20.000000</td>\n",
              "      <td>2.000000</td>\n",
              "      <td>2.000000</td>\n",
              "      <td>1.000000</td>\n",
              "      <td>20.000000</td>\n",
              "      <td>1.000000</td>\n",
              "      <td>0.000000</td>\n",
              "      <td>...</td>\n",
              "      <td>175.125000</td>\n",
              "      <td>295.344500</td>\n",
              "      <td>21.596500</td>\n",
              "      <td>426.221500</td>\n",
              "      <td>14.894000</td>\n",
              "      <td>3278.272500</td>\n",
              "      <td>2710.713500</td>\n",
              "      <td>62.349000</td>\n",
              "      <td>2.000000</td>\n",
              "      <td>3.000000</td>\n",
              "    </tr>\n",
              "    <tr>\n",
              "      <th>75%</th>\n",
              "      <td>2.000000</td>\n",
              "      <td>2.000000</td>\n",
              "      <td>4.000000</td>\n",
              "      <td>20.000000</td>\n",
              "      <td>2.000000</td>\n",
              "      <td>2.000000</td>\n",
              "      <td>4.000000</td>\n",
              "      <td>20.000000</td>\n",
              "      <td>1.000000</td>\n",
              "      <td>1.000000</td>\n",
              "      <td>...</td>\n",
              "      <td>339.371250</td>\n",
              "      <td>383.326750</td>\n",
              "      <td>31.051500</td>\n",
              "      <td>616.074250</td>\n",
              "      <td>21.226250</td>\n",
              "      <td>4885.563250</td>\n",
              "      <td>3743.763750</td>\n",
              "      <td>136.316750</td>\n",
              "      <td>2.000000</td>\n",
              "      <td>3.000000</td>\n",
              "    </tr>\n",
              "    <tr>\n",
              "      <th>max</th>\n",
              "      <td>2.000000</td>\n",
              "      <td>2.000000</td>\n",
              "      <td>6.000000</td>\n",
              "      <td>99.000000</td>\n",
              "      <td>9.000000</td>\n",
              "      <td>5.000000</td>\n",
              "      <td>88.000000</td>\n",
              "      <td>99.000000</td>\n",
              "      <td>9.000000</td>\n",
              "      <td>1.000000</td>\n",
              "      <td>...</td>\n",
              "      <td>7014.693000</td>\n",
              "      <td>1917.925000</td>\n",
              "      <td>158.909000</td>\n",
              "      <td>4026.348000</td>\n",
              "      <td>287.583000</td>\n",
              "      <td>170392.575000</td>\n",
              "      <td>26645.021000</td>\n",
              "      <td>1947.548000</td>\n",
              "      <td>4.000000</td>\n",
              "      <td>4.000000</td>\n",
              "    </tr>\n",
              "  </tbody>\n",
              "</table>\n",
              "<p>8 rows × 86 columns</p>\n",
              "</div>\n",
              "      <button class=\"colab-df-convert\" onclick=\"convertToInteractive('df-1faf1514-587d-4a04-85ab-ce18bd61c2c4')\"\n",
              "              title=\"Convert this dataframe to an interactive table.\"\n",
              "              style=\"display:none;\">\n",
              "        \n",
              "  <svg xmlns=\"http://www.w3.org/2000/svg\" height=\"24px\"viewBox=\"0 0 24 24\"\n",
              "       width=\"24px\">\n",
              "    <path d=\"M0 0h24v24H0V0z\" fill=\"none\"/>\n",
              "    <path d=\"M18.56 5.44l.94 2.06.94-2.06 2.06-.94-2.06-.94-.94-2.06-.94 2.06-2.06.94zm-11 1L8.5 8.5l.94-2.06 2.06-.94-2.06-.94L8.5 2.5l-.94 2.06-2.06.94zm10 10l.94 2.06.94-2.06 2.06-.94-2.06-.94-.94-2.06-.94 2.06-2.06.94z\"/><path d=\"M17.41 7.96l-1.37-1.37c-.4-.4-.92-.59-1.43-.59-.52 0-1.04.2-1.43.59L10.3 9.45l-7.72 7.72c-.78.78-.78 2.05 0 2.83L4 21.41c.39.39.9.59 1.41.59.51 0 1.02-.2 1.41-.59l7.78-7.78 2.81-2.81c.8-.78.8-2.07 0-2.86zM5.41 20L4 18.59l7.72-7.72 1.47 1.35L5.41 20z\"/>\n",
              "  </svg>\n",
              "      </button>\n",
              "      \n",
              "  <style>\n",
              "    .colab-df-container {\n",
              "      display:flex;\n",
              "      flex-wrap:wrap;\n",
              "      gap: 12px;\n",
              "    }\n",
              "\n",
              "    .colab-df-convert {\n",
              "      background-color: #E8F0FE;\n",
              "      border: none;\n",
              "      border-radius: 50%;\n",
              "      cursor: pointer;\n",
              "      display: none;\n",
              "      fill: #1967D2;\n",
              "      height: 32px;\n",
              "      padding: 0 0 0 0;\n",
              "      width: 32px;\n",
              "    }\n",
              "\n",
              "    .colab-df-convert:hover {\n",
              "      background-color: #E2EBFA;\n",
              "      box-shadow: 0px 1px 2px rgba(60, 64, 67, 0.3), 0px 1px 3px 1px rgba(60, 64, 67, 0.15);\n",
              "      fill: #174EA6;\n",
              "    }\n",
              "\n",
              "    [theme=dark] .colab-df-convert {\n",
              "      background-color: #3B4455;\n",
              "      fill: #D2E3FC;\n",
              "    }\n",
              "\n",
              "    [theme=dark] .colab-df-convert:hover {\n",
              "      background-color: #434B5C;\n",
              "      box-shadow: 0px 1px 3px 1px rgba(0, 0, 0, 0.15);\n",
              "      filter: drop-shadow(0px 1px 2px rgba(0, 0, 0, 0.3));\n",
              "      fill: #FFFFFF;\n",
              "    }\n",
              "  </style>\n",
              "\n",
              "      <script>\n",
              "        const buttonEl =\n",
              "          document.querySelector('#df-1faf1514-587d-4a04-85ab-ce18bd61c2c4 button.colab-df-convert');\n",
              "        buttonEl.style.display =\n",
              "          google.colab.kernel.accessAllowed ? 'block' : 'none';\n",
              "\n",
              "        async function convertToInteractive(key) {\n",
              "          const element = document.querySelector('#df-1faf1514-587d-4a04-85ab-ce18bd61c2c4');\n",
              "          const dataTable =\n",
              "            await google.colab.kernel.invokeFunction('convertToInteractive',\n",
              "                                                     [key], {});\n",
              "          if (!dataTable) return;\n",
              "\n",
              "          const docLinkHtml = 'Like what you see? Visit the ' +\n",
              "            '<a target=\"_blank\" href=https://colab.research.google.com/notebooks/data_table.ipynb>data table notebook</a>'\n",
              "            + ' to learn more about interactive tables.';\n",
              "          element.innerHTML = '';\n",
              "          dataTable['output_type'] = 'display_data';\n",
              "          await google.colab.output.renderOutput(dataTable, element);\n",
              "          const docLink = document.createElement('div');\n",
              "          docLink.innerHTML = docLinkHtml;\n",
              "          element.appendChild(docLink);\n",
              "        }\n",
              "      </script>\n",
              "    </div>\n",
              "  </div>\n",
              "  "
            ]
          },
          "metadata": {},
          "execution_count": 13
        }
      ]
    },
    {
      "cell_type": "markdown",
      "source": [
        "0 : 정상 1:자살위험군\n",
        "\n",
        "비교해서 전체적인 비율을 확인-> 한자릿수나 차이가남 -> 임밸런스 데이터라고함 (기계학습은 5:5 비율일때 제일 잘되는데 사실 찾고자하는 1 은 보통 비율이 적음) -> 학습할데이터가 없는거임(의료데이터 특징) -> 이럴때 맞추는 방법이 있다 !!\n",
        "\n",
        "*1.오버샘플링* \n",
        "\n",
        "324 를 5000명과 맞춘다. => 324 명을 카피해서 5000 명을 만든다\n",
        "\n",
        "-문제점 : 오버피팅 (324명에대해서만 과하게 맞춤)\n",
        "\n",
        "*2.언더샘플링* \n",
        "\n",
        "5000명중 324개를 뽑는다 . \n",
        "\n",
        "-문제점 : 데이터손실\n",
        "\n",
        "*3.smote* \n",
        "\n",
        "knn 사용해서 거리구해서 비슷한 애들 반반 형성해서 사용하기 -> 중복데이터보다야 훨씬 좋음\n",
        "\n",
        "-문제점 : 데이터별로 사용이 적합하기도 아니기도함\n",
        "\n",
        " ex)불량품측정이야 가정의수가 많을수록 좋으나 의료데이터에서는 사람 한명한명이 소중한 데이터이기때문에 신빙성이 떨어진다고 봄.\n",
        "\n",
        "-데이터 건드리지 않고 하는 방법2개-\n",
        "\n",
        "*4.class 가중치 적용*\n",
        "\n",
        " 0과1중 1이 중요한 변수다 -> 학습할때 1 이 틀리는걸 크게 보고 보정하고, 0은 가중치를 적게주어 틀려도 상관없이 만든다 -> 가짜생성에 대한 비난은 피할수있음\n",
        "\n",
        "*5.앙상블학습* \n",
        "\n",
        "알고리즘여러개 합쳐서 쓰는것 "
      ],
      "metadata": {
        "id": "UVEIywlHji3H"
      }
    },
    {
      "cell_type": "code",
      "source": [
        "Counter(df2['mh_suicide'])"
      ],
      "metadata": {
        "colab": {
          "base_uri": "https://localhost:8080/"
        },
        "id": "948kiil_jd3J",
        "outputId": "4fe353d4-f20d-4530-f4cf-d22e1af115d4"
      },
      "execution_count": 32,
      "outputs": [
        {
          "output_type": "execute_result",
          "data": {
            "text/plain": [
              "Counter({0.0: 5611, 1.0: 324})"
            ]
          },
          "metadata": {},
          "execution_count": 32
        }
      ]
    },
    {
      "cell_type": "code",
      "source": [
        "import seaborn as sns\n"
      ],
      "metadata": {
        "id": "AMvOxtWomF1v"
      },
      "execution_count": 15,
      "outputs": []
    },
    {
      "cell_type": "code",
      "source": [
        "f = sns.countplot(x='mh_suicide', data=df)\n",
        "f.set_title(\"Suicide presence distribution\")\n",
        "f.set_xticklabels(['didnt think Suicide', 'Think Suicide'])\n",
        "plt.xlabel(\"\")"
      ],
      "metadata": {
        "colab": {
          "base_uri": "https://localhost:8080/",
          "height": 299
        },
        "id": "Ws7r50H-mXHH",
        "outputId": "e70dcfb2-c757-4506-903c-4b69fcdaa3c4"
      },
      "execution_count": 16,
      "outputs": [
        {
          "output_type": "execute_result",
          "data": {
            "text/plain": [
              "Text(0.5, 0, '')"
            ]
          },
          "metadata": {},
          "execution_count": 16
        },
        {
          "output_type": "display_data",
          "data": {
            "text/plain": [
              "<Figure size 432x288 with 1 Axes>"
            ],
            "image/png": "[encoded data removed]"
          },
          "metadata": {
            "needs_background": "light"
          }
        }
      ]
    },
    {
      "cell_type": "code",
      "source": [
        "f = sns.countplot(x='mh_suicide', data=df, hue='sex')\n",
        "plt.legend(['Female', 'Male'])\n",
        "f.set_title(\"Suicide presence distribution by gender\")\n",
        "f.set_xticklabels(['No Suicide', 'Suicide'])\n",
        "plt.xlabel(\"\")"
      ],
      "metadata": {
        "colab": {
          "base_uri": "https://localhost:8080/",
          "height": 299
        },
        "id": "_G7UBcxNmUDQ",
        "outputId": "79e4eecb-46ae-4149-f99f-984205b2003a"
      },
      "execution_count": 17,
      "outputs": [
        {
          "output_type": "execute_result",
          "data": {
            "text/plain": [
              "Text(0.5, 0, '')"
            ]
          },
          "metadata": {},
          "execution_count": 17
        },
        {
          "output_type": "display_data",
          "data": {
            "text/plain": [
              "<Figure size 432x288 with 1 Axes>"
            ],
            "image/png": "[encoded data removed]"
          },
          "metadata": {
            "needs_background": "light"
          }
        }
      ]
    },
    {
      "cell_type": "markdown",
      "source": [],
      "metadata": {
        "id": "qNLlySrYmRQO"
      }
    },
    {
      "cell_type": "markdown",
      "source": [
        "상관계수 찍음.\n",
        "의료데이터는 서로 독립변수가 아님.그래서 상관변수나 회귀분석으로 변수를 뽑았을때 점수와 같은 가벼운것이 아님. 그래도 공식이 될만하면 회귀분석을 통해 다중공선성을 적용할수있으나. 이런\n",
        "의료데이터는 서로 관계가 깊기때문에 아래 나온대로 영향을 미쳤다고 볼수없음. \n",
        "\n",
        "=> 그래서 딥러닝을 통해 뭐가 제일 중요한 요소인지 파악함"
      ],
      "metadata": {
        "id": "95cDQCqmmfPJ"
      }
    },
    {
      "cell_type": "code",
      "source": [
        "mh_suicide_corr = df.corr()['mh_suicide']\n",
        "\n",
        "mh_suicide_corr.sort_values(axis=0)"
      ],
      "metadata": {
        "colab": {
          "base_uri": "https://localhost:8080/"
        },
        "id": "1qqLh5aMmGaf",
        "outputId": "297a3540-c5ae-4a10-b6db-f00b0679b58d"
      },
      "execution_count": 18,
      "outputs": [
        {
          "output_type": "execute_result",
          "data": {
            "text/plain": [
              "DF2_pr       -0.182007\n",
              "LF_S2        -0.138665\n",
              "allownc      -0.098459\n",
              "edu          -0.091495\n",
              "incm         -0.082476\n",
              "                ...   \n",
              "occp          0.090633\n",
              "O_chew_d      0.111216\n",
              "LF_SAFE       0.120603\n",
              "mh_stress     0.220486\n",
              "mh_suicide    1.000000\n",
              "Name: mh_suicide, Length: 88, dtype: float64"
            ]
          },
          "metadata": {},
          "execution_count": 18
        }
      ]
    },
    {
      "cell_type": "code",
      "source": [
        "f = sns.countplot(x='mh_stress', data=df)\n",
        "f.set_title(\"stress presence distribution\")\n",
        "f.set_xticklabels(['No stress', 'stress'])\n",
        "plt.xlabel(\"\")"
      ],
      "metadata": {
        "colab": {
          "base_uri": "https://localhost:8080/",
          "height": 299
        },
        "id": "7VHAAqhzj1TV",
        "outputId": "8d84adad-77d1-4d30-a5bc-fa8fc6c6966e"
      },
      "execution_count": 19,
      "outputs": [
        {
          "output_type": "execute_result",
          "data": {
            "text/plain": [
              "Text(0.5, 0, '')"
            ]
          },
          "metadata": {},
          "execution_count": 19
        },
        {
          "output_type": "display_data",
          "data": {
            "text/plain": [
              "<Figure size 432x288 with 1 Axes>"
            ],
            "image/png": "[encoded data removed]"
          },
          "metadata": {
            "needs_background": "light"
          }
        }
      ]
    },
    {
      "cell_type": "code",
      "source": [
        "f = sns.countplot(x='mh_stress', data=df, hue='sex')\n",
        "plt.legend(['Female', 'Male'])\n",
        "f.set_title(\"Stress presence distribution by gender\")\n",
        "f.set_xticklabels(['No Stress', 'Stress'])\n",
        "plt.xlabel(\"\")"
      ],
      "metadata": {
        "colab": {
          "base_uri": "https://localhost:8080/",
          "height": 299
        },
        "id": "SMzv8rOHkFIi",
        "outputId": "cc6834cd-a77a-4a30-cfc6-74af57807c0b"
      },
      "execution_count": 20,
      "outputs": [
        {
          "output_type": "execute_result",
          "data": {
            "text/plain": [
              "Text(0.5, 0, '')"
            ]
          },
          "metadata": {},
          "execution_count": 20
        },
        {
          "output_type": "display_data",
          "data": {
            "text/plain": [
              "<Figure size 432x288 with 1 Axes>"
            ],
            "image/png": "[encoded data removed]"
          },
          "metadata": {
            "needs_background": "light"
          }
        }
      ]
    },
    {
      "cell_type": "code",
      "source": [
        "from sklearn.base import BaseEstimator, TransformerMixin\n",
        "from sklearn.pipeline import Pipeline\n",
        "from sklearn.preprocessing import MinMaxScaler,StandardScaler,OneHotEncoder\n",
        "#수치형:scaler 범주형:onehotencoder \n",
        "from sklearn.impute import SimpleImputer #null값 대치용\n",
        "from sklearn.pipeline import FeatureUnion"
      ],
      "metadata": {
        "id": "7k2kV76fnM2H"
      },
      "execution_count": 21,
      "outputs": []
    },
    {
      "cell_type": "code",
      "source": [
        "class DataFrameSelector(BaseEstimator, TransformerMixin):\n",
        "    def __init__(self, attribute_names):\n",
        "        self.attribute_names = attribute_names\n",
        "    def fit(self, X, y=None):\n",
        "        return self\n",
        "    def transform(self, X):\n",
        "        return X[self.attribute_names].values"
      ],
      "metadata": {
        "id": "yxddxUbWnYo_"
      },
      "execution_count": 22,
      "outputs": []
    },
    {
      "cell_type": "markdown",
      "source": [
        " FeatureUnion(transformer_list=[\n",
        "    (\"num_pipeline\", num_pipeline),\n",
        "    (\"cat_pipeline\", cat_pipeline)])\n",
        "    뉴메릭과 카테고리를 합침.\n",
        "\n",
        "  원핫인코딩 -> 공간차지가 많아짐 \n",
        "\n",
        "ex) 옷사이즈 처럼 하나를 골라아하는건 원핫인코딩, 근데 학년과같은 범주는 할 필요없음. impute만 한다. \n",
        "\n",
        "널값 대체시) 범주는 most+frequent 최빈값!\n",
        "\n",
        "뉴메릭은 평균이나 중앙값중. -> 자신없으면 빼거나 해야함. 의료데이터의 경우 평균은 큰의미가없다. 회귀식에 넣어서 하는게좋음.\n",
        "\n",
        "그리고 마지막으로 합해서 전처리를 한다"
      ],
      "metadata": {
        "id": "nyI3PlsMnzIn"
      }
    },
    {
      "cell_type": "code",
      "source": [
        "def pipeline(df, nums, cats):\n",
        "    \n",
        "    num_inputer = SimpleImputer(strategy='median')\n",
        "    num_pipeline=Pipeline([\n",
        "        (\"select_numeric\",DataFrameSelector(nums)),\n",
        "        (\"impute\", num_inputer),\n",
        "        (\"scaler\", StandardScaler())])\n",
        "    #num : 수치형만 결측치대체후 scaler 적용\n",
        "    cat_imputer = SimpleImputer(strategy='most_frequent')\n",
        "    cat_pipeline = Pipeline([\n",
        "        (\"select_cat\",DataFrameSelector(cats)),\n",
        "        (\"impute\", cat_imputer)])\n",
        "        #(\"encoder\", OneHotEncoder())])\n",
        "    #cat : 범주형만 가져와서 결측치 보정후, 데이터가 많아 원핫인코딩 생략\n",
        "    preprocess_pipeline = FeatureUnion(transformer_list=[\n",
        "    (\"num_pipeline\", num_pipeline),\n",
        "    (\"cat_pipeline\", cat_pipeline)])\n",
        "    \n",
        "    X=preprocess_pipeline.fit_transform(df)\n",
        "    #num(수치형) 과 cat(범주형) 을 합쳐서 전체 전처리함\n",
        "    return X"
      ],
      "metadata": {
        "id": "o1R4B0rynfu3"
      },
      "execution_count": 23,
      "outputs": []
    },
    {
      "cell_type": "markdown",
      "source": [
        "넣어야함"
      ],
      "metadata": {
        "id": "l7knKWltpL9G"
      }
    },
    {
      "cell_type": "code",
      "source": [
        "nums = ['incm', 'edu', 'occp', 'marri_1', 'HE_wt', 'HE_wc', 'HE_BMI', 'N_EN', 'N_WATER', 'N_PROT', 'N_FAT', 'N_SFA', 'N_MUFA', 'N_PUFA', 'N_CHOL', 'N_CHO', 'N_TDF', 'N_CA', 'N_FE', 'N_NA', 'N_K', 'N_VITC', 'LF_SAFE', 'LF_S2']\n",
        "cats = ['apt_t', 'sex', 'cfam', 'allownc', 'house', 'live_t', 'marri_2', 'tins', 'npins', 'DI2_pr', 'DI3_pr', 'DI4_pr', 'DI5_pr', 'DI6_pr', 'DM1_pr', 'DM2_pr', 'DM3_pr', 'DM4_pr', 'D_8_2', 'D_8_4', 'DJ4_pr', 'DE1_pr', 'DE2_pr', 'DC1_pr', 'DC2_pr', 'DC3_pr', 'DC4_pr', 'DC5_pr', 'DC6_pr', 'DC7_pr', 'DF2_pr', 'DL1_pr', 'DJ8_pr', 'DH2_pr', 'DH3_pr', 'DN1_pr', 'DK8_pr', 'DK9_pr', 'DK4_pr', 'LQ4_00', 'LQ1_sb', 'LQ_1EQL', 'LQ_2EQL', 'LQ_3EQL', 'LQ_4EQL', 'LQ_5EQL', 'educ', 'EC1_1', 'BO1', 'BO1_1', 'BO2_1', 'BD1_11', 'mh_stress', 'BE8_1', 'HE_HP', 'HE_anem', 'O_chew_d', 'L_BR_FQ', 'L_LN_FQ', 'L_DN_FQ']"
      ],
      "metadata": {
        "id": "rInx6FBSpIZG"
      },
      "execution_count": 24,
      "outputs": []
    },
    {
      "cell_type": "markdown",
      "source": [
        "그리고 위에 정의했던 전처리과정 pipeline 에다가 넣어서 진행시킴"
      ],
      "metadata": {
        "id": "JOM3qjntmsI1"
      }
    },
    {
      "cell_type": "markdown",
      "source": [
        "#x 데이터만 전처리 완료!"
      ],
      "metadata": {
        "id": "1g_RGJHtm28F"
      }
    },
    {
      "cell_type": "code",
      "source": [
        "X_data = pipeline(df2, nums, cats)"
      ],
      "metadata": {
        "id": "wqCMCGTlpSMN"
      },
      "execution_count": 25,
      "outputs": []
    },
    {
      "cell_type": "markdown",
      "source": [
        "y 레이블 분리하면서 y 데이터 전처리 진행"
      ],
      "metadata": {
        "id": "Yo_DVZAan9Gh"
      }
    },
    {
      "cell_type": "code",
      "source": [
        "y_label = df2['mh_suicide']"
      ],
      "metadata": {
        "id": "Q2J7bKPpm8B2"
      },
      "execution_count": 26,
      "outputs": []
    },
    {
      "cell_type": "code",
      "source": [
        "from sklearn.model_selection import train_test_split\n"
      ],
      "metadata": {
        "id": "VHT3e-kenBLB"
      },
      "execution_count": 27,
      "outputs": []
    },
    {
      "cell_type": "markdown",
      "source": [
        "train_test_split 을 사용해 비중을 똑같이하면서 잘라줌. ??"
      ],
      "metadata": {
        "id": "-H4bRMAopvPu"
      }
    },
    {
      "cell_type": "code",
      "source": [
        "X_train, X_test, y_train, y_test = train_test_split(X_data, y_label, test_size=0.3, random_state=0)\n",
        "\n",
        "X_train = np.asarray(X_train)\n",
        "y_train = np.asarray(y_train)\n",
        "X_test = np.asarray(X_test)\n",
        "y_test = np.asarray(y_test)"
      ],
      "metadata": {
        "id": "4R5jg4WXpt32"
      },
      "execution_count": 28,
      "outputs": []
    },
    {
      "cell_type": "code",
      "source": [
        "print('Train data shape: {0}'.format(X_train.shape))\n",
        "print('Test data shape: {0}'.format(X_test.shape))\n",
        "\n",
        "print('Train data label => %s' %Counter(y_train))\n",
        "print('Test data label => %s' %Counter(y_test))"
      ],
      "metadata": {
        "colab": {
          "base_uri": "https://localhost:8080/"
        },
        "id": "QOjulBe9nvMB",
        "outputId": "ca30e319-0a70-488b-9d96-1e7207432cb9"
      },
      "execution_count": 29,
      "outputs": [
        {
          "output_type": "stream",
          "name": "stdout",
          "text": [
            "Train data shape: (4154, 84)\n",
            "Test data shape: (1781, 84)\n",
            "Train data label => Counter({0.0: 3926, 1.0: 228})\n",
            "Test data label => Counter({0.0: 1685, 1.0: 96})\n"
          ]
        }
      ]
    },
    {
      "cell_type": "markdown",
      "source": [
        "#smote 모델 이용 -> 데이터 맞추기  9/20"
      ],
      "metadata": {
        "id": "9GFAM3hPoCwl"
      }
    },
    {
      "cell_type": "markdown",
      "source": [
        "모델생성을 위해 train 으로만 가지고 돌린다."
      ],
      "metadata": {
        "id": "oelYb4ropDCK"
      }
    },
    {
      "cell_type": "code",
      "source": [
        "from imblearn.over_sampling import SMOTE\n",
        "\n",
        "smote = SMOTE(random_state=0)\n",
        "X_train_over,y_train_over = smote.fit_resample(X_train,y_train)"
      ],
      "metadata": {
        "id": "IcLCeu4uoQBj"
      },
      "execution_count": 30,
      "outputs": []
    },
    {
      "cell_type": "code",
      "source": [
        "print('SMOTE 적용 전 학습용 피처/레이블 데이터 세트: ', X_train.shape, y_train.shape)\n",
        "print('SMOTE 적용 전 레이블 값 분포: \\n', pd.Series(y_train).value_counts())\n",
        "print('SMOTE 적용 후 학습용 피처/레이블 데이터 세트: ', X_train_over.shape, y_train_over.shape)\n",
        "print('SMOTE 적용 후 레이블 값 분포: \\n', pd.Series(y_train_over).value_counts())"
      ],
      "metadata": {
        "colab": {
          "base_uri": "https://localhost:8080/"
        },
        "id": "Co0V0pw8oYq_",
        "outputId": "e5e72c15-4aea-4f04-ab54-f0ff52770035"
      },
      "execution_count": 31,
      "outputs": [
        {
          "output_type": "stream",
          "name": "stdout",
          "text": [
            "SMOTE 적용 전 학습용 피처/레이블 데이터 세트:  (4154, 84) (4154,)\n",
            "SMOTE 적용 전 레이블 값 분포: \n",
            " 0.0    3926\n",
            "1.0     228\n",
            "dtype: int64\n",
            "SMOTE 적용 후 학습용 피처/레이블 데이터 세트:  (7852, 84) (7852,)\n",
            "SMOTE 적용 후 레이블 값 분포: \n",
            " 0.0    3926\n",
            "1.0    3926\n",
            "dtype: int64\n"
          ]
        }
      ]
    },
    {
      "cell_type": "code",
      "source": [
        "from tensorflow.keras.layers import Dense,SimpleRNN,LSTM,Dropout\n",
        "from tensorflow.keras import models\n",
        "from tensorflow.keras.optimizers import RMSprop\n",
        "import matplotlib.pyplot as plt"
      ],
      "metadata": {
        "id": "JgOIrrhJpbNW"
      },
      "execution_count": 33,
      "outputs": []
    },
    {
      "cell_type": "markdown",
      "source": [
        "32 -> 1번째 히든레이어 노드수\n",
        "32 -> 2번째 히든레이어\n",
        "1 -> 3번째 출력\n",
        "\n",
        "보통 만개 안쪽이면 32개로 함\n",
        "\n",
        "이부분 놓침.."
      ],
      "metadata": {
        "id": "4i6N6SDWqNSO"
      }
    },
    {
      "cell_type": "code",
      "source": [
        "from tensorflow.keras.callbacks import EarlyStopping, ModelCheckpoint\n",
        "from tensorflow.keras.models import load_model\n",
        "\n",
        "model = models.Sequential()\n",
        "model.add(Dense(32, input_dim = 84, activation='relu'))\n",
        "model.add(Dense(32, activation='relu'))\n",
        "model.add(Dense(1, activation='sigmoid'))\n",
        "\n",
        "model.compile(optimizer='RMSprop',loss='binary_crossentropy',metrics=['accuracy'])"
      ],
      "metadata": {
        "id": "SAApaxsnp2kO"
      },
      "execution_count": 34,
      "outputs": []
    },
    {
      "cell_type": "markdown",
      "source": [
        "model.fit 이 학습을 시키키는건데.\n",
        "좋은네트워크가 무엇인지 알기위해 에코를 100으로 크게키워 봐야 알기쉽다.\n",
        "\n",
        "batch size 랜덤으로 512개만 뽑아서 그거로만 미분하여 찾는것."
      ],
      "metadata": {
        "id": "qlyHllvSrfDZ"
      }
    },
    {
      "cell_type": "code",
      "source": [
        "history = model.fit(X_train_over,y_train_over,epochs=100,batch_size=512,validation_data=(X_test, y_test))\n"
      ],
      "metadata": {
        "colab": {
          "base_uri": "https://localhost:8080/"
        },
        "id": "ISovYC13qBfk",
        "outputId": "440f746e-4312-4fe1-b80d-126c702fd980"
      },
      "execution_count": 36,
      "outputs": [
        {
          "output_type": "stream",
          "name": "stdout",
          "text": [
            "Epoch 1/100\n",
            "16/16 [==============================] - 0s 5ms/step - loss: 0.4562 - accuracy: 0.7794 - val_loss: 0.5356 - val_accuracy: 0.7496\n",
            "Epoch 2/100\n",
            "16/16 [==============================] - 0s 3ms/step - loss: 0.4430 - accuracy: 0.7913 - val_loss: 0.6357 - val_accuracy: 0.6665\n",
            "Epoch 3/100\n",
            "16/16 [==============================] - 0s 3ms/step - loss: 0.4453 - accuracy: 0.7868 - val_loss: 0.6059 - val_accuracy: 0.7019\n",
            "Epoch 4/100\n",
            "16/16 [==============================] - 0s 3ms/step - loss: 0.4338 - accuracy: 0.7957 - val_loss: 0.5858 - val_accuracy: 0.7092\n",
            "Epoch 5/100\n",
            "16/16 [==============================] - 0s 3ms/step - loss: 0.4277 - accuracy: 0.7953 - val_loss: 0.8121 - val_accuracy: 0.5401\n",
            "Epoch 6/100\n",
            "16/16 [==============================] - 0s 3ms/step - loss: 0.4295 - accuracy: 0.8029 - val_loss: 0.6588 - val_accuracy: 0.6676\n",
            "Epoch 7/100\n",
            "16/16 [==============================] - 0s 3ms/step - loss: 0.4428 - accuracy: 0.7841 - val_loss: 0.5714 - val_accuracy: 0.7226\n",
            "Epoch 8/100\n",
            "16/16 [==============================] - 0s 3ms/step - loss: 0.4067 - accuracy: 0.8095 - val_loss: 0.6838 - val_accuracy: 0.6530\n",
            "Epoch 9/100\n",
            "16/16 [==============================] - 0s 3ms/step - loss: 0.4192 - accuracy: 0.8044 - val_loss: 0.7355 - val_accuracy: 0.6058\n",
            "Epoch 10/100\n",
            "16/16 [==============================] - 0s 4ms/step - loss: 0.4241 - accuracy: 0.7988 - val_loss: 0.7668 - val_accuracy: 0.6008\n",
            "Epoch 11/100\n",
            "16/16 [==============================] - 0s 3ms/step - loss: 0.4165 - accuracy: 0.8083 - val_loss: 0.3831 - val_accuracy: 0.8417\n",
            "Epoch 12/100\n",
            "16/16 [==============================] - 0s 4ms/step - loss: 0.3991 - accuracy: 0.8166 - val_loss: 0.4373 - val_accuracy: 0.8063\n",
            "Epoch 13/100\n",
            "16/16 [==============================] - 0s 3ms/step - loss: 0.4005 - accuracy: 0.8155 - val_loss: 0.6960 - val_accuracy: 0.6435\n",
            "Epoch 14/100\n",
            "16/16 [==============================] - 0s 3ms/step - loss: 0.3982 - accuracy: 0.8218 - val_loss: 0.6008 - val_accuracy: 0.7097\n",
            "Epoch 15/100\n",
            "16/16 [==============================] - 0s 3ms/step - loss: 0.3931 - accuracy: 0.8221 - val_loss: 0.7122 - val_accuracy: 0.6334\n",
            "Epoch 16/100\n",
            "16/16 [==============================] - 0s 3ms/step - loss: 0.3951 - accuracy: 0.8198 - val_loss: 0.2559 - val_accuracy: 0.9158\n",
            "Epoch 17/100\n",
            "16/16 [==============================] - 0s 3ms/step - loss: 0.4005 - accuracy: 0.8129 - val_loss: 0.2623 - val_accuracy: 0.9085\n",
            "Epoch 18/100\n",
            "16/16 [==============================] - 0s 3ms/step - loss: 0.3919 - accuracy: 0.8207 - val_loss: 0.2877 - val_accuracy: 0.8984\n",
            "Epoch 19/100\n",
            "16/16 [==============================] - 0s 4ms/step - loss: 0.3861 - accuracy: 0.8234 - val_loss: 0.6482 - val_accuracy: 0.6811\n",
            "Epoch 20/100\n",
            "16/16 [==============================] - 0s 3ms/step - loss: 0.3746 - accuracy: 0.8285 - val_loss: 0.8086 - val_accuracy: 0.5969\n",
            "Epoch 21/100\n",
            "16/16 [==============================] - 0s 3ms/step - loss: 0.3853 - accuracy: 0.8286 - val_loss: 0.7981 - val_accuracy: 0.5974\n",
            "Epoch 22/100\n",
            "16/16 [==============================] - 0s 3ms/step - loss: 0.3794 - accuracy: 0.8249 - val_loss: 0.3797 - val_accuracy: 0.8411\n",
            "Epoch 23/100\n",
            "16/16 [==============================] - 0s 4ms/step - loss: 0.3685 - accuracy: 0.8330 - val_loss: 0.3666 - val_accuracy: 0.8518\n",
            "Epoch 24/100\n",
            "16/16 [==============================] - 0s 3ms/step - loss: 0.3625 - accuracy: 0.8348 - val_loss: 0.2823 - val_accuracy: 0.9040\n",
            "Epoch 25/100\n",
            "16/16 [==============================] - 0s 3ms/step - loss: 0.3695 - accuracy: 0.8341 - val_loss: 0.6929 - val_accuracy: 0.6850\n",
            "Epoch 26/100\n",
            "16/16 [==============================] - 0s 3ms/step - loss: 0.3730 - accuracy: 0.8305 - val_loss: 0.5578 - val_accuracy: 0.7339\n",
            "Epoch 27/100\n",
            "16/16 [==============================] - 0s 3ms/step - loss: 0.3604 - accuracy: 0.8391 - val_loss: 0.3924 - val_accuracy: 0.8360\n",
            "Epoch 28/100\n",
            "16/16 [==============================] - 0s 3ms/step - loss: 0.3547 - accuracy: 0.8442 - val_loss: 0.4479 - val_accuracy: 0.7990\n",
            "Epoch 29/100\n",
            "16/16 [==============================] - 0s 3ms/step - loss: 0.3561 - accuracy: 0.8384 - val_loss: 0.2800 - val_accuracy: 0.8989\n",
            "Epoch 30/100\n",
            "16/16 [==============================] - 0s 4ms/step - loss: 0.3508 - accuracy: 0.8426 - val_loss: 0.5482 - val_accuracy: 0.7378\n",
            "Epoch 31/100\n",
            "16/16 [==============================] - 0s 3ms/step - loss: 0.3423 - accuracy: 0.8515 - val_loss: 0.6926 - val_accuracy: 0.6654\n",
            "Epoch 32/100\n",
            "16/16 [==============================] - 0s 3ms/step - loss: 0.3478 - accuracy: 0.8490 - val_loss: 0.2946 - val_accuracy: 0.8944\n",
            "Epoch 33/100\n",
            "16/16 [==============================] - 0s 4ms/step - loss: 0.3574 - accuracy: 0.8398 - val_loss: 0.3578 - val_accuracy: 0.8529\n",
            "Epoch 34/100\n",
            "16/16 [==============================] - 0s 4ms/step - loss: 0.3487 - accuracy: 0.8491 - val_loss: 0.5476 - val_accuracy: 0.7485\n",
            "Epoch 35/100\n",
            "16/16 [==============================] - 0s 3ms/step - loss: 0.3374 - accuracy: 0.8569 - val_loss: 0.2883 - val_accuracy: 0.9006\n",
            "Epoch 36/100\n",
            "16/16 [==============================] - 0s 3ms/step - loss: 0.3427 - accuracy: 0.8491 - val_loss: 0.6678 - val_accuracy: 0.6828\n",
            "Epoch 37/100\n",
            "16/16 [==============================] - 0s 3ms/step - loss: 0.3288 - accuracy: 0.8577 - val_loss: 0.3564 - val_accuracy: 0.8596\n",
            "Epoch 38/100\n",
            "16/16 [==============================] - 0s 3ms/step - loss: 0.3308 - accuracy: 0.8567 - val_loss: 0.3536 - val_accuracy: 0.8574\n",
            "Epoch 39/100\n",
            "16/16 [==============================] - 0s 3ms/step - loss: 0.3277 - accuracy: 0.8569 - val_loss: 0.3113 - val_accuracy: 0.8905\n",
            "Epoch 40/100\n",
            "16/16 [==============================] - 0s 3ms/step - loss: 0.3326 - accuracy: 0.8519 - val_loss: 0.2849 - val_accuracy: 0.9012\n",
            "Epoch 41/100\n",
            "16/16 [==============================] - 0s 3ms/step - loss: 0.3225 - accuracy: 0.8569 - val_loss: 0.3211 - val_accuracy: 0.8810\n",
            "Epoch 42/100\n",
            "16/16 [==============================] - 0s 3ms/step - loss: 0.3185 - accuracy: 0.8614 - val_loss: 0.3706 - val_accuracy: 0.8551\n",
            "Epoch 43/100\n",
            "16/16 [==============================] - 0s 3ms/step - loss: 0.3054 - accuracy: 0.8728 - val_loss: 0.7766 - val_accuracy: 0.6300\n",
            "Epoch 44/100\n",
            "16/16 [==============================] - 0s 4ms/step - loss: 0.3304 - accuracy: 0.8571 - val_loss: 0.4963 - val_accuracy: 0.7810\n",
            "Epoch 45/100\n",
            "16/16 [==============================] - 0s 3ms/step - loss: 0.2937 - accuracy: 0.8756 - val_loss: 0.6644 - val_accuracy: 0.6906\n",
            "Epoch 46/100\n",
            "16/16 [==============================] - 0s 3ms/step - loss: 0.3136 - accuracy: 0.8659 - val_loss: 0.4836 - val_accuracy: 0.7805\n",
            "Epoch 47/100\n",
            "16/16 [==============================] - 0s 3ms/step - loss: 0.3061 - accuracy: 0.8706 - val_loss: 0.4707 - val_accuracy: 0.7889\n",
            "Epoch 48/100\n",
            "16/16 [==============================] - 0s 3ms/step - loss: 0.3156 - accuracy: 0.8617 - val_loss: 0.6372 - val_accuracy: 0.7125\n",
            "Epoch 49/100\n",
            "16/16 [==============================] - 0s 5ms/step - loss: 0.3122 - accuracy: 0.8655 - val_loss: 0.3555 - val_accuracy: 0.8557\n",
            "Epoch 50/100\n",
            "16/16 [==============================] - 0s 4ms/step - loss: 0.3028 - accuracy: 0.8709 - val_loss: 0.4152 - val_accuracy: 0.8214\n",
            "Epoch 51/100\n",
            "16/16 [==============================] - 0s 4ms/step - loss: 0.2913 - accuracy: 0.8777 - val_loss: 0.3940 - val_accuracy: 0.8518\n",
            "Epoch 52/100\n",
            "16/16 [==============================] - 0s 4ms/step - loss: 0.3055 - accuracy: 0.8697 - val_loss: 0.3168 - val_accuracy: 0.8944\n",
            "Epoch 53/100\n",
            "16/16 [==============================] - 0s 4ms/step - loss: 0.2912 - accuracy: 0.8760 - val_loss: 0.2952 - val_accuracy: 0.9062\n",
            "Epoch 54/100\n",
            "16/16 [==============================] - 0s 4ms/step - loss: 0.3000 - accuracy: 0.8752 - val_loss: 0.6076 - val_accuracy: 0.7260\n",
            "Epoch 55/100\n",
            "16/16 [==============================] - 0s 5ms/step - loss: 0.2829 - accuracy: 0.8808 - val_loss: 0.5145 - val_accuracy: 0.7726\n",
            "Epoch 56/100\n",
            "16/16 [==============================] - 0s 5ms/step - loss: 0.2839 - accuracy: 0.8780 - val_loss: 0.2934 - val_accuracy: 0.9012\n",
            "Epoch 57/100\n",
            "16/16 [==============================] - 0s 5ms/step - loss: 0.2887 - accuracy: 0.8790 - val_loss: 0.3181 - val_accuracy: 0.8956\n",
            "Epoch 58/100\n",
            "16/16 [==============================] - 0s 5ms/step - loss: 0.2791 - accuracy: 0.8817 - val_loss: 0.2984 - val_accuracy: 0.9001\n",
            "Epoch 59/100\n",
            "16/16 [==============================] - 0s 5ms/step - loss: 0.2888 - accuracy: 0.8795 - val_loss: 0.3030 - val_accuracy: 0.8922\n",
            "Epoch 60/100\n",
            "16/16 [==============================] - 0s 4ms/step - loss: 0.2750 - accuracy: 0.8861 - val_loss: 0.3199 - val_accuracy: 0.8922\n",
            "Epoch 61/100\n",
            "16/16 [==============================] - 0s 5ms/step - loss: 0.2864 - accuracy: 0.8793 - val_loss: 0.3416 - val_accuracy: 0.8838\n",
            "Epoch 62/100\n",
            "16/16 [==============================] - 0s 5ms/step - loss: 0.2749 - accuracy: 0.8878 - val_loss: 0.3353 - val_accuracy: 0.8883\n",
            "Epoch 63/100\n",
            "16/16 [==============================] - 0s 4ms/step - loss: 0.2735 - accuracy: 0.8839 - val_loss: 0.3857 - val_accuracy: 0.8523\n",
            "Epoch 64/100\n",
            "16/16 [==============================] - 0s 4ms/step - loss: 0.2688 - accuracy: 0.8865 - val_loss: 0.4078 - val_accuracy: 0.8394\n",
            "Epoch 65/100\n",
            "16/16 [==============================] - 0s 5ms/step - loss: 0.2732 - accuracy: 0.8858 - val_loss: 0.3349 - val_accuracy: 0.8804\n",
            "Epoch 66/100\n",
            "16/16 [==============================] - 0s 5ms/step - loss: 0.2642 - accuracy: 0.8907 - val_loss: 0.3342 - val_accuracy: 0.8798\n",
            "Epoch 67/100\n",
            "16/16 [==============================] - 0s 4ms/step - loss: 0.2675 - accuracy: 0.8905 - val_loss: 0.3299 - val_accuracy: 0.8899\n",
            "Epoch 68/100\n",
            "16/16 [==============================] - 0s 5ms/step - loss: 0.2576 - accuracy: 0.8956 - val_loss: 0.5405 - val_accuracy: 0.7625\n",
            "Epoch 69/100\n",
            "16/16 [==============================] - 0s 5ms/step - loss: 0.2641 - accuracy: 0.8900 - val_loss: 0.5482 - val_accuracy: 0.7552\n",
            "Epoch 70/100\n",
            "16/16 [==============================] - 0s 4ms/step - loss: 0.2517 - accuracy: 0.8965 - val_loss: 0.7719 - val_accuracy: 0.6575\n",
            "Epoch 71/100\n",
            "16/16 [==============================] - 0s 5ms/step - loss: 0.2674 - accuracy: 0.8886 - val_loss: 0.3457 - val_accuracy: 0.8804\n",
            "Epoch 72/100\n",
            "16/16 [==============================] - 0s 5ms/step - loss: 0.2522 - accuracy: 0.8953 - val_loss: 0.3505 - val_accuracy: 0.8782\n",
            "Epoch 73/100\n",
            "16/16 [==============================] - 0s 4ms/step - loss: 0.2421 - accuracy: 0.9019 - val_loss: 0.3211 - val_accuracy: 0.8905\n",
            "Epoch 74/100\n",
            "16/16 [==============================] - 0s 5ms/step - loss: 0.2666 - accuracy: 0.8881 - val_loss: 0.3048 - val_accuracy: 0.8989\n",
            "Epoch 75/100\n",
            "16/16 [==============================] - 0s 5ms/step - loss: 0.2533 - accuracy: 0.8975 - val_loss: 0.3608 - val_accuracy: 0.8714\n",
            "Epoch 76/100\n",
            "16/16 [==============================] - 0s 4ms/step - loss: 0.2326 - accuracy: 0.9069 - val_loss: 0.3399 - val_accuracy: 0.8843\n",
            "Epoch 77/100\n",
            "16/16 [==============================] - 0s 5ms/step - loss: 0.2411 - accuracy: 0.9023 - val_loss: 0.3852 - val_accuracy: 0.8619\n",
            "Epoch 78/100\n",
            "16/16 [==============================] - 0s 5ms/step - loss: 0.2425 - accuracy: 0.9055 - val_loss: 0.5704 - val_accuracy: 0.7647\n",
            "Epoch 79/100\n",
            "16/16 [==============================] - 0s 4ms/step - loss: 0.2453 - accuracy: 0.9007 - val_loss: 0.5395 - val_accuracy: 0.7670\n",
            "Epoch 80/100\n",
            "16/16 [==============================] - 0s 4ms/step - loss: 0.2173 - accuracy: 0.9187 - val_loss: 0.3108 - val_accuracy: 0.9113\n",
            "Epoch 81/100\n",
            "16/16 [==============================] - 0s 4ms/step - loss: 0.2448 - accuracy: 0.8970 - val_loss: 0.3595 - val_accuracy: 0.8765\n",
            "Epoch 82/100\n",
            "16/16 [==============================] - 0s 5ms/step - loss: 0.2349 - accuracy: 0.9060 - val_loss: 0.3651 - val_accuracy: 0.8776\n",
            "Epoch 83/100\n",
            "16/16 [==============================] - 0s 5ms/step - loss: 0.2386 - accuracy: 0.9044 - val_loss: 0.3515 - val_accuracy: 0.8855\n",
            "Epoch 84/100\n",
            "16/16 [==============================] - 0s 5ms/step - loss: 0.2250 - accuracy: 0.9126 - val_loss: 0.3681 - val_accuracy: 0.8754\n",
            "Epoch 85/100\n",
            "16/16 [==============================] - 0s 5ms/step - loss: 0.2292 - accuracy: 0.9079 - val_loss: 0.4134 - val_accuracy: 0.8433\n",
            "Epoch 86/100\n",
            "16/16 [==============================] - 0s 3ms/step - loss: 0.2271 - accuracy: 0.9096 - val_loss: 0.3617 - val_accuracy: 0.8748\n",
            "Epoch 87/100\n",
            "16/16 [==============================] - 0s 3ms/step - loss: 0.2176 - accuracy: 0.9100 - val_loss: 0.3173 - val_accuracy: 0.9074\n",
            "Epoch 88/100\n",
            "16/16 [==============================] - 0s 3ms/step - loss: 0.2241 - accuracy: 0.9110 - val_loss: 0.3424 - val_accuracy: 0.8888\n",
            "Epoch 89/100\n",
            "16/16 [==============================] - 0s 3ms/step - loss: 0.2212 - accuracy: 0.9168 - val_loss: 0.3435 - val_accuracy: 0.8888\n",
            "Epoch 90/100\n",
            "16/16 [==============================] - 0s 3ms/step - loss: 0.2149 - accuracy: 0.9149 - val_loss: 0.3290 - val_accuracy: 0.9079\n",
            "Epoch 91/100\n",
            "16/16 [==============================] - 0s 3ms/step - loss: 0.2219 - accuracy: 0.9140 - val_loss: 0.3388 - val_accuracy: 0.9141\n",
            "Epoch 92/100\n",
            "16/16 [==============================] - 0s 4ms/step - loss: 0.2086 - accuracy: 0.9222 - val_loss: 0.6853 - val_accuracy: 0.7221\n",
            "Epoch 93/100\n",
            "16/16 [==============================] - 0s 3ms/step - loss: 0.2138 - accuracy: 0.9166 - val_loss: 0.5113 - val_accuracy: 0.7984\n",
            "Epoch 94/100\n",
            "16/16 [==============================] - 0s 3ms/step - loss: 0.2170 - accuracy: 0.9153 - val_loss: 0.3782 - val_accuracy: 0.8675\n",
            "Epoch 95/100\n",
            "16/16 [==============================] - 0s 3ms/step - loss: 0.2166 - accuracy: 0.9138 - val_loss: 0.4431 - val_accuracy: 0.8349\n",
            "Epoch 96/100\n",
            "16/16 [==============================] - 0s 3ms/step - loss: 0.2167 - accuracy: 0.9153 - val_loss: 0.5794 - val_accuracy: 0.7659\n",
            "Epoch 97/100\n",
            "16/16 [==============================] - 0s 3ms/step - loss: 0.2074 - accuracy: 0.9196 - val_loss: 0.3963 - val_accuracy: 0.8658\n",
            "Epoch 98/100\n",
            "16/16 [==============================] - 0s 4ms/step - loss: 0.2009 - accuracy: 0.9226 - val_loss: 0.4584 - val_accuracy: 0.8282\n",
            "Epoch 99/100\n",
            "16/16 [==============================] - 0s 3ms/step - loss: 0.2070 - accuracy: 0.9181 - val_loss: 0.3552 - val_accuracy: 0.8916\n",
            "Epoch 100/100\n",
            "16/16 [==============================] - 0s 3ms/step - loss: 0.2133 - accuracy: 0.9167 - val_loss: 0.3776 - val_accuracy: 0.8804\n"
          ]
        }
      ]
    },
    {
      "cell_type": "code",
      "source": [
        "loss = history.history['loss']\n",
        "val_loss = history.history['val_loss']\n",
        "\n",
        "epochs = range(1, len(loss) + 1)\n",
        "\n",
        "plt.plot(epochs, loss, 'bo', label='Training loss')\n",
        "plt.plot(epochs, val_loss, 'b', label='Validation loss')\n",
        "plt.title('Training and validation loss')\n",
        "plt.xlabel('Epochs')\n",
        "plt.ylabel('Loss')\n",
        "plt.legend()\n",
        "\n",
        "plt.show()\n",
        "\n",
        "acc = history.history['accuracy']\n",
        "val_acc = history.history['val_accuracy']\n",
        "\n",
        "plt.plot(epochs, acc, 'bo', label='Training acc')\n",
        "plt.plot(epochs, val_acc, 'b', label='Validation acc')\n",
        "plt.title('Training and validation accuracy')\n",
        "plt.xlabel('Epochs')\n",
        "plt.ylabel('Accuracy')\n",
        "plt.legend()\n",
        "\n",
        "plt.show()"
      ],
      "metadata": {
        "colab": {
          "base_uri": "https://localhost:8080/",
          "height": 573
        },
        "id": "JurFr65GsFUM",
        "outputId": "5b676c5e-d2f1-4d10-8b3f-79a2e9422080"
      },
      "execution_count": 37,
      "outputs": [
        {
          "output_type": "display_data",
          "data": {
            "text/plain": [
              "<Figure size 432x288 with 1 Axes>"
            ],
            "image/png": "[encoded data removed]"
          },
          "metadata": {
            "needs_background": "light"
          }
        },
        {
          "output_type": "display_data",
          "data": {
            "text/plain": [
              "<Figure size 432x288 with 1 Axes>"
            ],
            "image/png": "[encoded data removed]"
          },
          "metadata": {
            "needs_background": "light"
          }
        }
      ]
    },
    {
      "cell_type": "markdown",
      "source": [
        "첫번째 loss 값은 떨어지나, validation 의 변동성이 매우 심함. 못맞추는애들이 심하다는걸 의미함.\n",
        "\n",
        "두번째 accuracy 역시 8개의 피처로 잡기 어렵다를 의미함. "
      ],
      "metadata": {
        "id": "FgFdGgkesag3"
      }
    },
    {
      "cell_type": "markdown",
      "source": [
        "#스멀러로 다시 모델학습\n",
        "히든노드 8개"
      ],
      "metadata": {
        "id": "MAG4ptwptexT"
      }
    },
    {
      "cell_type": "code",
      "source": [
        "smaller = models.Sequential()\n",
        "smaller.add(Dense(8, input_dim = 84, activation='relu'))\n",
        "smaller.add(Dense(8, activation='relu'))\n",
        "smaller.add(Dense(1, activation='sigmoid'))\n",
        "\n",
        "smaller.compile(optimizer='rmsprop',\n",
        "                loss='binary_crossentropy',\n",
        "                metrics=['accuracy'])"
      ],
      "metadata": {
        "id": "X6Y284YJqB5G"
      },
      "execution_count": 38,
      "outputs": []
    },
    {
      "cell_type": "code",
      "source": [
        "smaller_hist = smaller.fit(X_train_over,y_train_over,epochs=30,batch_size=512,validation_data=(X_test, y_test))\n"
      ],
      "metadata": {
        "colab": {
          "base_uri": "https://localhost:8080/"
        },
        "id": "moSDTIK6qCIw",
        "outputId": "3bf5491d-116a-43c4-a46e-331fbb4bb240"
      },
      "execution_count": 39,
      "outputs": [
        {
          "output_type": "stream",
          "name": "stdout",
          "text": [
            "Epoch 1/30\n",
            "16/16 [==============================] - 1s 11ms/step - loss: 0.9614 - accuracy: 0.5229 - val_loss: 0.8702 - val_accuracy: 0.5783\n",
            "Epoch 2/30\n",
            "16/16 [==============================] - 0s 2ms/step - loss: 0.7687 - accuracy: 0.5204 - val_loss: 0.7955 - val_accuracy: 0.5255\n",
            "Epoch 3/30\n",
            "16/16 [==============================] - 0s 3ms/step - loss: 0.7153 - accuracy: 0.5470 - val_loss: 0.7420 - val_accuracy: 0.4997\n",
            "Epoch 4/30\n",
            "16/16 [==============================] - 0s 4ms/step - loss: 0.6808 - accuracy: 0.5722 - val_loss: 0.6558 - val_accuracy: 0.5862\n",
            "Epoch 5/30\n",
            "16/16 [==============================] - 0s 2ms/step - loss: 0.6601 - accuracy: 0.5913 - val_loss: 0.6426 - val_accuracy: 0.6182\n",
            "Epoch 6/30\n",
            "16/16 [==============================] - 0s 4ms/step - loss: 0.6499 - accuracy: 0.6056 - val_loss: 0.6533 - val_accuracy: 0.6238\n",
            "Epoch 7/30\n",
            "16/16 [==============================] - 0s 3ms/step - loss: 0.6433 - accuracy: 0.6136 - val_loss: 0.6512 - val_accuracy: 0.6002\n",
            "Epoch 8/30\n",
            "16/16 [==============================] - 0s 3ms/step - loss: 0.6363 - accuracy: 0.6223 - val_loss: 0.6645 - val_accuracy: 0.6086\n",
            "Epoch 9/30\n",
            "16/16 [==============================] - 0s 3ms/step - loss: 0.6297 - accuracy: 0.6288 - val_loss: 0.5817 - val_accuracy: 0.6962\n",
            "Epoch 10/30\n",
            "16/16 [==============================] - 0s 4ms/step - loss: 0.6252 - accuracy: 0.6345 - val_loss: 0.7112 - val_accuracy: 0.5261\n",
            "Epoch 11/30\n",
            "16/16 [==============================] - 0s 3ms/step - loss: 0.6202 - accuracy: 0.6443 - val_loss: 0.5818 - val_accuracy: 0.7075\n",
            "Epoch 12/30\n",
            "16/16 [==============================] - 0s 3ms/step - loss: 0.6122 - accuracy: 0.6513 - val_loss: 0.6272 - val_accuracy: 0.6777\n",
            "Epoch 13/30\n",
            "16/16 [==============================] - 0s 3ms/step - loss: 0.6083 - accuracy: 0.6516 - val_loss: 0.6482 - val_accuracy: 0.6047\n",
            "Epoch 14/30\n",
            "16/16 [==============================] - 0s 4ms/step - loss: 0.6013 - accuracy: 0.6563 - val_loss: 0.6254 - val_accuracy: 0.6631\n",
            "Epoch 15/30\n",
            "16/16 [==============================] - 0s 3ms/step - loss: 0.5925 - accuracy: 0.6691 - val_loss: 0.5120 - val_accuracy: 0.8063\n",
            "Epoch 16/30\n",
            "16/16 [==============================] - 0s 3ms/step - loss: 0.5857 - accuracy: 0.6755 - val_loss: 0.5006 - val_accuracy: 0.8130\n",
            "Epoch 17/30\n",
            "16/16 [==============================] - 0s 3ms/step - loss: 0.5824 - accuracy: 0.6775 - val_loss: 0.5001 - val_accuracy: 0.8214\n",
            "Epoch 18/30\n",
            "16/16 [==============================] - 0s 3ms/step - loss: 0.5730 - accuracy: 0.6870 - val_loss: 0.4647 - val_accuracy: 0.8484\n",
            "Epoch 19/30\n",
            "16/16 [==============================] - 0s 3ms/step - loss: 0.5689 - accuracy: 0.6879 - val_loss: 0.5929 - val_accuracy: 0.7395\n",
            "Epoch 20/30\n",
            "16/16 [==============================] - 0s 3ms/step - loss: 0.5629 - accuracy: 0.6947 - val_loss: 0.6024 - val_accuracy: 0.7310\n",
            "Epoch 21/30\n",
            "16/16 [==============================] - 0s 4ms/step - loss: 0.5599 - accuracy: 0.6978 - val_loss: 0.5630 - val_accuracy: 0.7743\n",
            "Epoch 22/30\n",
            "16/16 [==============================] - 0s 2ms/step - loss: 0.5514 - accuracy: 0.7033 - val_loss: 0.6216 - val_accuracy: 0.7030\n",
            "Epoch 23/30\n",
            "16/16 [==============================] - 0s 3ms/step - loss: 0.5483 - accuracy: 0.7076 - val_loss: 0.4896 - val_accuracy: 0.8226\n",
            "Epoch 24/30\n",
            "16/16 [==============================] - 0s 3ms/step - loss: 0.5457 - accuracy: 0.7086 - val_loss: 0.4722 - val_accuracy: 0.8405\n",
            "Epoch 25/30\n",
            "16/16 [==============================] - 0s 3ms/step - loss: 0.5383 - accuracy: 0.7119 - val_loss: 0.4561 - val_accuracy: 0.8428\n",
            "Epoch 26/30\n",
            "16/16 [==============================] - 0s 3ms/step - loss: 0.5361 - accuracy: 0.7143 - val_loss: 0.6262 - val_accuracy: 0.6923\n",
            "Epoch 27/30\n",
            "16/16 [==============================] - 0s 3ms/step - loss: 0.5297 - accuracy: 0.7213 - val_loss: 0.4394 - val_accuracy: 0.8563\n",
            "Epoch 28/30\n",
            "16/16 [==============================] - 0s 3ms/step - loss: 0.5270 - accuracy: 0.7118 - val_loss: 0.5685 - val_accuracy: 0.7642\n",
            "Epoch 29/30\n",
            "16/16 [==============================] - 0s 3ms/step - loss: 0.5209 - accuracy: 0.7229 - val_loss: 0.4638 - val_accuracy: 0.8304\n",
            "Epoch 30/30\n",
            "16/16 [==============================] - 0s 3ms/step - loss: 0.5189 - accuracy: 0.7250 - val_loss: 0.5437 - val_accuracy: 0.7844\n"
          ]
        }
      ]
    },
    {
      "cell_type": "code",
      "source": [
        "loss = smaller_hist.history['loss']\n",
        "val_loss = smaller_hist.history['val_loss']\n",
        "\n",
        "epochs = range(1, len(loss) + 1)\n",
        "\n",
        "plt.plot(epochs, loss, 'bo', label='Training loss')\n",
        "plt.plot(epochs, val_loss, 'b', label='Validation loss')\n",
        "plt.title('Training and validation loss')\n",
        "plt.xlabel('Epochs')\n",
        "plt.ylabel('Loss')\n",
        "plt.legend()\n",
        "\n",
        "plt.show()\n",
        "\n",
        "acc = smaller_hist.history['accuracy']\n",
        "val_acc = smaller_hist.history['val_accuracy']\n",
        "\n",
        "plt.plot(epochs, acc, 'bo', label='Training acc')\n",
        "plt.plot(epochs, val_acc, 'b', label='Validation acc')\n",
        "plt.title('Training and validation accuracy')\n",
        "plt.xlabel('Epochs')\n",
        "plt.ylabel('Accuracy')\n",
        "plt.legend()\n",
        "\n",
        "plt.show()"
      ],
      "metadata": {
        "colab": {
          "base_uri": "https://localhost:8080/",
          "height": 573
        },
        "id": "NZ7RexfRqCdF",
        "outputId": "ca7f4a30-6068-4d06-8d01-55bdb92fe5a4"
      },
      "execution_count": 40,
      "outputs": [
        {
          "output_type": "display_data",
          "data": {
            "text/plain": [
              "<Figure size 432x288 with 1 Axes>"
            ],
            "image/png": "[encoded data removed]"
          },
          "metadata": {
            "needs_background": "light"
          }
        },
        {
          "output_type": "display_data",
          "data": {
            "text/plain": [
              "<Figure size 432x288 with 1 Axes>"
            ],
            "image/png": "[encoded data removed]"
          },
          "metadata": {
            "needs_background": "light"
          }
        }
      ]
    },
    {
      "cell_type": "code",
      "source": [
        "hist_dict = history.history\n",
        "smaller_dict = smaller_hist.history\n",
        "\n",
        "val_acc = hist_dict['val_accuracy']\n",
        "val_loss = hist_dict['val_loss']\n",
        "smaller_val_acc = smaller_dict['val_accuracy']\n",
        "smaller_val_loss = smaller_dict['val_loss']\n",
        "\n",
        "epochs = range(1, len(val_acc)+1)\n",
        "\n",
        "# ‘b’는 파란색 실선, 'r'은 빨간색 실선을 의미합니다\n",
        "plt.plot(epochs, smaller_val_acc, 'b', label='Smaller model')\n",
        "plt.plot(epochs, val_acc, 'r', label='Original model')\n",
        "plt.xlabel('Epochs')\n",
        "plt.ylabel('Accuracy')\n",
        "plt.legend()\n",
        "plt.show()\n",
        "\n",
        "# ‘b’는 파란색 실선, 'r'은 빨간색 실선을 의미합니다\n",
        "plt.plot(epochs, smaller_val_loss, 'b', label='Smaller model')\n",
        "plt.plot(epochs, val_loss, 'r', label='Original model')\n",
        "plt.xlabel('Epochs')\n",
        "plt.ylabel('Loss')\n",
        "plt.legend()\n",
        "plt.show()"
      ],
      "metadata": {
        "colab": {
          "base_uri": "https://localhost:8080/",
          "height": 660
        },
        "id": "QpXf79Plt8DO",
        "outputId": "def8c051-94ff-4764-d802-c734765d28bc"
      },
      "execution_count": 44,
      "outputs": [
        {
          "output_type": "error",
          "ename": "ValueError",
          "evalue": "ignored",
          "traceback": [
            "\u001b[0;31m---------------------------------------------------------------------------\u001b[0m",
            "\u001b[0;31mValueError\u001b[0m                                Traceback (most recent call last)",
            "\u001b[0;32m<ipython-input-44-a23dd2755340>\u001b[0m in \u001b[0;36m<module>\u001b[0;34m\u001b[0m\n\u001b[1;32m     10\u001b[0m \u001b[0;34m\u001b[0m\u001b[0m\n\u001b[1;32m     11\u001b[0m \u001b[0;31m# ‘b’는 파란색 실선, 'r'은 빨간색 실선을 의미합니다\u001b[0m\u001b[0;34m\u001b[0m\u001b[0;34m\u001b[0m\u001b[0;34m\u001b[0m\u001b[0m\n\u001b[0;32m---> 12\u001b[0;31m \u001b[0mplt\u001b[0m\u001b[0;34m.\u001b[0m\u001b[0mplot\u001b[0m\u001b[0;34m(\u001b[0m\u001b[0mepochs\u001b[0m\u001b[0;34m,\u001b[0m \u001b[0msmaller_val_acc\u001b[0m\u001b[0;34m,\u001b[0m \u001b[0;34m'b'\u001b[0m\u001b[0;34m,\u001b[0m \u001b[0mlabel\u001b[0m\u001b[0;34m=\u001b[0m\u001b[0;34m'Smaller model'\u001b[0m\u001b[0;34m)\u001b[0m\u001b[0;34m\u001b[0m\u001b[0;34m\u001b[0m\u001b[0m\n\u001b[0m\u001b[1;32m     13\u001b[0m \u001b[0mplt\u001b[0m\u001b[0;34m.\u001b[0m\u001b[0mplot\u001b[0m\u001b[0;34m(\u001b[0m\u001b[0mepochs\u001b[0m\u001b[0;34m,\u001b[0m \u001b[0mval_acc\u001b[0m\u001b[0;34m,\u001b[0m \u001b[0;34m'r'\u001b[0m\u001b[0;34m,\u001b[0m \u001b[0mlabel\u001b[0m\u001b[0;34m=\u001b[0m\u001b[0;34m'Original model'\u001b[0m\u001b[0;34m)\u001b[0m\u001b[0;34m\u001b[0m\u001b[0;34m\u001b[0m\u001b[0m\n\u001b[1;32m     14\u001b[0m \u001b[0mplt\u001b[0m\u001b[0;34m.\u001b[0m\u001b[0mxlabel\u001b[0m\u001b[0;34m(\u001b[0m\u001b[0;34m'Epochs'\u001b[0m\u001b[0;34m)\u001b[0m\u001b[0;34m\u001b[0m\u001b[0;34m\u001b[0m\u001b[0m\n",
            "\u001b[0;32m/usr/local/lib/python3.7/dist-packages/matplotlib/pyplot.py\u001b[0m in \u001b[0;36mplot\u001b[0;34m(scalex, scaley, data, *args, **kwargs)\u001b[0m\n\u001b[1;32m   2761\u001b[0m     return gca().plot(\n\u001b[1;32m   2762\u001b[0m         *args, scalex=scalex, scaley=scaley, **({\"data\": data} if data\n\u001b[0;32m-> 2763\u001b[0;31m         is not None else {}), **kwargs)\n\u001b[0m\u001b[1;32m   2764\u001b[0m \u001b[0;34m\u001b[0m\u001b[0m\n\u001b[1;32m   2765\u001b[0m \u001b[0;34m\u001b[0m\u001b[0m\n",
            "\u001b[0;32m/usr/local/lib/python3.7/dist-packages/matplotlib/axes/_axes.py\u001b[0m in \u001b[0;36mplot\u001b[0;34m(self, scalex, scaley, data, *args, **kwargs)\u001b[0m\n\u001b[1;32m   1645\u001b[0m         \"\"\"\n\u001b[1;32m   1646\u001b[0m         \u001b[0mkwargs\u001b[0m \u001b[0;34m=\u001b[0m \u001b[0mcbook\u001b[0m\u001b[0;34m.\u001b[0m\u001b[0mnormalize_kwargs\u001b[0m\u001b[0;34m(\u001b[0m\u001b[0mkwargs\u001b[0m\u001b[0;34m,\u001b[0m \u001b[0mmlines\u001b[0m\u001b[0;34m.\u001b[0m\u001b[0mLine2D\u001b[0m\u001b[0;34m)\u001b[0m\u001b[0;34m\u001b[0m\u001b[0;34m\u001b[0m\u001b[0m\n\u001b[0;32m-> 1647\u001b[0;31m         \u001b[0mlines\u001b[0m \u001b[0;34m=\u001b[0m \u001b[0;34m[\u001b[0m\u001b[0;34m*\u001b[0m\u001b[0mself\u001b[0m\u001b[0;34m.\u001b[0m\u001b[0m_get_lines\u001b[0m\u001b[0;34m(\u001b[0m\u001b[0;34m*\u001b[0m\u001b[0margs\u001b[0m\u001b[0;34m,\u001b[0m \u001b[0mdata\u001b[0m\u001b[0;34m=\u001b[0m\u001b[0mdata\u001b[0m\u001b[0;34m,\u001b[0m \u001b[0;34m**\u001b[0m\u001b[0mkwargs\u001b[0m\u001b[0;34m)\u001b[0m\u001b[0;34m]\u001b[0m\u001b[0;34m\u001b[0m\u001b[0;34m\u001b[0m\u001b[0m\n\u001b[0m\u001b[1;32m   1648\u001b[0m         \u001b[0;32mfor\u001b[0m \u001b[0mline\u001b[0m \u001b[0;32min\u001b[0m \u001b[0mlines\u001b[0m\u001b[0;34m:\u001b[0m\u001b[0;34m\u001b[0m\u001b[0;34m\u001b[0m\u001b[0m\n\u001b[1;32m   1649\u001b[0m             \u001b[0mself\u001b[0m\u001b[0;34m.\u001b[0m\u001b[0madd_line\u001b[0m\u001b[0;34m(\u001b[0m\u001b[0mline\u001b[0m\u001b[0;34m)\u001b[0m\u001b[0;34m\u001b[0m\u001b[0;34m\u001b[0m\u001b[0m\n",
            "\u001b[0;32m/usr/local/lib/python3.7/dist-packages/matplotlib/axes/_base.py\u001b[0m in \u001b[0;36m__call__\u001b[0;34m(self, *args, **kwargs)\u001b[0m\n\u001b[1;32m    214\u001b[0m                 \u001b[0mthis\u001b[0m \u001b[0;34m+=\u001b[0m \u001b[0margs\u001b[0m\u001b[0;34m[\u001b[0m\u001b[0;36m0\u001b[0m\u001b[0;34m]\u001b[0m\u001b[0;34m,\u001b[0m\u001b[0;34m\u001b[0m\u001b[0;34m\u001b[0m\u001b[0m\n\u001b[1;32m    215\u001b[0m                 \u001b[0margs\u001b[0m \u001b[0;34m=\u001b[0m \u001b[0margs\u001b[0m\u001b[0;34m[\u001b[0m\u001b[0;36m1\u001b[0m\u001b[0;34m:\u001b[0m\u001b[0;34m]\u001b[0m\u001b[0;34m\u001b[0m\u001b[0;34m\u001b[0m\u001b[0m\n\u001b[0;32m--> 216\u001b[0;31m             \u001b[0;32myield\u001b[0m \u001b[0;32mfrom\u001b[0m \u001b[0mself\u001b[0m\u001b[0;34m.\u001b[0m\u001b[0m_plot_args\u001b[0m\u001b[0;34m(\u001b[0m\u001b[0mthis\u001b[0m\u001b[0;34m,\u001b[0m \u001b[0mkwargs\u001b[0m\u001b[0;34m)\u001b[0m\u001b[0;34m\u001b[0m\u001b[0;34m\u001b[0m\u001b[0m\n\u001b[0m\u001b[1;32m    217\u001b[0m \u001b[0;34m\u001b[0m\u001b[0m\n\u001b[1;32m    218\u001b[0m     \u001b[0;32mdef\u001b[0m \u001b[0mget_next_color\u001b[0m\u001b[0;34m(\u001b[0m\u001b[0mself\u001b[0m\u001b[0;34m)\u001b[0m\u001b[0;34m:\u001b[0m\u001b[0;34m\u001b[0m\u001b[0;34m\u001b[0m\u001b[0m\n",
            "\u001b[0;32m/usr/local/lib/python3.7/dist-packages/matplotlib/axes/_base.py\u001b[0m in \u001b[0;36m_plot_args\u001b[0;34m(self, tup, kwargs)\u001b[0m\n\u001b[1;32m    340\u001b[0m \u001b[0;34m\u001b[0m\u001b[0m\n\u001b[1;32m    341\u001b[0m         \u001b[0;32mif\u001b[0m \u001b[0mx\u001b[0m\u001b[0;34m.\u001b[0m\u001b[0mshape\u001b[0m\u001b[0;34m[\u001b[0m\u001b[0;36m0\u001b[0m\u001b[0;34m]\u001b[0m \u001b[0;34m!=\u001b[0m \u001b[0my\u001b[0m\u001b[0;34m.\u001b[0m\u001b[0mshape\u001b[0m\u001b[0;34m[\u001b[0m\u001b[0;36m0\u001b[0m\u001b[0;34m]\u001b[0m\u001b[0;34m:\u001b[0m\u001b[0;34m\u001b[0m\u001b[0;34m\u001b[0m\u001b[0m\n\u001b[0;32m--> 342\u001b[0;31m             raise ValueError(f\"x and y must have same first dimension, but \"\n\u001b[0m\u001b[1;32m    343\u001b[0m                              f\"have shapes {x.shape} and {y.shape}\")\n\u001b[1;32m    344\u001b[0m         \u001b[0;32mif\u001b[0m \u001b[0mx\u001b[0m\u001b[0;34m.\u001b[0m\u001b[0mndim\u001b[0m \u001b[0;34m>\u001b[0m \u001b[0;36m2\u001b[0m \u001b[0;32mor\u001b[0m \u001b[0my\u001b[0m\u001b[0;34m.\u001b[0m\u001b[0mndim\u001b[0m \u001b[0;34m>\u001b[0m \u001b[0;36m2\u001b[0m\u001b[0;34m:\u001b[0m\u001b[0;34m\u001b[0m\u001b[0;34m\u001b[0m\u001b[0m\n",
            "\u001b[0;31mValueError\u001b[0m: x and y must have same first dimension, but have shapes (100,) and (30,)"
          ]
        },
        {
          "output_type": "display_data",
          "data": {
            "text/plain": [
              "<Figure size 432x288 with 1 Axes>"
            ],
            "image/png": "[encoded data removed]"
          },
          "metadata": {
            "needs_background": "light"
          }
        }
      ]
    },
    {
      "cell_type": "markdown",
      "source": [
        "128 번으로 키움"
      ],
      "metadata": {
        "id": "cGIcZOAfuXNM"
      }
    },
    {
      "cell_type": "code",
      "source": [
        "bigger = models.Sequential()\n",
        "bigger.add(Dense(128, input_dim = 84, activation='relu'))\n",
        "bigger.add(Dense(128, activation='relu'))\n",
        "bigger.add(Dense(1, activation='sigmoid'))\n",
        "\n",
        "bigger.compile(optimizer='rmsprop',\n",
        "                loss='binary_crossentropy',\n",
        "                metrics=['accuracy'])"
      ],
      "metadata": {
        "id": "HZpP1h0ruUv4"
      },
      "execution_count": 45,
      "outputs": []
    },
    {
      "cell_type": "code",
      "source": [
        "bigger_hist = bigger.fit(X_train_over,y_train_over,epochs=30,batch_size=512,validation_data=(X_test, y_test))"
      ],
      "metadata": {
        "colab": {
          "base_uri": "https://localhost:8080/"
        },
        "id": "OgPZtQXqueEg",
        "outputId": "06b81351-f373-4df5-bc0e-55b20af462e9"
      },
      "execution_count": 46,
      "outputs": [
        {
          "output_type": "stream",
          "name": "stdout",
          "text": [
            "Epoch 1/30\n",
            "16/16 [==============================] - 1s 12ms/step - loss: 1.2326 - accuracy: 0.5427 - val_loss: 1.0005 - val_accuracy: 0.3038\n",
            "Epoch 2/30\n",
            "16/16 [==============================] - 0s 6ms/step - loss: 0.7584 - accuracy: 0.5858 - val_loss: 0.9139 - val_accuracy: 0.3268\n",
            "Epoch 3/30\n",
            "16/16 [==============================] - 0s 5ms/step - loss: 0.7057 - accuracy: 0.6005 - val_loss: 1.0838 - val_accuracy: 0.2291\n",
            "Epoch 4/30\n",
            "16/16 [==============================] - 0s 5ms/step - loss: 0.6631 - accuracy: 0.6244 - val_loss: 0.9851 - val_accuracy: 0.2880\n",
            "Epoch 5/30\n",
            "16/16 [==============================] - 0s 6ms/step - loss: 0.6483 - accuracy: 0.6332 - val_loss: 1.1330 - val_accuracy: 0.2201\n",
            "Epoch 6/30\n",
            "16/16 [==============================] - 0s 5ms/step - loss: 0.6136 - accuracy: 0.6592 - val_loss: 1.0585 - val_accuracy: 0.2942\n",
            "Epoch 7/30\n",
            "16/16 [==============================] - 0s 5ms/step - loss: 0.6350 - accuracy: 0.6421 - val_loss: 0.7760 - val_accuracy: 0.4947\n",
            "Epoch 8/30\n",
            "16/16 [==============================] - 0s 7ms/step - loss: 0.5473 - accuracy: 0.7122 - val_loss: 0.7352 - val_accuracy: 0.5778\n",
            "Epoch 9/30\n",
            "16/16 [==============================] - 0s 7ms/step - loss: 0.5689 - accuracy: 0.7070 - val_loss: 0.3229 - val_accuracy: 0.9147\n",
            "Epoch 10/30\n",
            "16/16 [==============================] - 0s 6ms/step - loss: 0.5618 - accuracy: 0.7087 - val_loss: 0.4003 - val_accuracy: 0.8669\n",
            "Epoch 11/30\n",
            "16/16 [==============================] - 0s 5ms/step - loss: 0.5143 - accuracy: 0.7331 - val_loss: 0.3067 - val_accuracy: 0.9208\n",
            "Epoch 12/30\n",
            "16/16 [==============================] - 0s 6ms/step - loss: 0.5057 - accuracy: 0.7370 - val_loss: 0.4499 - val_accuracy: 0.8349\n",
            "Epoch 13/30\n",
            "16/16 [==============================] - 0s 6ms/step - loss: 0.4714 - accuracy: 0.7695 - val_loss: 1.0276 - val_accuracy: 0.3863\n",
            "Epoch 14/30\n",
            "16/16 [==============================] - 0s 6ms/step - loss: 0.5043 - accuracy: 0.7604 - val_loss: 0.3992 - val_accuracy: 0.8652\n",
            "Epoch 15/30\n",
            "16/16 [==============================] - 0s 7ms/step - loss: 0.4530 - accuracy: 0.7769 - val_loss: 0.2552 - val_accuracy: 0.9309\n",
            "Epoch 16/30\n",
            "16/16 [==============================] - 0s 5ms/step - loss: 0.4662 - accuracy: 0.7667 - val_loss: 0.3288 - val_accuracy: 0.8978\n",
            "Epoch 17/30\n",
            "16/16 [==============================] - 0s 6ms/step - loss: 0.4454 - accuracy: 0.7765 - val_loss: 0.2534 - val_accuracy: 0.9287\n",
            "Epoch 18/30\n",
            "16/16 [==============================] - 0s 5ms/step - loss: 0.4232 - accuracy: 0.7938 - val_loss: 0.2765 - val_accuracy: 0.9264\n",
            "Epoch 19/30\n",
            "16/16 [==============================] - 0s 5ms/step - loss: 0.4143 - accuracy: 0.8012 - val_loss: 0.7281 - val_accuracy: 0.6070\n",
            "Epoch 20/30\n",
            "16/16 [==============================] - 0s 4ms/step - loss: 0.3953 - accuracy: 0.8141 - val_loss: 0.8311 - val_accuracy: 0.5671\n",
            "Epoch 21/30\n",
            "16/16 [==============================] - 0s 6ms/step - loss: 0.3935 - accuracy: 0.8223 - val_loss: 0.4922 - val_accuracy: 0.7956\n",
            "Epoch 22/30\n",
            "16/16 [==============================] - 0s 6ms/step - loss: 0.3700 - accuracy: 0.8324 - val_loss: 0.8109 - val_accuracy: 0.5794\n",
            "Epoch 23/30\n",
            "16/16 [==============================] - 0s 6ms/step - loss: 0.3629 - accuracy: 0.8311 - val_loss: 0.7117 - val_accuracy: 0.6317\n",
            "Epoch 24/30\n",
            "16/16 [==============================] - 0s 4ms/step - loss: 0.3490 - accuracy: 0.8439 - val_loss: 0.3658 - val_accuracy: 0.8754\n",
            "Epoch 25/30\n",
            "16/16 [==============================] - 0s 4ms/step - loss: 0.3537 - accuracy: 0.8428 - val_loss: 0.2622 - val_accuracy: 0.9332\n",
            "Epoch 26/30\n",
            "16/16 [==============================] - 0s 5ms/step - loss: 0.3166 - accuracy: 0.8674 - val_loss: 0.2848 - val_accuracy: 0.9220\n",
            "Epoch 27/30\n",
            "16/16 [==============================] - 0s 6ms/step - loss: 0.3274 - accuracy: 0.8608 - val_loss: 0.6361 - val_accuracy: 0.6996\n",
            "Epoch 28/30\n",
            "16/16 [==============================] - 0s 7ms/step - loss: 0.3116 - accuracy: 0.8653 - val_loss: 0.5055 - val_accuracy: 0.7737\n",
            "Epoch 29/30\n",
            "16/16 [==============================] - 0s 6ms/step - loss: 0.2913 - accuracy: 0.8763 - val_loss: 0.4543 - val_accuracy: 0.8192\n",
            "Epoch 30/30\n",
            "16/16 [==============================] - 0s 5ms/step - loss: 0.3211 - accuracy: 0.8605 - val_loss: 0.6197 - val_accuracy: 0.7215\n"
          ]
        }
      ]
    },
    {
      "cell_type": "code",
      "source": [
        "loss = bigger_hist.history['loss']\n",
        "val_loss = bigger_hist.history['val_loss']\n",
        "\n",
        "epochs = range(1, len(loss) + 1)\n",
        "\n",
        "plt.plot(epochs, loss, 'bo', label='Training loss')\n",
        "plt.plot(epochs, val_loss, 'b', label='Validation loss')\n",
        "plt.title('Training and validation loss')\n",
        "plt.xlabel('Epochs')\n",
        "plt.ylabel('Loss')\n",
        "plt.legend()\n",
        "\n",
        "plt.show()\n",
        "\n",
        "acc = bigger_hist.history['accuracy']\n",
        "val_acc = bigger_hist.history['val_accuracy']\n",
        "\n",
        "plt.plot(epochs, acc, 'bo', label='Training acc')\n",
        "plt.plot(epochs, val_acc, 'b', label='Validation acc')\n",
        "plt.title('Training and validation accuracy')\n",
        "plt.xlabel('Epochs')\n",
        "plt.ylabel('Accuracy')\n",
        "plt.legend()\n",
        "\n",
        "plt.show()"
      ],
      "metadata": {
        "colab": {
          "base_uri": "https://localhost:8080/",
          "height": 573
        },
        "id": "7x7DG6zlukNl",
        "outputId": "8fee67c1-0f56-4d63-8387-9250c1d88872"
      },
      "execution_count": 47,
      "outputs": [
        {
          "output_type": "display_data",
          "data": {
            "text/plain": [
              "<Figure size 432x288 with 1 Axes>"
            ],
            "image/png": "[encoded data removed]"
          },
          "metadata": {
            "needs_background": "light"
          }
        },
        {
          "output_type": "display_data",
          "data": {
            "text/plain": [
              "<Figure size 432x288 with 1 Axes>"
            ],
            "image/png": "[encoded data removed]"
          },
          "metadata": {
            "needs_background": "light"
          }
        }
      ]
    },
    {
      "cell_type": "code",
      "source": [
        "bigger_dict = bigger_hist.history\n",
        "smaller_dict = smaller_hist.history\n",
        "\n",
        "bigger_val_acc = bigger_dict['val_accuracy']\n",
        "bigger_val_loss = bigger_dict['val_loss']\n",
        "smaller_val_acc = smaller_dict['val_accuracy']\n",
        "smaller_val_loss = smaller_dict['val_loss']\n",
        "\n",
        "epochs = range(1, len(val_acc)+1)"
      ],
      "metadata": {
        "id": "2u2jlEovvNJb"
      },
      "execution_count": 48,
      "outputs": []
    },
    {
      "cell_type": "code",
      "source": [
        "# ‘b’는 파란색 실선, 'r'은 빨간색 실선을 의미합니다\n",
        "plt.plot(epochs, smaller_val_acc, 'b', label='Smaller model')\n",
        "plt.plot(epochs, bigger_val_acc, 'r', label='Bigger model')\n",
        "plt.xlabel('Epochs')\n",
        "plt.ylabel('Accuracy')\n",
        "plt.legend()\n",
        "plt.show()\n",
        "\n",
        "# ‘b’는 파란색 실선, 'r'은 빨간색 실선을 의미합니다\n",
        "plt.plot(epochs, smaller_val_loss, 'b', label='Smaller model')\n",
        "plt.plot(epochs, bigger_val_loss, 'r', label='Bigger model')\n",
        "plt.xlabel('Epochs')\n",
        "plt.ylabel('Loss')\n",
        "plt.legend()\n",
        "plt.show()"
      ],
      "metadata": {
        "colab": {
          "base_uri": "https://localhost:8080/",
          "height": 541
        },
        "id": "2Ku27pQ2vOoD",
        "outputId": "f2848620-ecb6-4cf6-a1b3-fb0c06cd833c"
      },
      "execution_count": 49,
      "outputs": [
        {
          "output_type": "display_data",
          "data": {
            "text/plain": [
              "<Figure size 432x288 with 1 Axes>"
            ],
            "image/png": "[encoded data removed]"
          },
          "metadata": {
            "needs_background": "light"
          }
        },
        {
          "output_type": "display_data",
          "data": {
            "text/plain": [
              "<Figure size 432x288 with 1 Axes>"
            ],
            "image/png": "[encoded data removed]"
          },
          "metadata": {
            "needs_background": "light"
          }
        }
      ]
    },
    {
      "cell_type": "code",
      "source": [
        "loss = history1.history['loss']\n",
        "val_loss = history1.history['val_loss']\n",
        "\n",
        "epochs = range(1, len(loss) + 1)\n",
        "\n",
        "plt.plot(epochs, loss, 'bo', label='Training loss')\n",
        "plt.plot(epochs, val_loss, 'b', label='Validation loss')\n",
        "plt.title('Training and validation loss')\n",
        "plt.xlabel('Epochs')\n",
        "plt.ylabel('Loss')\n",
        "plt.legend()\n",
        "\n",
        "plt.show()\n",
        "\n",
        "acc = history1.history['accuracy']\n",
        "val_acc = history1.history['val_accuracy']\n",
        "\n",
        "plt.plot(epochs, acc, 'bo', label='Training acc')\n",
        "plt.plot(epochs, val_acc, 'b', label='Validation acc')\n",
        "plt.title('Training and validation accuracy')\n",
        "plt.xlabel('Epochs')\n",
        "plt.ylabel('Accuracy')\n",
        "plt.legend()\n",
        "\n",
        "plt.show()"
      ],
      "metadata": {
        "colab": {
          "base_uri": "https://localhost:8080/",
          "height": 241
        },
        "id": "NKITHFrOvQVo",
        "outputId": "2cd97a70-f34d-44df-bd7e-57a88562124a"
      },
      "execution_count": 51,
      "outputs": [
        {
          "output_type": "error",
          "ename": "NameError",
          "evalue": "ignored",
          "traceback": [
            "\u001b[0;31m---------------------------------------------------------------------------\u001b[0m",
            "\u001b[0;31mNameError\u001b[0m                                 Traceback (most recent call last)",
            "\u001b[0;32m<ipython-input-51-7bbb1e850472>\u001b[0m in \u001b[0;36m<module>\u001b[0;34m\u001b[0m\n\u001b[0;32m----> 1\u001b[0;31m \u001b[0mloss\u001b[0m \u001b[0;34m=\u001b[0m \u001b[0mhistory1\u001b[0m\u001b[0;34m.\u001b[0m\u001b[0mhistory\u001b[0m\u001b[0;34m[\u001b[0m\u001b[0;34m'loss'\u001b[0m\u001b[0;34m]\u001b[0m\u001b[0;34m\u001b[0m\u001b[0;34m\u001b[0m\u001b[0m\n\u001b[0m\u001b[1;32m      2\u001b[0m \u001b[0mval_loss\u001b[0m \u001b[0;34m=\u001b[0m \u001b[0mhistory1\u001b[0m\u001b[0;34m.\u001b[0m\u001b[0mhistory\u001b[0m\u001b[0;34m[\u001b[0m\u001b[0;34m'val_loss'\u001b[0m\u001b[0;34m]\u001b[0m\u001b[0;34m\u001b[0m\u001b[0;34m\u001b[0m\u001b[0m\n\u001b[1;32m      3\u001b[0m \u001b[0;34m\u001b[0m\u001b[0m\n\u001b[1;32m      4\u001b[0m \u001b[0mepochs\u001b[0m \u001b[0;34m=\u001b[0m \u001b[0mrange\u001b[0m\u001b[0;34m(\u001b[0m\u001b[0;36m1\u001b[0m\u001b[0;34m,\u001b[0m \u001b[0mlen\u001b[0m\u001b[0;34m(\u001b[0m\u001b[0mloss\u001b[0m\u001b[0;34m)\u001b[0m \u001b[0;34m+\u001b[0m \u001b[0;36m1\u001b[0m\u001b[0;34m)\u001b[0m\u001b[0;34m\u001b[0m\u001b[0;34m\u001b[0m\u001b[0m\n\u001b[1;32m      5\u001b[0m \u001b[0;34m\u001b[0m\u001b[0m\n",
            "\u001b[0;31mNameError\u001b[0m: name 'history1' is not defined"
          ]
        }
      ]
    },
    {
      "cell_type": "markdown",
      "source": [],
      "metadata": {
        "id": "UcBufuQlwUBk"
      }
    }
  ]
}