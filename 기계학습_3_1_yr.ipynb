{
  "nbformat": 4,
  "nbformat_minor": 0,
  "metadata": {
    "colab": {
      "provenance": [],
      "collapsed_sections": [],
      "mount_file_id": "118tqAv3nx4rVzvTa58qW8jbI8zdz4iPM",
      "authorship_tag": "ABX9TyNgLyz+EtLzcvVuaINCyypH",
      "include_colab_link": true
    },
    "kernelspec": {
      "name": "python3",
      "display_name": "Python 3"
    },
    "language_info": {
      "name": "python"
    }
  },
  "cells": [
    {
      "cell_type": "markdown",
      "metadata": {
        "id": "view-in-github",
        "colab_type": "text"
      },
      "source": [
        "<a href=\"https://colab.research.google.com/github/leeyerin25/TIL_python/blob/main/%EA%B8%B0%EA%B3%84%ED%95%99%EC%8A%B5_3_1_yr.ipynb\" target=\"_parent\"><img src=\"https://colab.research.google.com/assets/colab-badge.svg\" alt=\"Open In Colab\"/></a>"
      ]
    },
    {
      "cell_type": "code",
      "source": [
        "import pandas as pd\n",
        "\n",
        "train = pd.read_csv('/content/drive/MyDrive/기계학습/suicide_data.csv')\n",
        "train.head()"
      ],
      "metadata": {
        "id": "sjXyrVi6QNsE",
        "colab": {
          "base_uri": "https://localhost:8080/",
          "height": 280
        },
        "outputId": "778923b1-730d-49eb-b2ab-ab9fa59ce717"
      },
      "execution_count": 43,
      "outputs": [
        {
          "output_type": "execute_result",
          "data": {
            "text/plain": [
              "           ID  apt_t  sex  cfam  allownc  house  live_t  marri_2  tins  npins  \\\n",
              "0  A739211515      1    2     3       20      2       3        1    10      1   \n",
              "1  A739211516      1    1     3       20      2       3        1    10      1   \n",
              "2  A739211517      1    2     3       20      2       3        3    20      1   \n",
              "3  A739219614      1    1     4       20      1       3        1    20      1   \n",
              "4  A739219615      1    2     4       20      1       3        1    20      1   \n",
              "\n",
              "   ...   N_CHOL    N_CHO   N_TDF     N_CA    N_FE      N_NA       N_K  \\\n",
              "0  ...  220.911  213.937  12.957  469.710   9.405  2117.652  2540.971   \n",
              "1  ...  352.617  274.917  20.682  372.172  14.404  3699.691  2589.378   \n",
              "2  ...  136.681  272.175  19.292  266.870  13.276  2265.539  2073.714   \n",
              "3  ...   41.882  243.170  25.090  358.145  20.760  4282.505  1830.424   \n",
              "4  ...  140.545  288.721  30.959  487.907  14.351  2875.440  6069.345   \n",
              "\n",
              "    N_VITC LF_SAFE LF_S2  \n",
              "0   31.666      2     3   \n",
              "1   43.118      2     3   \n",
              "2  105.935      2     3   \n",
              "3   41.371      2     3   \n",
              "4   88.895      2     3   \n",
              "\n",
              "[5 rows x 89 columns]"
            ],
            "text/html": [
              "\n",
              "  <div id=\"df-10d1cc0f-5f07-4c65-acb5-2ebe1da59655\">\n",
              "    <div class=\"colab-df-container\">\n",
              "      <div>\n",
              "<style scoped>\n",
              "    .dataframe tbody tr th:only-of-type {\n",
              "        vertical-align: middle;\n",
              "    }\n",
              "\n",
              "    .dataframe tbody tr th {\n",
              "        vertical-align: top;\n",
              "    }\n",
              "\n",
              "    .dataframe thead th {\n",
              "        text-align: right;\n",
              "    }\n",
              "</style>\n",
              "<table border=\"1\" class=\"dataframe\">\n",
              "  <thead>\n",
              "    <tr style=\"text-align: right;\">\n",
              "      <th></th>\n",
              "      <th>ID</th>\n",
              "      <th>apt_t</th>\n",
              "      <th>sex</th>\n",
              "      <th>cfam</th>\n",
              "      <th>allownc</th>\n",
              "      <th>house</th>\n",
              "      <th>live_t</th>\n",
              "      <th>marri_2</th>\n",
              "      <th>tins</th>\n",
              "      <th>npins</th>\n",
              "      <th>...</th>\n",
              "      <th>N_CHOL</th>\n",
              "      <th>N_CHO</th>\n",
              "      <th>N_TDF</th>\n",
              "      <th>N_CA</th>\n",
              "      <th>N_FE</th>\n",
              "      <th>N_NA</th>\n",
              "      <th>N_K</th>\n",
              "      <th>N_VITC</th>\n",
              "      <th>LF_SAFE</th>\n",
              "      <th>LF_S2</th>\n",
              "    </tr>\n",
              "  </thead>\n",
              "  <tbody>\n",
              "    <tr>\n",
              "      <th>0</th>\n",
              "      <td>A739211515</td>\n",
              "      <td>1</td>\n",
              "      <td>2</td>\n",
              "      <td>3</td>\n",
              "      <td>20</td>\n",
              "      <td>2</td>\n",
              "      <td>3</td>\n",
              "      <td>1</td>\n",
              "      <td>10</td>\n",
              "      <td>1</td>\n",
              "      <td>...</td>\n",
              "      <td>220.911</td>\n",
              "      <td>213.937</td>\n",
              "      <td>12.957</td>\n",
              "      <td>469.710</td>\n",
              "      <td>9.405</td>\n",
              "      <td>2117.652</td>\n",
              "      <td>2540.971</td>\n",
              "      <td>31.666</td>\n",
              "      <td>2</td>\n",
              "      <td>3</td>\n",
              "    </tr>\n",
              "    <tr>\n",
              "      <th>1</th>\n",
              "      <td>A739211516</td>\n",
              "      <td>1</td>\n",
              "      <td>1</td>\n",
              "      <td>3</td>\n",
              "      <td>20</td>\n",
              "      <td>2</td>\n",
              "      <td>3</td>\n",
              "      <td>1</td>\n",
              "      <td>10</td>\n",
              "      <td>1</td>\n",
              "      <td>...</td>\n",
              "      <td>352.617</td>\n",
              "      <td>274.917</td>\n",
              "      <td>20.682</td>\n",
              "      <td>372.172</td>\n",
              "      <td>14.404</td>\n",
              "      <td>3699.691</td>\n",
              "      <td>2589.378</td>\n",
              "      <td>43.118</td>\n",
              "      <td>2</td>\n",
              "      <td>3</td>\n",
              "    </tr>\n",
              "    <tr>\n",
              "      <th>2</th>\n",
              "      <td>A739211517</td>\n",
              "      <td>1</td>\n",
              "      <td>2</td>\n",
              "      <td>3</td>\n",
              "      <td>20</td>\n",
              "      <td>2</td>\n",
              "      <td>3</td>\n",
              "      <td>3</td>\n",
              "      <td>20</td>\n",
              "      <td>1</td>\n",
              "      <td>...</td>\n",
              "      <td>136.681</td>\n",
              "      <td>272.175</td>\n",
              "      <td>19.292</td>\n",
              "      <td>266.870</td>\n",
              "      <td>13.276</td>\n",
              "      <td>2265.539</td>\n",
              "      <td>2073.714</td>\n",
              "      <td>105.935</td>\n",
              "      <td>2</td>\n",
              "      <td>3</td>\n",
              "    </tr>\n",
              "    <tr>\n",
              "      <th>3</th>\n",
              "      <td>A739219614</td>\n",
              "      <td>1</td>\n",
              "      <td>1</td>\n",
              "      <td>4</td>\n",
              "      <td>20</td>\n",
              "      <td>1</td>\n",
              "      <td>3</td>\n",
              "      <td>1</td>\n",
              "      <td>20</td>\n",
              "      <td>1</td>\n",
              "      <td>...</td>\n",
              "      <td>41.882</td>\n",
              "      <td>243.170</td>\n",
              "      <td>25.090</td>\n",
              "      <td>358.145</td>\n",
              "      <td>20.760</td>\n",
              "      <td>4282.505</td>\n",
              "      <td>1830.424</td>\n",
              "      <td>41.371</td>\n",
              "      <td>2</td>\n",
              "      <td>3</td>\n",
              "    </tr>\n",
              "    <tr>\n",
              "      <th>4</th>\n",
              "      <td>A739219615</td>\n",
              "      <td>1</td>\n",
              "      <td>2</td>\n",
              "      <td>4</td>\n",
              "      <td>20</td>\n",
              "      <td>1</td>\n",
              "      <td>3</td>\n",
              "      <td>1</td>\n",
              "      <td>20</td>\n",
              "      <td>1</td>\n",
              "      <td>...</td>\n",
              "      <td>140.545</td>\n",
              "      <td>288.721</td>\n",
              "      <td>30.959</td>\n",
              "      <td>487.907</td>\n",
              "      <td>14.351</td>\n",
              "      <td>2875.440</td>\n",
              "      <td>6069.345</td>\n",
              "      <td>88.895</td>\n",
              "      <td>2</td>\n",
              "      <td>3</td>\n",
              "    </tr>\n",
              "  </tbody>\n",
              "</table>\n",
              "<p>5 rows × 89 columns</p>\n",
              "</div>\n",
              "      <button class=\"colab-df-convert\" onclick=\"convertToInteractive('df-10d1cc0f-5f07-4c65-acb5-2ebe1da59655')\"\n",
              "              title=\"Convert this dataframe to an interactive table.\"\n",
              "              style=\"display:none;\">\n",
              "        \n",
              "  <svg xmlns=\"http://www.w3.org/2000/svg\" height=\"24px\"viewBox=\"0 0 24 24\"\n",
              "       width=\"24px\">\n",
              "    <path d=\"M0 0h24v24H0V0z\" fill=\"none\"/>\n",
              "    <path d=\"M18.56 5.44l.94 2.06.94-2.06 2.06-.94-2.06-.94-.94-2.06-.94 2.06-2.06.94zm-11 1L8.5 8.5l.94-2.06 2.06-.94-2.06-.94L8.5 2.5l-.94 2.06-2.06.94zm10 10l.94 2.06.94-2.06 2.06-.94-2.06-.94-.94-2.06-.94 2.06-2.06.94z\"/><path d=\"M17.41 7.96l-1.37-1.37c-.4-.4-.92-.59-1.43-.59-.52 0-1.04.2-1.43.59L10.3 9.45l-7.72 7.72c-.78.78-.78 2.05 0 2.83L4 21.41c.39.39.9.59 1.41.59.51 0 1.02-.2 1.41-.59l7.78-7.78 2.81-2.81c.8-.78.8-2.07 0-2.86zM5.41 20L4 18.59l7.72-7.72 1.47 1.35L5.41 20z\"/>\n",
              "  </svg>\n",
              "      </button>\n",
              "      \n",
              "  <style>\n",
              "    .colab-df-container {\n",
              "      display:flex;\n",
              "      flex-wrap:wrap;\n",
              "      gap: 12px;\n",
              "    }\n",
              "\n",
              "    .colab-df-convert {\n",
              "      background-color: #E8F0FE;\n",
              "      border: none;\n",
              "      border-radius: 50%;\n",
              "      cursor: pointer;\n",
              "      display: none;\n",
              "      fill: #1967D2;\n",
              "      height: 32px;\n",
              "      padding: 0 0 0 0;\n",
              "      width: 32px;\n",
              "    }\n",
              "\n",
              "    .colab-df-convert:hover {\n",
              "      background-color: #E2EBFA;\n",
              "      box-shadow: 0px 1px 2px rgba(60, 64, 67, 0.3), 0px 1px 3px 1px rgba(60, 64, 67, 0.15);\n",
              "      fill: #174EA6;\n",
              "    }\n",
              "\n",
              "    [theme=dark] .colab-df-convert {\n",
              "      background-color: #3B4455;\n",
              "      fill: #D2E3FC;\n",
              "    }\n",
              "\n",
              "    [theme=dark] .colab-df-convert:hover {\n",
              "      background-color: #434B5C;\n",
              "      box-shadow: 0px 1px 3px 1px rgba(0, 0, 0, 0.15);\n",
              "      filter: drop-shadow(0px 1px 2px rgba(0, 0, 0, 0.3));\n",
              "      fill: #FFFFFF;\n",
              "    }\n",
              "  </style>\n",
              "\n",
              "      <script>\n",
              "        const buttonEl =\n",
              "          document.querySelector('#df-10d1cc0f-5f07-4c65-acb5-2ebe1da59655 button.colab-df-convert');\n",
              "        buttonEl.style.display =\n",
              "          google.colab.kernel.accessAllowed ? 'block' : 'none';\n",
              "\n",
              "        async function convertToInteractive(key) {\n",
              "          const element = document.querySelector('#df-10d1cc0f-5f07-4c65-acb5-2ebe1da59655');\n",
              "          const dataTable =\n",
              "            await google.colab.kernel.invokeFunction('convertToInteractive',\n",
              "                                                     [key], {});\n",
              "          if (!dataTable) return;\n",
              "\n",
              "          const docLinkHtml = 'Like what you see? Visit the ' +\n",
              "            '<a target=\"_blank\" href=https://colab.research.google.com/notebooks/data_table.ipynb>data table notebook</a>'\n",
              "            + ' to learn more about interactive tables.';\n",
              "          element.innerHTML = '';\n",
              "          dataTable['output_type'] = 'display_data';\n",
              "          await google.colab.output.renderOutput(dataTable, element);\n",
              "          const docLink = document.createElement('div');\n",
              "          docLink.innerHTML = docLinkHtml;\n",
              "          element.appendChild(docLink);\n",
              "        }\n",
              "      </script>\n",
              "    </div>\n",
              "  </div>\n",
              "  "
            ]
          },
          "metadata": {},
          "execution_count": 43
        }
      ]
    },
    {
      "cell_type": "code",
      "execution_count": 44,
      "metadata": {
        "id": "1v_J0KoFLBAR"
      },
      "outputs": [],
      "source": [
        "import pandas as pd\n",
        "import numpy as np\n",
        "from collections import Counter\n",
        "import tensorflow as tf\n",
        "import matplotlib.pyplot as plt\n",
        "%matplotlib inline"
      ]
    },
    {
      "cell_type": "markdown",
      "source": [
        "# 새 섹션"
      ],
      "metadata": {
        "id": "7Tu7rzvZZsYy"
      }
    },
    {
      "cell_type": "code",
      "source": [
        "from google.colab import drive\n",
        "drive.mount('/sample_data')"
      ],
      "metadata": {
        "id": "ZdcQ2_MbLEm8",
        "colab": {
          "base_uri": "https://localhost:8080/"
        },
        "outputId": "13dcf062-0b8a-4f92-df17-b0ecd5bf6d01"
      },
      "execution_count": 45,
      "outputs": [
        {
          "output_type": "stream",
          "name": "stdout",
          "text": [
            "Mounted at /sample_data\n"
          ]
        }
      ]
    },
    {
      "cell_type": "markdown",
      "source": [
        "numeric => 나이와 같은 숫자"
      ],
      "metadata": {
        "id": "VWRGMt4Ob5iu"
      }
    },
    {
      "cell_type": "code",
      "source": [
        "np.random.seed(3)\n",
        "tf.random.set_seed(3)\n",
        "\n",
        "df = train\n",
        "df\n",
        "\n",
        "Counter(df.dtypes)"
      ],
      "metadata": {
        "id": "BsTjdYdgLEyi",
        "colab": {
          "base_uri": "https://localhost:8080/"
        },
        "outputId": "074b4bc6-3013-4d3e-88a1-f2a1e7eaf677"
      },
      "execution_count": 46,
      "outputs": [
        {
          "output_type": "execute_result",
          "data": {
            "text/plain": [
              "Counter({dtype('O'): 63, dtype('int64'): 10, dtype('float64'): 16})"
            ]
          },
          "metadata": {},
          "execution_count": 46
        }
      ]
    },
    {
      "cell_type": "markdown",
      "source": [
        "결측값제거 / 파이썬에서 nan 은 numeric 만 찾아낼수있음 -> object 의 공백값도 numeric 으로 다 변환필요"
      ],
      "metadata": {
        "id": "pxm58c9jhUCx"
      }
    },
    {
      "cell_type": "code",
      "source": [
        "df = df.replace({'cfam':8, 'cfam':np.nan})\n",
        "df = df.replace({'cfam':9, 'cfam':np.nan})\n",
        "df = df.replace({'BD1_11':8, 'BD1_11':np.nan})\n",
        "df = df.replace({'BD1_11':9, 'BD1_11':np.nan})\n",
        "df = df.replace({'BE8_1':88, 'BE8_1':np.nan})\n",
        "df = df.replace({'BE8_1':99, 'BE8_1':np.nan})"
      ],
      "metadata": {
        "id": "XiXkloSMhczd"
      },
      "execution_count": 47,
      "outputs": []
    },
    {
      "cell_type": "markdown",
      "source": [
        "뉴메릭으로 변환하는 과정임.  근데이거먼저해야하는거아닌가??\n",
        "coerce -> numeric 으로 변환안될시 null값으로 변경해줌"
      ],
      "metadata": {
        "id": "8SJmyT5iiHxx"
      }
    },
    {
      "cell_type": "code",
      "source": [
        "df = df.iloc[:,1:].apply(pd.to_numeric, errors='coerce')\n",
        "\n",
        "Counter(df.dtypes)"
      ],
      "metadata": {
        "id": "DEOjtzLWhc_T",
        "colab": {
          "base_uri": "https://localhost:8080/"
        },
        "outputId": "5f0735b5-a9fe-4880-c8b9-6a47fff8fd03"
      },
      "execution_count": 48,
      "outputs": [
        {
          "output_type": "execute_result",
          "data": {
            "text/plain": [
              "Counter({dtype('int64'): 10, dtype('float64'): 78})"
            ]
          },
          "metadata": {},
          "execution_count": 48
        }
      ]
    },
    {
      "cell_type": "markdown",
      "source": [
        "널값이 있는 부분을 다 찝어주는 함수 (변수,널값수)\n",
        "\n",
        "3500명이상(50%이상)은 쓸수없음."
      ],
      "metadata": {
        "id": "7Fd05H8ajamO"
      }
    },
    {
      "cell_type": "code",
      "source": [
        "def null_check(df):\n",
        "    null = df.isnull().sum()\n",
        "    \n",
        "    null_col=[]\n",
        "\n",
        "    for i in range(len(df.columns)):\n",
        "        if (null[i]!=0):\n",
        "            print(null.index[i],null[i])\n",
        "            null_col.append(null.index[i])\n",
        "\n",
        "null_check(df)"
      ],
      "metadata": {
        "id": "yLMiN8Q3ivaM",
        "colab": {
          "base_uri": "https://localhost:8080/"
        },
        "outputId": "9b584c9b-c308-4092-e9b8-2e119c642d46"
      },
      "execution_count": 49,
      "outputs": [
        {
          "output_type": "stream",
          "name": "stdout",
          "text": [
            "mh_stress 1445\n",
            "L_OUT_FQ 750\n",
            "mh_suicide 1445\n",
            "BE8_1 476\n",
            "LW_mt 3608\n",
            "LW_oc 3608\n",
            "HE_HP 2176\n",
            "HE_anem 1555\n",
            "O_chew_d 1976\n",
            "L_BR_FQ 750\n",
            "L_LN_FQ 750\n",
            "L_DN_FQ 750\n",
            "DI2_pr 476\n",
            "DI3_pr 476\n",
            "DI4_pr 921\n",
            "DI5_pr 476\n",
            "DI6_pr 476\n",
            "DM1_pr 924\n",
            "DM2_pr 476\n",
            "DM3_pr 476\n",
            "DM4_pr 476\n",
            "D_8_2 476\n",
            "D_8_4 476\n",
            "DJ4_pr 476\n",
            "DE1_pr 476\n",
            "DE2_pr 476\n",
            "DC1_pr 476\n",
            "DC2_pr 476\n",
            "DC3_pr 476\n",
            "DC4_pr 476\n",
            "DC5_pr 476\n",
            "DC6_pr 476\n",
            "DC7_pr 476\n",
            "DF2_pr 476\n",
            "DL1_pr 476\n",
            "DJ8_pr 476\n",
            "DH2_pr 476\n",
            "DH3_pr 476\n",
            "DN1_pr 476\n",
            "DK8_pr 476\n",
            "DK9_pr 476\n",
            "DK4_pr 476\n",
            "LQ4_00 476\n",
            "LQ1_sb 476\n",
            "LQ_1EQL 476\n",
            "LQ_2EQL 476\n",
            "LQ_3EQL 476\n",
            "LQ_4EQL 476\n",
            "LQ_5EQL 476\n",
            "educ 476\n",
            "EC1_1 476\n",
            "BO1 476\n",
            "BO1_1 476\n",
            "BO2_1 476\n",
            "BD1_11 476\n",
            "incm 52\n",
            "edu 968\n",
            "occp 2025\n",
            "HE_wt 409\n",
            "HE_wc 413\n",
            "HE_BMI 421\n",
            "N_EN 752\n",
            "N_WATER 752\n",
            "N_PROT 752\n",
            "N_FAT 752\n",
            "N_SFA 752\n",
            "N_MUFA 752\n",
            "N_PUFA 752\n",
            "N_CHOL 752\n",
            "N_CHO 752\n",
            "N_TDF 752\n",
            "N_CA 752\n",
            "N_FE 752\n",
            "N_NA 752\n",
            "N_K 752\n",
            "N_VITC 752\n",
            "LF_SAFE 427\n",
            "LF_S2 427\n"
          ]
        }
      ]
    },
    {
      "cell_type": "markdown",
      "source": [
        "lable 에 값이 없는것들은 살릴수없음 . lable 없는거 먼저 지워야한다!! row 가 줄은걸 확인할수있다."
      ],
      "metadata": {
        "id": "v0sRiJjajZuA"
      }
    },
    {
      "cell_type": "code",
      "source": [
        "df1 = df.dropna(subset=['mh_suicide'])\n",
        "df1"
      ],
      "metadata": {
        "id": "RLJFj7Mcjq6C",
        "colab": {
          "base_uri": "https://localhost:8080/",
          "height": 488
        },
        "outputId": "0ea67752-9608-4675-a5f1-a04bf348253f"
      },
      "execution_count": 50,
      "outputs": [
        {
          "output_type": "execute_result",
          "data": {
            "text/plain": [
              "      apt_t  sex  cfam  allownc  house  live_t  marri_2  tins  npins  \\\n",
              "0         1    2     3       20      2       3        1    10      1   \n",
              "1         1    1     3       20      2       3        1    10      1   \n",
              "3         1    1     4       20      1       3        1    20      1   \n",
              "4         1    2     4       20      1       3        1    20      1   \n",
              "7         1    2     1       20      3       3        3    10      1   \n",
              "...     ...  ...   ...      ...    ...     ...      ...   ...    ...   \n",
              "7375      2    1     4       10      1       2       88    30      2   \n",
              "7376      2    2     2       20      1       2        3    10      2   \n",
              "7377      2    1     1       20      1       2        3    10      2   \n",
              "7378      2    1     1       10      1       2        2    30      2   \n",
              "7379      2    2     1       10      1       2        3    20      2   \n",
              "\n",
              "      mh_stress  ...   N_CHOL    N_CHO   N_TDF     N_CA    N_FE      N_NA  \\\n",
              "0           0.0  ...  220.911  213.937  12.957  469.710   9.405  2117.652   \n",
              "1           1.0  ...  352.617  274.917  20.682  372.172  14.404  3699.691   \n",
              "3           0.0  ...   41.882  243.170  25.090  358.145  20.760  4282.505   \n",
              "4           0.0  ...  140.545  288.721  30.959  487.907  14.351  2875.440   \n",
              "7           1.0  ...   72.310  210.397  15.754  264.357   5.499  3105.538   \n",
              "...         ...  ...      ...      ...     ...      ...     ...       ...   \n",
              "7375        0.0  ...  691.964  702.860  30.675  729.327  21.411  6821.265   \n",
              "7376        0.0  ...  227.482  297.520  42.728  503.535  19.751  3801.607   \n",
              "7377        0.0  ...   56.957  490.710  28.559  446.249  14.001  7703.677   \n",
              "7378        1.0  ...    2.523  335.034  14.751  183.639  11.132  1480.816   \n",
              "7379        0.0  ...   29.512  331.486  19.802  538.297   8.958  1840.088   \n",
              "\n",
              "           N_K   N_VITC  LF_SAFE  LF_S2  \n",
              "0     2540.971   31.666      2.0    3.0  \n",
              "1     2589.378   43.118      2.0    3.0  \n",
              "3     1830.424   41.371      2.0    3.0  \n",
              "4     6069.345   88.895      2.0    3.0  \n",
              "7     2331.930  224.503      1.0    3.0  \n",
              "...        ...      ...      ...    ...  \n",
              "7375  5393.122   85.347      3.0    1.0  \n",
              "7376  5115.446  332.436      1.0    3.0  \n",
              "7377  2881.317   62.240      2.0    3.0  \n",
              "7378  1686.216   18.751      2.0    1.0  \n",
              "7379  1946.663   30.119      2.0    3.0  \n",
              "\n",
              "[5935 rows x 88 columns]"
            ],
            "text/html": [
              "\n",
              "  <div id=\"df-c737c05c-08bc-479f-aaa7-7c4e7ca83690\">\n",
              "    <div class=\"colab-df-container\">\n",
              "      <div>\n",
              "<style scoped>\n",
              "    .dataframe tbody tr th:only-of-type {\n",
              "        vertical-align: middle;\n",
              "    }\n",
              "\n",
              "    .dataframe tbody tr th {\n",
              "        vertical-align: top;\n",
              "    }\n",
              "\n",
              "    .dataframe thead th {\n",
              "        text-align: right;\n",
              "    }\n",
              "</style>\n",
              "<table border=\"1\" class=\"dataframe\">\n",
              "  <thead>\n",
              "    <tr style=\"text-align: right;\">\n",
              "      <th></th>\n",
              "      <th>apt_t</th>\n",
              "      <th>sex</th>\n",
              "      <th>cfam</th>\n",
              "      <th>allownc</th>\n",
              "      <th>house</th>\n",
              "      <th>live_t</th>\n",
              "      <th>marri_2</th>\n",
              "      <th>tins</th>\n",
              "      <th>npins</th>\n",
              "      <th>mh_stress</th>\n",
              "      <th>...</th>\n",
              "      <th>N_CHOL</th>\n",
              "      <th>N_CHO</th>\n",
              "      <th>N_TDF</th>\n",
              "      <th>N_CA</th>\n",
              "      <th>N_FE</th>\n",
              "      <th>N_NA</th>\n",
              "      <th>N_K</th>\n",
              "      <th>N_VITC</th>\n",
              "      <th>LF_SAFE</th>\n",
              "      <th>LF_S2</th>\n",
              "    </tr>\n",
              "  </thead>\n",
              "  <tbody>\n",
              "    <tr>\n",
              "      <th>0</th>\n",
              "      <td>1</td>\n",
              "      <td>2</td>\n",
              "      <td>3</td>\n",
              "      <td>20</td>\n",
              "      <td>2</td>\n",
              "      <td>3</td>\n",
              "      <td>1</td>\n",
              "      <td>10</td>\n",
              "      <td>1</td>\n",
              "      <td>0.0</td>\n",
              "      <td>...</td>\n",
              "      <td>220.911</td>\n",
              "      <td>213.937</td>\n",
              "      <td>12.957</td>\n",
              "      <td>469.710</td>\n",
              "      <td>9.405</td>\n",
              "      <td>2117.652</td>\n",
              "      <td>2540.971</td>\n",
              "      <td>31.666</td>\n",
              "      <td>2.0</td>\n",
              "      <td>3.0</td>\n",
              "    </tr>\n",
              "    <tr>\n",
              "      <th>1</th>\n",
              "      <td>1</td>\n",
              "      <td>1</td>\n",
              "      <td>3</td>\n",
              "      <td>20</td>\n",
              "      <td>2</td>\n",
              "      <td>3</td>\n",
              "      <td>1</td>\n",
              "      <td>10</td>\n",
              "      <td>1</td>\n",
              "      <td>1.0</td>\n",
              "      <td>...</td>\n",
              "      <td>352.617</td>\n",
              "      <td>274.917</td>\n",
              "      <td>20.682</td>\n",
              "      <td>372.172</td>\n",
              "      <td>14.404</td>\n",
              "      <td>3699.691</td>\n",
              "      <td>2589.378</td>\n",
              "      <td>43.118</td>\n",
              "      <td>2.0</td>\n",
              "      <td>3.0</td>\n",
              "    </tr>\n",
              "    <tr>\n",
              "      <th>3</th>\n",
              "      <td>1</td>\n",
              "      <td>1</td>\n",
              "      <td>4</td>\n",
              "      <td>20</td>\n",
              "      <td>1</td>\n",
              "      <td>3</td>\n",
              "      <td>1</td>\n",
              "      <td>20</td>\n",
              "      <td>1</td>\n",
              "      <td>0.0</td>\n",
              "      <td>...</td>\n",
              "      <td>41.882</td>\n",
              "      <td>243.170</td>\n",
              "      <td>25.090</td>\n",
              "      <td>358.145</td>\n",
              "      <td>20.760</td>\n",
              "      <td>4282.505</td>\n",
              "      <td>1830.424</td>\n",
              "      <td>41.371</td>\n",
              "      <td>2.0</td>\n",
              "      <td>3.0</td>\n",
              "    </tr>\n",
              "    <tr>\n",
              "      <th>4</th>\n",
              "      <td>1</td>\n",
              "      <td>2</td>\n",
              "      <td>4</td>\n",
              "      <td>20</td>\n",
              "      <td>1</td>\n",
              "      <td>3</td>\n",
              "      <td>1</td>\n",
              "      <td>20</td>\n",
              "      <td>1</td>\n",
              "      <td>0.0</td>\n",
              "      <td>...</td>\n",
              "      <td>140.545</td>\n",
              "      <td>288.721</td>\n",
              "      <td>30.959</td>\n",
              "      <td>487.907</td>\n",
              "      <td>14.351</td>\n",
              "      <td>2875.440</td>\n",
              "      <td>6069.345</td>\n",
              "      <td>88.895</td>\n",
              "      <td>2.0</td>\n",
              "      <td>3.0</td>\n",
              "    </tr>\n",
              "    <tr>\n",
              "      <th>7</th>\n",
              "      <td>1</td>\n",
              "      <td>2</td>\n",
              "      <td>1</td>\n",
              "      <td>20</td>\n",
              "      <td>3</td>\n",
              "      <td>3</td>\n",
              "      <td>3</td>\n",
              "      <td>10</td>\n",
              "      <td>1</td>\n",
              "      <td>1.0</td>\n",
              "      <td>...</td>\n",
              "      <td>72.310</td>\n",
              "      <td>210.397</td>\n",
              "      <td>15.754</td>\n",
              "      <td>264.357</td>\n",
              "      <td>5.499</td>\n",
              "      <td>3105.538</td>\n",
              "      <td>2331.930</td>\n",
              "      <td>224.503</td>\n",
              "      <td>1.0</td>\n",
              "      <td>3.0</td>\n",
              "    </tr>\n",
              "    <tr>\n",
              "      <th>...</th>\n",
              "      <td>...</td>\n",
              "      <td>...</td>\n",
              "      <td>...</td>\n",
              "      <td>...</td>\n",
              "      <td>...</td>\n",
              "      <td>...</td>\n",
              "      <td>...</td>\n",
              "      <td>...</td>\n",
              "      <td>...</td>\n",
              "      <td>...</td>\n",
              "      <td>...</td>\n",
              "      <td>...</td>\n",
              "      <td>...</td>\n",
              "      <td>...</td>\n",
              "      <td>...</td>\n",
              "      <td>...</td>\n",
              "      <td>...</td>\n",
              "      <td>...</td>\n",
              "      <td>...</td>\n",
              "      <td>...</td>\n",
              "      <td>...</td>\n",
              "    </tr>\n",
              "    <tr>\n",
              "      <th>7375</th>\n",
              "      <td>2</td>\n",
              "      <td>1</td>\n",
              "      <td>4</td>\n",
              "      <td>10</td>\n",
              "      <td>1</td>\n",
              "      <td>2</td>\n",
              "      <td>88</td>\n",
              "      <td>30</td>\n",
              "      <td>2</td>\n",
              "      <td>0.0</td>\n",
              "      <td>...</td>\n",
              "      <td>691.964</td>\n",
              "      <td>702.860</td>\n",
              "      <td>30.675</td>\n",
              "      <td>729.327</td>\n",
              "      <td>21.411</td>\n",
              "      <td>6821.265</td>\n",
              "      <td>5393.122</td>\n",
              "      <td>85.347</td>\n",
              "      <td>3.0</td>\n",
              "      <td>1.0</td>\n",
              "    </tr>\n",
              "    <tr>\n",
              "      <th>7376</th>\n",
              "      <td>2</td>\n",
              "      <td>2</td>\n",
              "      <td>2</td>\n",
              "      <td>20</td>\n",
              "      <td>1</td>\n",
              "      <td>2</td>\n",
              "      <td>3</td>\n",
              "      <td>10</td>\n",
              "      <td>2</td>\n",
              "      <td>0.0</td>\n",
              "      <td>...</td>\n",
              "      <td>227.482</td>\n",
              "      <td>297.520</td>\n",
              "      <td>42.728</td>\n",
              "      <td>503.535</td>\n",
              "      <td>19.751</td>\n",
              "      <td>3801.607</td>\n",
              "      <td>5115.446</td>\n",
              "      <td>332.436</td>\n",
              "      <td>1.0</td>\n",
              "      <td>3.0</td>\n",
              "    </tr>\n",
              "    <tr>\n",
              "      <th>7377</th>\n",
              "      <td>2</td>\n",
              "      <td>1</td>\n",
              "      <td>1</td>\n",
              "      <td>20</td>\n",
              "      <td>1</td>\n",
              "      <td>2</td>\n",
              "      <td>3</td>\n",
              "      <td>10</td>\n",
              "      <td>2</td>\n",
              "      <td>0.0</td>\n",
              "      <td>...</td>\n",
              "      <td>56.957</td>\n",
              "      <td>490.710</td>\n",
              "      <td>28.559</td>\n",
              "      <td>446.249</td>\n",
              "      <td>14.001</td>\n",
              "      <td>7703.677</td>\n",
              "      <td>2881.317</td>\n",
              "      <td>62.240</td>\n",
              "      <td>2.0</td>\n",
              "      <td>3.0</td>\n",
              "    </tr>\n",
              "    <tr>\n",
              "      <th>7378</th>\n",
              "      <td>2</td>\n",
              "      <td>1</td>\n",
              "      <td>1</td>\n",
              "      <td>10</td>\n",
              "      <td>1</td>\n",
              "      <td>2</td>\n",
              "      <td>2</td>\n",
              "      <td>30</td>\n",
              "      <td>2</td>\n",
              "      <td>1.0</td>\n",
              "      <td>...</td>\n",
              "      <td>2.523</td>\n",
              "      <td>335.034</td>\n",
              "      <td>14.751</td>\n",
              "      <td>183.639</td>\n",
              "      <td>11.132</td>\n",
              "      <td>1480.816</td>\n",
              "      <td>1686.216</td>\n",
              "      <td>18.751</td>\n",
              "      <td>2.0</td>\n",
              "      <td>1.0</td>\n",
              "    </tr>\n",
              "    <tr>\n",
              "      <th>7379</th>\n",
              "      <td>2</td>\n",
              "      <td>2</td>\n",
              "      <td>1</td>\n",
              "      <td>10</td>\n",
              "      <td>1</td>\n",
              "      <td>2</td>\n",
              "      <td>3</td>\n",
              "      <td>20</td>\n",
              "      <td>2</td>\n",
              "      <td>0.0</td>\n",
              "      <td>...</td>\n",
              "      <td>29.512</td>\n",
              "      <td>331.486</td>\n",
              "      <td>19.802</td>\n",
              "      <td>538.297</td>\n",
              "      <td>8.958</td>\n",
              "      <td>1840.088</td>\n",
              "      <td>1946.663</td>\n",
              "      <td>30.119</td>\n",
              "      <td>2.0</td>\n",
              "      <td>3.0</td>\n",
              "    </tr>\n",
              "  </tbody>\n",
              "</table>\n",
              "<p>5935 rows × 88 columns</p>\n",
              "</div>\n",
              "      <button class=\"colab-df-convert\" onclick=\"convertToInteractive('df-c737c05c-08bc-479f-aaa7-7c4e7ca83690')\"\n",
              "              title=\"Convert this dataframe to an interactive table.\"\n",
              "              style=\"display:none;\">\n",
              "        \n",
              "  <svg xmlns=\"http://www.w3.org/2000/svg\" height=\"24px\"viewBox=\"0 0 24 24\"\n",
              "       width=\"24px\">\n",
              "    <path d=\"M0 0h24v24H0V0z\" fill=\"none\"/>\n",
              "    <path d=\"M18.56 5.44l.94 2.06.94-2.06 2.06-.94-2.06-.94-.94-2.06-.94 2.06-2.06.94zm-11 1L8.5 8.5l.94-2.06 2.06-.94-2.06-.94L8.5 2.5l-.94 2.06-2.06.94zm10 10l.94 2.06.94-2.06 2.06-.94-2.06-.94-.94-2.06-.94 2.06-2.06.94z\"/><path d=\"M17.41 7.96l-1.37-1.37c-.4-.4-.92-.59-1.43-.59-.52 0-1.04.2-1.43.59L10.3 9.45l-7.72 7.72c-.78.78-.78 2.05 0 2.83L4 21.41c.39.39.9.59 1.41.59.51 0 1.02-.2 1.41-.59l7.78-7.78 2.81-2.81c.8-.78.8-2.07 0-2.86zM5.41 20L4 18.59l7.72-7.72 1.47 1.35L5.41 20z\"/>\n",
              "  </svg>\n",
              "      </button>\n",
              "      \n",
              "  <style>\n",
              "    .colab-df-container {\n",
              "      display:flex;\n",
              "      flex-wrap:wrap;\n",
              "      gap: 12px;\n",
              "    }\n",
              "\n",
              "    .colab-df-convert {\n",
              "      background-color: #E8F0FE;\n",
              "      border: none;\n",
              "      border-radius: 50%;\n",
              "      cursor: pointer;\n",
              "      display: none;\n",
              "      fill: #1967D2;\n",
              "      height: 32px;\n",
              "      padding: 0 0 0 0;\n",
              "      width: 32px;\n",
              "    }\n",
              "\n",
              "    .colab-df-convert:hover {\n",
              "      background-color: #E2EBFA;\n",
              "      box-shadow: 0px 1px 2px rgba(60, 64, 67, 0.3), 0px 1px 3px 1px rgba(60, 64, 67, 0.15);\n",
              "      fill: #174EA6;\n",
              "    }\n",
              "\n",
              "    [theme=dark] .colab-df-convert {\n",
              "      background-color: #3B4455;\n",
              "      fill: #D2E3FC;\n",
              "    }\n",
              "\n",
              "    [theme=dark] .colab-df-convert:hover {\n",
              "      background-color: #434B5C;\n",
              "      box-shadow: 0px 1px 3px 1px rgba(0, 0, 0, 0.15);\n",
              "      filter: drop-shadow(0px 1px 2px rgba(0, 0, 0, 0.3));\n",
              "      fill: #FFFFFF;\n",
              "    }\n",
              "  </style>\n",
              "\n",
              "      <script>\n",
              "        const buttonEl =\n",
              "          document.querySelector('#df-c737c05c-08bc-479f-aaa7-7c4e7ca83690 button.colab-df-convert');\n",
              "        buttonEl.style.display =\n",
              "          google.colab.kernel.accessAllowed ? 'block' : 'none';\n",
              "\n",
              "        async function convertToInteractive(key) {\n",
              "          const element = document.querySelector('#df-c737c05c-08bc-479f-aaa7-7c4e7ca83690');\n",
              "          const dataTable =\n",
              "            await google.colab.kernel.invokeFunction('convertToInteractive',\n",
              "                                                     [key], {});\n",
              "          if (!dataTable) return;\n",
              "\n",
              "          const docLinkHtml = 'Like what you see? Visit the ' +\n",
              "            '<a target=\"_blank\" href=https://colab.research.google.com/notebooks/data_table.ipynb>data table notebook</a>'\n",
              "            + ' to learn more about interactive tables.';\n",
              "          element.innerHTML = '';\n",
              "          dataTable['output_type'] = 'display_data';\n",
              "          await google.colab.output.renderOutput(dataTable, element);\n",
              "          const docLink = document.createElement('div');\n",
              "          docLink.innerHTML = docLinkHtml;\n",
              "          element.appendChild(docLink);\n",
              "        }\n",
              "      </script>\n",
              "    </div>\n",
              "  </div>\n",
              "  "
            ]
          },
          "metadata": {},
          "execution_count": 50
        }
      ]
    },
    {
      "cell_type": "markdown",
      "source": [
        "아까 결측과 값이 달라진걸볼수있음. mh_stress1 이 줄은걸 보니 무응답자중 우울증환자가 많다는걸 추측이 가능해짐\n"
      ],
      "metadata": {
        "id": "XD-JQ-f1j5vo"
      }
    },
    {
      "cell_type": "code",
      "source": [
        "null_check(df1)"
      ],
      "metadata": {
        "colab": {
          "base_uri": "https://localhost:8080/"
        },
        "id": "h3o3N9SOj4wU",
        "outputId": "c211cf2e-2c9d-43b6-cbbb-30c16f6d890b"
      },
      "execution_count": 51,
      "outputs": [
        {
          "output_type": "stream",
          "name": "stdout",
          "text": [
            "mh_stress 1\n",
            "L_OUT_FQ 643\n",
            "LW_mt 2640\n",
            "LW_oc 2640\n",
            "HE_HP 845\n",
            "HE_anem 411\n",
            "O_chew_d 531\n",
            "L_BR_FQ 643\n",
            "L_LN_FQ 643\n",
            "L_DN_FQ 643\n",
            "DI4_pr 365\n",
            "DM1_pr 365\n",
            "incm 36\n",
            "edu 398\n",
            "occp 652\n",
            "HE_wt 5\n",
            "HE_wc 7\n",
            "HE_BMI 9\n",
            "N_EN 645\n",
            "N_WATER 645\n",
            "N_PROT 645\n",
            "N_FAT 645\n",
            "N_SFA 645\n",
            "N_MUFA 645\n",
            "N_PUFA 645\n",
            "N_CHOL 645\n",
            "N_CHO 645\n",
            "N_TDF 645\n",
            "N_CA 645\n",
            "N_FE 645\n",
            "N_NA 645\n",
            "N_K 645\n",
            "N_VITC 645\n",
            "LF_SAFE 354\n",
            "LF_S2 354\n"
          ]
        }
      ]
    },
    {
      "cell_type": "markdown",
      "source": [
        "결측률이 높은 부분 삭제"
      ],
      "metadata": {
        "id": "o_UKKNaHkqJs"
      }
    },
    {
      "cell_type": "code",
      "source": [
        "df2 = df1.drop(['LW_mt','LW_oc'],axis='columns',inplace=False)"
      ],
      "metadata": {
        "id": "quDmeXvpkqRC"
      },
      "execution_count": 52,
      "outputs": []
    },
    {
      "cell_type": "code",
      "source": [
        "df2.describe()\n"
      ],
      "metadata": {
        "colab": {
          "base_uri": "https://localhost:8080/",
          "height": 394
        },
        "id": "Iey9lFtzfDSa",
        "outputId": "e8ecc562-43f3-4a33-c0b5-84bdd67f95ba"
      },
      "execution_count": 53,
      "outputs": [
        {
          "output_type": "execute_result",
          "data": {
            "text/plain": [
              "             apt_t          sex         cfam      allownc        house  \\\n",
              "count  5935.000000  5935.000000  5935.000000  5935.000000  5935.000000   \n",
              "mean      1.507161     1.555181     3.057793    19.222578     1.829486   \n",
              "std       0.499991     0.496988     1.251300     3.451161     0.655978   \n",
              "min       1.000000     1.000000     1.000000    10.000000     1.000000   \n",
              "25%       1.000000     1.000000     2.000000    20.000000     1.000000   \n",
              "50%       2.000000     2.000000     3.000000    20.000000     2.000000   \n",
              "75%       2.000000     2.000000     4.000000    20.000000     2.000000   \n",
              "max       2.000000     2.000000     6.000000    99.000000     9.000000   \n",
              "\n",
              "            live_t      marri_2         tins        npins    mh_stress  ...  \\\n",
              "count  5935.000000  5935.000000  5935.000000  5935.000000  5934.000000  ...   \n",
              "mean      1.844819    21.952485    18.731424     1.303454     0.271149  ...   \n",
              "std       0.845504    36.845830    11.693536     0.815100     0.444590  ...   \n",
              "min       1.000000     1.000000    10.000000     1.000000     0.000000  ...   \n",
              "25%       1.000000     1.000000    10.000000     1.000000     0.000000  ...   \n",
              "50%       2.000000     1.000000    20.000000     1.000000     0.000000  ...   \n",
              "75%       2.000000     4.000000    20.000000     1.000000     1.000000  ...   \n",
              "max       5.000000    88.000000    99.000000     9.000000     1.000000  ...   \n",
              "\n",
              "            N_CHOL        N_CHO        N_TDF         N_CA         N_FE  \\\n",
              "count  5290.000000  5290.000000  5290.000000  5290.000000  5290.000000   \n",
              "mean    251.426087   313.905312    24.444346   491.780140    17.272302   \n",
              "std     282.460174   133.375861    14.003415   314.219462    11.920659   \n",
              "min       0.137000     7.173000     0.210000     5.401000     0.008000   \n",
              "25%      69.861750   223.391750    14.915000   284.223750    10.412000   \n",
              "50%     175.125000   295.344500    21.596500   426.221500    14.894000   \n",
              "75%     339.371250   383.326750    31.051500   616.074250    21.226250   \n",
              "max    7014.693000  1917.925000   158.909000  4026.348000   287.583000   \n",
              "\n",
              "                N_NA           N_K       N_VITC      LF_SAFE        LF_S2  \n",
              "count    5290.000000   5290.000000  5290.000000  5581.000000  5581.000000  \n",
              "mean     3845.975069   3032.421206   105.044051     1.571045     2.935316  \n",
              "std      3404.168789   1684.164395   120.842697     0.627489     0.276839  \n",
              "min         2.868000     16.499000    -0.121000     1.000000     1.000000  \n",
              "25%      2114.857500   1935.060000    30.028750     1.000000     3.000000  \n",
              "50%      3278.272500   2710.713500    62.349000     2.000000     3.000000  \n",
              "75%      4885.563250   3743.763750   136.316750     2.000000     3.000000  \n",
              "max    170392.575000  26645.021000  1947.548000     4.000000     4.000000  \n",
              "\n",
              "[8 rows x 86 columns]"
            ],
            "text/html": [
              "\n",
              "  <div id=\"df-8588e11f-c5f6-485a-8315-4c9efc91086c\">\n",
              "    <div class=\"colab-df-container\">\n",
              "      <div>\n",
              "<style scoped>\n",
              "    .dataframe tbody tr th:only-of-type {\n",
              "        vertical-align: middle;\n",
              "    }\n",
              "\n",
              "    .dataframe tbody tr th {\n",
              "        vertical-align: top;\n",
              "    }\n",
              "\n",
              "    .dataframe thead th {\n",
              "        text-align: right;\n",
              "    }\n",
              "</style>\n",
              "<table border=\"1\" class=\"dataframe\">\n",
              "  <thead>\n",
              "    <tr style=\"text-align: right;\">\n",
              "      <th></th>\n",
              "      <th>apt_t</th>\n",
              "      <th>sex</th>\n",
              "      <th>cfam</th>\n",
              "      <th>allownc</th>\n",
              "      <th>house</th>\n",
              "      <th>live_t</th>\n",
              "      <th>marri_2</th>\n",
              "      <th>tins</th>\n",
              "      <th>npins</th>\n",
              "      <th>mh_stress</th>\n",
              "      <th>...</th>\n",
              "      <th>N_CHOL</th>\n",
              "      <th>N_CHO</th>\n",
              "      <th>N_TDF</th>\n",
              "      <th>N_CA</th>\n",
              "      <th>N_FE</th>\n",
              "      <th>N_NA</th>\n",
              "      <th>N_K</th>\n",
              "      <th>N_VITC</th>\n",
              "      <th>LF_SAFE</th>\n",
              "      <th>LF_S2</th>\n",
              "    </tr>\n",
              "  </thead>\n",
              "  <tbody>\n",
              "    <tr>\n",
              "      <th>count</th>\n",
              "      <td>5935.000000</td>\n",
              "      <td>5935.000000</td>\n",
              "      <td>5935.000000</td>\n",
              "      <td>5935.000000</td>\n",
              "      <td>5935.000000</td>\n",
              "      <td>5935.000000</td>\n",
              "      <td>5935.000000</td>\n",
              "      <td>5935.000000</td>\n",
              "      <td>5935.000000</td>\n",
              "      <td>5934.000000</td>\n",
              "      <td>...</td>\n",
              "      <td>5290.000000</td>\n",
              "      <td>5290.000000</td>\n",
              "      <td>5290.000000</td>\n",
              "      <td>5290.000000</td>\n",
              "      <td>5290.000000</td>\n",
              "      <td>5290.000000</td>\n",
              "      <td>5290.000000</td>\n",
              "      <td>5290.000000</td>\n",
              "      <td>5581.000000</td>\n",
              "      <td>5581.000000</td>\n",
              "    </tr>\n",
              "    <tr>\n",
              "      <th>mean</th>\n",
              "      <td>1.507161</td>\n",
              "      <td>1.555181</td>\n",
              "      <td>3.057793</td>\n",
              "      <td>19.222578</td>\n",
              "      <td>1.829486</td>\n",
              "      <td>1.844819</td>\n",
              "      <td>21.952485</td>\n",
              "      <td>18.731424</td>\n",
              "      <td>1.303454</td>\n",
              "      <td>0.271149</td>\n",
              "      <td>...</td>\n",
              "      <td>251.426087</td>\n",
              "      <td>313.905312</td>\n",
              "      <td>24.444346</td>\n",
              "      <td>491.780140</td>\n",
              "      <td>17.272302</td>\n",
              "      <td>3845.975069</td>\n",
              "      <td>3032.421206</td>\n",
              "      <td>105.044051</td>\n",
              "      <td>1.571045</td>\n",
              "      <td>2.935316</td>\n",
              "    </tr>\n",
              "    <tr>\n",
              "      <th>std</th>\n",
              "      <td>0.499991</td>\n",
              "      <td>0.496988</td>\n",
              "      <td>1.251300</td>\n",
              "      <td>3.451161</td>\n",
              "      <td>0.655978</td>\n",
              "      <td>0.845504</td>\n",
              "      <td>36.845830</td>\n",
              "      <td>11.693536</td>\n",
              "      <td>0.815100</td>\n",
              "      <td>0.444590</td>\n",
              "      <td>...</td>\n",
              "      <td>282.460174</td>\n",
              "      <td>133.375861</td>\n",
              "      <td>14.003415</td>\n",
              "      <td>314.219462</td>\n",
              "      <td>11.920659</td>\n",
              "      <td>3404.168789</td>\n",
              "      <td>1684.164395</td>\n",
              "      <td>120.842697</td>\n",
              "      <td>0.627489</td>\n",
              "      <td>0.276839</td>\n",
              "    </tr>\n",
              "    <tr>\n",
              "      <th>min</th>\n",
              "      <td>1.000000</td>\n",
              "      <td>1.000000</td>\n",
              "      <td>1.000000</td>\n",
              "      <td>10.000000</td>\n",
              "      <td>1.000000</td>\n",
              "      <td>1.000000</td>\n",
              "      <td>1.000000</td>\n",
              "      <td>10.000000</td>\n",
              "      <td>1.000000</td>\n",
              "      <td>0.000000</td>\n",
              "      <td>...</td>\n",
              "      <td>0.137000</td>\n",
              "      <td>7.173000</td>\n",
              "      <td>0.210000</td>\n",
              "      <td>5.401000</td>\n",
              "      <td>0.008000</td>\n",
              "      <td>2.868000</td>\n",
              "      <td>16.499000</td>\n",
              "      <td>-0.121000</td>\n",
              "      <td>1.000000</td>\n",
              "      <td>1.000000</td>\n",
              "    </tr>\n",
              "    <tr>\n",
              "      <th>25%</th>\n",
              "      <td>1.000000</td>\n",
              "      <td>1.000000</td>\n",
              "      <td>2.000000</td>\n",
              "      <td>20.000000</td>\n",
              "      <td>1.000000</td>\n",
              "      <td>1.000000</td>\n",
              "      <td>1.000000</td>\n",
              "      <td>10.000000</td>\n",
              "      <td>1.000000</td>\n",
              "      <td>0.000000</td>\n",
              "      <td>...</td>\n",
              "      <td>69.861750</td>\n",
              "      <td>223.391750</td>\n",
              "      <td>14.915000</td>\n",
              "      <td>284.223750</td>\n",
              "      <td>10.412000</td>\n",
              "      <td>2114.857500</td>\n",
              "      <td>1935.060000</td>\n",
              "      <td>30.028750</td>\n",
              "      <td>1.000000</td>\n",
              "      <td>3.000000</td>\n",
              "    </tr>\n",
              "    <tr>\n",
              "      <th>50%</th>\n",
              "      <td>2.000000</td>\n",
              "      <td>2.000000</td>\n",
              "      <td>3.000000</td>\n",
              "      <td>20.000000</td>\n",
              "      <td>2.000000</td>\n",
              "      <td>2.000000</td>\n",
              "      <td>1.000000</td>\n",
              "      <td>20.000000</td>\n",
              "      <td>1.000000</td>\n",
              "      <td>0.000000</td>\n",
              "      <td>...</td>\n",
              "      <td>175.125000</td>\n",
              "      <td>295.344500</td>\n",
              "      <td>21.596500</td>\n",
              "      <td>426.221500</td>\n",
              "      <td>14.894000</td>\n",
              "      <td>3278.272500</td>\n",
              "      <td>2710.713500</td>\n",
              "      <td>62.349000</td>\n",
              "      <td>2.000000</td>\n",
              "      <td>3.000000</td>\n",
              "    </tr>\n",
              "    <tr>\n",
              "      <th>75%</th>\n",
              "      <td>2.000000</td>\n",
              "      <td>2.000000</td>\n",
              "      <td>4.000000</td>\n",
              "      <td>20.000000</td>\n",
              "      <td>2.000000</td>\n",
              "      <td>2.000000</td>\n",
              "      <td>4.000000</td>\n",
              "      <td>20.000000</td>\n",
              "      <td>1.000000</td>\n",
              "      <td>1.000000</td>\n",
              "      <td>...</td>\n",
              "      <td>339.371250</td>\n",
              "      <td>383.326750</td>\n",
              "      <td>31.051500</td>\n",
              "      <td>616.074250</td>\n",
              "      <td>21.226250</td>\n",
              "      <td>4885.563250</td>\n",
              "      <td>3743.763750</td>\n",
              "      <td>136.316750</td>\n",
              "      <td>2.000000</td>\n",
              "      <td>3.000000</td>\n",
              "    </tr>\n",
              "    <tr>\n",
              "      <th>max</th>\n",
              "      <td>2.000000</td>\n",
              "      <td>2.000000</td>\n",
              "      <td>6.000000</td>\n",
              "      <td>99.000000</td>\n",
              "      <td>9.000000</td>\n",
              "      <td>5.000000</td>\n",
              "      <td>88.000000</td>\n",
              "      <td>99.000000</td>\n",
              "      <td>9.000000</td>\n",
              "      <td>1.000000</td>\n",
              "      <td>...</td>\n",
              "      <td>7014.693000</td>\n",
              "      <td>1917.925000</td>\n",
              "      <td>158.909000</td>\n",
              "      <td>4026.348000</td>\n",
              "      <td>287.583000</td>\n",
              "      <td>170392.575000</td>\n",
              "      <td>26645.021000</td>\n",
              "      <td>1947.548000</td>\n",
              "      <td>4.000000</td>\n",
              "      <td>4.000000</td>\n",
              "    </tr>\n",
              "  </tbody>\n",
              "</table>\n",
              "<p>8 rows × 86 columns</p>\n",
              "</div>\n",
              "      <button class=\"colab-df-convert\" onclick=\"convertToInteractive('df-8588e11f-c5f6-485a-8315-4c9efc91086c')\"\n",
              "              title=\"Convert this dataframe to an interactive table.\"\n",
              "              style=\"display:none;\">\n",
              "        \n",
              "  <svg xmlns=\"http://www.w3.org/2000/svg\" height=\"24px\"viewBox=\"0 0 24 24\"\n",
              "       width=\"24px\">\n",
              "    <path d=\"M0 0h24v24H0V0z\" fill=\"none\"/>\n",
              "    <path d=\"M18.56 5.44l.94 2.06.94-2.06 2.06-.94-2.06-.94-.94-2.06-.94 2.06-2.06.94zm-11 1L8.5 8.5l.94-2.06 2.06-.94-2.06-.94L8.5 2.5l-.94 2.06-2.06.94zm10 10l.94 2.06.94-2.06 2.06-.94-2.06-.94-.94-2.06-.94 2.06-2.06.94z\"/><path d=\"M17.41 7.96l-1.37-1.37c-.4-.4-.92-.59-1.43-.59-.52 0-1.04.2-1.43.59L10.3 9.45l-7.72 7.72c-.78.78-.78 2.05 0 2.83L4 21.41c.39.39.9.59 1.41.59.51 0 1.02-.2 1.41-.59l7.78-7.78 2.81-2.81c.8-.78.8-2.07 0-2.86zM5.41 20L4 18.59l7.72-7.72 1.47 1.35L5.41 20z\"/>\n",
              "  </svg>\n",
              "      </button>\n",
              "      \n",
              "  <style>\n",
              "    .colab-df-container {\n",
              "      display:flex;\n",
              "      flex-wrap:wrap;\n",
              "      gap: 12px;\n",
              "    }\n",
              "\n",
              "    .colab-df-convert {\n",
              "      background-color: #E8F0FE;\n",
              "      border: none;\n",
              "      border-radius: 50%;\n",
              "      cursor: pointer;\n",
              "      display: none;\n",
              "      fill: #1967D2;\n",
              "      height: 32px;\n",
              "      padding: 0 0 0 0;\n",
              "      width: 32px;\n",
              "    }\n",
              "\n",
              "    .colab-df-convert:hover {\n",
              "      background-color: #E2EBFA;\n",
              "      box-shadow: 0px 1px 2px rgba(60, 64, 67, 0.3), 0px 1px 3px 1px rgba(60, 64, 67, 0.15);\n",
              "      fill: #174EA6;\n",
              "    }\n",
              "\n",
              "    [theme=dark] .colab-df-convert {\n",
              "      background-color: #3B4455;\n",
              "      fill: #D2E3FC;\n",
              "    }\n",
              "\n",
              "    [theme=dark] .colab-df-convert:hover {\n",
              "      background-color: #434B5C;\n",
              "      box-shadow: 0px 1px 3px 1px rgba(0, 0, 0, 0.15);\n",
              "      filter: drop-shadow(0px 1px 2px rgba(0, 0, 0, 0.3));\n",
              "      fill: #FFFFFF;\n",
              "    }\n",
              "  </style>\n",
              "\n",
              "      <script>\n",
              "        const buttonEl =\n",
              "          document.querySelector('#df-8588e11f-c5f6-485a-8315-4c9efc91086c button.colab-df-convert');\n",
              "        buttonEl.style.display =\n",
              "          google.colab.kernel.accessAllowed ? 'block' : 'none';\n",
              "\n",
              "        async function convertToInteractive(key) {\n",
              "          const element = document.querySelector('#df-8588e11f-c5f6-485a-8315-4c9efc91086c');\n",
              "          const dataTable =\n",
              "            await google.colab.kernel.invokeFunction('convertToInteractive',\n",
              "                                                     [key], {});\n",
              "          if (!dataTable) return;\n",
              "\n",
              "          const docLinkHtml = 'Like what you see? Visit the ' +\n",
              "            '<a target=\"_blank\" href=https://colab.research.google.com/notebooks/data_table.ipynb>data table notebook</a>'\n",
              "            + ' to learn more about interactive tables.';\n",
              "          element.innerHTML = '';\n",
              "          dataTable['output_type'] = 'display_data';\n",
              "          await google.colab.output.renderOutput(dataTable, element);\n",
              "          const docLink = document.createElement('div');\n",
              "          docLink.innerHTML = docLinkHtml;\n",
              "          element.appendChild(docLink);\n",
              "        }\n",
              "      </script>\n",
              "    </div>\n",
              "  </div>\n",
              "  "
            ]
          },
          "metadata": {},
          "execution_count": 53
        }
      ]
    },
    {
      "cell_type": "markdown",
      "source": [
        "0 : 정상 1:자살위험군\n",
        "\n",
        "비교해서 전체적인 비율을 확인-> 한자릿수나 차이가남 -> 임밸런스 데이터라고함 (기계학습은 5:5 비율일때 제일 잘되는데 사실 찾고자하는 1 은 보통 비율이 적음) -> 학습할데이터가 없는거임(의료데이터 특징) -> 이럴때 맞추는 방법이 있다 !!\n",
        "\n",
        "*1.오버샘플링* \n",
        "\n",
        "324 를 5000명과 맞춘다. => 324 명을 카피해서 5000 명을 만든다\n",
        "\n",
        "-문제점 : 오버피팅 (324명에대해서만 과하게 맞춤)\n",
        "\n",
        "*2.언더샘플링* \n",
        "\n",
        "5000명중 324개를 뽑는다 . \n",
        "\n",
        "-문제점 : 데이터손실\n",
        "\n",
        "*3.smote* \n",
        "\n",
        "knn 사용해서 거리구해서 비슷한 애들 반반 형성해서 사용하기 -> 중복데이터보다야 훨씬 좋음\n",
        "\n",
        "-문제점 : 데이터별로 사용이 적합하기도 아니기도함\n",
        "\n",
        " ex)불량품측정이야 가정의수가 많을수록 좋으나 의료데이터에서는 사람 한명한명이 소중한 데이터이기때문에 신빙성이 떨어진다고 봄.\n",
        "\n",
        "-데이터 건드리지 않고 하는 방법2개-\n",
        "\n",
        "*4.class 가중치 적용*\n",
        "\n",
        " 0과1중 1이 중요한 변수다 -> 학습할때 1 이 틀리는걸 크게 보고 보정하고, 0은 가중치를 적게주어 틀려도 상관없이 만든다 -> 가짜생성에 대한 비난은 피할수있음\n",
        "\n",
        "*5.앙상블학습* \n",
        "\n",
        "알고리즘여러개 합쳐서 쓰는것 "
      ],
      "metadata": {
        "id": "UVEIywlHji3H"
      }
    },
    {
      "cell_type": "code",
      "source": [
        "Counter(df2['mh_suicide'])"
      ],
      "metadata": {
        "colab": {
          "base_uri": "https://localhost:8080/"
        },
        "id": "948kiil_jd3J",
        "outputId": "7f936cc6-8981-4832-bb00-19e8f2ce439a"
      },
      "execution_count": 54,
      "outputs": [
        {
          "output_type": "execute_result",
          "data": {
            "text/plain": [
              "Counter({0.0: 5611, 1.0: 324})"
            ]
          },
          "metadata": {},
          "execution_count": 54
        }
      ]
    },
    {
      "cell_type": "code",
      "source": [
        "import seaborn as sns\n"
      ],
      "metadata": {
        "id": "AMvOxtWomF1v"
      },
      "execution_count": 55,
      "outputs": []
    },
    {
      "cell_type": "code",
      "source": [
        "f = sns.countplot(x='mh_suicide', data=df)\n",
        "f.set_title(\"Suicide presence distribution\")\n",
        "f.set_xticklabels(['didnt think Suicide', 'Think Suicide'])\n",
        "plt.xlabel(\"\")"
      ],
      "metadata": {
        "colab": {
          "base_uri": "https://localhost:8080/",
          "height": 299
        },
        "id": "Ws7r50H-mXHH",
        "outputId": "586ec8c8-2e65-4bdd-ae43-56555e4b33da"
      },
      "execution_count": 56,
      "outputs": [
        {
          "output_type": "execute_result",
          "data": {
            "text/plain": [
              "Text(0.5, 0, '')"
            ]
          },
          "metadata": {},
          "execution_count": 56
        },
        {
          "output_type": "display_data",
          "data": {
            "text/plain": [
              "<Figure size 432x288 with 1 Axes>"
            ],
            "image/png": "[encoded data removed]"
          },
          "metadata": {
            "needs_background": "light"
          }
        }
      ]
    },
    {
      "cell_type": "code",
      "source": [
        "f = sns.countplot(x='mh_suicide', data=df, hue='sex')\n",
        "plt.legend(['Female', 'Male'])\n",
        "f.set_title(\"Suicide presence distribution by gender\")\n",
        "f.set_xticklabels(['No Suicide', 'Suicide'])\n",
        "plt.xlabel(\"\")"
      ],
      "metadata": {
        "colab": {
          "base_uri": "https://localhost:8080/",
          "height": 299
        },
        "id": "_G7UBcxNmUDQ",
        "outputId": "143c0ee7-c4a9-4dab-b88d-f2640d843d67"
      },
      "execution_count": 57,
      "outputs": [
        {
          "output_type": "execute_result",
          "data": {
            "text/plain": [
              "Text(0.5, 0, '')"
            ]
          },
          "metadata": {},
          "execution_count": 57
        },
        {
          "output_type": "display_data",
          "data": {
            "text/plain": [
              "<Figure size 432x288 with 1 Axes>"
            ],
            "image/png": "[encoded data removed]"
          },
          "metadata": {
            "needs_background": "light"
          }
        }
      ]
    },
    {
      "cell_type": "markdown",
      "source": [],
      "metadata": {
        "id": "qNLlySrYmRQO"
      }
    },
    {
      "cell_type": "code",
      "source": [
        "mh_suicide_corr = df.corr()['mh_suicide']\n",
        "\n",
        "mh_suicide_corr.sort_values(axis=0)"
      ],
      "metadata": {
        "colab": {
          "base_uri": "https://localhost:8080/"
        },
        "id": "1qqLh5aMmGaf",
        "outputId": "2051f2f6-a7e3-4108-cdd0-bfb0734b70e0"
      },
      "execution_count": 58,
      "outputs": [
        {
          "output_type": "execute_result",
          "data": {
            "text/plain": [
              "DF2_pr       -0.182007\n",
              "LF_S2        -0.138665\n",
              "allownc      -0.098459\n",
              "edu          -0.091495\n",
              "incm         -0.082476\n",
              "                ...   \n",
              "occp          0.090633\n",
              "O_chew_d      0.111216\n",
              "LF_SAFE       0.120603\n",
              "mh_stress     0.220486\n",
              "mh_suicide    1.000000\n",
              "Name: mh_suicide, Length: 88, dtype: float64"
            ]
          },
          "metadata": {},
          "execution_count": 58
        }
      ]
    },
    {
      "cell_type": "markdown",
      "source": [
        "상관계수 찍음.\n",
        "의료데이터는 서로 독립변수가 아님.그래서 상관변수나 회귀분석으로 변수를 뽑았을때 점수와 같은 가벼운것이 아님. 그래도 공식이 될만하면 회귀분석을 통해 다중공선성을 적용할수있으나. 이런\n",
        "의료데이터는 서로 관계가 깊기때문에 아래 나온대로 영향을 미쳤다고 볼수없음. \n",
        "\n",
        "=> 그래서 딥러닝을 통해 뭐가 제일 중요한 요소인지 파악함"
      ],
      "metadata": {
        "id": "95cDQCqmmfPJ"
      }
    },
    {
      "cell_type": "code",
      "source": [
        "f = sns.countplot(x='mh_stress', data=df)\n",
        "f.set_title(\"stress presence distribution\")\n",
        "f.set_xticklabels(['No stress', 'stress'])\n",
        "plt.xlabel(\"\")"
      ],
      "metadata": {
        "colab": {
          "base_uri": "https://localhost:8080/",
          "height": 299
        },
        "id": "7VHAAqhzj1TV",
        "outputId": "a54710f0-1a4e-4b9f-997a-8abbae683303"
      },
      "execution_count": 59,
      "outputs": [
        {
          "output_type": "execute_result",
          "data": {
            "text/plain": [
              "Text(0.5, 0, '')"
            ]
          },
          "metadata": {},
          "execution_count": 59
        },
        {
          "output_type": "display_data",
          "data": {
            "text/plain": [
              "<Figure size 432x288 with 1 Axes>"
            ],
            "image/png": "[encoded data removed]"
          },
          "metadata": {
            "needs_background": "light"
          }
        }
      ]
    },
    {
      "cell_type": "code",
      "source": [
        "f = sns.countplot(x='mh_stress', data=df, hue='sex')\n",
        "plt.legend(['Female', 'Male'])\n",
        "f.set_title(\"Stress presence distribution by gender\")\n",
        "f.set_xticklabels(['No Stress', 'Stress'])\n",
        "plt.xlabel(\"\")"
      ],
      "metadata": {
        "colab": {
          "base_uri": "https://localhost:8080/",
          "height": 299
        },
        "id": "SMzv8rOHkFIi",
        "outputId": "eee7f6aa-afda-4072-9118-a7f7bf557655"
      },
      "execution_count": 60,
      "outputs": [
        {
          "output_type": "execute_result",
          "data": {
            "text/plain": [
              "Text(0.5, 0, '')"
            ]
          },
          "metadata": {},
          "execution_count": 60
        },
        {
          "output_type": "display_data",
          "data": {
            "text/plain": [
              "<Figure size 432x288 with 1 Axes>"
            ],
            "image/png": "[encoded data removed]"
          },
          "metadata": {
            "needs_background": "light"
          }
        }
      ]
    },
    {
      "cell_type": "markdown",
      "source": [
        "#데이터 전처리"
      ],
      "metadata": {
        "id": "ZqYPEKaakEnh"
      }
    },
    {
      "cell_type": "code",
      "source": [
        "from sklearn.base import BaseEstimator, TransformerMixin\n",
        "from sklearn.pipeline import Pipeline\n",
        "from sklearn.preprocessing import MinMaxScaler,StandardScaler,OneHotEncoder\n",
        "#수치형:scaler 범주형:onehotencoder \n",
        "from sklearn.impute import SimpleImputer #null값 대치용\n",
        "from sklearn.pipeline import FeatureUnion"
      ],
      "metadata": {
        "id": "7k2kV76fnM2H"
      },
      "execution_count": 61,
      "outputs": []
    },
    {
      "cell_type": "code",
      "source": [
        "class DataFrameSelector(BaseEstimator, TransformerMixin):\n",
        "    def __init__(self, attribute_names):\n",
        "        self.attribute_names = attribute_names\n",
        "    def fit(self, X, y=None):\n",
        "        return self\n",
        "    def transform(self, X):\n",
        "        return X[self.attribute_names].values"
      ],
      "metadata": {
        "id": "yxddxUbWnYo_"
      },
      "execution_count": 62,
      "outputs": []
    },
    {
      "cell_type": "code",
      "source": [
        "def pipeline(df, nums, cats):\n",
        "    \n",
        "    num_inputer = SimpleImputer(strategy='median')\n",
        "    num_pipeline=Pipeline([\n",
        "        (\"select_numeric\",DataFrameSelector(nums)),\n",
        "        (\"impute\", num_inputer),\n",
        "        (\"scaler\", StandardScaler())])\n",
        "    #num : 수치형만 결측치대체후 scaler 적용\n",
        "    cat_imputer = SimpleImputer(strategy='most_frequent')\n",
        "    cat_pipeline = Pipeline([\n",
        "        (\"select_cat\",DataFrameSelector(cats)),\n",
        "        (\"impute\", cat_imputer)])\n",
        "        #(\"encoder\", OneHotEncoder())])\n",
        "    #cat : 범주형만 가져와서 결측치 보정후, 데이터가 많아 원핫인코딩 생략\n",
        "    preprocess_pipeline = FeatureUnion(transformer_list=[\n",
        "    (\"num_pipeline\", num_pipeline),\n",
        "    (\"cat_pipeline\", cat_pipeline)])\n",
        "    \n",
        "    X=preprocess_pipeline.fit_transform(df)\n",
        "    #num(수치형) 과 cat(범주형) 을 합쳐서 전체 전처리함\n",
        "    return X"
      ],
      "metadata": {
        "id": "o1R4B0rynfu3"
      },
      "execution_count": 63,
      "outputs": []
    },
    {
      "cell_type": "markdown",
      "source": [
        " FeatureUnion(transformer_list=[\n",
        "    (\"num_pipeline\", num_pipeline),\n",
        "    (\"cat_pipeline\", cat_pipeline)])\n",
        "    뉴메릭과 카테고리를 합침.\n",
        "\n",
        "  원핫인코딩 -> 공간차지가 많아짐 \n",
        "\n",
        "ex) 옷사이즈 처럼 하나를 골라아하는건 원핫인코딩, 근데 학년과같은 범주는 할 필요없음. impute만 한다. \n",
        "\n",
        "널값 대체시) 범주는 most+frequent 최빈값!\n",
        "\n",
        "뉴메릭은 평균이나 중앙값중. -> 자신없으면 빼거나 해야함. 의료데이터의 경우 평균은 큰의미가없다. 회귀식에 넣어서 하는게좋음.\n",
        "\n",
        "그리고 마지막으로 합해서 전처리를 한다"
      ],
      "metadata": {
        "id": "nyI3PlsMnzIn"
      }
    },
    {
      "cell_type": "markdown",
      "source": [
        "넣어야함"
      ],
      "metadata": {
        "id": "l7knKWltpL9G"
      }
    },
    {
      "cell_type": "code",
      "source": [
        "nums = ['incm', 'edu', 'occp', 'marri_1', 'HE_wt', 'HE_wc', 'HE_BMI', 'N_EN', 'N_WATER', 'N_PROT', 'N_FAT', 'N_SFA', 'N_MUFA', 'N_PUFA', 'N_CHOL', 'N_CHO', 'N_TDF', 'N_CA', 'N_FE', 'N_NA', 'N_K', 'N_VITC', 'LF_SAFE', 'LF_S2']\n",
        "cats = ['apt_t', 'sex', 'cfam', 'allownc', 'house', 'live_t', 'marri_2', 'tins', 'npins', 'DI2_pr', 'DI3_pr', 'DI4_pr', 'DI5_pr', 'DI6_pr', 'DM1_pr', 'DM2_pr', 'DM3_pr', 'DM4_pr', 'D_8_2', 'D_8_4', 'DJ4_pr', 'DE1_pr', 'DE2_pr', 'DC1_pr', 'DC2_pr', 'DC3_pr', 'DC4_pr', 'DC5_pr', 'DC6_pr', 'DC7_pr', 'DF2_pr', 'DL1_pr', 'DJ8_pr', 'DH2_pr', 'DH3_pr', 'DN1_pr', 'DK8_pr', 'DK9_pr', 'DK4_pr', 'LQ4_00', 'LQ1_sb', 'LQ_1EQL', 'LQ_2EQL', 'LQ_3EQL', 'LQ_4EQL', 'LQ_5EQL', 'educ', 'EC1_1', 'BO1', 'BO1_1', 'BO2_1', 'BD1_11', 'mh_stress', 'BE8_1', 'HE_HP', 'HE_anem', 'O_chew_d', 'L_BR_FQ', 'L_LN_FQ', 'L_DN_FQ']"
      ],
      "metadata": {
        "id": "rInx6FBSpIZG"
      },
      "execution_count": 64,
      "outputs": []
    },
    {
      "cell_type": "markdown",
      "source": [
        "그리고 위에 정의했던 전처리과정 pipeline 에다가 넣어서 진행시킴"
      ],
      "metadata": {
        "id": "JOM3qjntmsI1"
      }
    },
    {
      "cell_type": "markdown",
      "source": [
        "#x 데이터만 전처리 완료!"
      ],
      "metadata": {
        "id": "1g_RGJHtm28F"
      }
    },
    {
      "cell_type": "code",
      "source": [
        "X_data = pipeline(df2, nums, cats)"
      ],
      "metadata": {
        "id": "wqCMCGTlpSMN"
      },
      "execution_count": 65,
      "outputs": []
    },
    {
      "cell_type": "code",
      "source": [
        "y_label = df2['mh_suicide']"
      ],
      "metadata": {
        "id": "Q2J7bKPpm8B2"
      },
      "execution_count": 66,
      "outputs": []
    },
    {
      "cell_type": "markdown",
      "source": [
        "y 레이블 분리하면서 y 데이터 전처리 진행"
      ],
      "metadata": {
        "id": "Yo_DVZAan9Gh"
      }
    },
    {
      "cell_type": "code",
      "source": [
        "from sklearn.model_selection import train_test_split\n"
      ],
      "metadata": {
        "id": "VHT3e-kenBLB"
      },
      "execution_count": 67,
      "outputs": []
    },
    {
      "cell_type": "markdown",
      "source": [
        "train_test_split 을 사용해 비중을 똑같이하면서 잘라줌. ??"
      ],
      "metadata": {
        "id": "-H4bRMAopvPu"
      }
    },
    {
      "cell_type": "code",
      "source": [
        "X_train, X_test, y_train, y_test = train_test_split(X_data, y_label, test_size=0.3, random_state=0)\n",
        "\n",
        "X_train = np.asarray(X_train)\n",
        "y_train = np.asarray(y_train)\n",
        "X_test = np.asarray(X_test)\n",
        "y_test = np.asarray(y_test)"
      ],
      "metadata": {
        "id": "4R5jg4WXpt32"
      },
      "execution_count": 68,
      "outputs": []
    },
    {
      "cell_type": "code",
      "source": [
        "print('Train data shape: {0}'.format(X_train.shape))\n",
        "print('Test data shape: {0}'.format(X_test.shape))\n",
        "\n",
        "print('Train data label => %s' %Counter(y_train))\n",
        "print('Test data label => %s' %Counter(y_test))"
      ],
      "metadata": {
        "colab": {
          "base_uri": "https://localhost:8080/"
        },
        "id": "QOjulBe9nvMB",
        "outputId": "48d18e81-956f-4498-cca6-6ecac4c96b34"
      },
      "execution_count": 69,
      "outputs": [
        {
          "output_type": "stream",
          "name": "stdout",
          "text": [
            "Train data shape: (4154, 84)\n",
            "Test data shape: (1781, 84)\n",
            "Train data label => Counter({0.0: 3926, 1.0: 228})\n",
            "Test data label => Counter({0.0: 1685, 1.0: 96})\n"
          ]
        }
      ]
    },
    {
      "cell_type": "markdown",
      "source": [
        "#smote 모델 이용 -> 데이터 맞추기  9/20"
      ],
      "metadata": {
        "id": "9GFAM3hPoCwl"
      }
    },
    {
      "cell_type": "markdown",
      "source": [
        "모델생성을 위해 train 으로만 가지고 돌린다."
      ],
      "metadata": {
        "id": "oelYb4ropDCK"
      }
    },
    {
      "cell_type": "code",
      "source": [
        "from imblearn.over_sampling import SMOTE\n",
        "\n",
        "smote = SMOTE(random_state=0)\n",
        "X_train_over,y_train_over = smote.fit_resample(X_train,y_train)"
      ],
      "metadata": {
        "id": "IcLCeu4uoQBj"
      },
      "execution_count": 70,
      "outputs": []
    },
    {
      "cell_type": "code",
      "source": [
        "print('SMOTE 적용 전 학습용 피처/레이블 데이터 세트: ', X_train.shape, y_train.shape)\n",
        "print('SMOTE 적용 전 레이블 값 분포: \\n', pd.Series(y_train).value_counts())\n",
        "print('SMOTE 적용 후 학습용 피처/레이블 데이터 세트: ', X_train_over.shape, y_train_over.shape)\n",
        "print('SMOTE 적용 후 레이블 값 분포: \\n', pd.Series(y_train_over).value_counts())"
      ],
      "metadata": {
        "colab": {
          "base_uri": "https://localhost:8080/"
        },
        "id": "Co0V0pw8oYq_",
        "outputId": "eb27d15c-3fe0-46d2-e73c-019070d218fa"
      },
      "execution_count": 71,
      "outputs": [
        {
          "output_type": "stream",
          "name": "stdout",
          "text": [
            "SMOTE 적용 전 학습용 피처/레이블 데이터 세트:  (4154, 84) (4154,)\n",
            "SMOTE 적용 전 레이블 값 분포: \n",
            " 0.0    3926\n",
            "1.0     228\n",
            "dtype: int64\n",
            "SMOTE 적용 후 학습용 피처/레이블 데이터 세트:  (7852, 84) (7852,)\n",
            "SMOTE 적용 후 레이블 값 분포: \n",
            " 0.0    3926\n",
            "1.0    3926\n",
            "dtype: int64\n"
          ]
        }
      ]
    },
    {
      "cell_type": "code",
      "source": [
        "from tensorflow.keras.layers import Dense,SimpleRNN,LSTM,Dropout\n",
        "from tensorflow.keras import models\n",
        "from tensorflow.keras.optimizers import RMSprop\n",
        "import matplotlib.pyplot as plt"
      ],
      "metadata": {
        "id": "JgOIrrhJpbNW"
      },
      "execution_count": 72,
      "outputs": []
    },
    {
      "cell_type": "markdown",
      "source": [
        "#네트워크 구성하는법"
      ],
      "metadata": {
        "id": "DE8CaiaXKXSE"
      }
    },
    {
      "cell_type": "code",
      "source": [
        "from tensorflow.keras.callbacks import EarlyStopping, ModelCheckpoint\n",
        "from tensorflow.keras.models import load_model\n",
        "\n",
        "model = models.Sequential() # 단일데이터타입(정형 하나만 쓴다) -> sequential\n",
        "model.add(Dense(32, input_dim = 84, activation='relu')) #32개노드 , 84개의변수\n",
        "model.add(Dense(32, activation='relu'))\n",
        "model.add(Dense(1, activation='sigmoid'))\n",
        "\n",
        "model.compile(optimizer='RMSprop',loss='binary_crossentropy',metrics=['accuracy'])"
      ],
      "metadata": {
        "id": "SAApaxsnp2kO"
      },
      "execution_count": 73,
      "outputs": []
    },
    {
      "cell_type": "markdown",
      "source": [
        "보통 데이터가 만개 안쪽이면 32개 노드로 함\n",
        "\n",
        "히든레이어는 데이터보다는 피처의 수와 상관있음.\n",
        "피처가 이렇게 많으면 3개층까지도 필요없음. 너무 많으면 오버피팅이 있을수있다.\n",
        "\n",
        "엔트로피가 안정적인상태 -> 0과 1이 분류되어있다.\n",
        "그래서 compile -> 변수를 찾아냄 (크로스 엔트로피 이용)"
      ],
      "metadata": {
        "id": "4i6N6SDWqNSO"
      }
    },
    {
      "cell_type": "markdown",
      "source": [
        "##학습시키기"
      ],
      "metadata": {
        "id": "1CiskAQ4MLhs"
      }
    },
    {
      "cell_type": "code",
      "source": [
        "history = model.fit(X_train_over,y_train_over,epochs=100,batch_size=512,validation_data=(X_test, y_test))\n",
        "#학습 100 번하는걸 history 에 저장함"
      ],
      "metadata": {
        "colab": {
          "base_uri": "https://localhost:8080/"
        },
        "id": "ISovYC13qBfk",
        "outputId": "74dd2e41-615c-4db8-a16a-48984a787b3a"
      },
      "execution_count": 74,
      "outputs": [
        {
          "output_type": "stream",
          "name": "stdout",
          "text": [
            "Epoch 1/100\n",
            "16/16 [==============================] - 2s 32ms/step - loss: 1.3672 - accuracy: 0.5120 - val_loss: 0.4886 - val_accuracy: 0.8024\n",
            "Epoch 2/100\n",
            "16/16 [==============================] - 0s 12ms/step - loss: 0.7613 - accuracy: 0.5627 - val_loss: 0.5621 - val_accuracy: 0.7423\n",
            "Epoch 3/100\n",
            "16/16 [==============================] - 0s 8ms/step - loss: 0.6855 - accuracy: 0.6048 - val_loss: 0.4652 - val_accuracy: 0.8220\n",
            "Epoch 4/100\n",
            "16/16 [==============================] - 0s 11ms/step - loss: 0.6670 - accuracy: 0.6219 - val_loss: 0.4115 - val_accuracy: 0.8624\n",
            "Epoch 5/100\n",
            "16/16 [==============================] - 0s 16ms/step - loss: 0.6248 - accuracy: 0.6538 - val_loss: 1.1539 - val_accuracy: 0.1875\n",
            "Epoch 6/100\n",
            "16/16 [==============================] - 0s 13ms/step - loss: 0.6241 - accuracy: 0.6489 - val_loss: 0.7475 - val_accuracy: 0.5216\n",
            "Epoch 7/100\n",
            "16/16 [==============================] - 0s 14ms/step - loss: 0.6274 - accuracy: 0.6519 - val_loss: 0.7376 - val_accuracy: 0.5446\n",
            "Epoch 8/100\n",
            "16/16 [==============================] - 0s 10ms/step - loss: 0.5819 - accuracy: 0.6909 - val_loss: 0.5466 - val_accuracy: 0.7367\n",
            "Epoch 9/100\n",
            "16/16 [==============================] - 0s 8ms/step - loss: 0.5901 - accuracy: 0.6808 - val_loss: 0.4598 - val_accuracy: 0.8181\n",
            "Epoch 10/100\n",
            "16/16 [==============================] - 0s 12ms/step - loss: 0.5756 - accuracy: 0.6885 - val_loss: 1.0484 - val_accuracy: 0.3156\n",
            "Epoch 11/100\n",
            "16/16 [==============================] - 0s 9ms/step - loss: 0.5769 - accuracy: 0.6933 - val_loss: 0.5146 - val_accuracy: 0.7760\n",
            "Epoch 12/100\n",
            "16/16 [==============================] - 0s 13ms/step - loss: 0.5572 - accuracy: 0.7059 - val_loss: 0.6968 - val_accuracy: 0.6075\n",
            "Epoch 13/100\n",
            "16/16 [==============================] - 0s 8ms/step - loss: 0.5607 - accuracy: 0.7040 - val_loss: 0.7582 - val_accuracy: 0.5508\n",
            "Epoch 14/100\n",
            "16/16 [==============================] - 0s 10ms/step - loss: 0.5343 - accuracy: 0.7328 - val_loss: 0.5083 - val_accuracy: 0.7805\n",
            "Epoch 15/100\n",
            "16/16 [==============================] - 0s 11ms/step - loss: 0.5405 - accuracy: 0.7243 - val_loss: 0.5992 - val_accuracy: 0.6957\n",
            "Epoch 16/100\n",
            "16/16 [==============================] - 0s 10ms/step - loss: 0.5268 - accuracy: 0.7310 - val_loss: 0.4584 - val_accuracy: 0.8108\n",
            "Epoch 17/100\n",
            "16/16 [==============================] - 0s 10ms/step - loss: 0.5302 - accuracy: 0.7249 - val_loss: 0.2817 - val_accuracy: 0.9158\n",
            "Epoch 18/100\n",
            "16/16 [==============================] - 0s 8ms/step - loss: 0.5147 - accuracy: 0.7454 - val_loss: 0.2802 - val_accuracy: 0.9147\n",
            "Epoch 19/100\n",
            "16/16 [==============================] - 0s 9ms/step - loss: 0.5181 - accuracy: 0.7408 - val_loss: 0.8036 - val_accuracy: 0.5233\n",
            "Epoch 20/100\n",
            "16/16 [==============================] - 0s 9ms/step - loss: 0.4945 - accuracy: 0.7603 - val_loss: 1.0936 - val_accuracy: 0.3492\n",
            "Epoch 21/100\n",
            "16/16 [==============================] - 0s 8ms/step - loss: 0.4952 - accuracy: 0.7596 - val_loss: 0.5539 - val_accuracy: 0.7339\n",
            "Epoch 22/100\n",
            "16/16 [==============================] - 0s 9ms/step - loss: 0.4925 - accuracy: 0.7529 - val_loss: 0.8553 - val_accuracy: 0.4902\n",
            "Epoch 23/100\n",
            "16/16 [==============================] - 0s 17ms/step - loss: 0.4929 - accuracy: 0.7515 - val_loss: 0.6672 - val_accuracy: 0.6468\n",
            "Epoch 24/100\n",
            "16/16 [==============================] - 0s 8ms/step - loss: 0.4900 - accuracy: 0.7590 - val_loss: 0.5266 - val_accuracy: 0.7586\n",
            "Epoch 25/100\n",
            "16/16 [==============================] - 0s 10ms/step - loss: 0.4800 - accuracy: 0.7626 - val_loss: 0.3203 - val_accuracy: 0.8855\n",
            "Epoch 26/100\n",
            "16/16 [==============================] - 0s 11ms/step - loss: 0.4666 - accuracy: 0.7729 - val_loss: 0.4724 - val_accuracy: 0.7827\n",
            "Epoch 27/100\n",
            "16/16 [==============================] - 0s 9ms/step - loss: 0.4813 - accuracy: 0.7607 - val_loss: 0.2967 - val_accuracy: 0.9001\n",
            "Epoch 28/100\n",
            "16/16 [==============================] - 0s 8ms/step - loss: 0.4636 - accuracy: 0.7753 - val_loss: 0.4176 - val_accuracy: 0.8276\n",
            "Epoch 29/100\n",
            "16/16 [==============================] - 0s 8ms/step - loss: 0.4599 - accuracy: 0.7795 - val_loss: 0.2839 - val_accuracy: 0.9023\n",
            "Epoch 30/100\n",
            "16/16 [==============================] - 0s 8ms/step - loss: 0.4536 - accuracy: 0.7794 - val_loss: 0.7424 - val_accuracy: 0.6042\n",
            "Epoch 31/100\n",
            "16/16 [==============================] - 0s 10ms/step - loss: 0.4462 - accuracy: 0.7873 - val_loss: 0.4580 - val_accuracy: 0.7917\n",
            "Epoch 32/100\n",
            "16/16 [==============================] - 0s 11ms/step - loss: 0.4511 - accuracy: 0.7813 - val_loss: 0.3550 - val_accuracy: 0.8664\n",
            "Epoch 33/100\n",
            "16/16 [==============================] - 0s 13ms/step - loss: 0.4444 - accuracy: 0.7867 - val_loss: 0.4836 - val_accuracy: 0.7816\n",
            "Epoch 34/100\n",
            "16/16 [==============================] - 0s 9ms/step - loss: 0.4440 - accuracy: 0.7910 - val_loss: 0.6820 - val_accuracy: 0.6468\n",
            "Epoch 35/100\n",
            "16/16 [==============================] - 0s 7ms/step - loss: 0.4322 - accuracy: 0.7936 - val_loss: 0.3190 - val_accuracy: 0.8843\n",
            "Epoch 36/100\n",
            "16/16 [==============================] - 0s 11ms/step - loss: 0.4383 - accuracy: 0.7891 - val_loss: 0.7751 - val_accuracy: 0.6064\n",
            "Epoch 37/100\n",
            "16/16 [==============================] - 0s 11ms/step - loss: 0.4205 - accuracy: 0.8031 - val_loss: 0.4073 - val_accuracy: 0.8304\n",
            "Epoch 38/100\n",
            "16/16 [==============================] - 0s 10ms/step - loss: 0.4207 - accuracy: 0.8064 - val_loss: 0.4901 - val_accuracy: 0.7788\n",
            "Epoch 39/100\n",
            "16/16 [==============================] - 0s 9ms/step - loss: 0.4199 - accuracy: 0.8016 - val_loss: 0.6191 - val_accuracy: 0.6906\n",
            "Epoch 40/100\n",
            "16/16 [==============================] - 0s 8ms/step - loss: 0.4215 - accuracy: 0.8016 - val_loss: 0.6043 - val_accuracy: 0.7063\n",
            "Epoch 41/100\n",
            "16/16 [==============================] - 0s 13ms/step - loss: 0.4083 - accuracy: 0.8087 - val_loss: 0.4506 - val_accuracy: 0.7973\n",
            "Epoch 42/100\n",
            "16/16 [==============================] - 0s 14ms/step - loss: 0.4137 - accuracy: 0.8119 - val_loss: 0.4362 - val_accuracy: 0.8057\n",
            "Epoch 43/100\n",
            "16/16 [==============================] - 0s 9ms/step - loss: 0.3926 - accuracy: 0.8195 - val_loss: 0.9333 - val_accuracy: 0.4795\n",
            "Epoch 44/100\n",
            "16/16 [==============================] - 0s 11ms/step - loss: 0.4093 - accuracy: 0.8081 - val_loss: 0.4816 - val_accuracy: 0.7810\n",
            "Epoch 45/100\n",
            "16/16 [==============================] - 0s 9ms/step - loss: 0.3829 - accuracy: 0.8262 - val_loss: 0.2983 - val_accuracy: 0.8888\n",
            "Epoch 46/100\n",
            "16/16 [==============================] - 0s 8ms/step - loss: 0.3948 - accuracy: 0.8207 - val_loss: 0.4794 - val_accuracy: 0.7788\n",
            "Epoch 47/100\n",
            "16/16 [==============================] - 0s 14ms/step - loss: 0.3931 - accuracy: 0.8185 - val_loss: 0.6245 - val_accuracy: 0.6873\n",
            "Epoch 48/100\n",
            "16/16 [==============================] - 0s 10ms/step - loss: 0.3854 - accuracy: 0.8216 - val_loss: 0.7473 - val_accuracy: 0.6232\n",
            "Epoch 49/100\n",
            "16/16 [==============================] - 0s 12ms/step - loss: 0.3918 - accuracy: 0.8220 - val_loss: 0.4781 - val_accuracy: 0.7782\n",
            "Epoch 50/100\n",
            "16/16 [==============================] - 0s 6ms/step - loss: 0.3797 - accuracy: 0.8292 - val_loss: 0.4834 - val_accuracy: 0.7737\n",
            "Epoch 51/100\n",
            "16/16 [==============================] - 0s 11ms/step - loss: 0.3702 - accuracy: 0.8311 - val_loss: 0.5085 - val_accuracy: 0.7659\n",
            "Epoch 52/100\n",
            "16/16 [==============================] - 0s 7ms/step - loss: 0.3838 - accuracy: 0.8271 - val_loss: 0.3345 - val_accuracy: 0.8669\n",
            "Epoch 53/100\n",
            "16/16 [==============================] - 0s 10ms/step - loss: 0.3722 - accuracy: 0.8290 - val_loss: 0.3281 - val_accuracy: 0.8714\n",
            "Epoch 54/100\n",
            "16/16 [==============================] - 0s 9ms/step - loss: 0.3714 - accuracy: 0.8291 - val_loss: 0.3555 - val_accuracy: 0.8613\n",
            "Epoch 55/100\n",
            "16/16 [==============================] - 0s 13ms/step - loss: 0.3654 - accuracy: 0.8409 - val_loss: 0.4240 - val_accuracy: 0.8192\n",
            "Epoch 56/100\n",
            "16/16 [==============================] - 0s 9ms/step - loss: 0.3629 - accuracy: 0.8414 - val_loss: 0.3237 - val_accuracy: 0.8776\n",
            "Epoch 57/100\n",
            "16/16 [==============================] - 0s 13ms/step - loss: 0.3610 - accuracy: 0.8413 - val_loss: 0.3451 - val_accuracy: 0.8658\n",
            "Epoch 58/100\n",
            "16/16 [==============================] - 0s 13ms/step - loss: 0.3494 - accuracy: 0.8465 - val_loss: 0.5103 - val_accuracy: 0.7709\n",
            "Epoch 59/100\n",
            "16/16 [==============================] - 0s 15ms/step - loss: 0.3695 - accuracy: 0.8283 - val_loss: 0.5797 - val_accuracy: 0.7305\n",
            "Epoch 60/100\n",
            "16/16 [==============================] - 0s 11ms/step - loss: 0.3391 - accuracy: 0.8523 - val_loss: 0.5623 - val_accuracy: 0.7367\n",
            "Epoch 61/100\n",
            "16/16 [==============================] - 0s 19ms/step - loss: 0.3541 - accuracy: 0.8422 - val_loss: 0.3239 - val_accuracy: 0.8810\n",
            "Epoch 62/100\n",
            "16/16 [==============================] - 0s 12ms/step - loss: 0.3508 - accuracy: 0.8479 - val_loss: 0.3279 - val_accuracy: 0.8810\n",
            "Epoch 63/100\n",
            "16/16 [==============================] - 0s 9ms/step - loss: 0.3399 - accuracy: 0.8495 - val_loss: 0.3840 - val_accuracy: 0.8389\n",
            "Epoch 64/100\n",
            "16/16 [==============================] - 0s 9ms/step - loss: 0.3367 - accuracy: 0.8484 - val_loss: 0.3782 - val_accuracy: 0.8473\n",
            "Epoch 65/100\n",
            "16/16 [==============================] - 0s 17ms/step - loss: 0.3491 - accuracy: 0.8435 - val_loss: 0.3195 - val_accuracy: 0.8843\n",
            "Epoch 66/100\n",
            "16/16 [==============================] - 0s 10ms/step - loss: 0.3182 - accuracy: 0.8630 - val_loss: 0.8304 - val_accuracy: 0.5851\n",
            "Epoch 67/100\n",
            "16/16 [==============================] - 0s 12ms/step - loss: 0.3355 - accuracy: 0.8523 - val_loss: 0.5791 - val_accuracy: 0.7232\n",
            "Epoch 68/100\n",
            "16/16 [==============================] - 0s 13ms/step - loss: 0.3265 - accuracy: 0.8567 - val_loss: 0.8950 - val_accuracy: 0.5536\n",
            "Epoch 69/100\n",
            "16/16 [==============================] - 0s 8ms/step - loss: 0.3372 - accuracy: 0.8512 - val_loss: 0.6427 - val_accuracy: 0.6957\n",
            "Epoch 70/100\n",
            "16/16 [==============================] - 0s 8ms/step - loss: 0.3240 - accuracy: 0.8583 - val_loss: 0.8316 - val_accuracy: 0.5856\n",
            "Epoch 71/100\n",
            "16/16 [==============================] - 0s 10ms/step - loss: 0.3274 - accuracy: 0.8595 - val_loss: 0.3187 - val_accuracy: 0.8860\n",
            "Epoch 72/100\n",
            "16/16 [==============================] - 0s 11ms/step - loss: 0.3226 - accuracy: 0.8577 - val_loss: 0.3494 - val_accuracy: 0.8692\n",
            "Epoch 73/100\n",
            "16/16 [==============================] - 0s 9ms/step - loss: 0.3119 - accuracy: 0.8639 - val_loss: 0.3216 - val_accuracy: 0.8815\n",
            "Epoch 74/100\n",
            "16/16 [==============================] - 0s 10ms/step - loss: 0.3340 - accuracy: 0.8511 - val_loss: 0.2875 - val_accuracy: 0.8995\n",
            "Epoch 75/100\n",
            "16/16 [==============================] - 0s 12ms/step - loss: 0.3222 - accuracy: 0.8576 - val_loss: 0.3608 - val_accuracy: 0.8619\n",
            "Epoch 76/100\n",
            "16/16 [==============================] - 0s 16ms/step - loss: 0.3026 - accuracy: 0.8746 - val_loss: 0.3558 - val_accuracy: 0.8579\n",
            "Epoch 77/100\n",
            "16/16 [==============================] - 0s 19ms/step - loss: 0.3047 - accuracy: 0.8738 - val_loss: 0.4119 - val_accuracy: 0.8372\n",
            "Epoch 78/100\n",
            "16/16 [==============================] - 0s 9ms/step - loss: 0.3109 - accuracy: 0.8697 - val_loss: 0.6017 - val_accuracy: 0.7226\n",
            "Epoch 79/100\n",
            "16/16 [==============================] - 0s 8ms/step - loss: 0.3015 - accuracy: 0.8719 - val_loss: 0.8085 - val_accuracy: 0.6109\n",
            "Epoch 80/100\n",
            "16/16 [==============================] - 0s 11ms/step - loss: 0.3159 - accuracy: 0.8633 - val_loss: 0.4939 - val_accuracy: 0.7810\n",
            "Epoch 81/100\n",
            "16/16 [==============================] - 0s 22ms/step - loss: 0.3026 - accuracy: 0.8718 - val_loss: 0.7537 - val_accuracy: 0.6446\n",
            "Epoch 82/100\n",
            "16/16 [==============================] - 0s 9ms/step - loss: 0.3017 - accuracy: 0.8729 - val_loss: 0.3492 - val_accuracy: 0.8714\n",
            "Epoch 83/100\n",
            "16/16 [==============================] - 0s 11ms/step - loss: 0.2987 - accuracy: 0.8746 - val_loss: 0.3361 - val_accuracy: 0.8821\n",
            "Epoch 84/100\n",
            "16/16 [==============================] - 0s 11ms/step - loss: 0.2901 - accuracy: 0.8752 - val_loss: 0.3646 - val_accuracy: 0.8596\n",
            "Epoch 85/100\n",
            "16/16 [==============================] - 0s 16ms/step - loss: 0.2957 - accuracy: 0.8758 - val_loss: 0.3235 - val_accuracy: 0.8810\n",
            "Epoch 86/100\n",
            "16/16 [==============================] - 0s 12ms/step - loss: 0.2942 - accuracy: 0.8781 - val_loss: 0.4239 - val_accuracy: 0.8349\n",
            "Epoch 87/100\n",
            "16/16 [==============================] - 0s 10ms/step - loss: 0.2873 - accuracy: 0.8749 - val_loss: 0.3079 - val_accuracy: 0.8883\n",
            "Epoch 88/100\n",
            "16/16 [==============================] - 0s 10ms/step - loss: 0.2880 - accuracy: 0.8796 - val_loss: 0.3312 - val_accuracy: 0.8815\n",
            "Epoch 89/100\n",
            "16/16 [==============================] - 0s 11ms/step - loss: 0.2864 - accuracy: 0.8799 - val_loss: 0.3119 - val_accuracy: 0.8894\n",
            "Epoch 90/100\n",
            "16/16 [==============================] - 0s 10ms/step - loss: 0.2762 - accuracy: 0.8859 - val_loss: 0.3090 - val_accuracy: 0.8911\n",
            "Epoch 91/100\n",
            "16/16 [==============================] - 0s 8ms/step - loss: 0.2873 - accuracy: 0.8779 - val_loss: 0.3172 - val_accuracy: 0.8984\n",
            "Epoch 92/100\n",
            "16/16 [==============================] - 0s 12ms/step - loss: 0.2733 - accuracy: 0.8856 - val_loss: 0.3408 - val_accuracy: 0.8787\n",
            "Epoch 93/100\n",
            "16/16 [==============================] - 0s 8ms/step - loss: 0.2796 - accuracy: 0.8812 - val_loss: 0.3534 - val_accuracy: 0.8748\n",
            "Epoch 94/100\n",
            "16/16 [==============================] - 0s 9ms/step - loss: 0.2766 - accuracy: 0.8850 - val_loss: 0.2962 - val_accuracy: 0.8984\n",
            "Epoch 95/100\n",
            "16/16 [==============================] - 0s 11ms/step - loss: 0.2668 - accuracy: 0.8896 - val_loss: 0.2911 - val_accuracy: 0.9079\n",
            "Epoch 96/100\n",
            "16/16 [==============================] - 0s 22ms/step - loss: 0.2738 - accuracy: 0.8854 - val_loss: 0.5451 - val_accuracy: 0.7608\n",
            "Epoch 97/100\n",
            "16/16 [==============================] - 0s 22ms/step - loss: 0.2643 - accuracy: 0.8911 - val_loss: 0.3890 - val_accuracy: 0.8574\n",
            "Epoch 98/100\n",
            "16/16 [==============================] - 0s 23ms/step - loss: 0.2531 - accuracy: 0.8965 - val_loss: 0.7605 - val_accuracy: 0.6648\n",
            "Epoch 99/100\n",
            "16/16 [==============================] - 0s 13ms/step - loss: 0.2638 - accuracy: 0.8893 - val_loss: 0.4206 - val_accuracy: 0.8338\n",
            "Epoch 100/100\n",
            "16/16 [==============================] - 0s 20ms/step - loss: 0.2742 - accuracy: 0.8855 - val_loss: 0.3643 - val_accuracy: 0.8636\n"
          ]
        }
      ]
    },
    {
      "cell_type": "markdown",
      "source": [
        "model.fit 이 학습을 시키키는건데.\n",
        "좋은네트워크가 무엇인지 알기위해 에코를 100으로 크게키워 봐야 알기쉽다.\n",
        "\n",
        "batch size 랜덤으로 512개만 뽑아서 그거로만 미분하여 찾는것."
      ],
      "metadata": {
        "id": "qlyHllvSrfDZ"
      }
    },
    {
      "cell_type": "code",
      "source": [
        "loss = history.history['loss']\n",
        "val_loss = history.history['val_loss']\n",
        "\n",
        "epochs = range(1, len(loss) + 1)\n",
        "\n",
        "plt.plot(epochs, loss, 'bo', label='Training loss')\n",
        "plt.plot(epochs, val_loss, 'b', label='Validation loss')\n",
        "plt.title('Training and validation loss')\n",
        "plt.xlabel('Epochs')\n",
        "plt.ylabel('Loss')\n",
        "plt.legend()\n",
        "\n",
        "plt.show()\n",
        "\n",
        "acc = history.history['accuracy']\n",
        "val_acc = history.history['val_accuracy']\n",
        "\n",
        "plt.plot(epochs, acc, 'bo', label='Training acc')\n",
        "plt.plot(epochs, val_acc, 'b', label='Validation acc')\n",
        "plt.title('Training and validation accuracy')\n",
        "plt.xlabel('Epochs')\n",
        "plt.ylabel('Accuracy')\n",
        "plt.legend()\n",
        "\n",
        "plt.show()"
      ],
      "metadata": {
        "colab": {
          "base_uri": "https://localhost:8080/",
          "height": 573
        },
        "id": "JurFr65GsFUM",
        "outputId": "851f66cb-7693-4d1f-cb34-078bfb767d11"
      },
      "execution_count": 75,
      "outputs": [
        {
          "output_type": "display_data",
          "data": {
            "text/plain": [
              "<Figure size 432x288 with 1 Axes>"
            ],
            "image/png": "[encoded data removed]"
          },
          "metadata": {
            "needs_background": "light"
          }
        },
        {
          "output_type": "display_data",
          "data": {
            "text/plain": [
              "<Figure size 432x288 with 1 Axes>"
            ],
            "image/png": "[encoded data removed]"
          },
          "metadata": {
            "needs_background": "light"
          }
        }
      ]
    },
    {
      "cell_type": "markdown",
      "source": [
        "첫번째 -> 학습을 할수록 loss 값은 떨어지나, validation 의 변동성이 매우 심함.->안정적 학습이 안됨. 못맞추는애들이 심하다는걸 의미함.\n",
        "\n",
        "두번째 -> 학습할수록 training accuracy 높아짐. 전반적으로 vali acc  역시 8개의 피처로 잡기 어렵다를 의미함. "
      ],
      "metadata": {
        "id": "FgFdGgkesag3"
      }
    },
    {
      "cell_type": "markdown",
      "source": [
        "#스멀러로 다시 모델학습\n",
        "히든노드 8개로 줄여본다."
      ],
      "metadata": {
        "id": "MAG4ptwptexT"
      }
    },
    {
      "cell_type": "code",
      "source": [
        "smaller = models.Sequential()\n",
        "smaller.add(Dense(8, input_dim = 84, activation='relu'))\n",
        "smaller.add(Dense(8, activation='relu'))\n",
        "smaller.add(Dense(1, activation='sigmoid'))\n",
        "\n",
        "smaller.compile(optimizer='rmsprop',\n",
        "                loss='binary_crossentropy',\n",
        "                metrics=['accuracy'])"
      ],
      "metadata": {
        "id": "X6Y284YJqB5G"
      },
      "execution_count": 76,
      "outputs": []
    },
    {
      "cell_type": "code",
      "source": [
        "smaller_hist = smaller.fit(X_train_over,y_train_over,epochs=100,batch_size=512,validation_data=(X_test, y_test))\n"
      ],
      "metadata": {
        "colab": {
          "base_uri": "https://localhost:8080/"
        },
        "id": "moSDTIK6qCIw",
        "outputId": "e6a9848e-5ab4-4d13-9cff-fd537d3849e3"
      },
      "execution_count": 80,
      "outputs": [
        {
          "output_type": "stream",
          "name": "stdout",
          "text": [
            "Epoch 1/100\n",
            "16/16 [==============================] - 0s 14ms/step - loss: 0.5155 - accuracy: 0.7278 - val_loss: 0.4379 - val_accuracy: 0.8450\n",
            "Epoch 2/100\n",
            "16/16 [==============================] - 0s 9ms/step - loss: 0.5138 - accuracy: 0.7283 - val_loss: 0.4634 - val_accuracy: 0.8271\n",
            "Epoch 3/100\n",
            "16/16 [==============================] - 0s 9ms/step - loss: 0.5101 - accuracy: 0.7258 - val_loss: 0.5300 - val_accuracy: 0.7889\n",
            "Epoch 4/100\n",
            "16/16 [==============================] - 0s 8ms/step - loss: 0.5079 - accuracy: 0.7319 - val_loss: 0.4603 - val_accuracy: 0.8366\n",
            "Epoch 5/100\n",
            "16/16 [==============================] - 0s 9ms/step - loss: 0.5002 - accuracy: 0.7342 - val_loss: 0.5692 - val_accuracy: 0.7518\n",
            "Epoch 6/100\n",
            "16/16 [==============================] - 0s 7ms/step - loss: 0.5022 - accuracy: 0.7350 - val_loss: 0.5285 - val_accuracy: 0.7962\n",
            "Epoch 7/100\n",
            "16/16 [==============================] - 0s 11ms/step - loss: 0.4980 - accuracy: 0.7397 - val_loss: 0.5541 - val_accuracy: 0.7760\n",
            "Epoch 8/100\n",
            "16/16 [==============================] - 0s 13ms/step - loss: 0.4939 - accuracy: 0.7407 - val_loss: 0.4685 - val_accuracy: 0.7569\n",
            "Epoch 9/100\n",
            "16/16 [==============================] - 0s 13ms/step - loss: 0.4923 - accuracy: 0.7402 - val_loss: 0.5517 - val_accuracy: 0.7619\n",
            "Epoch 10/100\n",
            "16/16 [==============================] - 0s 10ms/step - loss: 0.4909 - accuracy: 0.7469 - val_loss: 0.6160 - val_accuracy: 0.7159\n",
            "Epoch 11/100\n",
            "16/16 [==============================] - 0s 8ms/step - loss: 0.4872 - accuracy: 0.7466 - val_loss: 0.4299 - val_accuracy: 0.8518\n",
            "Epoch 12/100\n",
            "16/16 [==============================] - 0s 12ms/step - loss: 0.4837 - accuracy: 0.7499 - val_loss: 0.6148 - val_accuracy: 0.7198\n",
            "Epoch 13/100\n",
            "16/16 [==============================] - 0s 8ms/step - loss: 0.4852 - accuracy: 0.7500 - val_loss: 0.5650 - val_accuracy: 0.6513\n",
            "Epoch 14/100\n",
            "16/16 [==============================] - 0s 13ms/step - loss: 0.4774 - accuracy: 0.7495 - val_loss: 0.5028 - val_accuracy: 0.8074\n",
            "Epoch 15/100\n",
            "16/16 [==============================] - 0s 10ms/step - loss: 0.4825 - accuracy: 0.7504 - val_loss: 0.5034 - val_accuracy: 0.8029\n",
            "Epoch 16/100\n",
            "16/16 [==============================] - 0s 9ms/step - loss: 0.4748 - accuracy: 0.7520 - val_loss: 0.4260 - val_accuracy: 0.8473\n",
            "Epoch 17/100\n",
            "16/16 [==============================] - 0s 9ms/step - loss: 0.4734 - accuracy: 0.7515 - val_loss: 0.4813 - val_accuracy: 0.8113\n",
            "Epoch 18/100\n",
            "16/16 [==============================] - 0s 10ms/step - loss: 0.4744 - accuracy: 0.7575 - val_loss: 0.4068 - val_accuracy: 0.8641\n",
            "Epoch 19/100\n",
            "16/16 [==============================] - 0s 9ms/step - loss: 0.4700 - accuracy: 0.7556 - val_loss: 0.6889 - val_accuracy: 0.6682\n",
            "Epoch 20/100\n",
            "16/16 [==============================] - 0s 10ms/step - loss: 0.4679 - accuracy: 0.7602 - val_loss: 0.4875 - val_accuracy: 0.7456\n",
            "Epoch 21/100\n",
            "16/16 [==============================] - 0s 15ms/step - loss: 0.4691 - accuracy: 0.7582 - val_loss: 0.4643 - val_accuracy: 0.8366\n",
            "Epoch 22/100\n",
            "16/16 [==============================] - 0s 10ms/step - loss: 0.4664 - accuracy: 0.7560 - val_loss: 0.4704 - val_accuracy: 0.8276\n",
            "Epoch 23/100\n",
            "16/16 [==============================] - 0s 9ms/step - loss: 0.4640 - accuracy: 0.7649 - val_loss: 0.5309 - val_accuracy: 0.7816\n",
            "Epoch 24/100\n",
            "16/16 [==============================] - 0s 11ms/step - loss: 0.4634 - accuracy: 0.7624 - val_loss: 0.4446 - val_accuracy: 0.8450\n",
            "Epoch 25/100\n",
            "16/16 [==============================] - 0s 19ms/step - loss: 0.4619 - accuracy: 0.7597 - val_loss: 0.4297 - val_accuracy: 0.8433\n",
            "Epoch 26/100\n",
            "16/16 [==============================] - 0s 13ms/step - loss: 0.4612 - accuracy: 0.7646 - val_loss: 0.6261 - val_accuracy: 0.7086\n",
            "Epoch 27/100\n",
            "16/16 [==============================] - 0s 18ms/step - loss: 0.4562 - accuracy: 0.7695 - val_loss: 0.4229 - val_accuracy: 0.8551\n",
            "Epoch 28/100\n",
            "16/16 [==============================] - 0s 12ms/step - loss: 0.4547 - accuracy: 0.7668 - val_loss: 0.5796 - val_accuracy: 0.7569\n",
            "Epoch 29/100\n",
            "16/16 [==============================] - 0s 4ms/step - loss: 0.4553 - accuracy: 0.7666 - val_loss: 0.4336 - val_accuracy: 0.8462\n",
            "Epoch 30/100\n",
            "16/16 [==============================] - 0s 4ms/step - loss: 0.4503 - accuracy: 0.7697 - val_loss: 0.4808 - val_accuracy: 0.8214\n",
            "Epoch 31/100\n",
            "16/16 [==============================] - 0s 4ms/step - loss: 0.4531 - accuracy: 0.7654 - val_loss: 0.5717 - val_accuracy: 0.7558\n",
            "Epoch 32/100\n",
            "16/16 [==============================] - 0s 4ms/step - loss: 0.4516 - accuracy: 0.7681 - val_loss: 0.4721 - val_accuracy: 0.8220\n",
            "Epoch 33/100\n",
            "16/16 [==============================] - 0s 4ms/step - loss: 0.4474 - accuracy: 0.7699 - val_loss: 0.5011 - val_accuracy: 0.8147\n",
            "Epoch 34/100\n",
            "16/16 [==============================] - 0s 4ms/step - loss: 0.4500 - accuracy: 0.7692 - val_loss: 0.5619 - val_accuracy: 0.7670\n",
            "Epoch 35/100\n",
            "16/16 [==============================] - 0s 5ms/step - loss: 0.4434 - accuracy: 0.7733 - val_loss: 0.5618 - val_accuracy: 0.7243\n",
            "Epoch 36/100\n",
            "16/16 [==============================] - 0s 5ms/step - loss: 0.4463 - accuracy: 0.7708 - val_loss: 0.5437 - val_accuracy: 0.7423\n",
            "Epoch 37/100\n",
            "16/16 [==============================] - 0s 5ms/step - loss: 0.4443 - accuracy: 0.7691 - val_loss: 0.4154 - val_accuracy: 0.8591\n",
            "Epoch 38/100\n",
            "16/16 [==============================] - 0s 5ms/step - loss: 0.4422 - accuracy: 0.7724 - val_loss: 0.5075 - val_accuracy: 0.8080\n",
            "Epoch 39/100\n",
            "16/16 [==============================] - 0s 6ms/step - loss: 0.4430 - accuracy: 0.7739 - val_loss: 0.5490 - val_accuracy: 0.7850\n",
            "Epoch 40/100\n",
            "16/16 [==============================] - 0s 5ms/step - loss: 0.4369 - accuracy: 0.7761 - val_loss: 0.4256 - val_accuracy: 0.8506\n",
            "Epoch 41/100\n",
            "16/16 [==============================] - 0s 5ms/step - loss: 0.4387 - accuracy: 0.7769 - val_loss: 0.5066 - val_accuracy: 0.8091\n",
            "Epoch 42/100\n",
            "16/16 [==============================] - 0s 5ms/step - loss: 0.4360 - accuracy: 0.7767 - val_loss: 0.4147 - val_accuracy: 0.8585\n",
            "Epoch 43/100\n",
            "16/16 [==============================] - 0s 4ms/step - loss: 0.4392 - accuracy: 0.7747 - val_loss: 0.5498 - val_accuracy: 0.7821\n",
            "Epoch 44/100\n",
            "16/16 [==============================] - 0s 4ms/step - loss: 0.4345 - accuracy: 0.7801 - val_loss: 0.4464 - val_accuracy: 0.8389\n",
            "Epoch 45/100\n",
            "16/16 [==============================] - 0s 4ms/step - loss: 0.4328 - accuracy: 0.7792 - val_loss: 0.4848 - val_accuracy: 0.8153\n",
            "Epoch 46/100\n",
            "16/16 [==============================] - 0s 4ms/step - loss: 0.4365 - accuracy: 0.7761 - val_loss: 0.4189 - val_accuracy: 0.8490\n",
            "Epoch 47/100\n",
            "16/16 [==============================] - 0s 5ms/step - loss: 0.4315 - accuracy: 0.7779 - val_loss: 0.4664 - val_accuracy: 0.8282\n",
            "Epoch 48/100\n",
            "16/16 [==============================] - 0s 4ms/step - loss: 0.4286 - accuracy: 0.7821 - val_loss: 0.4826 - val_accuracy: 0.8046\n",
            "Epoch 49/100\n",
            "16/16 [==============================] - 0s 4ms/step - loss: 0.4309 - accuracy: 0.7821 - val_loss: 0.4498 - val_accuracy: 0.8332\n",
            "Epoch 50/100\n",
            "16/16 [==============================] - 0s 5ms/step - loss: 0.4282 - accuracy: 0.7809 - val_loss: 0.5387 - val_accuracy: 0.7821\n",
            "Epoch 51/100\n",
            "16/16 [==============================] - 0s 4ms/step - loss: 0.4261 - accuracy: 0.7836 - val_loss: 0.4496 - val_accuracy: 0.8349\n",
            "Epoch 52/100\n",
            "16/16 [==============================] - 0s 4ms/step - loss: 0.4259 - accuracy: 0.7811 - val_loss: 0.4557 - val_accuracy: 0.8321\n",
            "Epoch 53/100\n",
            "16/16 [==============================] - 0s 5ms/step - loss: 0.4247 - accuracy: 0.7834 - val_loss: 0.4927 - val_accuracy: 0.8198\n",
            "Epoch 54/100\n",
            "16/16 [==============================] - 0s 5ms/step - loss: 0.4231 - accuracy: 0.7816 - val_loss: 0.4595 - val_accuracy: 0.7979\n",
            "Epoch 55/100\n",
            "16/16 [==============================] - 0s 4ms/step - loss: 0.4193 - accuracy: 0.7858 - val_loss: 0.4452 - val_accuracy: 0.8439\n",
            "Epoch 56/100\n",
            "16/16 [==============================] - 0s 4ms/step - loss: 0.4202 - accuracy: 0.7859 - val_loss: 0.4283 - val_accuracy: 0.8540\n",
            "Epoch 57/100\n",
            "16/16 [==============================] - 0s 4ms/step - loss: 0.4190 - accuracy: 0.7866 - val_loss: 0.5586 - val_accuracy: 0.7069\n",
            "Epoch 58/100\n",
            "16/16 [==============================] - 0s 4ms/step - loss: 0.4148 - accuracy: 0.7855 - val_loss: 0.5012 - val_accuracy: 0.6873\n",
            "Epoch 59/100\n",
            "16/16 [==============================] - 0s 5ms/step - loss: 0.4162 - accuracy: 0.7886 - val_loss: 0.5698 - val_accuracy: 0.6732\n",
            "Epoch 60/100\n",
            "16/16 [==============================] - 0s 5ms/step - loss: 0.4134 - accuracy: 0.7892 - val_loss: 0.4460 - val_accuracy: 0.8462\n",
            "Epoch 61/100\n",
            "16/16 [==============================] - 0s 4ms/step - loss: 0.4156 - accuracy: 0.7887 - val_loss: 0.5012 - val_accuracy: 0.8007\n",
            "Epoch 62/100\n",
            "16/16 [==============================] - 0s 4ms/step - loss: 0.4156 - accuracy: 0.7919 - val_loss: 0.4827 - val_accuracy: 0.8198\n",
            "Epoch 63/100\n",
            "16/16 [==============================] - 0s 5ms/step - loss: 0.4108 - accuracy: 0.7901 - val_loss: 0.5847 - val_accuracy: 0.7591\n",
            "Epoch 64/100\n",
            "16/16 [==============================] - 0s 4ms/step - loss: 0.4145 - accuracy: 0.7901 - val_loss: 0.4939 - val_accuracy: 0.8018\n",
            "Epoch 65/100\n",
            "16/16 [==============================] - 0s 4ms/step - loss: 0.4033 - accuracy: 0.7962 - val_loss: 0.4214 - val_accuracy: 0.8591\n",
            "Epoch 66/100\n",
            "16/16 [==============================] - 0s 4ms/step - loss: 0.4106 - accuracy: 0.7918 - val_loss: 0.4115 - val_accuracy: 0.8608\n",
            "Epoch 67/100\n",
            "16/16 [==============================] - 0s 4ms/step - loss: 0.4094 - accuracy: 0.7908 - val_loss: 0.5075 - val_accuracy: 0.8069\n",
            "Epoch 68/100\n",
            "16/16 [==============================] - 0s 4ms/step - loss: 0.4021 - accuracy: 0.7947 - val_loss: 0.4903 - val_accuracy: 0.7249\n",
            "Epoch 69/100\n",
            "16/16 [==============================] - 0s 4ms/step - loss: 0.4112 - accuracy: 0.7909 - val_loss: 0.5594 - val_accuracy: 0.7120\n",
            "Epoch 70/100\n",
            "16/16 [==============================] - 0s 4ms/step - loss: 0.4077 - accuracy: 0.7891 - val_loss: 0.5019 - val_accuracy: 0.8147\n",
            "Epoch 71/100\n",
            "16/16 [==============================] - 0s 5ms/step - loss: 0.3982 - accuracy: 0.7984 - val_loss: 0.4429 - val_accuracy: 0.8394\n",
            "Epoch 72/100\n",
            "16/16 [==============================] - 0s 5ms/step - loss: 0.4083 - accuracy: 0.7909 - val_loss: 0.4321 - val_accuracy: 0.8501\n",
            "Epoch 73/100\n",
            "16/16 [==============================] - 0s 5ms/step - loss: 0.4010 - accuracy: 0.7969 - val_loss: 0.4072 - val_accuracy: 0.8624\n",
            "Epoch 74/100\n",
            "16/16 [==============================] - 0s 4ms/step - loss: 0.4041 - accuracy: 0.7942 - val_loss: 0.4180 - val_accuracy: 0.8596\n",
            "Epoch 75/100\n",
            "16/16 [==============================] - 0s 5ms/step - loss: 0.4018 - accuracy: 0.7967 - val_loss: 0.5316 - val_accuracy: 0.8029\n",
            "Epoch 76/100\n",
            "16/16 [==============================] - 0s 5ms/step - loss: 0.3973 - accuracy: 0.7985 - val_loss: 0.5075 - val_accuracy: 0.8102\n",
            "Epoch 77/100\n",
            "16/16 [==============================] - 0s 5ms/step - loss: 0.3979 - accuracy: 0.7994 - val_loss: 0.4186 - val_accuracy: 0.8579\n",
            "Epoch 78/100\n",
            "16/16 [==============================] - 0s 4ms/step - loss: 0.3962 - accuracy: 0.7975 - val_loss: 0.4619 - val_accuracy: 0.8389\n",
            "Epoch 79/100\n",
            "16/16 [==============================] - 0s 4ms/step - loss: 0.3989 - accuracy: 0.7985 - val_loss: 0.4737 - val_accuracy: 0.8248\n",
            "Epoch 80/100\n",
            "16/16 [==============================] - 0s 5ms/step - loss: 0.3928 - accuracy: 0.8035 - val_loss: 0.5172 - val_accuracy: 0.8102\n",
            "Epoch 81/100\n",
            "16/16 [==============================] - 0s 4ms/step - loss: 0.3940 - accuracy: 0.8015 - val_loss: 0.6696 - val_accuracy: 0.7187\n",
            "Epoch 82/100\n",
            "16/16 [==============================] - 0s 4ms/step - loss: 0.3905 - accuracy: 0.8030 - val_loss: 0.4731 - val_accuracy: 0.8344\n",
            "Epoch 83/100\n",
            "16/16 [==============================] - 0s 4ms/step - loss: 0.3949 - accuracy: 0.7988 - val_loss: 0.4167 - val_accuracy: 0.8652\n",
            "Epoch 84/100\n",
            "16/16 [==============================] - 0s 4ms/step - loss: 0.3894 - accuracy: 0.8020 - val_loss: 0.5573 - val_accuracy: 0.7939\n",
            "Epoch 85/100\n",
            "16/16 [==============================] - 0s 5ms/step - loss: 0.3923 - accuracy: 0.8031 - val_loss: 0.4954 - val_accuracy: 0.8181\n",
            "Epoch 86/100\n",
            "16/16 [==============================] - 0s 5ms/step - loss: 0.3917 - accuracy: 0.8013 - val_loss: 0.4731 - val_accuracy: 0.8287\n",
            "Epoch 87/100\n",
            "16/16 [==============================] - 0s 4ms/step - loss: 0.3883 - accuracy: 0.8055 - val_loss: 0.5746 - val_accuracy: 0.7591\n",
            "Epoch 88/100\n",
            "16/16 [==============================] - 0s 4ms/step - loss: 0.3832 - accuracy: 0.8073 - val_loss: 0.4188 - val_accuracy: 0.8697\n",
            "Epoch 89/100\n",
            "16/16 [==============================] - 0s 5ms/step - loss: 0.3888 - accuracy: 0.8063 - val_loss: 0.4017 - val_accuracy: 0.8725\n",
            "Epoch 90/100\n",
            "16/16 [==============================] - 0s 4ms/step - loss: 0.3885 - accuracy: 0.8027 - val_loss: 0.4405 - val_accuracy: 0.8506\n",
            "Epoch 91/100\n",
            "16/16 [==============================] - 0s 6ms/step - loss: 0.3827 - accuracy: 0.8067 - val_loss: 0.4118 - val_accuracy: 0.8793\n",
            "Epoch 92/100\n",
            "16/16 [==============================] - 0s 4ms/step - loss: 0.3827 - accuracy: 0.8095 - val_loss: 0.4731 - val_accuracy: 0.7339\n",
            "Epoch 93/100\n",
            "16/16 [==============================] - 0s 5ms/step - loss: 0.3848 - accuracy: 0.8034 - val_loss: 0.5195 - val_accuracy: 0.8097\n",
            "Epoch 94/100\n",
            "16/16 [==============================] - 0s 4ms/step - loss: 0.3787 - accuracy: 0.8087 - val_loss: 0.4388 - val_accuracy: 0.8462\n",
            "Epoch 95/100\n",
            "16/16 [==============================] - 0s 4ms/step - loss: 0.3845 - accuracy: 0.8065 - val_loss: 0.4757 - val_accuracy: 0.8310\n",
            "Epoch 96/100\n",
            "16/16 [==============================] - 0s 5ms/step - loss: 0.3845 - accuracy: 0.8039 - val_loss: 0.5229 - val_accuracy: 0.6850\n",
            "Epoch 97/100\n",
            "16/16 [==============================] - 0s 4ms/step - loss: 0.3789 - accuracy: 0.8065 - val_loss: 0.4558 - val_accuracy: 0.8433\n",
            "Epoch 98/100\n",
            "16/16 [==============================] - 0s 4ms/step - loss: 0.3806 - accuracy: 0.8049 - val_loss: 0.5334 - val_accuracy: 0.7956\n",
            "Epoch 99/100\n",
            "16/16 [==============================] - 0s 5ms/step - loss: 0.3732 - accuracy: 0.8130 - val_loss: 0.4581 - val_accuracy: 0.8439\n",
            "Epoch 100/100\n",
            "16/16 [==============================] - 0s 4ms/step - loss: 0.3810 - accuracy: 0.8058 - val_loss: 0.4481 - val_accuracy: 0.8462\n"
          ]
        }
      ]
    },
    {
      "cell_type": "code",
      "source": [
        "loss = smaller_hist.history['loss']\n",
        "val_loss = smaller_hist.history['val_loss']\n",
        "\n",
        "epochs = range(1, len(loss) + 1)\n",
        "\n",
        "plt.plot(epochs, loss, 'bo', label='Training loss')\n",
        "plt.plot(epochs, val_loss, 'b', label='Validation loss')\n",
        "plt.title('Training and validation loss')\n",
        "plt.xlabel('Epochs')\n",
        "plt.ylabel('Loss')\n",
        "plt.legend()\n",
        "\n",
        "plt.show()\n",
        "\n",
        "acc = smaller_hist.history['accuracy']\n",
        "val_acc = smaller_hist.history['val_accuracy']\n",
        "\n",
        "plt.plot(epochs, acc, 'bo', label='Training acc')\n",
        "plt.plot(epochs, val_acc, 'b', label='Validation acc')\n",
        "plt.title('Training and validation accuracy')\n",
        "plt.xlabel('Epochs')\n",
        "plt.ylabel('Accuracy')\n",
        "plt.legend()\n",
        "\n",
        "plt.show()"
      ],
      "metadata": {
        "colab": {
          "base_uri": "https://localhost:8080/",
          "height": 573
        },
        "id": "NZ7RexfRqCdF",
        "outputId": "d9b1fc19-6e58-4e1e-ac8c-3ec5d909ceb7"
      },
      "execution_count": 81,
      "outputs": [
        {
          "output_type": "display_data",
          "data": {
            "text/plain": [
              "<Figure size 432x288 with 1 Axes>"
            ],
            "image/png": "[encoded data removed]"
          },
          "metadata": {
            "needs_background": "light"
          }
        },
        {
          "output_type": "display_data",
          "data": {
            "text/plain": [
              "<Figure size 432x288 with 1 Axes>"
            ],
            "image/png": "[encoded data removed]"
          },
          "metadata": {
            "needs_background": "light"
          }
        }
      ]
    },
    {
      "cell_type": "markdown",
      "source": [
        "아까는 training 근처에서 변동성이 심했음"
      ],
      "metadata": {
        "id": "GAKVKpftGlXW"
      }
    },
    {
      "cell_type": "code",
      "source": [
        "#32개노드와 8개노드 각 모델 비교해보기 : 에폭값이 같아야 같이 찍어짐\n",
        "hist_dict = history.history\n",
        "smaller_dict = smaller_hist.history\n",
        "\n",
        "val_acc = hist_dict['val_accuracy']\n",
        "val_loss = hist_dict['val_loss']\n",
        "smaller_val_acc = smaller_dict['val_accuracy']\n",
        "smaller_val_loss = smaller_dict['val_loss']\n",
        "\n",
        "epochs = range(1, len(val_acc)+1)\n",
        "\n",
        "# ‘b’는 파란색 실선, 'r'은 빨간색 실선을 의미합니다\n",
        "plt.plot(epochs, smaller_val_acc, 'b', label='Smaller model')\n",
        "plt.plot(epochs, val_acc, 'r', label='Original model')\n",
        "plt.xlabel('Epochs')\n",
        "plt.ylabel('Accuracy')\n",
        "plt.legend()\n",
        "plt.show()\n",
        "\n",
        "# ‘b’는 파란색 실선, 'r'은 빨간색 실선을 의미합니다\n",
        "plt.plot(epochs, smaller_val_loss, 'b', label='Smaller model')\n",
        "plt.plot(epochs, val_loss, 'r', label='Original model')\n",
        "plt.xlabel('Epochs')\n",
        "plt.ylabel('Loss')\n",
        "plt.legend()\n",
        "plt.show()"
      ],
      "metadata": {
        "colab": {
          "base_uri": "https://localhost:8080/",
          "height": 541
        },
        "id": "QpXf79Plt8DO",
        "outputId": "b8bea67e-eecd-4978-862d-1226999d3583"
      },
      "execution_count": 82,
      "outputs": [
        {
          "output_type": "display_data",
          "data": {
            "text/plain": [
              "<Figure size 432x288 with 1 Axes>"
            ],
            "image/png": "[encoded data removed]"
          },
          "metadata": {
            "needs_background": "light"
          }
        },
        {
          "output_type": "display_data",
          "data": {
            "text/plain": [
              "<Figure size 432x288 with 1 Axes>"
            ],
            "image/png": "[encoded data removed]"
          },
          "metadata": {
            "needs_background": "light"
          }
        }
      ]
    },
    {
      "cell_type": "code",
      "source": [],
      "metadata": {
        "id": "cFeGujMBS70x"
      },
      "execution_count": null,
      "outputs": []
    },
    {
      "cell_type": "markdown",
      "source": [
        "1. acc 보면 파란색이 미세하게 낮은걸 볼수있음 -> 학습을 덜 하고있다.\n",
        "\n",
        "2. loss 빨간색의 손실값이 낮은걸 알수있음 -> 용량이 클 수록 잘한다\n",
        "\n",
        "=> 노드수 키워서 해볼까?"
      ],
      "metadata": {
        "id": "cGIcZOAfuXNM"
      }
    },
    {
      "cell_type": "markdown",
      "source": [
        "##노드수 키운 모델"
      ],
      "metadata": {
        "id": "2BQXeEF1S14X"
      }
    },
    {
      "cell_type": "code",
      "source": [
        "bigger = models.Sequential()\n",
        "bigger.add(Dense(128, input_dim = 84, activation='relu'))\n",
        "bigger.add(Dense(128, activation='relu'))\n",
        "bigger.add(Dense(1, activation='sigmoid'))\n",
        "\n",
        "bigger.compile(optimizer='rmsprop',\n",
        "                loss='binary_crossentropy',\n",
        "                metrics=['accuracy'])"
      ],
      "metadata": {
        "id": "HZpP1h0ruUv4"
      },
      "execution_count": 83,
      "outputs": []
    },
    {
      "cell_type": "code",
      "source": [
        "bigger_hist = bigger.fit(X_train_over,y_train_over,epochs=100,batch_size=512,validation_data=(X_test, y_test))"
      ],
      "metadata": {
        "id": "OgPZtQXqueEg",
        "colab": {
          "base_uri": "https://localhost:8080/"
        },
        "outputId": "321f8d4e-3ac5-4e5b-cf75-fb54b99fdb8b"
      },
      "execution_count": 84,
      "outputs": [
        {
          "output_type": "stream",
          "name": "stdout",
          "text": [
            "Epoch 1/100\n",
            "16/16 [==============================] - 3s 44ms/step - loss: 1.2326 - accuracy: 0.5427 - val_loss: 0.9972 - val_accuracy: 0.3071\n",
            "Epoch 2/100\n",
            "16/16 [==============================] - 0s 13ms/step - loss: 0.7592 - accuracy: 0.5869 - val_loss: 0.9098 - val_accuracy: 0.3279\n",
            "Epoch 3/100\n",
            "16/16 [==============================] - 0s 12ms/step - loss: 0.7057 - accuracy: 0.6011 - val_loss: 1.0875 - val_accuracy: 0.2296\n",
            "Epoch 4/100\n",
            "16/16 [==============================] - 0s 14ms/step - loss: 0.6641 - accuracy: 0.6246 - val_loss: 0.9722 - val_accuracy: 0.2981\n",
            "Epoch 5/100\n",
            "16/16 [==============================] - 0s 14ms/step - loss: 0.6491 - accuracy: 0.6314 - val_loss: 1.1081 - val_accuracy: 0.2369\n",
            "Epoch 6/100\n",
            "16/16 [==============================] - 0s 12ms/step - loss: 0.6125 - accuracy: 0.6591 - val_loss: 1.0656 - val_accuracy: 0.2880\n",
            "Epoch 7/100\n",
            "16/16 [==============================] - 0s 14ms/step - loss: 0.6376 - accuracy: 0.6423 - val_loss: 0.7532 - val_accuracy: 0.5087\n",
            "Epoch 8/100\n",
            "16/16 [==============================] - 0s 13ms/step - loss: 0.5484 - accuracy: 0.7115 - val_loss: 0.8015 - val_accuracy: 0.4975\n",
            "Epoch 9/100\n",
            "16/16 [==============================] - 0s 8ms/step - loss: 0.5550 - accuracy: 0.7168 - val_loss: 0.3617 - val_accuracy: 0.8815\n",
            "Epoch 10/100\n",
            "16/16 [==============================] - 0s 7ms/step - loss: 0.5693 - accuracy: 0.6973 - val_loss: 0.4228 - val_accuracy: 0.8529\n",
            "Epoch 11/100\n",
            "16/16 [==============================] - 0s 8ms/step - loss: 0.5153 - accuracy: 0.7356 - val_loss: 0.3034 - val_accuracy: 0.9197\n",
            "Epoch 12/100\n",
            "16/16 [==============================] - 0s 7ms/step - loss: 0.5063 - accuracy: 0.7351 - val_loss: 0.4614 - val_accuracy: 0.8214\n",
            "Epoch 13/100\n",
            "16/16 [==============================] - 0s 7ms/step - loss: 0.4675 - accuracy: 0.7748 - val_loss: 1.0007 - val_accuracy: 0.4649\n",
            "Epoch 14/100\n",
            "16/16 [==============================] - 0s 7ms/step - loss: 0.4811 - accuracy: 0.7793 - val_loss: 1.3621 - val_accuracy: 0.2184\n",
            "Epoch 15/100\n",
            "16/16 [==============================] - 0s 9ms/step - loss: 0.4873 - accuracy: 0.7625 - val_loss: 0.2896 - val_accuracy: 0.9186\n",
            "Epoch 16/100\n",
            "16/16 [==============================] - 0s 7ms/step - loss: 0.4532 - accuracy: 0.7799 - val_loss: 0.3297 - val_accuracy: 0.8995\n",
            "Epoch 17/100\n",
            "16/16 [==============================] - 0s 7ms/step - loss: 0.4466 - accuracy: 0.7731 - val_loss: 0.2563 - val_accuracy: 0.9304\n",
            "Epoch 18/100\n",
            "16/16 [==============================] - 0s 7ms/step - loss: 0.4238 - accuracy: 0.7950 - val_loss: 0.2808 - val_accuracy: 0.9276\n",
            "Epoch 19/100\n",
            "16/16 [==============================] - 0s 9ms/step - loss: 0.4155 - accuracy: 0.8021 - val_loss: 0.7403 - val_accuracy: 0.5935\n",
            "Epoch 20/100\n",
            "16/16 [==============================] - 0s 7ms/step - loss: 0.3961 - accuracy: 0.8157 - val_loss: 0.8097 - val_accuracy: 0.5744\n",
            "Epoch 21/100\n",
            "16/16 [==============================] - 0s 8ms/step - loss: 0.3960 - accuracy: 0.8214 - val_loss: 0.4881 - val_accuracy: 0.7939\n",
            "Epoch 22/100\n",
            "16/16 [==============================] - 0s 7ms/step - loss: 0.3707 - accuracy: 0.8316 - val_loss: 0.8354 - val_accuracy: 0.5654\n",
            "Epoch 23/100\n",
            "16/16 [==============================] - 0s 8ms/step - loss: 0.3660 - accuracy: 0.8302 - val_loss: 0.6568 - val_accuracy: 0.6631\n",
            "Epoch 24/100\n",
            "16/16 [==============================] - 0s 8ms/step - loss: 0.3505 - accuracy: 0.8468 - val_loss: 0.3447 - val_accuracy: 0.8894\n",
            "Epoch 25/100\n",
            "16/16 [==============================] - 0s 8ms/step - loss: 0.3569 - accuracy: 0.8376 - val_loss: 0.2615 - val_accuracy: 0.9343\n",
            "Epoch 26/100\n",
            "16/16 [==============================] - 0s 8ms/step - loss: 0.3204 - accuracy: 0.8647 - val_loss: 0.2991 - val_accuracy: 0.9130\n",
            "Epoch 27/100\n",
            "16/16 [==============================] - 0s 8ms/step - loss: 0.3229 - accuracy: 0.8637 - val_loss: 0.7360 - val_accuracy: 0.6373\n",
            "Epoch 28/100\n",
            "16/16 [==============================] - 0s 7ms/step - loss: 0.3153 - accuracy: 0.8644 - val_loss: 0.5439 - val_accuracy: 0.7524\n",
            "Epoch 29/100\n",
            "16/16 [==============================] - 0s 8ms/step - loss: 0.2945 - accuracy: 0.8765 - val_loss: 0.5080 - val_accuracy: 0.7720\n",
            "Epoch 30/100\n",
            "16/16 [==============================] - 0s 8ms/step - loss: 0.3228 - accuracy: 0.8547 - val_loss: 0.5457 - val_accuracy: 0.7563\n",
            "Epoch 31/100\n",
            "16/16 [==============================] - 0s 7ms/step - loss: 0.2749 - accuracy: 0.8884 - val_loss: 0.5848 - val_accuracy: 0.7327\n",
            "Epoch 32/100\n",
            "16/16 [==============================] - 0s 8ms/step - loss: 0.2854 - accuracy: 0.8799 - val_loss: 0.3592 - val_accuracy: 0.8787\n",
            "Epoch 33/100\n",
            "16/16 [==============================] - 0s 8ms/step - loss: 0.2693 - accuracy: 0.8924 - val_loss: 0.4639 - val_accuracy: 0.8141\n",
            "Epoch 34/100\n",
            "16/16 [==============================] - 0s 7ms/step - loss: 0.2552 - accuracy: 0.8996 - val_loss: 0.8496 - val_accuracy: 0.5873\n",
            "Epoch 35/100\n",
            "16/16 [==============================] - 0s 7ms/step - loss: 0.2534 - accuracy: 0.8970 - val_loss: 0.9333 - val_accuracy: 0.5497\n",
            "Epoch 36/100\n",
            "16/16 [==============================] - 0s 9ms/step - loss: 0.2346 - accuracy: 0.9100 - val_loss: 0.2768 - val_accuracy: 0.9377\n",
            "Epoch 37/100\n",
            "16/16 [==============================] - 0s 7ms/step - loss: 0.2405 - accuracy: 0.9027 - val_loss: 0.2906 - val_accuracy: 0.9354\n",
            "Epoch 38/100\n",
            "16/16 [==============================] - 0s 8ms/step - loss: 0.2388 - accuracy: 0.9073 - val_loss: 0.3335 - val_accuracy: 0.8911\n",
            "Epoch 39/100\n",
            "16/16 [==============================] - 0s 7ms/step - loss: 0.2326 - accuracy: 0.9069 - val_loss: 0.4064 - val_accuracy: 0.8462\n",
            "Epoch 40/100\n",
            "16/16 [==============================] - 0s 7ms/step - loss: 0.2209 - accuracy: 0.9152 - val_loss: 0.3477 - val_accuracy: 0.8894\n",
            "Epoch 41/100\n",
            "16/16 [==============================] - 0s 7ms/step - loss: 0.1980 - accuracy: 0.9264 - val_loss: 0.3072 - val_accuracy: 0.9349\n",
            "Epoch 42/100\n",
            "16/16 [==============================] - 0s 8ms/step - loss: 0.2173 - accuracy: 0.9140 - val_loss: 0.3457 - val_accuracy: 0.9090\n",
            "Epoch 43/100\n",
            "16/16 [==============================] - 0s 7ms/step - loss: 0.2196 - accuracy: 0.9123 - val_loss: 0.3819 - val_accuracy: 0.8636\n",
            "Epoch 44/100\n",
            "16/16 [==============================] - 0s 8ms/step - loss: 0.1931 - accuracy: 0.9280 - val_loss: 0.3689 - val_accuracy: 0.8782\n",
            "Epoch 45/100\n",
            "16/16 [==============================] - 0s 7ms/step - loss: 0.1977 - accuracy: 0.9224 - val_loss: 0.3724 - val_accuracy: 0.8759\n",
            "Epoch 46/100\n",
            "16/16 [==============================] - 0s 7ms/step - loss: 0.1778 - accuracy: 0.9344 - val_loss: 0.3359 - val_accuracy: 0.9169\n",
            "Epoch 47/100\n",
            "16/16 [==============================] - 0s 7ms/step - loss: 0.1597 - accuracy: 0.9452 - val_loss: 0.4411 - val_accuracy: 0.8422\n",
            "Epoch 48/100\n",
            "16/16 [==============================] - 0s 7ms/step - loss: 0.1937 - accuracy: 0.9250 - val_loss: 0.4244 - val_accuracy: 0.8551\n",
            "Epoch 49/100\n",
            "16/16 [==============================] - 0s 8ms/step - loss: 0.1821 - accuracy: 0.9288 - val_loss: 0.3386 - val_accuracy: 0.9225\n",
            "Epoch 50/100\n",
            "16/16 [==============================] - 0s 8ms/step - loss: 0.1898 - accuracy: 0.9273 - val_loss: 0.3544 - val_accuracy: 0.8933\n",
            "Epoch 51/100\n",
            "16/16 [==============================] - 0s 8ms/step - loss: 0.1452 - accuracy: 0.9510 - val_loss: 0.4880 - val_accuracy: 0.8226\n",
            "Epoch 52/100\n",
            "16/16 [==============================] - 0s 8ms/step - loss: 0.1493 - accuracy: 0.9480 - val_loss: 0.4120 - val_accuracy: 0.8725\n",
            "Epoch 53/100\n",
            "16/16 [==============================] - 0s 7ms/step - loss: 0.1702 - accuracy: 0.9382 - val_loss: 0.4091 - val_accuracy: 0.8692\n",
            "Epoch 54/100\n",
            "16/16 [==============================] - 0s 7ms/step - loss: 0.1581 - accuracy: 0.9418 - val_loss: 0.5940 - val_accuracy: 0.7939\n",
            "Epoch 55/100\n",
            "16/16 [==============================] - 0s 8ms/step - loss: 0.1307 - accuracy: 0.9581 - val_loss: 0.4350 - val_accuracy: 0.8939\n",
            "Epoch 56/100\n",
            "16/16 [==============================] - 0s 12ms/step - loss: 0.1713 - accuracy: 0.9335 - val_loss: 0.3563 - val_accuracy: 0.9214\n",
            "Epoch 57/100\n",
            "16/16 [==============================] - 0s 9ms/step - loss: 0.1341 - accuracy: 0.9548 - val_loss: 0.3713 - val_accuracy: 0.9062\n",
            "Epoch 58/100\n",
            "16/16 [==============================] - 0s 8ms/step - loss: 0.1464 - accuracy: 0.9441 - val_loss: 0.3668 - val_accuracy: 0.9102\n",
            "Epoch 59/100\n",
            "16/16 [==============================] - 0s 8ms/step - loss: 0.1401 - accuracy: 0.9485 - val_loss: 0.3682 - val_accuracy: 0.9113\n",
            "Epoch 60/100\n",
            "16/16 [==============================] - 0s 8ms/step - loss: 0.0855 - accuracy: 0.9777 - val_loss: 0.4098 - val_accuracy: 0.8972\n",
            "Epoch 61/100\n",
            "16/16 [==============================] - 0s 8ms/step - loss: 0.1279 - accuracy: 0.9586 - val_loss: 0.4075 - val_accuracy: 0.9029\n",
            "Epoch 62/100\n",
            "16/16 [==============================] - 0s 7ms/step - loss: 0.1546 - accuracy: 0.9418 - val_loss: 0.4154 - val_accuracy: 0.9203\n",
            "Epoch 63/100\n",
            "16/16 [==============================] - 0s 8ms/step - loss: 0.0929 - accuracy: 0.9740 - val_loss: 0.3862 - val_accuracy: 0.9242\n",
            "Epoch 64/100\n",
            "16/16 [==============================] - 0s 8ms/step - loss: 0.1546 - accuracy: 0.9446 - val_loss: 0.4468 - val_accuracy: 0.8765\n",
            "Epoch 65/100\n",
            "16/16 [==============================] - 0s 8ms/step - loss: 0.1463 - accuracy: 0.9442 - val_loss: 0.3717 - val_accuracy: 0.9203\n",
            "Epoch 66/100\n",
            "16/16 [==============================] - 0s 8ms/step - loss: 0.0655 - accuracy: 0.9855 - val_loss: 0.4082 - val_accuracy: 0.9152\n",
            "Epoch 67/100\n",
            "16/16 [==============================] - 0s 7ms/step - loss: 0.1275 - accuracy: 0.9525 - val_loss: 0.4080 - val_accuracy: 0.9062\n",
            "Epoch 68/100\n",
            "16/16 [==============================] - 0s 8ms/step - loss: 0.1208 - accuracy: 0.9575 - val_loss: 0.4067 - val_accuracy: 0.8989\n",
            "Epoch 69/100\n",
            "16/16 [==============================] - 0s 8ms/step - loss: 0.0658 - accuracy: 0.9813 - val_loss: 0.4727 - val_accuracy: 0.9410\n",
            "Epoch 70/100\n",
            "16/16 [==============================] - 0s 7ms/step - loss: 0.1267 - accuracy: 0.9543 - val_loss: 0.4245 - val_accuracy: 0.9062\n",
            "Epoch 71/100\n",
            "16/16 [==============================] - 0s 8ms/step - loss: 0.1009 - accuracy: 0.9633 - val_loss: 0.4095 - val_accuracy: 0.9197\n",
            "Epoch 72/100\n",
            "16/16 [==============================] - 0s 8ms/step - loss: 0.1170 - accuracy: 0.9584 - val_loss: 0.4074 - val_accuracy: 0.8972\n",
            "Epoch 73/100\n",
            "16/16 [==============================] - 0s 8ms/step - loss: 0.0546 - accuracy: 0.9866 - val_loss: 0.7523 - val_accuracy: 0.7479\n",
            "Epoch 74/100\n",
            "16/16 [==============================] - 0s 8ms/step - loss: 0.1164 - accuracy: 0.9585 - val_loss: 0.4533 - val_accuracy: 0.9410\n",
            "Epoch 75/100\n",
            "16/16 [==============================] - 0s 8ms/step - loss: 0.0925 - accuracy: 0.9680 - val_loss: 0.4412 - val_accuracy: 0.9034\n",
            "Epoch 76/100\n",
            "16/16 [==============================] - 0s 8ms/step - loss: 0.1111 - accuracy: 0.9594 - val_loss: 0.4374 - val_accuracy: 0.9017\n",
            "Epoch 77/100\n",
            "16/16 [==============================] - 0s 8ms/step - loss: 0.0809 - accuracy: 0.9735 - val_loss: 0.4294 - val_accuracy: 0.9130\n",
            "Epoch 78/100\n",
            "16/16 [==============================] - 0s 9ms/step - loss: 0.1000 - accuracy: 0.9661 - val_loss: 0.4429 - val_accuracy: 0.9096\n",
            "Epoch 79/100\n",
            "16/16 [==============================] - 0s 7ms/step - loss: 0.0809 - accuracy: 0.9727 - val_loss: 0.4473 - val_accuracy: 0.9264\n",
            "Epoch 80/100\n",
            "16/16 [==============================] - 0s 7ms/step - loss: 0.0716 - accuracy: 0.9777 - val_loss: 0.4595 - val_accuracy: 0.9203\n",
            "Epoch 81/100\n",
            "16/16 [==============================] - 0s 9ms/step - loss: 0.0786 - accuracy: 0.9752 - val_loss: 0.4799 - val_accuracy: 0.9343\n",
            "Epoch 82/100\n",
            "16/16 [==============================] - 0s 7ms/step - loss: 0.0736 - accuracy: 0.9754 - val_loss: 0.4639 - val_accuracy: 0.9152\n",
            "Epoch 83/100\n",
            "16/16 [==============================] - 0s 8ms/step - loss: 0.1244 - accuracy: 0.9508 - val_loss: 0.4422 - val_accuracy: 0.9236\n",
            "Epoch 84/100\n",
            "16/16 [==============================] - 0s 7ms/step - loss: 0.0543 - accuracy: 0.9871 - val_loss: 0.4629 - val_accuracy: 0.9203\n",
            "Epoch 85/100\n",
            "16/16 [==============================] - 0s 8ms/step - loss: 0.1019 - accuracy: 0.9619 - val_loss: 0.4509 - val_accuracy: 0.9096\n",
            "Epoch 86/100\n",
            "16/16 [==============================] - 0s 8ms/step - loss: 0.0734 - accuracy: 0.9744 - val_loss: 0.5140 - val_accuracy: 0.9405\n",
            "Epoch 87/100\n",
            "16/16 [==============================] - 0s 7ms/step - loss: 0.0626 - accuracy: 0.9812 - val_loss: 0.4724 - val_accuracy: 0.9175\n",
            "Epoch 88/100\n",
            "16/16 [==============================] - 0s 8ms/step - loss: 0.1151 - accuracy: 0.9589 - val_loss: 0.4510 - val_accuracy: 0.9045\n",
            "Epoch 89/100\n",
            "16/16 [==============================] - 0s 8ms/step - loss: 0.0354 - accuracy: 0.9925 - val_loss: 0.4918 - val_accuracy: 0.8989\n",
            "Epoch 90/100\n",
            "16/16 [==============================] - 0s 8ms/step - loss: 0.1138 - accuracy: 0.9619 - val_loss: 0.4578 - val_accuracy: 0.9045\n",
            "Epoch 91/100\n",
            "16/16 [==============================] - 0s 8ms/step - loss: 0.0377 - accuracy: 0.9912 - val_loss: 0.5794 - val_accuracy: 0.9382\n",
            "Epoch 92/100\n",
            "16/16 [==============================] - 0s 8ms/step - loss: 0.0769 - accuracy: 0.9789 - val_loss: 0.7813 - val_accuracy: 0.7558\n",
            "Epoch 93/100\n",
            "16/16 [==============================] - 0s 7ms/step - loss: 0.0649 - accuracy: 0.9787 - val_loss: 0.5130 - val_accuracy: 0.9225\n",
            "Epoch 94/100\n",
            "16/16 [==============================] - 0s 7ms/step - loss: 0.0753 - accuracy: 0.9747 - val_loss: 0.4923 - val_accuracy: 0.9242\n",
            "Epoch 95/100\n",
            "16/16 [==============================] - 0s 7ms/step - loss: 0.1167 - accuracy: 0.9578 - val_loss: 0.4642 - val_accuracy: 0.9102\n",
            "Epoch 96/100\n",
            "16/16 [==============================] - 0s 8ms/step - loss: 0.0292 - accuracy: 0.9938 - val_loss: 0.4980 - val_accuracy: 0.9197\n",
            "Epoch 97/100\n",
            "16/16 [==============================] - 0s 7ms/step - loss: 0.0741 - accuracy: 0.9726 - val_loss: 0.8038 - val_accuracy: 0.7625\n",
            "Epoch 98/100\n",
            "16/16 [==============================] - 0s 8ms/step - loss: 0.0436 - accuracy: 0.9878 - val_loss: 0.5164 - val_accuracy: 0.8972\n",
            "Epoch 99/100\n",
            "16/16 [==============================] - 0s 7ms/step - loss: 0.0545 - accuracy: 0.9817 - val_loss: 0.5446 - val_accuracy: 0.8916\n",
            "Epoch 100/100\n",
            "16/16 [==============================] - 0s 8ms/step - loss: 0.0732 - accuracy: 0.9747 - val_loss: 0.5114 - val_accuracy: 0.9191\n"
          ]
        }
      ]
    },
    {
      "cell_type": "code",
      "source": [
        "loss = bigger_hist.history['loss']\n",
        "val_loss = bigger_hist.history['val_loss']\n",
        "\n",
        "epochs = range(1, len(loss) + 1)\n",
        "\n",
        "plt.plot(epochs, loss, 'bo', label='Training loss')\n",
        "plt.plot(epochs, val_loss, 'b', label='Validation loss')\n",
        "plt.title('Training and validation loss')\n",
        "plt.xlabel('Epochs')\n",
        "plt.ylabel('Loss')\n",
        "plt.legend()\n",
        "\n",
        "plt.show()\n",
        "\n",
        "acc = bigger_hist.history['accuracy']\n",
        "val_acc = bigger_hist.history['val_accuracy']\n",
        "\n",
        "plt.plot(epochs, acc, 'bo', label='Training acc')\n",
        "plt.plot(epochs, val_acc, 'b', label='Validation acc')\n",
        "plt.title('Training and validation accuracy')\n",
        "plt.xlabel('Epochs')\n",
        "plt.ylabel('Accuracy')\n",
        "plt.legend()\n",
        "\n",
        "plt.show()"
      ],
      "metadata": {
        "id": "7x7DG6zlukNl",
        "colab": {
          "base_uri": "https://localhost:8080/",
          "height": 573
        },
        "outputId": "1dd2d04d-6c3d-488d-acc9-f9b9438a051a"
      },
      "execution_count": 85,
      "outputs": [
        {
          "output_type": "display_data",
          "data": {
            "text/plain": [
              "<Figure size 432x288 with 1 Axes>"
            ],
            "image/png": "[encoded data removed]"
          },
          "metadata": {
            "needs_background": "light"
          }
        },
        {
          "output_type": "display_data",
          "data": {
            "text/plain": [
              "<Figure size 432x288 with 1 Axes>"
            ],
            "image/png": "[encoded data removed]"
          },
          "metadata": {
            "needs_background": "light"
          }
        }
      ]
    },
    {
      "cell_type": "markdown",
      "source": [
        "loss 값은 줄으나,validation 의 변동성이 심함 --> 오버피팅\n",
        "\n",
        "원인: feature , data 사이즈 작은데 너무 많은 노드를 사용해서. 피처를 너무 많이 잡아내서 생김 => 128개까지는 필요없다는 결론을 도출\n",
        "\n"
      ],
      "metadata": {
        "id": "G_4OnxR0ThHL"
      }
    },
    {
      "cell_type": "markdown",
      "source": [
        "#8, 32, 128 중 몇개의 노드수를 택해야 할까?\n",
        "\n",
        "8개와 32개를 비교해보면 32에 비해 낮은 acc 를 가지고 있음.\n",
        "128 은 acc와 loss가 매우좋지만 변동성이 심해 오버피팅을 보임.\n",
        "\n",
        "32~64개 사이를 다시 만드는게 좋겠음"
      ],
      "metadata": {
        "id": "3VLqIt7IT9Oi"
      }
    },
    {
      "cell_type": "code",
      "source": [
        "bigger_dict = bigger_hist.history\n",
        "smaller_dict = smaller_hist.history\n",
        "\n",
        "bigger_val_acc = bigger_dict['val_accuracy']\n",
        "bigger_val_loss = bigger_dict['val_loss']\n",
        "smaller_val_acc = smaller_dict['val_accuracy']\n",
        "smaller_val_loss = smaller_dict['val_loss']\n",
        "\n",
        "epochs = range(1, len(val_acc)+1)"
      ],
      "metadata": {
        "id": "2u2jlEovvNJb"
      },
      "execution_count": 86,
      "outputs": []
    },
    {
      "cell_type": "code",
      "source": [
        "# ‘b’는 파란색 실선, 'r'은 빨간색 실선을 의미합니다\n",
        "plt.plot(epochs, smaller_val_acc, 'b', label='Smaller model')\n",
        "plt.plot(epochs, bigger_val_acc, 'r', label='Bigger model')\n",
        "plt.xlabel('Epochs')\n",
        "plt.ylabel('Accuracy')\n",
        "plt.legend()\n",
        "plt.show()\n",
        "\n",
        "# ‘b’는 파란색 실선, 'r'은 빨간색 실선을 의미합니다\n",
        "plt.plot(epochs, smaller_val_loss, 'b', label='Smaller model')\n",
        "plt.plot(epochs, bigger_val_loss, 'r', label='Bigger model')\n",
        "plt.xlabel('Epochs')\n",
        "plt.ylabel('Loss')\n",
        "plt.legend()\n",
        "plt.show()"
      ],
      "metadata": {
        "id": "2Ku27pQ2vOoD",
        "colab": {
          "base_uri": "https://localhost:8080/",
          "height": 542
        },
        "outputId": "79b9f16d-35b6-493d-da5e-a3ed5a6d4d3d"
      },
      "execution_count": 87,
      "outputs": [
        {
          "output_type": "display_data",
          "data": {
            "text/plain": [
              "<Figure size 432x288 with 1 Axes>"
            ],
            "image/png": "[encoded data removed]"
          },
          "metadata": {
            "needs_background": "light"
          }
        },
        {
          "output_type": "display_data",
          "data": {
            "text/plain": [
              "<Figure size 432x288 with 1 Axes>"
            ],
            "image/png": "[encoded data removed]"
          },
          "metadata": {
            "needs_background": "light"
          }
        }
      ]
    },
    {
      "cell_type": "markdown",
      "source": [
        "#혹시 히든레이어 하나 더 추가하려면 어떻게 해야할까? 어떻게 될까?"
      ],
      "metadata": {
        "id": "BIBAdwFFUmOd"
      }
    },
    {
      "cell_type": "code",
      "source": [
        "model1 = models.Sequential()\n",
        "model1.add(Dense(32, input_dim = 84, activation='relu'))\n",
        "model1.add(Dense(32, activation='relu'))\n",
        "model1.add(Dense(32, activation='relu')) #층하나 더 쌓은것.\n",
        "model1.add(Dense(1, activation='sigmoid'))\n",
        "\n",
        "model1.compile(optimizer='RMSprop',loss='binary_crossentropy',metrics=['accuracy'])"
      ],
      "metadata": {
        "id": "XbJ6vyV5kv7a"
      },
      "execution_count": 89,
      "outputs": []
    },
    {
      "cell_type": "code",
      "source": [
        "history1 = model1.fit(X_train_over,y_train_over,epochs=100,batch_size=512,validation_data=(X_test, y_test))"
      ],
      "metadata": {
        "colab": {
          "base_uri": "https://localhost:8080/"
        },
        "id": "m1ohu7aIlCM6",
        "outputId": "191153c8-7860-4b48-db05-3b860a511784"
      },
      "execution_count": 90,
      "outputs": [
        {
          "output_type": "stream",
          "name": "stdout",
          "text": [
            "Epoch 1/100\n",
            "16/16 [==============================] - 1s 14ms/step - loss: 0.7587 - accuracy: 0.5652 - val_loss: 0.6406 - val_accuracy: 0.7069\n",
            "Epoch 2/100\n",
            "16/16 [==============================] - 0s 6ms/step - loss: 0.6452 - accuracy: 0.6139 - val_loss: 0.6668 - val_accuracy: 0.6502\n",
            "Epoch 3/100\n",
            "16/16 [==============================] - 0s 5ms/step - loss: 0.6293 - accuracy: 0.6416 - val_loss: 0.5303 - val_accuracy: 0.8304\n",
            "Epoch 4/100\n",
            "16/16 [==============================] - 0s 5ms/step - loss: 0.6226 - accuracy: 0.6368 - val_loss: 0.5272 - val_accuracy: 0.8231\n",
            "Epoch 5/100\n",
            "16/16 [==============================] - 0s 5ms/step - loss: 0.6015 - accuracy: 0.6640 - val_loss: 0.8769 - val_accuracy: 0.3790\n",
            "Epoch 6/100\n",
            "16/16 [==============================] - 0s 5ms/step - loss: 0.5899 - accuracy: 0.6812 - val_loss: 0.7059 - val_accuracy: 0.5424\n",
            "Epoch 7/100\n",
            "16/16 [==============================] - 0s 4ms/step - loss: 0.5949 - accuracy: 0.6680 - val_loss: 0.6741 - val_accuracy: 0.6103\n",
            "Epoch 8/100\n",
            "16/16 [==============================] - 0s 5ms/step - loss: 0.5642 - accuracy: 0.7026 - val_loss: 0.4902 - val_accuracy: 0.7979\n",
            "Epoch 9/100\n",
            "16/16 [==============================] - 0s 6ms/step - loss: 0.5642 - accuracy: 0.6938 - val_loss: 0.4451 - val_accuracy: 0.8456\n",
            "Epoch 10/100\n",
            "16/16 [==============================] - 0s 5ms/step - loss: 0.5538 - accuracy: 0.7059 - val_loss: 0.8730 - val_accuracy: 0.4672\n",
            "Epoch 11/100\n",
            "16/16 [==============================] - 0s 4ms/step - loss: 0.5476 - accuracy: 0.7128 - val_loss: 0.5043 - val_accuracy: 0.7771\n",
            "Epoch 12/100\n",
            "16/16 [==============================] - 0s 5ms/step - loss: 0.5325 - accuracy: 0.7249 - val_loss: 0.8628 - val_accuracy: 0.4396\n",
            "Epoch 13/100\n",
            "16/16 [==============================] - 0s 5ms/step - loss: 0.5312 - accuracy: 0.7243 - val_loss: 0.6425 - val_accuracy: 0.6592\n",
            "Epoch 14/100\n",
            "16/16 [==============================] - 0s 5ms/step - loss: 0.5169 - accuracy: 0.7462 - val_loss: 0.4936 - val_accuracy: 0.8069\n",
            "Epoch 15/100\n",
            "16/16 [==============================] - 0s 4ms/step - loss: 0.5000 - accuracy: 0.7513 - val_loss: 0.6341 - val_accuracy: 0.6828\n",
            "Epoch 16/100\n",
            "16/16 [==============================] - 0s 5ms/step - loss: 0.5110 - accuracy: 0.7406 - val_loss: 0.5227 - val_accuracy: 0.7777\n",
            "Epoch 17/100\n",
            "16/16 [==============================] - 0s 4ms/step - loss: 0.4898 - accuracy: 0.7604 - val_loss: 0.3291 - val_accuracy: 0.8933\n",
            "Epoch 18/100\n",
            "16/16 [==============================] - 0s 5ms/step - loss: 0.4837 - accuracy: 0.7655 - val_loss: 0.2961 - val_accuracy: 0.9152\n",
            "Epoch 19/100\n",
            "16/16 [==============================] - 0s 4ms/step - loss: 0.4711 - accuracy: 0.7722 - val_loss: 1.0821 - val_accuracy: 0.3251\n",
            "Epoch 20/100\n",
            "16/16 [==============================] - 0s 6ms/step - loss: 0.4703 - accuracy: 0.7775 - val_loss: 0.3769 - val_accuracy: 0.8608\n",
            "Epoch 21/100\n",
            "16/16 [==============================] - 0s 6ms/step - loss: 0.4660 - accuracy: 0.7790 - val_loss: 0.3969 - val_accuracy: 0.8433\n",
            "Epoch 22/100\n",
            "16/16 [==============================] - 0s 5ms/step - loss: 0.4609 - accuracy: 0.7767 - val_loss: 0.3831 - val_accuracy: 0.8619\n",
            "Epoch 23/100\n",
            "16/16 [==============================] - 0s 4ms/step - loss: 0.4553 - accuracy: 0.7790 - val_loss: 0.4181 - val_accuracy: 0.8383\n",
            "Epoch 24/100\n",
            "16/16 [==============================] - 0s 5ms/step - loss: 0.4410 - accuracy: 0.7897 - val_loss: 0.3530 - val_accuracy: 0.8770\n",
            "Epoch 25/100\n",
            "16/16 [==============================] - 0s 6ms/step - loss: 0.4372 - accuracy: 0.7964 - val_loss: 0.3054 - val_accuracy: 0.9051\n",
            "Epoch 26/100\n",
            "16/16 [==============================] - 0s 4ms/step - loss: 0.4389 - accuracy: 0.7892 - val_loss: 0.5224 - val_accuracy: 0.7546\n",
            "Epoch 27/100\n",
            "16/16 [==============================] - 0s 4ms/step - loss: 0.4194 - accuracy: 0.8104 - val_loss: 0.3278 - val_accuracy: 0.8883\n",
            "Epoch 28/100\n",
            "16/16 [==============================] - 0s 5ms/step - loss: 0.4149 - accuracy: 0.8101 - val_loss: 0.4036 - val_accuracy: 0.8411\n",
            "Epoch 29/100\n",
            "16/16 [==============================] - 0s 4ms/step - loss: 0.4194 - accuracy: 0.8049 - val_loss: 0.3002 - val_accuracy: 0.9012\n",
            "Epoch 30/100\n",
            "16/16 [==============================] - 0s 5ms/step - loss: 0.4034 - accuracy: 0.8119 - val_loss: 0.4816 - val_accuracy: 0.7889\n",
            "Epoch 31/100\n",
            "16/16 [==============================] - 0s 4ms/step - loss: 0.4056 - accuracy: 0.8146 - val_loss: 0.7413 - val_accuracy: 0.6086\n",
            "Epoch 32/100\n",
            "16/16 [==============================] - 0s 5ms/step - loss: 0.3959 - accuracy: 0.8200 - val_loss: 0.4090 - val_accuracy: 0.8327\n",
            "Epoch 33/100\n",
            "16/16 [==============================] - 0s 7ms/step - loss: 0.3884 - accuracy: 0.8265 - val_loss: 0.5386 - val_accuracy: 0.7485\n",
            "Epoch 34/100\n",
            "16/16 [==============================] - 0s 4ms/step - loss: 0.3900 - accuracy: 0.8217 - val_loss: 0.7664 - val_accuracy: 0.5750\n",
            "Epoch 35/100\n",
            "16/16 [==============================] - 0s 4ms/step - loss: 0.3611 - accuracy: 0.8516 - val_loss: 0.4606 - val_accuracy: 0.8024\n",
            "Epoch 36/100\n",
            "16/16 [==============================] - 0s 4ms/step - loss: 0.3876 - accuracy: 0.8242 - val_loss: 0.6342 - val_accuracy: 0.6917\n",
            "Epoch 37/100\n",
            "16/16 [==============================] - 0s 6ms/step - loss: 0.3635 - accuracy: 0.8451 - val_loss: 0.2912 - val_accuracy: 0.9023\n",
            "Epoch 38/100\n",
            "16/16 [==============================] - 0s 5ms/step - loss: 0.3546 - accuracy: 0.8464 - val_loss: 0.3398 - val_accuracy: 0.8742\n",
            "Epoch 39/100\n",
            "16/16 [==============================] - 0s 5ms/step - loss: 0.3516 - accuracy: 0.8467 - val_loss: 0.3147 - val_accuracy: 0.8939\n",
            "Epoch 40/100\n",
            "16/16 [==============================] - 0s 5ms/step - loss: 0.3590 - accuracy: 0.8385 - val_loss: 0.2878 - val_accuracy: 0.9040\n",
            "Epoch 41/100\n",
            "16/16 [==============================] - 0s 5ms/step - loss: 0.3541 - accuracy: 0.8404 - val_loss: 0.4123 - val_accuracy: 0.8259\n",
            "Epoch 42/100\n",
            "16/16 [==============================] - 0s 6ms/step - loss: 0.3385 - accuracy: 0.8595 - val_loss: 0.4105 - val_accuracy: 0.8254\n",
            "Epoch 43/100\n",
            "16/16 [==============================] - 0s 5ms/step - loss: 0.3444 - accuracy: 0.8510 - val_loss: 0.6094 - val_accuracy: 0.7153\n",
            "Epoch 44/100\n",
            "16/16 [==============================] - 0s 4ms/step - loss: 0.3392 - accuracy: 0.8561 - val_loss: 0.5140 - val_accuracy: 0.7631\n",
            "Epoch 45/100\n",
            "16/16 [==============================] - 0s 4ms/step - loss: 0.3183 - accuracy: 0.8658 - val_loss: 0.9755 - val_accuracy: 0.5227\n",
            "Epoch 46/100\n",
            "16/16 [==============================] - 0s 4ms/step - loss: 0.3324 - accuracy: 0.8557 - val_loss: 0.4355 - val_accuracy: 0.8153\n",
            "Epoch 47/100\n",
            "16/16 [==============================] - 0s 4ms/step - loss: 0.3288 - accuracy: 0.8553 - val_loss: 0.5650 - val_accuracy: 0.7428\n",
            "Epoch 48/100\n",
            "16/16 [==============================] - 0s 5ms/step - loss: 0.3195 - accuracy: 0.8604 - val_loss: 0.7707 - val_accuracy: 0.6384\n",
            "Epoch 49/100\n",
            "16/16 [==============================] - 0s 6ms/step - loss: 0.3168 - accuracy: 0.8674 - val_loss: 0.2843 - val_accuracy: 0.9141\n",
            "Epoch 50/100\n",
            "16/16 [==============================] - 0s 5ms/step - loss: 0.3065 - accuracy: 0.8687 - val_loss: 0.3648 - val_accuracy: 0.8669\n",
            "Epoch 51/100\n",
            "16/16 [==============================] - 0s 4ms/step - loss: 0.3122 - accuracy: 0.8674 - val_loss: 0.5106 - val_accuracy: 0.7771\n",
            "Epoch 52/100\n",
            "16/16 [==============================] - 0s 5ms/step - loss: 0.3136 - accuracy: 0.8660 - val_loss: 0.3465 - val_accuracy: 0.8703\n",
            "Epoch 53/100\n",
            "16/16 [==============================] - 0s 5ms/step - loss: 0.2996 - accuracy: 0.8739 - val_loss: 0.3549 - val_accuracy: 0.8714\n",
            "Epoch 54/100\n",
            "16/16 [==============================] - 0s 6ms/step - loss: 0.3022 - accuracy: 0.8684 - val_loss: 0.4661 - val_accuracy: 0.8119\n",
            "Epoch 55/100\n",
            "16/16 [==============================] - 0s 4ms/step - loss: 0.2953 - accuracy: 0.8749 - val_loss: 0.5419 - val_accuracy: 0.7580\n",
            "Epoch 56/100\n",
            "16/16 [==============================] - 0s 4ms/step - loss: 0.2926 - accuracy: 0.8738 - val_loss: 0.3124 - val_accuracy: 0.9023\n",
            "Epoch 57/100\n",
            "16/16 [==============================] - 0s 5ms/step - loss: 0.2967 - accuracy: 0.8779 - val_loss: 0.3514 - val_accuracy: 0.8770\n",
            "Epoch 58/100\n",
            "16/16 [==============================] - 0s 6ms/step - loss: 0.2890 - accuracy: 0.8791 - val_loss: 0.3283 - val_accuracy: 0.8838\n",
            "Epoch 59/100\n",
            "16/16 [==============================] - 0s 5ms/step - loss: 0.2782 - accuracy: 0.8860 - val_loss: 0.3295 - val_accuracy: 0.8883\n",
            "Epoch 60/100\n",
            "16/16 [==============================] - 0s 7ms/step - loss: 0.2791 - accuracy: 0.8851 - val_loss: 0.3405 - val_accuracy: 0.8843\n",
            "Epoch 61/100\n",
            "16/16 [==============================] - 0s 4ms/step - loss: 0.2825 - accuracy: 0.8803 - val_loss: 0.3307 - val_accuracy: 0.8972\n",
            "Epoch 62/100\n",
            "16/16 [==============================] - 0s 5ms/step - loss: 0.2745 - accuracy: 0.8861 - val_loss: 0.3413 - val_accuracy: 0.8905\n",
            "Epoch 63/100\n",
            "16/16 [==============================] - 0s 4ms/step - loss: 0.2795 - accuracy: 0.8814 - val_loss: 0.4232 - val_accuracy: 0.8377\n",
            "Epoch 64/100\n",
            "16/16 [==============================] - 0s 4ms/step - loss: 0.2611 - accuracy: 0.8905 - val_loss: 0.3986 - val_accuracy: 0.8523\n",
            "Epoch 65/100\n",
            "16/16 [==============================] - 0s 5ms/step - loss: 0.2619 - accuracy: 0.8948 - val_loss: 0.3095 - val_accuracy: 0.9124\n",
            "Epoch 66/100\n",
            "16/16 [==============================] - 0s 5ms/step - loss: 0.2736 - accuracy: 0.8839 - val_loss: 0.3540 - val_accuracy: 0.8782\n",
            "Epoch 67/100\n",
            "16/16 [==============================] - 0s 4ms/step - loss: 0.2508 - accuracy: 0.8980 - val_loss: 0.3505 - val_accuracy: 0.8815\n",
            "Epoch 68/100\n",
            "16/16 [==============================] - 0s 4ms/step - loss: 0.2552 - accuracy: 0.8942 - val_loss: 0.4601 - val_accuracy: 0.8226\n",
            "Epoch 69/100\n",
            "16/16 [==============================] - 0s 4ms/step - loss: 0.2487 - accuracy: 0.8975 - val_loss: 0.3413 - val_accuracy: 0.8860\n",
            "Epoch 70/100\n",
            "16/16 [==============================] - 0s 6ms/step - loss: 0.2608 - accuracy: 0.8937 - val_loss: 0.3467 - val_accuracy: 0.8827\n",
            "Epoch 71/100\n",
            "16/16 [==============================] - 0s 5ms/step - loss: 0.2352 - accuracy: 0.9059 - val_loss: 0.3084 - val_accuracy: 0.9124\n",
            "Epoch 72/100\n",
            "16/16 [==============================] - 0s 5ms/step - loss: 0.2590 - accuracy: 0.8931 - val_loss: 0.3395 - val_accuracy: 0.8928\n",
            "Epoch 73/100\n",
            "16/16 [==============================] - 0s 4ms/step - loss: 0.2504 - accuracy: 0.8970 - val_loss: 0.3447 - val_accuracy: 0.8944\n",
            "Epoch 74/100\n",
            "16/16 [==============================] - 0s 6ms/step - loss: 0.2496 - accuracy: 0.9010 - val_loss: 0.3005 - val_accuracy: 0.9152\n",
            "Epoch 75/100\n",
            "16/16 [==============================] - 0s 4ms/step - loss: 0.2195 - accuracy: 0.9175 - val_loss: 0.3262 - val_accuracy: 0.9118\n",
            "Epoch 76/100\n",
            "16/16 [==============================] - 0s 5ms/step - loss: 0.2375 - accuracy: 0.9049 - val_loss: 0.3772 - val_accuracy: 0.8776\n",
            "Epoch 77/100\n",
            "16/16 [==============================] - 0s 4ms/step - loss: 0.2334 - accuracy: 0.9083 - val_loss: 0.3356 - val_accuracy: 0.8984\n",
            "Epoch 78/100\n",
            "16/16 [==============================] - 0s 6ms/step - loss: 0.2353 - accuracy: 0.9075 - val_loss: 0.3493 - val_accuracy: 0.8928\n",
            "Epoch 79/100\n",
            "16/16 [==============================] - 0s 5ms/step - loss: 0.2266 - accuracy: 0.9123 - val_loss: 0.3386 - val_accuracy: 0.8956\n",
            "Epoch 80/100\n",
            "16/16 [==============================] - 0s 4ms/step - loss: 0.2309 - accuracy: 0.9083 - val_loss: 0.5692 - val_accuracy: 0.7754\n",
            "Epoch 81/100\n",
            "16/16 [==============================] - 0s 5ms/step - loss: 0.2308 - accuracy: 0.9105 - val_loss: 0.3884 - val_accuracy: 0.8692\n",
            "Epoch 82/100\n",
            "16/16 [==============================] - 0s 5ms/step - loss: 0.2160 - accuracy: 0.9159 - val_loss: 0.3771 - val_accuracy: 0.8770\n",
            "Epoch 83/100\n",
            "16/16 [==============================] - 0s 5ms/step - loss: 0.2288 - accuracy: 0.9087 - val_loss: 0.3948 - val_accuracy: 0.8697\n",
            "Epoch 84/100\n",
            "16/16 [==============================] - 0s 5ms/step - loss: 0.2156 - accuracy: 0.9194 - val_loss: 0.5611 - val_accuracy: 0.7861\n",
            "Epoch 85/100\n",
            "16/16 [==============================] - 0s 5ms/step - loss: 0.2188 - accuracy: 0.9157 - val_loss: 0.5217 - val_accuracy: 0.8029\n",
            "Epoch 86/100\n",
            "16/16 [==============================] - 0s 6ms/step - loss: 0.2203 - accuracy: 0.9144 - val_loss: 0.4288 - val_accuracy: 0.8495\n",
            "Epoch 87/100\n",
            "16/16 [==============================] - 0s 4ms/step - loss: 0.2141 - accuracy: 0.9158 - val_loss: 0.4821 - val_accuracy: 0.8243\n",
            "Epoch 88/100\n",
            "16/16 [==============================] - 0s 4ms/step - loss: 0.1994 - accuracy: 0.9252 - val_loss: 0.4654 - val_accuracy: 0.8366\n",
            "Epoch 89/100\n",
            "16/16 [==============================] - 0s 5ms/step - loss: 0.2060 - accuracy: 0.9185 - val_loss: 0.5913 - val_accuracy: 0.7709\n",
            "Epoch 90/100\n",
            "16/16 [==============================] - 0s 5ms/step - loss: 0.2099 - accuracy: 0.9218 - val_loss: 0.3562 - val_accuracy: 0.8995\n",
            "Epoch 91/100\n",
            "16/16 [==============================] - 0s 6ms/step - loss: 0.2023 - accuracy: 0.9175 - val_loss: 0.3608 - val_accuracy: 0.9045\n",
            "Epoch 92/100\n",
            "16/16 [==============================] - 0s 5ms/step - loss: 0.1965 - accuracy: 0.9235 - val_loss: 0.5718 - val_accuracy: 0.7872\n",
            "Epoch 93/100\n",
            "16/16 [==============================] - 0s 5ms/step - loss: 0.1984 - accuracy: 0.9251 - val_loss: 0.4627 - val_accuracy: 0.8473\n",
            "Epoch 94/100\n",
            "16/16 [==============================] - 0s 5ms/step - loss: 0.1984 - accuracy: 0.9245 - val_loss: 0.4242 - val_accuracy: 0.8613\n",
            "Epoch 95/100\n",
            "16/16 [==============================] - 0s 5ms/step - loss: 0.1987 - accuracy: 0.9263 - val_loss: 0.4637 - val_accuracy: 0.8433\n",
            "Epoch 96/100\n",
            "16/16 [==============================] - 0s 5ms/step - loss: 0.2041 - accuracy: 0.9203 - val_loss: 0.5069 - val_accuracy: 0.8130\n",
            "Epoch 97/100\n",
            "16/16 [==============================] - 0s 5ms/step - loss: 0.1959 - accuracy: 0.9261 - val_loss: 0.4146 - val_accuracy: 0.8686\n",
            "Epoch 98/100\n",
            "16/16 [==============================] - 0s 6ms/step - loss: 0.1915 - accuracy: 0.9259 - val_loss: 0.6386 - val_accuracy: 0.7614\n",
            "Epoch 99/100\n",
            "16/16 [==============================] - 0s 6ms/step - loss: 0.1818 - accuracy: 0.9293 - val_loss: 0.7368 - val_accuracy: 0.7215\n",
            "Epoch 100/100\n",
            "16/16 [==============================] - 0s 4ms/step - loss: 0.1867 - accuracy: 0.9289 - val_loss: 0.5566 - val_accuracy: 0.7923\n"
          ]
        }
      ]
    },
    {
      "cell_type": "code",
      "source": [
        "loss = history1.history['loss']\n",
        "val_loss = history1.history['val_loss']\n",
        "\n",
        "epochs = range(1, len(loss) + 1)\n",
        "\n",
        "plt.plot(epochs, loss, 'bo', label='Training loss')\n",
        "plt.plot(epochs, val_loss, 'b', label='Validation loss')\n",
        "plt.title('Training and validation loss')\n",
        "plt.xlabel('Epochs')\n",
        "plt.ylabel('Loss')\n",
        "plt.legend()\n",
        "\n",
        "plt.show()\n",
        "\n",
        "acc = history1.history['accuracy']\n",
        "val_acc = history1.history['val_accuracy']\n",
        "\n",
        "plt.plot(epochs, acc, 'bo', label='Training acc')\n",
        "plt.plot(epochs, val_acc, 'b', label='Validation acc')\n",
        "plt.title('Training and validation accuracy')\n",
        "plt.xlabel('Epochs')\n",
        "plt.ylabel('Accuracy')\n",
        "plt.legend()\n",
        "\n",
        "plt.show()"
      ],
      "metadata": {
        "id": "NKITHFrOvQVo",
        "colab": {
          "base_uri": "https://localhost:8080/",
          "height": 573
        },
        "outputId": "144e833a-30b3-43fd-b665-fd2ec8764191"
      },
      "execution_count": 91,
      "outputs": [
        {
          "output_type": "display_data",
          "data": {
            "text/plain": [
              "<Figure size 432x288 with 1 Axes>"
            ],
            "image/png": "[encoded data removed]"
          },
          "metadata": {
            "needs_background": "light"
          }
        },
        {
          "output_type": "display_data",
          "data": {
            "text/plain": [
              "<Figure size 432x288 with 1 Axes>"
            ],
            "image/png": "[encoded data removed]"
          },
          "metadata": {
            "needs_background": "light"
          }
        }
      ]
    },
    {
      "cell_type": "markdown",
      "source": [
        "1. loss 의 변동성이 붕 뜸. -> 좋은모델은 아니다. 오버피팅도아님\n",
        "2. acc 도 traing 근처에도 잘 못옴\n",
        "\n",
        "정형데이터는 2개층이면 충분한 경우가 많다.\n",
        "히든레이어는 피처수와 관계가 있다. 이미지와 같이 피처가 많을때 3개층 이상이 효력이있다.\n",
        "\n",
        "##이유\n",
        "한 레이어를 통할때마다 다른 피처를 잡아낸다 -> 피처가 작기때문에 히든레이어를 많이 쌓아봐야 -> 보고보고봐도 얻어낼게없음\n",
        "\n",
        "근데 이미지는 한 레이어를 통과할때마다 그 레이어가 어떤 피처를 잡아내는지 알수있음.\n",
        "그래서 한레이어마다의 개수를 조정할수있다.\n",
        "\n",
        "보통 데이터가 1만넘어보면 그때 노드개수를 늘려보던가하는 방법이 있다......"
      ],
      "metadata": {
        "id": "UcBufuQlwUBk"
      }
    },
    {
      "cell_type": "markdown",
      "source": [
        "#설명가능 인공지능 기술\n",
        "비정형엔 shap 을 많이 사용한다.\n",
        "자살고위험군데이터 참고하기..\n"
      ],
      "metadata": {
        "id": "PWFlLcrQnziW"
      }
    },
    {
      "cell_type": "markdown",
      "source": [
        "#얼리스탑핑 기술\n",
        "에폭값 100번돌다 loss값은 줄어들다 더이상 떨어지지 않는 지점 앞에서 잘라주는 기법\n",
        "\n",
        "원리 : pations수 를 줘서 (10)x번을 줘도 더 떨어지지 않으면 그때 자름"
      ],
      "metadata": {
        "id": "q-IbK0q_zpvL"
      }
    }
  ]
}