{
  "nbformat": 4,
  "nbformat_minor": 0,
  "metadata": {
    "colab": {
      "provenance": [],
      "collapsed_sections": [],
      "mount_file_id": "118tqAv3nx4rVzvTa58qW8jbI8zdz4iPM",
      "authorship_tag": "ABX9TyNHtWrZFFSuEC2jXxnekzBb",
      "include_colab_link": true
    },
    "kernelspec": {
      "name": "python3",
      "display_name": "Python 3"
    },
    "language_info": {
      "name": "python"
    }
  },
  "cells": [
    {
      "cell_type": "markdown",
      "metadata": {
        "id": "view-in-github",
        "colab_type": "text"
      },
      "source": [
        "<a href=\"https://colab.research.google.com/github/leeyerin25/TIL_python/blob/main/%EA%B8%B0%EA%B3%84%ED%95%99%EC%8A%B5_3_1_yr.ipynb\" target=\"_parent\"><img src=\"https://colab.research.google.com/assets/colab-badge.svg\" alt=\"Open In Colab\"/></a>"
      ]
    },
    {
      "cell_type": "code",
      "source": [
        "import pandas as pd\n",
        "\n",
        "train = pd.read_csv('/content/drive/MyDrive/기계학습/suicide_data.csv')\n",
        "train.head()"
      ],
      "metadata": {
        "id": "sjXyrVi6QNsE",
        "colab": {
          "base_uri": "https://localhost:8080/",
          "height": 300
        },
        "outputId": "f8ac99e6-e8c7-4921-85f1-16e5be9f21ba"
      },
      "execution_count": 4,
      "outputs": [
        {
          "output_type": "execute_result",
          "data": {
            "text/plain": [
              "           ID  apt_t  sex  cfam  allownc  house  live_t  marri_2  tins  npins  \\\n",
              "0  A739211515      1    2     3       20      2       3        1    10      1   \n",
              "1  A739211516      1    1     3       20      2       3        1    10      1   \n",
              "2  A739211517      1    2     3       20      2       3        3    20      1   \n",
              "3  A739219614      1    1     4       20      1       3        1    20      1   \n",
              "4  A739219615      1    2     4       20      1       3        1    20      1   \n",
              "\n",
              "   ...   N_CHOL    N_CHO   N_TDF     N_CA    N_FE      N_NA       N_K  \\\n",
              "0  ...  220.911  213.937  12.957  469.710   9.405  2117.652  2540.971   \n",
              "1  ...  352.617  274.917  20.682  372.172  14.404  3699.691  2589.378   \n",
              "2  ...  136.681  272.175  19.292  266.870  13.276  2265.539  2073.714   \n",
              "3  ...   41.882  243.170  25.090  358.145  20.760  4282.505  1830.424   \n",
              "4  ...  140.545  288.721  30.959  487.907  14.351  2875.440  6069.345   \n",
              "\n",
              "    N_VITC LF_SAFE LF_S2  \n",
              "0   31.666      2     3   \n",
              "1   43.118      2     3   \n",
              "2  105.935      2     3   \n",
              "3   41.371      2     3   \n",
              "4   88.895      2     3   \n",
              "\n",
              "[5 rows x 89 columns]"
            ],
            "text/html": [
              "\n",
              "  <div id=\"df-34ed1b8b-4dc6-4c41-bc88-aa9cc3ff13b6\">\n",
              "    <div class=\"colab-df-container\">\n",
              "      <div>\n",
              "<style scoped>\n",
              "    .dataframe tbody tr th:only-of-type {\n",
              "        vertical-align: middle;\n",
              "    }\n",
              "\n",
              "    .dataframe tbody tr th {\n",
              "        vertical-align: top;\n",
              "    }\n",
              "\n",
              "    .dataframe thead th {\n",
              "        text-align: right;\n",
              "    }\n",
              "</style>\n",
              "<table border=\"1\" class=\"dataframe\">\n",
              "  <thead>\n",
              "    <tr style=\"text-align: right;\">\n",
              "      <th></th>\n",
              "      <th>ID</th>\n",
              "      <th>apt_t</th>\n",
              "      <th>sex</th>\n",
              "      <th>cfam</th>\n",
              "      <th>allownc</th>\n",
              "      <th>house</th>\n",
              "      <th>live_t</th>\n",
              "      <th>marri_2</th>\n",
              "      <th>tins</th>\n",
              "      <th>npins</th>\n",
              "      <th>...</th>\n",
              "      <th>N_CHOL</th>\n",
              "      <th>N_CHO</th>\n",
              "      <th>N_TDF</th>\n",
              "      <th>N_CA</th>\n",
              "      <th>N_FE</th>\n",
              "      <th>N_NA</th>\n",
              "      <th>N_K</th>\n",
              "      <th>N_VITC</th>\n",
              "      <th>LF_SAFE</th>\n",
              "      <th>LF_S2</th>\n",
              "    </tr>\n",
              "  </thead>\n",
              "  <tbody>\n",
              "    <tr>\n",
              "      <th>0</th>\n",
              "      <td>A739211515</td>\n",
              "      <td>1</td>\n",
              "      <td>2</td>\n",
              "      <td>3</td>\n",
              "      <td>20</td>\n",
              "      <td>2</td>\n",
              "      <td>3</td>\n",
              "      <td>1</td>\n",
              "      <td>10</td>\n",
              "      <td>1</td>\n",
              "      <td>...</td>\n",
              "      <td>220.911</td>\n",
              "      <td>213.937</td>\n",
              "      <td>12.957</td>\n",
              "      <td>469.710</td>\n",
              "      <td>9.405</td>\n",
              "      <td>2117.652</td>\n",
              "      <td>2540.971</td>\n",
              "      <td>31.666</td>\n",
              "      <td>2</td>\n",
              "      <td>3</td>\n",
              "    </tr>\n",
              "    <tr>\n",
              "      <th>1</th>\n",
              "      <td>A739211516</td>\n",
              "      <td>1</td>\n",
              "      <td>1</td>\n",
              "      <td>3</td>\n",
              "      <td>20</td>\n",
              "      <td>2</td>\n",
              "      <td>3</td>\n",
              "      <td>1</td>\n",
              "      <td>10</td>\n",
              "      <td>1</td>\n",
              "      <td>...</td>\n",
              "      <td>352.617</td>\n",
              "      <td>274.917</td>\n",
              "      <td>20.682</td>\n",
              "      <td>372.172</td>\n",
              "      <td>14.404</td>\n",
              "      <td>3699.691</td>\n",
              "      <td>2589.378</td>\n",
              "      <td>43.118</td>\n",
              "      <td>2</td>\n",
              "      <td>3</td>\n",
              "    </tr>\n",
              "    <tr>\n",
              "      <th>2</th>\n",
              "      <td>A739211517</td>\n",
              "      <td>1</td>\n",
              "      <td>2</td>\n",
              "      <td>3</td>\n",
              "      <td>20</td>\n",
              "      <td>2</td>\n",
              "      <td>3</td>\n",
              "      <td>3</td>\n",
              "      <td>20</td>\n",
              "      <td>1</td>\n",
              "      <td>...</td>\n",
              "      <td>136.681</td>\n",
              "      <td>272.175</td>\n",
              "      <td>19.292</td>\n",
              "      <td>266.870</td>\n",
              "      <td>13.276</td>\n",
              "      <td>2265.539</td>\n",
              "      <td>2073.714</td>\n",
              "      <td>105.935</td>\n",
              "      <td>2</td>\n",
              "      <td>3</td>\n",
              "    </tr>\n",
              "    <tr>\n",
              "      <th>3</th>\n",
              "      <td>A739219614</td>\n",
              "      <td>1</td>\n",
              "      <td>1</td>\n",
              "      <td>4</td>\n",
              "      <td>20</td>\n",
              "      <td>1</td>\n",
              "      <td>3</td>\n",
              "      <td>1</td>\n",
              "      <td>20</td>\n",
              "      <td>1</td>\n",
              "      <td>...</td>\n",
              "      <td>41.882</td>\n",
              "      <td>243.170</td>\n",
              "      <td>25.090</td>\n",
              "      <td>358.145</td>\n",
              "      <td>20.760</td>\n",
              "      <td>4282.505</td>\n",
              "      <td>1830.424</td>\n",
              "      <td>41.371</td>\n",
              "      <td>2</td>\n",
              "      <td>3</td>\n",
              "    </tr>\n",
              "    <tr>\n",
              "      <th>4</th>\n",
              "      <td>A739219615</td>\n",
              "      <td>1</td>\n",
              "      <td>2</td>\n",
              "      <td>4</td>\n",
              "      <td>20</td>\n",
              "      <td>1</td>\n",
              "      <td>3</td>\n",
              "      <td>1</td>\n",
              "      <td>20</td>\n",
              "      <td>1</td>\n",
              "      <td>...</td>\n",
              "      <td>140.545</td>\n",
              "      <td>288.721</td>\n",
              "      <td>30.959</td>\n",
              "      <td>487.907</td>\n",
              "      <td>14.351</td>\n",
              "      <td>2875.440</td>\n",
              "      <td>6069.345</td>\n",
              "      <td>88.895</td>\n",
              "      <td>2</td>\n",
              "      <td>3</td>\n",
              "    </tr>\n",
              "  </tbody>\n",
              "</table>\n",
              "<p>5 rows × 89 columns</p>\n",
              "</div>\n",
              "      <button class=\"colab-df-convert\" onclick=\"convertToInteractive('df-34ed1b8b-4dc6-4c41-bc88-aa9cc3ff13b6')\"\n",
              "              title=\"Convert this dataframe to an interactive table.\"\n",
              "              style=\"display:none;\">\n",
              "        \n",
              "  <svg xmlns=\"http://www.w3.org/2000/svg\" height=\"24px\"viewBox=\"0 0 24 24\"\n",
              "       width=\"24px\">\n",
              "    <path d=\"M0 0h24v24H0V0z\" fill=\"none\"/>\n",
              "    <path d=\"M18.56 5.44l.94 2.06.94-2.06 2.06-.94-2.06-.94-.94-2.06-.94 2.06-2.06.94zm-11 1L8.5 8.5l.94-2.06 2.06-.94-2.06-.94L8.5 2.5l-.94 2.06-2.06.94zm10 10l.94 2.06.94-2.06 2.06-.94-2.06-.94-.94-2.06-.94 2.06-2.06.94z\"/><path d=\"M17.41 7.96l-1.37-1.37c-.4-.4-.92-.59-1.43-.59-.52 0-1.04.2-1.43.59L10.3 9.45l-7.72 7.72c-.78.78-.78 2.05 0 2.83L4 21.41c.39.39.9.59 1.41.59.51 0 1.02-.2 1.41-.59l7.78-7.78 2.81-2.81c.8-.78.8-2.07 0-2.86zM5.41 20L4 18.59l7.72-7.72 1.47 1.35L5.41 20z\"/>\n",
              "  </svg>\n",
              "      </button>\n",
              "      \n",
              "  <style>\n",
              "    .colab-df-container {\n",
              "      display:flex;\n",
              "      flex-wrap:wrap;\n",
              "      gap: 12px;\n",
              "    }\n",
              "\n",
              "    .colab-df-convert {\n",
              "      background-color: #E8F0FE;\n",
              "      border: none;\n",
              "      border-radius: 50%;\n",
              "      cursor: pointer;\n",
              "      display: none;\n",
              "      fill: #1967D2;\n",
              "      height: 32px;\n",
              "      padding: 0 0 0 0;\n",
              "      width: 32px;\n",
              "    }\n",
              "\n",
              "    .colab-df-convert:hover {\n",
              "      background-color: #E2EBFA;\n",
              "      box-shadow: 0px 1px 2px rgba(60, 64, 67, 0.3), 0px 1px 3px 1px rgba(60, 64, 67, 0.15);\n",
              "      fill: #174EA6;\n",
              "    }\n",
              "\n",
              "    [theme=dark] .colab-df-convert {\n",
              "      background-color: #3B4455;\n",
              "      fill: #D2E3FC;\n",
              "    }\n",
              "\n",
              "    [theme=dark] .colab-df-convert:hover {\n",
              "      background-color: #434B5C;\n",
              "      box-shadow: 0px 1px 3px 1px rgba(0, 0, 0, 0.15);\n",
              "      filter: drop-shadow(0px 1px 2px rgba(0, 0, 0, 0.3));\n",
              "      fill: #FFFFFF;\n",
              "    }\n",
              "  </style>\n",
              "\n",
              "      <script>\n",
              "        const buttonEl =\n",
              "          document.querySelector('#df-34ed1b8b-4dc6-4c41-bc88-aa9cc3ff13b6 button.colab-df-convert');\n",
              "        buttonEl.style.display =\n",
              "          google.colab.kernel.accessAllowed ? 'block' : 'none';\n",
              "\n",
              "        async function convertToInteractive(key) {\n",
              "          const element = document.querySelector('#df-34ed1b8b-4dc6-4c41-bc88-aa9cc3ff13b6');\n",
              "          const dataTable =\n",
              "            await google.colab.kernel.invokeFunction('convertToInteractive',\n",
              "                                                     [key], {});\n",
              "          if (!dataTable) return;\n",
              "\n",
              "          const docLinkHtml = 'Like what you see? Visit the ' +\n",
              "            '<a target=\"_blank\" href=https://colab.research.google.com/notebooks/data_table.ipynb>data table notebook</a>'\n",
              "            + ' to learn more about interactive tables.';\n",
              "          element.innerHTML = '';\n",
              "          dataTable['output_type'] = 'display_data';\n",
              "          await google.colab.output.renderOutput(dataTable, element);\n",
              "          const docLink = document.createElement('div');\n",
              "          docLink.innerHTML = docLinkHtml;\n",
              "          element.appendChild(docLink);\n",
              "        }\n",
              "      </script>\n",
              "    </div>\n",
              "  </div>\n",
              "  "
            ]
          },
          "metadata": {},
          "execution_count": 4
        }
      ]
    },
    {
      "cell_type": "code",
      "execution_count": 5,
      "metadata": {
        "id": "1v_J0KoFLBAR"
      },
      "outputs": [],
      "source": [
        "import pandas as pd\n",
        "import numpy as np\n",
        "from collections import Counter\n",
        "import tensorflow as tf\n",
        "import matplotlib.pyplot as plt\n",
        "%matplotlib inline"
      ]
    },
    {
      "cell_type": "markdown",
      "source": [
        "# 새 섹션"
      ],
      "metadata": {
        "id": "7Tu7rzvZZsYy"
      }
    },
    {
      "cell_type": "code",
      "source": [
        "from google.colab import drive\n",
        "drive.mount('/sample_data')"
      ],
      "metadata": {
        "id": "ZdcQ2_MbLEm8",
        "colab": {
          "base_uri": "https://localhost:8080/"
        },
        "outputId": "6565a31b-41d8-417d-99d0-e0b828c0eac0"
      },
      "execution_count": 6,
      "outputs": [
        {
          "output_type": "stream",
          "name": "stdout",
          "text": [
            "Mounted at /sample_data\n"
          ]
        }
      ]
    },
    {
      "cell_type": "markdown",
      "source": [
        "numeric => 나이와 같은 숫자"
      ],
      "metadata": {
        "id": "VWRGMt4Ob5iu"
      }
    },
    {
      "cell_type": "code",
      "source": [
        "np.random.seed(3)\n",
        "tf.random.set_seed(3)\n",
        "\n",
        "df = train"
      ],
      "metadata": {
        "id": "BsTjdYdgLEyi"
      },
      "execution_count": 9,
      "outputs": []
    },
    {
      "cell_type": "markdown",
      "source": [
        "결측값제거 / 파이썬에서 nan 은 numeric 만 찾아낼수있음 -> numeric 으로 다 변환필요"
      ],
      "metadata": {
        "id": "pxm58c9jhUCx"
      }
    },
    {
      "cell_type": "code",
      "source": [
        "df = df.replace({'cfam':8, 'cfam':np.nan})\n",
        "df = df.replace({'cfam':9, 'cfam':np.nan})\n",
        "df = df.replace({'BD1_11':8, 'BD1_11':np.nan})\n",
        "df = df.replace({'BD1_11':9, 'BD1_11':np.nan})\n",
        "df = df.replace({'BE8_1':88, 'BE8_1':np.nan})\n",
        "df = df.replace({'BE8_1':99, 'BE8_1':np.nan})"
      ],
      "metadata": {
        "id": "XiXkloSMhczd"
      },
      "execution_count": 11,
      "outputs": []
    },
    {
      "cell_type": "markdown",
      "source": [
        "뉴메릭으로 변환하는 과정임.  근데이거먼저해야하는거아닌가??\n",
        "coerce -> numeric 으로 변환안될시 null값으로 변경해줌"
      ],
      "metadata": {
        "id": "8SJmyT5iiHxx"
      }
    },
    {
      "cell_type": "code",
      "source": [
        "df = df.iloc[:,1:].apply(pd.to_numeric, errors='coerce')"
      ],
      "metadata": {
        "id": "DEOjtzLWhc_T"
      },
      "execution_count": 10,
      "outputs": []
    },
    {
      "cell_type": "markdown",
      "source": [
        "널값이 있는 부분을 다 찝어주는 함수 (변수,널값수)\n",
        "\n",
        "3500명이상(50%이상)은 쓸수없음."
      ],
      "metadata": {
        "id": "7Fd05H8ajamO"
      }
    },
    {
      "cell_type": "code",
      "source": [
        "def null_check(df):\n",
        "    null = df.isnull().sum()\n",
        "    \n",
        "    null_col=[]\n",
        "\n",
        "    for i in range(len(df.columns)):\n",
        "        if (null[i]!=0):\n",
        "            print(null.index[i],null[i])\n",
        "            null_col.append(null.index[i])\n",
        "\n",
        "null_check(df)"
      ],
      "metadata": {
        "id": "yLMiN8Q3ivaM",
        "colab": {
          "base_uri": "https://localhost:8080/"
        },
        "outputId": "a733b659-7e6f-4f36-c556-df3f23e2c9cd"
      },
      "execution_count": 12,
      "outputs": [
        {
          "output_type": "stream",
          "name": "stdout",
          "text": [
            "mh_stress 1445\n",
            "L_OUT_FQ 750\n",
            "mh_suicide 1445\n",
            "BE8_1 476\n",
            "LW_mt 3608\n",
            "LW_oc 3608\n",
            "HE_HP 2176\n",
            "HE_anem 1555\n",
            "O_chew_d 1976\n",
            "L_BR_FQ 750\n",
            "L_LN_FQ 750\n",
            "L_DN_FQ 750\n",
            "DI2_pr 476\n",
            "DI3_pr 476\n",
            "DI4_pr 921\n",
            "DI5_pr 476\n",
            "DI6_pr 476\n",
            "DM1_pr 924\n",
            "DM2_pr 476\n",
            "DM3_pr 476\n",
            "DM4_pr 476\n",
            "D_8_2 476\n",
            "D_8_4 476\n",
            "DJ4_pr 476\n",
            "DE1_pr 476\n",
            "DE2_pr 476\n",
            "DC1_pr 476\n",
            "DC2_pr 476\n",
            "DC3_pr 476\n",
            "DC4_pr 476\n",
            "DC5_pr 476\n",
            "DC6_pr 476\n",
            "DC7_pr 476\n",
            "DF2_pr 476\n",
            "DL1_pr 476\n",
            "DJ8_pr 476\n",
            "DH2_pr 476\n",
            "DH3_pr 476\n",
            "DN1_pr 476\n",
            "DK8_pr 476\n",
            "DK9_pr 476\n",
            "DK4_pr 476\n",
            "LQ4_00 476\n",
            "LQ1_sb 476\n",
            "LQ_1EQL 476\n",
            "LQ_2EQL 476\n",
            "LQ_3EQL 476\n",
            "LQ_4EQL 476\n",
            "LQ_5EQL 476\n",
            "educ 476\n",
            "EC1_1 476\n",
            "BO1 476\n",
            "BO1_1 476\n",
            "BO2_1 476\n",
            "BD1_11 476\n",
            "incm 52\n",
            "edu 968\n",
            "occp 2025\n",
            "HE_wt 409\n",
            "HE_wc 413\n",
            "HE_BMI 421\n",
            "N_EN 752\n",
            "N_WATER 752\n",
            "N_PROT 752\n",
            "N_FAT 752\n",
            "N_SFA 752\n",
            "N_MUFA 752\n",
            "N_PUFA 752\n",
            "N_CHOL 752\n",
            "N_CHO 752\n",
            "N_TDF 752\n",
            "N_CA 752\n",
            "N_FE 752\n",
            "N_NA 752\n",
            "N_K 752\n",
            "N_VITC 752\n",
            "LF_SAFE 427\n",
            "LF_S2 427\n"
          ]
        }
      ]
    },
    {
      "cell_type": "markdown",
      "source": [
        "lable 에 값이 없는것들은 살릴수없음 . lable 없는거 먼저 지워야한다!! row 가 줄은걸 확인할수있다."
      ],
      "metadata": {
        "id": "v0sRiJjajZuA"
      }
    },
    {
      "cell_type": "code",
      "source": [
        "df1 = df.dropna(subset=['mh_suicide'])\n",
        "df1"
      ],
      "metadata": {
        "id": "RLJFj7Mcjq6C",
        "colab": {
          "base_uri": "https://localhost:8080/",
          "height": 488
        },
        "outputId": "9ce034e6-6217-4c1d-f7db-639cb886b23f"
      },
      "execution_count": 13,
      "outputs": [
        {
          "output_type": "execute_result",
          "data": {
            "text/plain": [
              "      apt_t  sex  cfam  allownc  house  live_t  marri_2  tins  npins  \\\n",
              "0         1    2     3       20      2       3        1    10      1   \n",
              "1         1    1     3       20      2       3        1    10      1   \n",
              "3         1    1     4       20      1       3        1    20      1   \n",
              "4         1    2     4       20      1       3        1    20      1   \n",
              "7         1    2     1       20      3       3        3    10      1   \n",
              "...     ...  ...   ...      ...    ...     ...      ...   ...    ...   \n",
              "7375      2    1     4       10      1       2       88    30      2   \n",
              "7376      2    2     2       20      1       2        3    10      2   \n",
              "7377      2    1     1       20      1       2        3    10      2   \n",
              "7378      2    1     1       10      1       2        2    30      2   \n",
              "7379      2    2     1       10      1       2        3    20      2   \n",
              "\n",
              "      mh_stress  ...   N_CHOL    N_CHO   N_TDF     N_CA    N_FE      N_NA  \\\n",
              "0           0.0  ...  220.911  213.937  12.957  469.710   9.405  2117.652   \n",
              "1           1.0  ...  352.617  274.917  20.682  372.172  14.404  3699.691   \n",
              "3           0.0  ...   41.882  243.170  25.090  358.145  20.760  4282.505   \n",
              "4           0.0  ...  140.545  288.721  30.959  487.907  14.351  2875.440   \n",
              "7           1.0  ...   72.310  210.397  15.754  264.357   5.499  3105.538   \n",
              "...         ...  ...      ...      ...     ...      ...     ...       ...   \n",
              "7375        0.0  ...  691.964  702.860  30.675  729.327  21.411  6821.265   \n",
              "7376        0.0  ...  227.482  297.520  42.728  503.535  19.751  3801.607   \n",
              "7377        0.0  ...   56.957  490.710  28.559  446.249  14.001  7703.677   \n",
              "7378        1.0  ...    2.523  335.034  14.751  183.639  11.132  1480.816   \n",
              "7379        0.0  ...   29.512  331.486  19.802  538.297   8.958  1840.088   \n",
              "\n",
              "           N_K   N_VITC  LF_SAFE  LF_S2  \n",
              "0     2540.971   31.666      2.0    3.0  \n",
              "1     2589.378   43.118      2.0    3.0  \n",
              "3     1830.424   41.371      2.0    3.0  \n",
              "4     6069.345   88.895      2.0    3.0  \n",
              "7     2331.930  224.503      1.0    3.0  \n",
              "...        ...      ...      ...    ...  \n",
              "7375  5393.122   85.347      3.0    1.0  \n",
              "7376  5115.446  332.436      1.0    3.0  \n",
              "7377  2881.317   62.240      2.0    3.0  \n",
              "7378  1686.216   18.751      2.0    1.0  \n",
              "7379  1946.663   30.119      2.0    3.0  \n",
              "\n",
              "[5935 rows x 88 columns]"
            ],
            "text/html": [
              "\n",
              "  <div id=\"df-61cb402e-361e-44ac-8771-5c0eb8ce6ba1\">\n",
              "    <div class=\"colab-df-container\">\n",
              "      <div>\n",
              "<style scoped>\n",
              "    .dataframe tbody tr th:only-of-type {\n",
              "        vertical-align: middle;\n",
              "    }\n",
              "\n",
              "    .dataframe tbody tr th {\n",
              "        vertical-align: top;\n",
              "    }\n",
              "\n",
              "    .dataframe thead th {\n",
              "        text-align: right;\n",
              "    }\n",
              "</style>\n",
              "<table border=\"1\" class=\"dataframe\">\n",
              "  <thead>\n",
              "    <tr style=\"text-align: right;\">\n",
              "      <th></th>\n",
              "      <th>apt_t</th>\n",
              "      <th>sex</th>\n",
              "      <th>cfam</th>\n",
              "      <th>allownc</th>\n",
              "      <th>house</th>\n",
              "      <th>live_t</th>\n",
              "      <th>marri_2</th>\n",
              "      <th>tins</th>\n",
              "      <th>npins</th>\n",
              "      <th>mh_stress</th>\n",
              "      <th>...</th>\n",
              "      <th>N_CHOL</th>\n",
              "      <th>N_CHO</th>\n",
              "      <th>N_TDF</th>\n",
              "      <th>N_CA</th>\n",
              "      <th>N_FE</th>\n",
              "      <th>N_NA</th>\n",
              "      <th>N_K</th>\n",
              "      <th>N_VITC</th>\n",
              "      <th>LF_SAFE</th>\n",
              "      <th>LF_S2</th>\n",
              "    </tr>\n",
              "  </thead>\n",
              "  <tbody>\n",
              "    <tr>\n",
              "      <th>0</th>\n",
              "      <td>1</td>\n",
              "      <td>2</td>\n",
              "      <td>3</td>\n",
              "      <td>20</td>\n",
              "      <td>2</td>\n",
              "      <td>3</td>\n",
              "      <td>1</td>\n",
              "      <td>10</td>\n",
              "      <td>1</td>\n",
              "      <td>0.0</td>\n",
              "      <td>...</td>\n",
              "      <td>220.911</td>\n",
              "      <td>213.937</td>\n",
              "      <td>12.957</td>\n",
              "      <td>469.710</td>\n",
              "      <td>9.405</td>\n",
              "      <td>2117.652</td>\n",
              "      <td>2540.971</td>\n",
              "      <td>31.666</td>\n",
              "      <td>2.0</td>\n",
              "      <td>3.0</td>\n",
              "    </tr>\n",
              "    <tr>\n",
              "      <th>1</th>\n",
              "      <td>1</td>\n",
              "      <td>1</td>\n",
              "      <td>3</td>\n",
              "      <td>20</td>\n",
              "      <td>2</td>\n",
              "      <td>3</td>\n",
              "      <td>1</td>\n",
              "      <td>10</td>\n",
              "      <td>1</td>\n",
              "      <td>1.0</td>\n",
              "      <td>...</td>\n",
              "      <td>352.617</td>\n",
              "      <td>274.917</td>\n",
              "      <td>20.682</td>\n",
              "      <td>372.172</td>\n",
              "      <td>14.404</td>\n",
              "      <td>3699.691</td>\n",
              "      <td>2589.378</td>\n",
              "      <td>43.118</td>\n",
              "      <td>2.0</td>\n",
              "      <td>3.0</td>\n",
              "    </tr>\n",
              "    <tr>\n",
              "      <th>3</th>\n",
              "      <td>1</td>\n",
              "      <td>1</td>\n",
              "      <td>4</td>\n",
              "      <td>20</td>\n",
              "      <td>1</td>\n",
              "      <td>3</td>\n",
              "      <td>1</td>\n",
              "      <td>20</td>\n",
              "      <td>1</td>\n",
              "      <td>0.0</td>\n",
              "      <td>...</td>\n",
              "      <td>41.882</td>\n",
              "      <td>243.170</td>\n",
              "      <td>25.090</td>\n",
              "      <td>358.145</td>\n",
              "      <td>20.760</td>\n",
              "      <td>4282.505</td>\n",
              "      <td>1830.424</td>\n",
              "      <td>41.371</td>\n",
              "      <td>2.0</td>\n",
              "      <td>3.0</td>\n",
              "    </tr>\n",
              "    <tr>\n",
              "      <th>4</th>\n",
              "      <td>1</td>\n",
              "      <td>2</td>\n",
              "      <td>4</td>\n",
              "      <td>20</td>\n",
              "      <td>1</td>\n",
              "      <td>3</td>\n",
              "      <td>1</td>\n",
              "      <td>20</td>\n",
              "      <td>1</td>\n",
              "      <td>0.0</td>\n",
              "      <td>...</td>\n",
              "      <td>140.545</td>\n",
              "      <td>288.721</td>\n",
              "      <td>30.959</td>\n",
              "      <td>487.907</td>\n",
              "      <td>14.351</td>\n",
              "      <td>2875.440</td>\n",
              "      <td>6069.345</td>\n",
              "      <td>88.895</td>\n",
              "      <td>2.0</td>\n",
              "      <td>3.0</td>\n",
              "    </tr>\n",
              "    <tr>\n",
              "      <th>7</th>\n",
              "      <td>1</td>\n",
              "      <td>2</td>\n",
              "      <td>1</td>\n",
              "      <td>20</td>\n",
              "      <td>3</td>\n",
              "      <td>3</td>\n",
              "      <td>3</td>\n",
              "      <td>10</td>\n",
              "      <td>1</td>\n",
              "      <td>1.0</td>\n",
              "      <td>...</td>\n",
              "      <td>72.310</td>\n",
              "      <td>210.397</td>\n",
              "      <td>15.754</td>\n",
              "      <td>264.357</td>\n",
              "      <td>5.499</td>\n",
              "      <td>3105.538</td>\n",
              "      <td>2331.930</td>\n",
              "      <td>224.503</td>\n",
              "      <td>1.0</td>\n",
              "      <td>3.0</td>\n",
              "    </tr>\n",
              "    <tr>\n",
              "      <th>...</th>\n",
              "      <td>...</td>\n",
              "      <td>...</td>\n",
              "      <td>...</td>\n",
              "      <td>...</td>\n",
              "      <td>...</td>\n",
              "      <td>...</td>\n",
              "      <td>...</td>\n",
              "      <td>...</td>\n",
              "      <td>...</td>\n",
              "      <td>...</td>\n",
              "      <td>...</td>\n",
              "      <td>...</td>\n",
              "      <td>...</td>\n",
              "      <td>...</td>\n",
              "      <td>...</td>\n",
              "      <td>...</td>\n",
              "      <td>...</td>\n",
              "      <td>...</td>\n",
              "      <td>...</td>\n",
              "      <td>...</td>\n",
              "      <td>...</td>\n",
              "    </tr>\n",
              "    <tr>\n",
              "      <th>7375</th>\n",
              "      <td>2</td>\n",
              "      <td>1</td>\n",
              "      <td>4</td>\n",
              "      <td>10</td>\n",
              "      <td>1</td>\n",
              "      <td>2</td>\n",
              "      <td>88</td>\n",
              "      <td>30</td>\n",
              "      <td>2</td>\n",
              "      <td>0.0</td>\n",
              "      <td>...</td>\n",
              "      <td>691.964</td>\n",
              "      <td>702.860</td>\n",
              "      <td>30.675</td>\n",
              "      <td>729.327</td>\n",
              "      <td>21.411</td>\n",
              "      <td>6821.265</td>\n",
              "      <td>5393.122</td>\n",
              "      <td>85.347</td>\n",
              "      <td>3.0</td>\n",
              "      <td>1.0</td>\n",
              "    </tr>\n",
              "    <tr>\n",
              "      <th>7376</th>\n",
              "      <td>2</td>\n",
              "      <td>2</td>\n",
              "      <td>2</td>\n",
              "      <td>20</td>\n",
              "      <td>1</td>\n",
              "      <td>2</td>\n",
              "      <td>3</td>\n",
              "      <td>10</td>\n",
              "      <td>2</td>\n",
              "      <td>0.0</td>\n",
              "      <td>...</td>\n",
              "      <td>227.482</td>\n",
              "      <td>297.520</td>\n",
              "      <td>42.728</td>\n",
              "      <td>503.535</td>\n",
              "      <td>19.751</td>\n",
              "      <td>3801.607</td>\n",
              "      <td>5115.446</td>\n",
              "      <td>332.436</td>\n",
              "      <td>1.0</td>\n",
              "      <td>3.0</td>\n",
              "    </tr>\n",
              "    <tr>\n",
              "      <th>7377</th>\n",
              "      <td>2</td>\n",
              "      <td>1</td>\n",
              "      <td>1</td>\n",
              "      <td>20</td>\n",
              "      <td>1</td>\n",
              "      <td>2</td>\n",
              "      <td>3</td>\n",
              "      <td>10</td>\n",
              "      <td>2</td>\n",
              "      <td>0.0</td>\n",
              "      <td>...</td>\n",
              "      <td>56.957</td>\n",
              "      <td>490.710</td>\n",
              "      <td>28.559</td>\n",
              "      <td>446.249</td>\n",
              "      <td>14.001</td>\n",
              "      <td>7703.677</td>\n",
              "      <td>2881.317</td>\n",
              "      <td>62.240</td>\n",
              "      <td>2.0</td>\n",
              "      <td>3.0</td>\n",
              "    </tr>\n",
              "    <tr>\n",
              "      <th>7378</th>\n",
              "      <td>2</td>\n",
              "      <td>1</td>\n",
              "      <td>1</td>\n",
              "      <td>10</td>\n",
              "      <td>1</td>\n",
              "      <td>2</td>\n",
              "      <td>2</td>\n",
              "      <td>30</td>\n",
              "      <td>2</td>\n",
              "      <td>1.0</td>\n",
              "      <td>...</td>\n",
              "      <td>2.523</td>\n",
              "      <td>335.034</td>\n",
              "      <td>14.751</td>\n",
              "      <td>183.639</td>\n",
              "      <td>11.132</td>\n",
              "      <td>1480.816</td>\n",
              "      <td>1686.216</td>\n",
              "      <td>18.751</td>\n",
              "      <td>2.0</td>\n",
              "      <td>1.0</td>\n",
              "    </tr>\n",
              "    <tr>\n",
              "      <th>7379</th>\n",
              "      <td>2</td>\n",
              "      <td>2</td>\n",
              "      <td>1</td>\n",
              "      <td>10</td>\n",
              "      <td>1</td>\n",
              "      <td>2</td>\n",
              "      <td>3</td>\n",
              "      <td>20</td>\n",
              "      <td>2</td>\n",
              "      <td>0.0</td>\n",
              "      <td>...</td>\n",
              "      <td>29.512</td>\n",
              "      <td>331.486</td>\n",
              "      <td>19.802</td>\n",
              "      <td>538.297</td>\n",
              "      <td>8.958</td>\n",
              "      <td>1840.088</td>\n",
              "      <td>1946.663</td>\n",
              "      <td>30.119</td>\n",
              "      <td>2.0</td>\n",
              "      <td>3.0</td>\n",
              "    </tr>\n",
              "  </tbody>\n",
              "</table>\n",
              "<p>5935 rows × 88 columns</p>\n",
              "</div>\n",
              "      <button class=\"colab-df-convert\" onclick=\"convertToInteractive('df-61cb402e-361e-44ac-8771-5c0eb8ce6ba1')\"\n",
              "              title=\"Convert this dataframe to an interactive table.\"\n",
              "              style=\"display:none;\">\n",
              "        \n",
              "  <svg xmlns=\"http://www.w3.org/2000/svg\" height=\"24px\"viewBox=\"0 0 24 24\"\n",
              "       width=\"24px\">\n",
              "    <path d=\"M0 0h24v24H0V0z\" fill=\"none\"/>\n",
              "    <path d=\"M18.56 5.44l.94 2.06.94-2.06 2.06-.94-2.06-.94-.94-2.06-.94 2.06-2.06.94zm-11 1L8.5 8.5l.94-2.06 2.06-.94-2.06-.94L8.5 2.5l-.94 2.06-2.06.94zm10 10l.94 2.06.94-2.06 2.06-.94-2.06-.94-.94-2.06-.94 2.06-2.06.94z\"/><path d=\"M17.41 7.96l-1.37-1.37c-.4-.4-.92-.59-1.43-.59-.52 0-1.04.2-1.43.59L10.3 9.45l-7.72 7.72c-.78.78-.78 2.05 0 2.83L4 21.41c.39.39.9.59 1.41.59.51 0 1.02-.2 1.41-.59l7.78-7.78 2.81-2.81c.8-.78.8-2.07 0-2.86zM5.41 20L4 18.59l7.72-7.72 1.47 1.35L5.41 20z\"/>\n",
              "  </svg>\n",
              "      </button>\n",
              "      \n",
              "  <style>\n",
              "    .colab-df-container {\n",
              "      display:flex;\n",
              "      flex-wrap:wrap;\n",
              "      gap: 12px;\n",
              "    }\n",
              "\n",
              "    .colab-df-convert {\n",
              "      background-color: #E8F0FE;\n",
              "      border: none;\n",
              "      border-radius: 50%;\n",
              "      cursor: pointer;\n",
              "      display: none;\n",
              "      fill: #1967D2;\n",
              "      height: 32px;\n",
              "      padding: 0 0 0 0;\n",
              "      width: 32px;\n",
              "    }\n",
              "\n",
              "    .colab-df-convert:hover {\n",
              "      background-color: #E2EBFA;\n",
              "      box-shadow: 0px 1px 2px rgba(60, 64, 67, 0.3), 0px 1px 3px 1px rgba(60, 64, 67, 0.15);\n",
              "      fill: #174EA6;\n",
              "    }\n",
              "\n",
              "    [theme=dark] .colab-df-convert {\n",
              "      background-color: #3B4455;\n",
              "      fill: #D2E3FC;\n",
              "    }\n",
              "\n",
              "    [theme=dark] .colab-df-convert:hover {\n",
              "      background-color: #434B5C;\n",
              "      box-shadow: 0px 1px 3px 1px rgba(0, 0, 0, 0.15);\n",
              "      filter: drop-shadow(0px 1px 2px rgba(0, 0, 0, 0.3));\n",
              "      fill: #FFFFFF;\n",
              "    }\n",
              "  </style>\n",
              "\n",
              "      <script>\n",
              "        const buttonEl =\n",
              "          document.querySelector('#df-61cb402e-361e-44ac-8771-5c0eb8ce6ba1 button.colab-df-convert');\n",
              "        buttonEl.style.display =\n",
              "          google.colab.kernel.accessAllowed ? 'block' : 'none';\n",
              "\n",
              "        async function convertToInteractive(key) {\n",
              "          const element = document.querySelector('#df-61cb402e-361e-44ac-8771-5c0eb8ce6ba1');\n",
              "          const dataTable =\n",
              "            await google.colab.kernel.invokeFunction('convertToInteractive',\n",
              "                                                     [key], {});\n",
              "          if (!dataTable) return;\n",
              "\n",
              "          const docLinkHtml = 'Like what you see? Visit the ' +\n",
              "            '<a target=\"_blank\" href=https://colab.research.google.com/notebooks/data_table.ipynb>data table notebook</a>'\n",
              "            + ' to learn more about interactive tables.';\n",
              "          element.innerHTML = '';\n",
              "          dataTable['output_type'] = 'display_data';\n",
              "          await google.colab.output.renderOutput(dataTable, element);\n",
              "          const docLink = document.createElement('div');\n",
              "          docLink.innerHTML = docLinkHtml;\n",
              "          element.appendChild(docLink);\n",
              "        }\n",
              "      </script>\n",
              "    </div>\n",
              "  </div>\n",
              "  "
            ]
          },
          "metadata": {},
          "execution_count": 13
        }
      ]
    },
    {
      "cell_type": "markdown",
      "source": [
        "아까 결측과 값이 달라진걸볼수있음. mh_stress1 이 줄은걸 보니 무응답자중 우울증환자가 많다는걸 추측이 가능해짐\n"
      ],
      "metadata": {
        "id": "XD-JQ-f1j5vo"
      }
    },
    {
      "cell_type": "code",
      "source": [
        "null_check(df1)"
      ],
      "metadata": {
        "colab": {
          "base_uri": "https://localhost:8080/"
        },
        "id": "h3o3N9SOj4wU",
        "outputId": "89fbe2d0-1c7c-495c-bf5f-bfa2eeaeeff6"
      },
      "execution_count": 14,
      "outputs": [
        {
          "output_type": "stream",
          "name": "stdout",
          "text": [
            "mh_stress 1\n",
            "L_OUT_FQ 643\n",
            "LW_mt 2640\n",
            "LW_oc 2640\n",
            "HE_HP 845\n",
            "HE_anem 411\n",
            "O_chew_d 531\n",
            "L_BR_FQ 643\n",
            "L_LN_FQ 643\n",
            "L_DN_FQ 643\n",
            "DI4_pr 365\n",
            "DM1_pr 365\n",
            "incm 36\n",
            "edu 398\n",
            "occp 652\n",
            "HE_wt 5\n",
            "HE_wc 7\n",
            "HE_BMI 9\n",
            "N_EN 645\n",
            "N_WATER 645\n",
            "N_PROT 645\n",
            "N_FAT 645\n",
            "N_SFA 645\n",
            "N_MUFA 645\n",
            "N_PUFA 645\n",
            "N_CHOL 645\n",
            "N_CHO 645\n",
            "N_TDF 645\n",
            "N_CA 645\n",
            "N_FE 645\n",
            "N_NA 645\n",
            "N_K 645\n",
            "N_VITC 645\n",
            "LF_SAFE 354\n",
            "LF_S2 354\n"
          ]
        }
      ]
    },
    {
      "cell_type": "markdown",
      "source": [
        "중요치않은 부분 삭제"
      ],
      "metadata": {
        "id": "o_UKKNaHkqJs"
      }
    },
    {
      "cell_type": "code",
      "source": [
        "df2 = df1.drop(['LW_mt','LW_oc'],axis='columns',inplace=False)"
      ],
      "metadata": {
        "id": "quDmeXvpkqRC"
      },
      "execution_count": 16,
      "outputs": []
    },
    {
      "cell_type": "code",
      "source": [
        "df2.describe()\n"
      ],
      "metadata": {
        "colab": {
          "base_uri": "https://localhost:8080/",
          "height": 394
        },
        "id": "Iey9lFtzfDSa",
        "outputId": "f4d5cd0d-0dea-46de-861a-b211deeccd07"
      },
      "execution_count": 17,
      "outputs": [
        {
          "output_type": "execute_result",
          "data": {
            "text/plain": [
              "             apt_t          sex         cfam      allownc        house  \\\n",
              "count  5935.000000  5935.000000  5935.000000  5935.000000  5935.000000   \n",
              "mean      1.507161     1.555181     3.057793    19.222578     1.829486   \n",
              "std       0.499991     0.496988     1.251300     3.451161     0.655978   \n",
              "min       1.000000     1.000000     1.000000    10.000000     1.000000   \n",
              "25%       1.000000     1.000000     2.000000    20.000000     1.000000   \n",
              "50%       2.000000     2.000000     3.000000    20.000000     2.000000   \n",
              "75%       2.000000     2.000000     4.000000    20.000000     2.000000   \n",
              "max       2.000000     2.000000     6.000000    99.000000     9.000000   \n",
              "\n",
              "            live_t      marri_2         tins        npins    mh_stress  ...  \\\n",
              "count  5935.000000  5935.000000  5935.000000  5935.000000  5934.000000  ...   \n",
              "mean      1.844819    21.952485    18.731424     1.303454     0.271149  ...   \n",
              "std       0.845504    36.845830    11.693536     0.815100     0.444590  ...   \n",
              "min       1.000000     1.000000    10.000000     1.000000     0.000000  ...   \n",
              "25%       1.000000     1.000000    10.000000     1.000000     0.000000  ...   \n",
              "50%       2.000000     1.000000    20.000000     1.000000     0.000000  ...   \n",
              "75%       2.000000     4.000000    20.000000     1.000000     1.000000  ...   \n",
              "max       5.000000    88.000000    99.000000     9.000000     1.000000  ...   \n",
              "\n",
              "            N_CHOL        N_CHO        N_TDF         N_CA         N_FE  \\\n",
              "count  5290.000000  5290.000000  5290.000000  5290.000000  5290.000000   \n",
              "mean    251.426087   313.905312    24.444346   491.780140    17.272302   \n",
              "std     282.460174   133.375861    14.003415   314.219462    11.920659   \n",
              "min       0.137000     7.173000     0.210000     5.401000     0.008000   \n",
              "25%      69.861750   223.391750    14.915000   284.223750    10.412000   \n",
              "50%     175.125000   295.344500    21.596500   426.221500    14.894000   \n",
              "75%     339.371250   383.326750    31.051500   616.074250    21.226250   \n",
              "max    7014.693000  1917.925000   158.909000  4026.348000   287.583000   \n",
              "\n",
              "                N_NA           N_K       N_VITC      LF_SAFE        LF_S2  \n",
              "count    5290.000000   5290.000000  5290.000000  5581.000000  5581.000000  \n",
              "mean     3845.975069   3032.421206   105.044051     1.571045     2.935316  \n",
              "std      3404.168789   1684.164395   120.842697     0.627489     0.276839  \n",
              "min         2.868000     16.499000    -0.121000     1.000000     1.000000  \n",
              "25%      2114.857500   1935.060000    30.028750     1.000000     3.000000  \n",
              "50%      3278.272500   2710.713500    62.349000     2.000000     3.000000  \n",
              "75%      4885.563250   3743.763750   136.316750     2.000000     3.000000  \n",
              "max    170392.575000  26645.021000  1947.548000     4.000000     4.000000  \n",
              "\n",
              "[8 rows x 86 columns]"
            ],
            "text/html": [
              "\n",
              "  <div id=\"df-40b9d94a-2d37-4dfa-8863-974bc96558e6\">\n",
              "    <div class=\"colab-df-container\">\n",
              "      <div>\n",
              "<style scoped>\n",
              "    .dataframe tbody tr th:only-of-type {\n",
              "        vertical-align: middle;\n",
              "    }\n",
              "\n",
              "    .dataframe tbody tr th {\n",
              "        vertical-align: top;\n",
              "    }\n",
              "\n",
              "    .dataframe thead th {\n",
              "        text-align: right;\n",
              "    }\n",
              "</style>\n",
              "<table border=\"1\" class=\"dataframe\">\n",
              "  <thead>\n",
              "    <tr style=\"text-align: right;\">\n",
              "      <th></th>\n",
              "      <th>apt_t</th>\n",
              "      <th>sex</th>\n",
              "      <th>cfam</th>\n",
              "      <th>allownc</th>\n",
              "      <th>house</th>\n",
              "      <th>live_t</th>\n",
              "      <th>marri_2</th>\n",
              "      <th>tins</th>\n",
              "      <th>npins</th>\n",
              "      <th>mh_stress</th>\n",
              "      <th>...</th>\n",
              "      <th>N_CHOL</th>\n",
              "      <th>N_CHO</th>\n",
              "      <th>N_TDF</th>\n",
              "      <th>N_CA</th>\n",
              "      <th>N_FE</th>\n",
              "      <th>N_NA</th>\n",
              "      <th>N_K</th>\n",
              "      <th>N_VITC</th>\n",
              "      <th>LF_SAFE</th>\n",
              "      <th>LF_S2</th>\n",
              "    </tr>\n",
              "  </thead>\n",
              "  <tbody>\n",
              "    <tr>\n",
              "      <th>count</th>\n",
              "      <td>5935.000000</td>\n",
              "      <td>5935.000000</td>\n",
              "      <td>5935.000000</td>\n",
              "      <td>5935.000000</td>\n",
              "      <td>5935.000000</td>\n",
              "      <td>5935.000000</td>\n",
              "      <td>5935.000000</td>\n",
              "      <td>5935.000000</td>\n",
              "      <td>5935.000000</td>\n",
              "      <td>5934.000000</td>\n",
              "      <td>...</td>\n",
              "      <td>5290.000000</td>\n",
              "      <td>5290.000000</td>\n",
              "      <td>5290.000000</td>\n",
              "      <td>5290.000000</td>\n",
              "      <td>5290.000000</td>\n",
              "      <td>5290.000000</td>\n",
              "      <td>5290.000000</td>\n",
              "      <td>5290.000000</td>\n",
              "      <td>5581.000000</td>\n",
              "      <td>5581.000000</td>\n",
              "    </tr>\n",
              "    <tr>\n",
              "      <th>mean</th>\n",
              "      <td>1.507161</td>\n",
              "      <td>1.555181</td>\n",
              "      <td>3.057793</td>\n",
              "      <td>19.222578</td>\n",
              "      <td>1.829486</td>\n",
              "      <td>1.844819</td>\n",
              "      <td>21.952485</td>\n",
              "      <td>18.731424</td>\n",
              "      <td>1.303454</td>\n",
              "      <td>0.271149</td>\n",
              "      <td>...</td>\n",
              "      <td>251.426087</td>\n",
              "      <td>313.905312</td>\n",
              "      <td>24.444346</td>\n",
              "      <td>491.780140</td>\n",
              "      <td>17.272302</td>\n",
              "      <td>3845.975069</td>\n",
              "      <td>3032.421206</td>\n",
              "      <td>105.044051</td>\n",
              "      <td>1.571045</td>\n",
              "      <td>2.935316</td>\n",
              "    </tr>\n",
              "    <tr>\n",
              "      <th>std</th>\n",
              "      <td>0.499991</td>\n",
              "      <td>0.496988</td>\n",
              "      <td>1.251300</td>\n",
              "      <td>3.451161</td>\n",
              "      <td>0.655978</td>\n",
              "      <td>0.845504</td>\n",
              "      <td>36.845830</td>\n",
              "      <td>11.693536</td>\n",
              "      <td>0.815100</td>\n",
              "      <td>0.444590</td>\n",
              "      <td>...</td>\n",
              "      <td>282.460174</td>\n",
              "      <td>133.375861</td>\n",
              "      <td>14.003415</td>\n",
              "      <td>314.219462</td>\n",
              "      <td>11.920659</td>\n",
              "      <td>3404.168789</td>\n",
              "      <td>1684.164395</td>\n",
              "      <td>120.842697</td>\n",
              "      <td>0.627489</td>\n",
              "      <td>0.276839</td>\n",
              "    </tr>\n",
              "    <tr>\n",
              "      <th>min</th>\n",
              "      <td>1.000000</td>\n",
              "      <td>1.000000</td>\n",
              "      <td>1.000000</td>\n",
              "      <td>10.000000</td>\n",
              "      <td>1.000000</td>\n",
              "      <td>1.000000</td>\n",
              "      <td>1.000000</td>\n",
              "      <td>10.000000</td>\n",
              "      <td>1.000000</td>\n",
              "      <td>0.000000</td>\n",
              "      <td>...</td>\n",
              "      <td>0.137000</td>\n",
              "      <td>7.173000</td>\n",
              "      <td>0.210000</td>\n",
              "      <td>5.401000</td>\n",
              "      <td>0.008000</td>\n",
              "      <td>2.868000</td>\n",
              "      <td>16.499000</td>\n",
              "      <td>-0.121000</td>\n",
              "      <td>1.000000</td>\n",
              "      <td>1.000000</td>\n",
              "    </tr>\n",
              "    <tr>\n",
              "      <th>25%</th>\n",
              "      <td>1.000000</td>\n",
              "      <td>1.000000</td>\n",
              "      <td>2.000000</td>\n",
              "      <td>20.000000</td>\n",
              "      <td>1.000000</td>\n",
              "      <td>1.000000</td>\n",
              "      <td>1.000000</td>\n",
              "      <td>10.000000</td>\n",
              "      <td>1.000000</td>\n",
              "      <td>0.000000</td>\n",
              "      <td>...</td>\n",
              "      <td>69.861750</td>\n",
              "      <td>223.391750</td>\n",
              "      <td>14.915000</td>\n",
              "      <td>284.223750</td>\n",
              "      <td>10.412000</td>\n",
              "      <td>2114.857500</td>\n",
              "      <td>1935.060000</td>\n",
              "      <td>30.028750</td>\n",
              "      <td>1.000000</td>\n",
              "      <td>3.000000</td>\n",
              "    </tr>\n",
              "    <tr>\n",
              "      <th>50%</th>\n",
              "      <td>2.000000</td>\n",
              "      <td>2.000000</td>\n",
              "      <td>3.000000</td>\n",
              "      <td>20.000000</td>\n",
              "      <td>2.000000</td>\n",
              "      <td>2.000000</td>\n",
              "      <td>1.000000</td>\n",
              "      <td>20.000000</td>\n",
              "      <td>1.000000</td>\n",
              "      <td>0.000000</td>\n",
              "      <td>...</td>\n",
              "      <td>175.125000</td>\n",
              "      <td>295.344500</td>\n",
              "      <td>21.596500</td>\n",
              "      <td>426.221500</td>\n",
              "      <td>14.894000</td>\n",
              "      <td>3278.272500</td>\n",
              "      <td>2710.713500</td>\n",
              "      <td>62.349000</td>\n",
              "      <td>2.000000</td>\n",
              "      <td>3.000000</td>\n",
              "    </tr>\n",
              "    <tr>\n",
              "      <th>75%</th>\n",
              "      <td>2.000000</td>\n",
              "      <td>2.000000</td>\n",
              "      <td>4.000000</td>\n",
              "      <td>20.000000</td>\n",
              "      <td>2.000000</td>\n",
              "      <td>2.000000</td>\n",
              "      <td>4.000000</td>\n",
              "      <td>20.000000</td>\n",
              "      <td>1.000000</td>\n",
              "      <td>1.000000</td>\n",
              "      <td>...</td>\n",
              "      <td>339.371250</td>\n",
              "      <td>383.326750</td>\n",
              "      <td>31.051500</td>\n",
              "      <td>616.074250</td>\n",
              "      <td>21.226250</td>\n",
              "      <td>4885.563250</td>\n",
              "      <td>3743.763750</td>\n",
              "      <td>136.316750</td>\n",
              "      <td>2.000000</td>\n",
              "      <td>3.000000</td>\n",
              "    </tr>\n",
              "    <tr>\n",
              "      <th>max</th>\n",
              "      <td>2.000000</td>\n",
              "      <td>2.000000</td>\n",
              "      <td>6.000000</td>\n",
              "      <td>99.000000</td>\n",
              "      <td>9.000000</td>\n",
              "      <td>5.000000</td>\n",
              "      <td>88.000000</td>\n",
              "      <td>99.000000</td>\n",
              "      <td>9.000000</td>\n",
              "      <td>1.000000</td>\n",
              "      <td>...</td>\n",
              "      <td>7014.693000</td>\n",
              "      <td>1917.925000</td>\n",
              "      <td>158.909000</td>\n",
              "      <td>4026.348000</td>\n",
              "      <td>287.583000</td>\n",
              "      <td>170392.575000</td>\n",
              "      <td>26645.021000</td>\n",
              "      <td>1947.548000</td>\n",
              "      <td>4.000000</td>\n",
              "      <td>4.000000</td>\n",
              "    </tr>\n",
              "  </tbody>\n",
              "</table>\n",
              "<p>8 rows × 86 columns</p>\n",
              "</div>\n",
              "      <button class=\"colab-df-convert\" onclick=\"convertToInteractive('df-40b9d94a-2d37-4dfa-8863-974bc96558e6')\"\n",
              "              title=\"Convert this dataframe to an interactive table.\"\n",
              "              style=\"display:none;\">\n",
              "        \n",
              "  <svg xmlns=\"http://www.w3.org/2000/svg\" height=\"24px\"viewBox=\"0 0 24 24\"\n",
              "       width=\"24px\">\n",
              "    <path d=\"M0 0h24v24H0V0z\" fill=\"none\"/>\n",
              "    <path d=\"M18.56 5.44l.94 2.06.94-2.06 2.06-.94-2.06-.94-.94-2.06-.94 2.06-2.06.94zm-11 1L8.5 8.5l.94-2.06 2.06-.94-2.06-.94L8.5 2.5l-.94 2.06-2.06.94zm10 10l.94 2.06.94-2.06 2.06-.94-2.06-.94-.94-2.06-.94 2.06-2.06.94z\"/><path d=\"M17.41 7.96l-1.37-1.37c-.4-.4-.92-.59-1.43-.59-.52 0-1.04.2-1.43.59L10.3 9.45l-7.72 7.72c-.78.78-.78 2.05 0 2.83L4 21.41c.39.39.9.59 1.41.59.51 0 1.02-.2 1.41-.59l7.78-7.78 2.81-2.81c.8-.78.8-2.07 0-2.86zM5.41 20L4 18.59l7.72-7.72 1.47 1.35L5.41 20z\"/>\n",
              "  </svg>\n",
              "      </button>\n",
              "      \n",
              "  <style>\n",
              "    .colab-df-container {\n",
              "      display:flex;\n",
              "      flex-wrap:wrap;\n",
              "      gap: 12px;\n",
              "    }\n",
              "\n",
              "    .colab-df-convert {\n",
              "      background-color: #E8F0FE;\n",
              "      border: none;\n",
              "      border-radius: 50%;\n",
              "      cursor: pointer;\n",
              "      display: none;\n",
              "      fill: #1967D2;\n",
              "      height: 32px;\n",
              "      padding: 0 0 0 0;\n",
              "      width: 32px;\n",
              "    }\n",
              "\n",
              "    .colab-df-convert:hover {\n",
              "      background-color: #E2EBFA;\n",
              "      box-shadow: 0px 1px 2px rgba(60, 64, 67, 0.3), 0px 1px 3px 1px rgba(60, 64, 67, 0.15);\n",
              "      fill: #174EA6;\n",
              "    }\n",
              "\n",
              "    [theme=dark] .colab-df-convert {\n",
              "      background-color: #3B4455;\n",
              "      fill: #D2E3FC;\n",
              "    }\n",
              "\n",
              "    [theme=dark] .colab-df-convert:hover {\n",
              "      background-color: #434B5C;\n",
              "      box-shadow: 0px 1px 3px 1px rgba(0, 0, 0, 0.15);\n",
              "      filter: drop-shadow(0px 1px 2px rgba(0, 0, 0, 0.3));\n",
              "      fill: #FFFFFF;\n",
              "    }\n",
              "  </style>\n",
              "\n",
              "      <script>\n",
              "        const buttonEl =\n",
              "          document.querySelector('#df-40b9d94a-2d37-4dfa-8863-974bc96558e6 button.colab-df-convert');\n",
              "        buttonEl.style.display =\n",
              "          google.colab.kernel.accessAllowed ? 'block' : 'none';\n",
              "\n",
              "        async function convertToInteractive(key) {\n",
              "          const element = document.querySelector('#df-40b9d94a-2d37-4dfa-8863-974bc96558e6');\n",
              "          const dataTable =\n",
              "            await google.colab.kernel.invokeFunction('convertToInteractive',\n",
              "                                                     [key], {});\n",
              "          if (!dataTable) return;\n",
              "\n",
              "          const docLinkHtml = 'Like what you see? Visit the ' +\n",
              "            '<a target=\"_blank\" href=https://colab.research.google.com/notebooks/data_table.ipynb>data table notebook</a>'\n",
              "            + ' to learn more about interactive tables.';\n",
              "          element.innerHTML = '';\n",
              "          dataTable['output_type'] = 'display_data';\n",
              "          await google.colab.output.renderOutput(dataTable, element);\n",
              "          const docLink = document.createElement('div');\n",
              "          docLink.innerHTML = docLinkHtml;\n",
              "          element.appendChild(docLink);\n",
              "        }\n",
              "      </script>\n",
              "    </div>\n",
              "  </div>\n",
              "  "
            ]
          },
          "metadata": {},
          "execution_count": 17
        }
      ]
    },
    {
      "cell_type": "markdown",
      "source": [
        "0 : 정상 1:자살위험군\n",
        "\n",
        "비교해서 전체적인 비율을 확인-> 한자릿수나 차이가남 -> 임밸런스 데이터라고함 (기계학습은 5:5 비율일때 제일 잘되는데 사실 찾고자하는 1 은 보통 비율이 적음) -> 학습할데이터가 없는거임(의료데이터 특징) -> 이럴때 맞추는 방법이 있다 !!\n",
        "\n",
        "*1.오버샘플링* \n",
        "\n",
        "324 를 5000명과 맞춘다. => 324 명을 카피해서 5000 명을 만든다\n",
        "\n",
        "-문제점 : 오버피팅 (324명에대해서만 과하게 맞춤)\n",
        "\n",
        "*2.언더샘플링* \n",
        "\n",
        "5000명중 324개를 뽑는다 . \n",
        "\n",
        "-문제점 : 데이터손실\n",
        "\n",
        "*3.smote* \n",
        "\n",
        "knn 사용해서 거리구해서 비슷한 애들 반반 형성해서 사용하기 -> 중복데이터보다야 훨씬 좋음\n",
        "\n",
        "-문제점 : 데이터별로 사용이 적합하기도 아니기도함\n",
        "\n",
        " ex)불량품측정이야 가정의수가 많을수록 좋으나 의료데이터에서는 사람 한명한명이 소중한 데이터이기때문에 신빙성이 떨어진다고 봄.\n",
        "\n",
        "-데이터 건드리지 않고 하는 방법2개-\n",
        "\n",
        "*4.class 가중치 적용*\n",
        "\n",
        " 0과1중 1이 중요한 변수다 -> 학습할때 1 이 틀리는걸 크게 보고 보정하고, 0은 가중치를 적게주어 틀려도 상관없이 만든다 -> 가짜생성에 대한 비난은 피할수있음\n",
        "\n",
        "*5.앙상블학습* \n",
        "\n",
        "알고리즘여러개 합쳐서 쓰는것 "
      ],
      "metadata": {
        "id": "UVEIywlHji3H"
      }
    },
    {
      "cell_type": "code",
      "source": [
        "Counter(df2['mh_suicide'])"
      ],
      "metadata": {
        "colab": {
          "base_uri": "https://localhost:8080/"
        },
        "id": "948kiil_jd3J",
        "outputId": "a5cbb900-bccf-4761-ea12-eab9ea1fd32e"
      },
      "execution_count": 18,
      "outputs": [
        {
          "output_type": "execute_result",
          "data": {
            "text/plain": [
              "Counter({0.0: 5611, 1.0: 324})"
            ]
          },
          "metadata": {},
          "execution_count": 18
        }
      ]
    },
    {
      "cell_type": "code",
      "source": [
        "import seaborn as sns\n"
      ],
      "metadata": {
        "id": "AMvOxtWomF1v"
      },
      "execution_count": 19,
      "outputs": []
    },
    {
      "cell_type": "code",
      "source": [
        "f = sns.countplot(x='mh_suicide', data=df)\n",
        "f.set_title(\"Suicide presence distribution\")\n",
        "f.set_xticklabels(['didnt think Suicide', 'Think Suicide'])\n",
        "plt.xlabel(\"\")"
      ],
      "metadata": {
        "colab": {
          "base_uri": "https://localhost:8080/",
          "height": 299
        },
        "id": "Ws7r50H-mXHH",
        "outputId": "a0523e1d-dfa4-4b7b-9f67-ba00e09a7066"
      },
      "execution_count": null,
      "outputs": [
        {
          "output_type": "execute_result",
          "data": {
            "text/plain": [
              "Text(0.5, 0, '')"
            ]
          },
          "metadata": {},
          "execution_count": 20
        },
        {
          "output_type": "display_data",
          "data": {
            "text/plain": [
              "<Figure size 432x288 with 1 Axes>"
            ],
            "image/png": "[encoded data removed]"
          },
          "metadata": {
            "needs_background": "light"
          }
        }
      ]
    },
    {
      "cell_type": "code",
      "source": [
        "f = sns.countplot(x='mh_suicide', data=df, hue='sex')\n",
        "plt.legend(['Female', 'Male'])\n",
        "f.set_title(\"Suicide presence distribution by gender\")\n",
        "f.set_xticklabels(['No Suicide', 'Suicide'])\n",
        "plt.xlabel(\"\")"
      ],
      "metadata": {
        "colab": {
          "base_uri": "https://localhost:8080/",
          "height": 299
        },
        "id": "_G7UBcxNmUDQ",
        "outputId": "1aa39053-50fb-458f-8f3c-cd4cd0022e9a"
      },
      "execution_count": 20,
      "outputs": [
        {
          "output_type": "execute_result",
          "data": {
            "text/plain": [
              "Text(0.5, 0, '')"
            ]
          },
          "metadata": {},
          "execution_count": 20
        },
        {
          "output_type": "display_data",
          "data": {
            "text/plain": [
              "<Figure size 432x288 with 1 Axes>"
            ],
            "image/png": "[encoded data removed]"
          },
          "metadata": {
            "needs_background": "light"
          }
        }
      ]
    },
    {
      "cell_type": "markdown",
      "source": [],
      "metadata": {
        "id": "qNLlySrYmRQO"
      }
    },
    {
      "cell_type": "markdown",
      "source": [
        "상관계수 찍음.\n",
        "의료데이터는 서로 독립변수가 아님.그래서 상관변수나 회귀분석으로 변수를 뽑았을때 점수와 같은 가벼운것이 아님. 그래도 공식이 될만하면 회귀분석을 통해 다중공선성을 적용할수있으나. 이런\n",
        "의료데이터는 서로 관계가 깊기때문에 아래 나온대로 영향을 미쳤다고 볼수없음. \n",
        "\n",
        "=> 그래서 딥러닝을 통해 뭐가 제일 중요한 요소인지 파악함"
      ],
      "metadata": {
        "id": "95cDQCqmmfPJ"
      }
    },
    {
      "cell_type": "code",
      "source": [
        "mh_suicide_corr = df.corr()['mh_suicide']\n",
        "\n",
        "mh_suicide_corr.sort_values(axis=0)"
      ],
      "metadata": {
        "colab": {
          "base_uri": "https://localhost:8080/"
        },
        "id": "1qqLh5aMmGaf",
        "outputId": "1df35fb2-eda0-4144-ee7d-ce1cda9bd5c2"
      },
      "execution_count": 21,
      "outputs": [
        {
          "output_type": "execute_result",
          "data": {
            "text/plain": [
              "DF2_pr       -0.182007\n",
              "LF_S2        -0.138665\n",
              "allownc      -0.098459\n",
              "edu          -0.091495\n",
              "incm         -0.082476\n",
              "                ...   \n",
              "occp          0.090633\n",
              "O_chew_d      0.111216\n",
              "LF_SAFE       0.120603\n",
              "mh_stress     0.220486\n",
              "mh_suicide    1.000000\n",
              "Name: mh_suicide, Length: 88, dtype: float64"
            ]
          },
          "metadata": {},
          "execution_count": 21
        }
      ]
    },
    {
      "cell_type": "code",
      "source": [
        "f = sns.countplot(x='mh_stress', data=df)\n",
        "f.set_title(\"stress presence distribution\")\n",
        "f.set_xticklabels(['No stress', 'stress'])\n",
        "plt.xlabel(\"\")"
      ],
      "metadata": {
        "colab": {
          "base_uri": "https://localhost:8080/",
          "height": 299
        },
        "id": "7VHAAqhzj1TV",
        "outputId": "7a9dfa4c-0b4e-4346-8629-2a0ea68d81bc"
      },
      "execution_count": 22,
      "outputs": [
        {
          "output_type": "execute_result",
          "data": {
            "text/plain": [
              "Text(0.5, 0, '')"
            ]
          },
          "metadata": {},
          "execution_count": 22
        },
        {
          "output_type": "display_data",
          "data": {
            "text/plain": [
              "<Figure size 432x288 with 1 Axes>"
            ],
            "image/png": "[encoded data removed]"
          },
          "metadata": {
            "needs_background": "light"
          }
        }
      ]
    },
    {
      "cell_type": "code",
      "source": [
        "f = sns.countplot(x='mh_stress', data=df, hue='sex')\n",
        "plt.legend(['Female', 'Male'])\n",
        "f.set_title(\"Stress presence distribution by gender\")\n",
        "f.set_xticklabels(['No Stress', 'Stress'])\n",
        "plt.xlabel(\"\")"
      ],
      "metadata": {
        "colab": {
          "base_uri": "https://localhost:8080/",
          "height": 299
        },
        "id": "SMzv8rOHkFIi",
        "outputId": "8eb6469c-a0c8-4d28-974f-4995f37d903c"
      },
      "execution_count": 23,
      "outputs": [
        {
          "output_type": "execute_result",
          "data": {
            "text/plain": [
              "Text(0.5, 0, '')"
            ]
          },
          "metadata": {},
          "execution_count": 23
        },
        {
          "output_type": "display_data",
          "data": {
            "text/plain": [
              "<Figure size 432x288 with 1 Axes>"
            ],
            "image/png": "[encoded data removed]"
          },
          "metadata": {
            "needs_background": "light"
          }
        }
      ]
    },
    {
      "cell_type": "code",
      "source": [
        "from sklearn.base import BaseEstimator, TransformerMixin\n",
        "from sklearn.pipeline import Pipeline\n",
        "from sklearn.preprocessing import MinMaxScaler,StandardScaler,OneHotEncoder\n",
        "#수치형:scaler 범주형:onehotencoder \n",
        "from sklearn.impute import SimpleImputer #null값 대치용\n",
        "from sklearn.pipeline import FeatureUnion"
      ],
      "metadata": {
        "id": "7k2kV76fnM2H"
      },
      "execution_count": 25,
      "outputs": []
    },
    {
      "cell_type": "code",
      "source": [
        "class DataFrameSelector(BaseEstimator, TransformerMixin):\n",
        "    def __init__(self, attribute_names):\n",
        "        self.attribute_names = attribute_names\n",
        "    def fit(self, X, y=None):\n",
        "        return self\n",
        "    def transform(self, X):\n",
        "        return X[self.attribute_names].values"
      ],
      "metadata": {
        "id": "yxddxUbWnYo_"
      },
      "execution_count": 26,
      "outputs": []
    },
    {
      "cell_type": "markdown",
      "source": [
        " FeatureUnion(transformer_list=[\n",
        "    (\"num_pipeline\", num_pipeline),\n",
        "    (\"cat_pipeline\", cat_pipeline)])\n",
        "    뉴메릭과 카테고리를 합침.\n",
        "\n",
        "  원핫인코딩 -> 공간차지가 많아짐 \n",
        "\n",
        "ex) 옷사이즈 처럼 하나를 골라아하는건 원핫인코딩, 근데 학년과같은 범주는 할 필요없음. impute만 한다. \n",
        "\n",
        "널값 대체시) 범주는 most+frequent 최빈값!\n",
        "\n",
        "뉴메릭은 평균이나 중앙값중. -> 자신없으면 빼거나 해야함. 의료데이터의 경우 평균은 큰의미가없다. 회귀식에 넣어서 하는게좋음.\n",
        "\n",
        "그리고 마지막으로 합해서 전처리를 한다"
      ],
      "metadata": {
        "id": "nyI3PlsMnzIn"
      }
    },
    {
      "cell_type": "code",
      "source": [
        "def pipeline(df, nums, cats):\n",
        "    \n",
        "    num_inputer = SimpleImputer(strategy='median')\n",
        "    num_pipeline=Pipeline([\n",
        "        (\"select_numeric\",DataFrameSelector(nums)),\n",
        "        (\"impute\", num_inputer),\n",
        "        (\"scaler\", StandardScaler())])\n",
        "    #num : 수치형만 결측치대체후 scaler 적용\n",
        "    cat_imputer = SimpleImputer(strategy='most_frequent')\n",
        "    cat_pipeline = Pipeline([\n",
        "        (\"select_cat\",DataFrameSelector(cats)),\n",
        "        (\"impute\", cat_imputer)])\n",
        "        #(\"encoder\", OneHotEncoder())])\n",
        "    #cat : 범주형만 가져와서 결측치 보정후, 데이터가 많아 원핫인코딩 생략\n",
        "    preprocess_pipeline = FeatureUnion(transformer_list=[\n",
        "    (\"num_pipeline\", num_pipeline),\n",
        "    (\"cat_pipeline\", cat_pipeline)])\n",
        "    \n",
        "    X=preprocess_pipeline.fit_transform(df)\n",
        "    #num(수치형) 과 cat(범주형) 을 합쳐서 전체 전처리함\n",
        "    return X"
      ],
      "metadata": {
        "id": "o1R4B0rynfu3"
      },
      "execution_count": 27,
      "outputs": []
    },
    {
      "cell_type": "markdown",
      "source": [
        "넣어야함"
      ],
      "metadata": {
        "id": "l7knKWltpL9G"
      }
    },
    {
      "cell_type": "code",
      "source": [
        "nums = ['incm', 'edu', 'occp', 'marri_1', 'HE_wt', 'HE_wc', 'HE_BMI', 'N_EN', 'N_WATER', 'N_PROT', 'N_FAT', 'N_SFA', 'N_MUFA', 'N_PUFA', 'N_CHOL', 'N_CHO', 'N_TDF', 'N_CA', 'N_FE', 'N_NA', 'N_K', 'N_VITC', 'LF_SAFE', 'LF_S2']\n",
        "cats = ['apt_t', 'sex', 'cfam', 'allownc', 'house', 'live_t', 'marri_2', 'tins', 'npins', 'DI2_pr', 'DI3_pr', 'DI4_pr', 'DI5_pr', 'DI6_pr', 'DM1_pr', 'DM2_pr', 'DM3_pr', 'DM4_pr', 'D_8_2', 'D_8_4', 'DJ4_pr', 'DE1_pr', 'DE2_pr', 'DC1_pr', 'DC2_pr', 'DC3_pr', 'DC4_pr', 'DC5_pr', 'DC6_pr', 'DC7_pr', 'DF2_pr', 'DL1_pr', 'DJ8_pr', 'DH2_pr', 'DH3_pr', 'DN1_pr', 'DK8_pr', 'DK9_pr', 'DK4_pr', 'LQ4_00', 'LQ1_sb', 'LQ_1EQL', 'LQ_2EQL', 'LQ_3EQL', 'LQ_4EQL', 'LQ_5EQL', 'educ', 'EC1_1', 'BO1', 'BO1_1', 'BO2_1', 'BD1_11', 'mh_stress', 'BE8_1', 'HE_HP', 'HE_anem', 'O_chew_d', 'L_BR_FQ', 'L_LN_FQ', 'L_DN_FQ']"
      ],
      "metadata": {
        "id": "rInx6FBSpIZG"
      },
      "execution_count": 28,
      "outputs": []
    },
    {
      "cell_type": "markdown",
      "source": [
        "그리고 위에 정의했던 전처리과정 pipeline 에다가 넣어서 진행시킴"
      ],
      "metadata": {
        "id": "JOM3qjntmsI1"
      }
    },
    {
      "cell_type": "markdown",
      "source": [
        "#x 데이터만 전처리 완료!"
      ],
      "metadata": {
        "id": "1g_RGJHtm28F"
      }
    },
    {
      "cell_type": "code",
      "source": [
        "X_data = pipeline(df2, nums, cats)"
      ],
      "metadata": {
        "id": "wqCMCGTlpSMN"
      },
      "execution_count": 29,
      "outputs": []
    },
    {
      "cell_type": "markdown",
      "source": [
        "y 레이블 분리하면서 y 데이터 전처리 진행"
      ],
      "metadata": {
        "id": "Yo_DVZAan9Gh"
      }
    },
    {
      "cell_type": "code",
      "source": [
        "y_label = df2['mh_suicide']"
      ],
      "metadata": {
        "id": "Q2J7bKPpm8B2"
      },
      "execution_count": 31,
      "outputs": []
    },
    {
      "cell_type": "code",
      "source": [
        "from sklearn.model_selection import train_test_split\n"
      ],
      "metadata": {
        "id": "VHT3e-kenBLB"
      },
      "execution_count": 32,
      "outputs": []
    },
    {
      "cell_type": "markdown",
      "source": [
        "train_test_split 을 사용해 비중을 똑같이하면서 잘라줌. ??"
      ],
      "metadata": {
        "id": "-H4bRMAopvPu"
      }
    },
    {
      "cell_type": "code",
      "source": [
        "X_train, X_test, y_train, y_test = train_test_split(X_data, y_label, test_size=0.3, random_state=0)\n",
        "\n",
        "X_train = np.asarray(X_train)\n",
        "y_train = np.asarray(y_train)\n",
        "X_test = np.asarray(X_test)\n",
        "y_test = np.asarray(y_test)"
      ],
      "metadata": {
        "id": "4R5jg4WXpt32"
      },
      "execution_count": 33,
      "outputs": []
    },
    {
      "cell_type": "code",
      "source": [
        "print('Train data shape: {0}'.format(X_train.shape))\n",
        "print('Test data shape: {0}'.format(X_test.shape))\n",
        "\n",
        "print('Train data label => %s' %Counter(y_train))\n",
        "print('Test data label => %s' %Counter(y_test))"
      ],
      "metadata": {
        "colab": {
          "base_uri": "https://localhost:8080/"
        },
        "id": "QOjulBe9nvMB",
        "outputId": "47e241c1-eb4e-49a7-cff4-7184ccd555c2"
      },
      "execution_count": 34,
      "outputs": [
        {
          "output_type": "stream",
          "name": "stdout",
          "text": [
            "Train data shape: (4154, 84)\n",
            "Test data shape: (1781, 84)\n",
            "Train data label => Counter({0.0: 3926, 1.0: 228})\n",
            "Test data label => Counter({0.0: 1685, 1.0: 96})\n"
          ]
        }
      ]
    },
    {
      "cell_type": "markdown",
      "source": [
        "#smote 모델 이용 -> 데이터 맞추기"
      ],
      "metadata": {
        "id": "9GFAM3hPoCwl"
      }
    },
    {
      "cell_type": "code",
      "source": [
        "from imblearn.over_sampling import SMOTE\n",
        "\n",
        "smote = SMOTE(random_state=0)\n",
        "X_train_over,y_train_over = smote.fit_resample(X_train,y_train)"
      ],
      "metadata": {
        "id": "IcLCeu4uoQBj"
      },
      "execution_count": 35,
      "outputs": []
    },
    {
      "cell_type": "code",
      "source": [
        "print('SMOTE 적용 전 학습용 피처/레이블 데이터 세트: ', X_train.shape, y_train.shape)\n",
        "print('SMOTE 적용 전 레이블 값 분포: \\n', pd.Series(y_train).value_counts())\n",
        "print('SMOTE 적용 후 학습용 피처/레이블 데이터 세트: ', X_train_over.shape, y_train_over.shape)\n",
        "print('SMOTE 적용 후 레이블 값 분포: \\n', pd.Series(y_train_over).value_counts())"
      ],
      "metadata": {
        "colab": {
          "base_uri": "https://localhost:8080/"
        },
        "id": "Co0V0pw8oYq_",
        "outputId": "30048c8a-1c23-439f-b1c4-f142dc813d49"
      },
      "execution_count": 36,
      "outputs": [
        {
          "output_type": "stream",
          "name": "stdout",
          "text": [
            "SMOTE 적용 전 학습용 피처/레이블 데이터 세트:  (4154, 84) (4154,)\n",
            "SMOTE 적용 전 레이블 값 분포: \n",
            " 0.0    3926\n",
            "1.0     228\n",
            "dtype: int64\n",
            "SMOTE 적용 후 학습용 피처/레이블 데이터 세트:  (7852, 84) (7852,)\n",
            "SMOTE 적용 후 레이블 값 분포: \n",
            " 0.0    3926\n",
            "1.0    3926\n",
            "dtype: int64\n"
          ]
        }
      ]
    }
  ]
}