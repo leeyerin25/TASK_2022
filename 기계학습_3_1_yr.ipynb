{
  "nbformat": 4,
  "nbformat_minor": 0,
  "metadata": {
    "colab": {
      "provenance": [],
      "collapsed_sections": [],
      "mount_file_id": "118tqAv3nx4rVzvTa58qW8jbI8zdz4iPM",
      "authorship_tag": "ABX9TyNtyekBL44Z+nQ4JD9U8MZ8",
      "include_colab_link": true
    },
    "kernelspec": {
      "name": "python3",
      "display_name": "Python 3"
    },
    "language_info": {
      "name": "python"
    }
  },
  "cells": [
    {
      "cell_type": "markdown",
      "metadata": {
        "id": "view-in-github",
        "colab_type": "text"
      },
      "source": [
        "<a href=\"https://colab.research.google.com/github/leeyerin25/TIL_python/blob/main/%EA%B8%B0%EA%B3%84%ED%95%99%EC%8A%B5_3_1_yr.ipynb\" target=\"_parent\"><img src=\"https://colab.research.google.com/assets/colab-badge.svg\" alt=\"Open In Colab\"/></a>"
      ]
    },
    {
      "cell_type": "code",
      "source": [
        "import pandas as pd\n",
        "\n",
        "train = pd.read_csv('/content/drive/MyDrive/기계학습/suicide_data.csv')\n",
        "train.head()"
      ],
      "metadata": {
        "id": "sjXyrVi6QNsE",
        "colab": {
          "base_uri": "https://localhost:8080/",
          "height": 235
        },
        "outputId": "842e55ca-9111-4cfc-89cc-644bf4864bd2"
      },
      "execution_count": null,
      "outputs": [
        {
          "output_type": "execute_result",
          "data": {
            "text/plain": [
              "           ID  apt_t  sex  cfam  allownc  house  live_t  marri_2  tins  npins  \\\n",
              "0  A739211515      1    2     3       20      2       3        1    10      1   \n",
              "1  A739211516      1    1     3       20      2       3        1    10      1   \n",
              "2  A739211517      1    2     3       20      2       3        3    20      1   \n",
              "3  A739219614      1    1     4       20      1       3        1    20      1   \n",
              "4  A739219615      1    2     4       20      1       3        1    20      1   \n",
              "\n",
              "   ...   N_CHOL    N_CHO   N_TDF     N_CA    N_FE      N_NA       N_K  \\\n",
              "0  ...  220.911  213.937  12.957  469.710   9.405  2117.652  2540.971   \n",
              "1  ...  352.617  274.917  20.682  372.172  14.404  3699.691  2589.378   \n",
              "2  ...  136.681  272.175  19.292  266.870  13.276  2265.539  2073.714   \n",
              "3  ...   41.882  243.170  25.090  358.145  20.760  4282.505  1830.424   \n",
              "4  ...  140.545  288.721  30.959  487.907  14.351  2875.440  6069.345   \n",
              "\n",
              "    N_VITC LF_SAFE LF_S2  \n",
              "0   31.666      2     3   \n",
              "1   43.118      2     3   \n",
              "2  105.935      2     3   \n",
              "3   41.371      2     3   \n",
              "4   88.895      2     3   \n",
              "\n",
              "[5 rows x 89 columns]"
            ],
            "text/html": [
              "\n",
              "  <div id=\"df-9bb865f7-a1ab-4fc2-9e0a-100ab2123fb5\">\n",
              "    <div class=\"colab-df-container\">\n",
              "      <div>\n",
              "<style scoped>\n",
              "    .dataframe tbody tr th:only-of-type {\n",
              "        vertical-align: middle;\n",
              "    }\n",
              "\n",
              "    .dataframe tbody tr th {\n",
              "        vertical-align: top;\n",
              "    }\n",
              "\n",
              "    .dataframe thead th {\n",
              "        text-align: right;\n",
              "    }\n",
              "</style>\n",
              "<table border=\"1\" class=\"dataframe\">\n",
              "  <thead>\n",
              "    <tr style=\"text-align: right;\">\n",
              "      <th></th>\n",
              "      <th>ID</th>\n",
              "      <th>apt_t</th>\n",
              "      <th>sex</th>\n",
              "      <th>cfam</th>\n",
              "      <th>allownc</th>\n",
              "      <th>house</th>\n",
              "      <th>live_t</th>\n",
              "      <th>marri_2</th>\n",
              "      <th>tins</th>\n",
              "      <th>npins</th>\n",
              "      <th>...</th>\n",
              "      <th>N_CHOL</th>\n",
              "      <th>N_CHO</th>\n",
              "      <th>N_TDF</th>\n",
              "      <th>N_CA</th>\n",
              "      <th>N_FE</th>\n",
              "      <th>N_NA</th>\n",
              "      <th>N_K</th>\n",
              "      <th>N_VITC</th>\n",
              "      <th>LF_SAFE</th>\n",
              "      <th>LF_S2</th>\n",
              "    </tr>\n",
              "  </thead>\n",
              "  <tbody>\n",
              "    <tr>\n",
              "      <th>0</th>\n",
              "      <td>A739211515</td>\n",
              "      <td>1</td>\n",
              "      <td>2</td>\n",
              "      <td>3</td>\n",
              "      <td>20</td>\n",
              "      <td>2</td>\n",
              "      <td>3</td>\n",
              "      <td>1</td>\n",
              "      <td>10</td>\n",
              "      <td>1</td>\n",
              "      <td>...</td>\n",
              "      <td>220.911</td>\n",
              "      <td>213.937</td>\n",
              "      <td>12.957</td>\n",
              "      <td>469.710</td>\n",
              "      <td>9.405</td>\n",
              "      <td>2117.652</td>\n",
              "      <td>2540.971</td>\n",
              "      <td>31.666</td>\n",
              "      <td>2</td>\n",
              "      <td>3</td>\n",
              "    </tr>\n",
              "    <tr>\n",
              "      <th>1</th>\n",
              "      <td>A739211516</td>\n",
              "      <td>1</td>\n",
              "      <td>1</td>\n",
              "      <td>3</td>\n",
              "      <td>20</td>\n",
              "      <td>2</td>\n",
              "      <td>3</td>\n",
              "      <td>1</td>\n",
              "      <td>10</td>\n",
              "      <td>1</td>\n",
              "      <td>...</td>\n",
              "      <td>352.617</td>\n",
              "      <td>274.917</td>\n",
              "      <td>20.682</td>\n",
              "      <td>372.172</td>\n",
              "      <td>14.404</td>\n",
              "      <td>3699.691</td>\n",
              "      <td>2589.378</td>\n",
              "      <td>43.118</td>\n",
              "      <td>2</td>\n",
              "      <td>3</td>\n",
              "    </tr>\n",
              "    <tr>\n",
              "      <th>2</th>\n",
              "      <td>A739211517</td>\n",
              "      <td>1</td>\n",
              "      <td>2</td>\n",
              "      <td>3</td>\n",
              "      <td>20</td>\n",
              "      <td>2</td>\n",
              "      <td>3</td>\n",
              "      <td>3</td>\n",
              "      <td>20</td>\n",
              "      <td>1</td>\n",
              "      <td>...</td>\n",
              "      <td>136.681</td>\n",
              "      <td>272.175</td>\n",
              "      <td>19.292</td>\n",
              "      <td>266.870</td>\n",
              "      <td>13.276</td>\n",
              "      <td>2265.539</td>\n",
              "      <td>2073.714</td>\n",
              "      <td>105.935</td>\n",
              "      <td>2</td>\n",
              "      <td>3</td>\n",
              "    </tr>\n",
              "    <tr>\n",
              "      <th>3</th>\n",
              "      <td>A739219614</td>\n",
              "      <td>1</td>\n",
              "      <td>1</td>\n",
              "      <td>4</td>\n",
              "      <td>20</td>\n",
              "      <td>1</td>\n",
              "      <td>3</td>\n",
              "      <td>1</td>\n",
              "      <td>20</td>\n",
              "      <td>1</td>\n",
              "      <td>...</td>\n",
              "      <td>41.882</td>\n",
              "      <td>243.170</td>\n",
              "      <td>25.090</td>\n",
              "      <td>358.145</td>\n",
              "      <td>20.760</td>\n",
              "      <td>4282.505</td>\n",
              "      <td>1830.424</td>\n",
              "      <td>41.371</td>\n",
              "      <td>2</td>\n",
              "      <td>3</td>\n",
              "    </tr>\n",
              "    <tr>\n",
              "      <th>4</th>\n",
              "      <td>A739219615</td>\n",
              "      <td>1</td>\n",
              "      <td>2</td>\n",
              "      <td>4</td>\n",
              "      <td>20</td>\n",
              "      <td>1</td>\n",
              "      <td>3</td>\n",
              "      <td>1</td>\n",
              "      <td>20</td>\n",
              "      <td>1</td>\n",
              "      <td>...</td>\n",
              "      <td>140.545</td>\n",
              "      <td>288.721</td>\n",
              "      <td>30.959</td>\n",
              "      <td>487.907</td>\n",
              "      <td>14.351</td>\n",
              "      <td>2875.440</td>\n",
              "      <td>6069.345</td>\n",
              "      <td>88.895</td>\n",
              "      <td>2</td>\n",
              "      <td>3</td>\n",
              "    </tr>\n",
              "  </tbody>\n",
              "</table>\n",
              "<p>5 rows × 89 columns</p>\n",
              "</div>\n",
              "      <button class=\"colab-df-convert\" onclick=\"convertToInteractive('df-9bb865f7-a1ab-4fc2-9e0a-100ab2123fb5')\"\n",
              "              title=\"Convert this dataframe to an interactive table.\"\n",
              "              style=\"display:none;\">\n",
              "        \n",
              "  <svg xmlns=\"http://www.w3.org/2000/svg\" height=\"24px\"viewBox=\"0 0 24 24\"\n",
              "       width=\"24px\">\n",
              "    <path d=\"M0 0h24v24H0V0z\" fill=\"none\"/>\n",
              "    <path d=\"M18.56 5.44l.94 2.06.94-2.06 2.06-.94-2.06-.94-.94-2.06-.94 2.06-2.06.94zm-11 1L8.5 8.5l.94-2.06 2.06-.94-2.06-.94L8.5 2.5l-.94 2.06-2.06.94zm10 10l.94 2.06.94-2.06 2.06-.94-2.06-.94-.94-2.06-.94 2.06-2.06.94z\"/><path d=\"M17.41 7.96l-1.37-1.37c-.4-.4-.92-.59-1.43-.59-.52 0-1.04.2-1.43.59L10.3 9.45l-7.72 7.72c-.78.78-.78 2.05 0 2.83L4 21.41c.39.39.9.59 1.41.59.51 0 1.02-.2 1.41-.59l7.78-7.78 2.81-2.81c.8-.78.8-2.07 0-2.86zM5.41 20L4 18.59l7.72-7.72 1.47 1.35L5.41 20z\"/>\n",
              "  </svg>\n",
              "      </button>\n",
              "      \n",
              "  <style>\n",
              "    .colab-df-container {\n",
              "      display:flex;\n",
              "      flex-wrap:wrap;\n",
              "      gap: 12px;\n",
              "    }\n",
              "\n",
              "    .colab-df-convert {\n",
              "      background-color: #E8F0FE;\n",
              "      border: none;\n",
              "      border-radius: 50%;\n",
              "      cursor: pointer;\n",
              "      display: none;\n",
              "      fill: #1967D2;\n",
              "      height: 32px;\n",
              "      padding: 0 0 0 0;\n",
              "      width: 32px;\n",
              "    }\n",
              "\n",
              "    .colab-df-convert:hover {\n",
              "      background-color: #E2EBFA;\n",
              "      box-shadow: 0px 1px 2px rgba(60, 64, 67, 0.3), 0px 1px 3px 1px rgba(60, 64, 67, 0.15);\n",
              "      fill: #174EA6;\n",
              "    }\n",
              "\n",
              "    [theme=dark] .colab-df-convert {\n",
              "      background-color: #3B4455;\n",
              "      fill: #D2E3FC;\n",
              "    }\n",
              "\n",
              "    [theme=dark] .colab-df-convert:hover {\n",
              "      background-color: #434B5C;\n",
              "      box-shadow: 0px 1px 3px 1px rgba(0, 0, 0, 0.15);\n",
              "      filter: drop-shadow(0px 1px 2px rgba(0, 0, 0, 0.3));\n",
              "      fill: #FFFFFF;\n",
              "    }\n",
              "  </style>\n",
              "\n",
              "      <script>\n",
              "        const buttonEl =\n",
              "          document.querySelector('#df-9bb865f7-a1ab-4fc2-9e0a-100ab2123fb5 button.colab-df-convert');\n",
              "        buttonEl.style.display =\n",
              "          google.colab.kernel.accessAllowed ? 'block' : 'none';\n",
              "\n",
              "        async function convertToInteractive(key) {\n",
              "          const element = document.querySelector('#df-9bb865f7-a1ab-4fc2-9e0a-100ab2123fb5');\n",
              "          const dataTable =\n",
              "            await google.colab.kernel.invokeFunction('convertToInteractive',\n",
              "                                                     [key], {});\n",
              "          if (!dataTable) return;\n",
              "\n",
              "          const docLinkHtml = 'Like what you see? Visit the ' +\n",
              "            '<a target=\"_blank\" href=https://colab.research.google.com/notebooks/data_table.ipynb>data table notebook</a>'\n",
              "            + ' to learn more about interactive tables.';\n",
              "          element.innerHTML = '';\n",
              "          dataTable['output_type'] = 'display_data';\n",
              "          await google.colab.output.renderOutput(dataTable, element);\n",
              "          const docLink = document.createElement('div');\n",
              "          docLink.innerHTML = docLinkHtml;\n",
              "          element.appendChild(docLink);\n",
              "        }\n",
              "      </script>\n",
              "    </div>\n",
              "  </div>\n",
              "  "
            ]
          },
          "metadata": {},
          "execution_count": 1
        }
      ]
    },
    {
      "cell_type": "code",
      "execution_count": null,
      "metadata": {
        "id": "1v_J0KoFLBAR"
      },
      "outputs": [],
      "source": [
        "import pandas as pd\n",
        "import numpy as np\n",
        "from collections import Counter\n",
        "import tensorflow as tf\n",
        "import matplotlib.pyplot as plt\n",
        "%matplotlib inline"
      ]
    },
    {
      "cell_type": "markdown",
      "source": [
        "# 새 섹션"
      ],
      "metadata": {
        "id": "7Tu7rzvZZsYy"
      }
    },
    {
      "cell_type": "code",
      "source": [
        "from google.colab import drive\n",
        "drive.mount('/sample_data')"
      ],
      "metadata": {
        "id": "ZdcQ2_MbLEm8",
        "colab": {
          "base_uri": "https://localhost:8080/"
        },
        "outputId": "4852c15f-423f-436d-e1dc-c86287d56132"
      },
      "execution_count": null,
      "outputs": [
        {
          "output_type": "stream",
          "name": "stdout",
          "text": [
            "Mounted at /sample_data\n"
          ]
        }
      ]
    },
    {
      "cell_type": "markdown",
      "source": [
        "numeric => 나이와 같은 숫자"
      ],
      "metadata": {
        "id": "VWRGMt4Ob5iu"
      }
    },
    {
      "cell_type": "code",
      "source": [
        "np.random.seed(3)\n",
        "tf.random.set_seed(3)\n",
        "\n",
        "df = train\n",
        "df\n",
        "\n",
        "Counter(df.dtypes)"
      ],
      "metadata": {
        "id": "BsTjdYdgLEyi",
        "colab": {
          "base_uri": "https://localhost:8080/"
        },
        "outputId": "ad1bd522-7ea3-469e-f90c-79367d93d72f"
      },
      "execution_count": null,
      "outputs": [
        {
          "output_type": "execute_result",
          "data": {
            "text/plain": [
              "Counter({dtype('O'): 63, dtype('int64'): 10, dtype('float64'): 16})"
            ]
          },
          "metadata": {},
          "execution_count": 6
        }
      ]
    },
    {
      "cell_type": "markdown",
      "source": [
        "결측값제거 / 파이썬에서 nan 은 numeric 만 찾아낼수있음 -> object 의 공백값도 numeric 으로 다 변환필요"
      ],
      "metadata": {
        "id": "pxm58c9jhUCx"
      }
    },
    {
      "cell_type": "code",
      "source": [
        "df = df.replace({'cfam':8, 'cfam':np.nan})\n",
        "df = df.replace({'cfam':9, 'cfam':np.nan})\n",
        "df = df.replace({'BD1_11':8, 'BD1_11':np.nan})\n",
        "df = df.replace({'BD1_11':9, 'BD1_11':np.nan})\n",
        "df = df.replace({'BE8_1':88, 'BE8_1':np.nan})\n",
        "df = df.replace({'BE8_1':99, 'BE8_1':np.nan})"
      ],
      "metadata": {
        "id": "XiXkloSMhczd"
      },
      "execution_count": null,
      "outputs": []
    },
    {
      "cell_type": "markdown",
      "source": [
        "뉴메릭으로 변환하는 과정임.  근데이거먼저해야하는거아닌가??\n",
        "coerce -> numeric 으로 변환안될시 null값으로 변경해줌"
      ],
      "metadata": {
        "id": "8SJmyT5iiHxx"
      }
    },
    {
      "cell_type": "code",
      "source": [
        "df = df.iloc[:,1:].apply(pd.to_numeric, errors='coerce')\n",
        "\n",
        "Counter(df.dtypes)"
      ],
      "metadata": {
        "id": "DEOjtzLWhc_T",
        "colab": {
          "base_uri": "https://localhost:8080/"
        },
        "outputId": "514165a5-7cec-4f62-9c8c-d792cacdbba5"
      },
      "execution_count": null,
      "outputs": [
        {
          "output_type": "execute_result",
          "data": {
            "text/plain": [
              "Counter({dtype('int64'): 10, dtype('float64'): 78})"
            ]
          },
          "metadata": {},
          "execution_count": 8
        }
      ]
    },
    {
      "cell_type": "markdown",
      "source": [
        "널값이 있는 부분을 다 찝어주는 함수 (변수,널값수)\n",
        "\n",
        "3500명이상(50%이상)은 쓸수없음."
      ],
      "metadata": {
        "id": "7Fd05H8ajamO"
      }
    },
    {
      "cell_type": "code",
      "source": [
        "def null_check(df):\n",
        "    null = df.isnull().sum()\n",
        "    \n",
        "    null_col=[]\n",
        "\n",
        "    for i in range(len(df.columns)):\n",
        "        if (null[i]!=0):\n",
        "            print(null.index[i],null[i])\n",
        "            null_col.append(null.index[i])\n",
        "\n",
        "null_check(df)"
      ],
      "metadata": {
        "id": "yLMiN8Q3ivaM",
        "colab": {
          "base_uri": "https://localhost:8080/"
        },
        "outputId": "f7ebc0bf-c54d-4ffb-8ac4-55aa4bc7bc1a"
      },
      "execution_count": null,
      "outputs": [
        {
          "output_type": "stream",
          "name": "stdout",
          "text": [
            "mh_stress 1445\n",
            "L_OUT_FQ 750\n",
            "mh_suicide 1445\n",
            "BE8_1 476\n",
            "LW_mt 3608\n",
            "LW_oc 3608\n",
            "HE_HP 2176\n",
            "HE_anem 1555\n",
            "O_chew_d 1976\n",
            "L_BR_FQ 750\n",
            "L_LN_FQ 750\n",
            "L_DN_FQ 750\n",
            "DI2_pr 476\n",
            "DI3_pr 476\n",
            "DI4_pr 921\n",
            "DI5_pr 476\n",
            "DI6_pr 476\n",
            "DM1_pr 924\n",
            "DM2_pr 476\n",
            "DM3_pr 476\n",
            "DM4_pr 476\n",
            "D_8_2 476\n",
            "D_8_4 476\n",
            "DJ4_pr 476\n",
            "DE1_pr 476\n",
            "DE2_pr 476\n",
            "DC1_pr 476\n",
            "DC2_pr 476\n",
            "DC3_pr 476\n",
            "DC4_pr 476\n",
            "DC5_pr 476\n",
            "DC6_pr 476\n",
            "DC7_pr 476\n",
            "DF2_pr 476\n",
            "DL1_pr 476\n",
            "DJ8_pr 476\n",
            "DH2_pr 476\n",
            "DH3_pr 476\n",
            "DN1_pr 476\n",
            "DK8_pr 476\n",
            "DK9_pr 476\n",
            "DK4_pr 476\n",
            "LQ4_00 476\n",
            "LQ1_sb 476\n",
            "LQ_1EQL 476\n",
            "LQ_2EQL 476\n",
            "LQ_3EQL 476\n",
            "LQ_4EQL 476\n",
            "LQ_5EQL 476\n",
            "educ 476\n",
            "EC1_1 476\n",
            "BO1 476\n",
            "BO1_1 476\n",
            "BO2_1 476\n",
            "BD1_11 476\n",
            "incm 52\n",
            "edu 968\n",
            "occp 2025\n",
            "HE_wt 409\n",
            "HE_wc 413\n",
            "HE_BMI 421\n",
            "N_EN 752\n",
            "N_WATER 752\n",
            "N_PROT 752\n",
            "N_FAT 752\n",
            "N_SFA 752\n",
            "N_MUFA 752\n",
            "N_PUFA 752\n",
            "N_CHOL 752\n",
            "N_CHO 752\n",
            "N_TDF 752\n",
            "N_CA 752\n",
            "N_FE 752\n",
            "N_NA 752\n",
            "N_K 752\n",
            "N_VITC 752\n",
            "LF_SAFE 427\n",
            "LF_S2 427\n"
          ]
        }
      ]
    },
    {
      "cell_type": "markdown",
      "source": [
        "lable 에 값이 없는것들은 살릴수없음 . lable 없는거 먼저 지워야한다!! row 가 줄은걸 확인할수있다."
      ],
      "metadata": {
        "id": "v0sRiJjajZuA"
      }
    },
    {
      "cell_type": "code",
      "source": [
        "df1 = df.dropna(subset=['mh_suicide'])\n",
        "df1"
      ],
      "metadata": {
        "id": "RLJFj7Mcjq6C",
        "colab": {
          "base_uri": "https://localhost:8080/",
          "height": 488
        },
        "outputId": "34e83d97-22bd-4cc9-ad85-cd113692ef5e"
      },
      "execution_count": null,
      "outputs": [
        {
          "output_type": "execute_result",
          "data": {
            "text/plain": [
              "      apt_t  sex  cfam  allownc  house  live_t  marri_2  tins  npins  \\\n",
              "0         1    2     3       20      2       3        1    10      1   \n",
              "1         1    1     3       20      2       3        1    10      1   \n",
              "3         1    1     4       20      1       3        1    20      1   \n",
              "4         1    2     4       20      1       3        1    20      1   \n",
              "7         1    2     1       20      3       3        3    10      1   \n",
              "...     ...  ...   ...      ...    ...     ...      ...   ...    ...   \n",
              "7375      2    1     4       10      1       2       88    30      2   \n",
              "7376      2    2     2       20      1       2        3    10      2   \n",
              "7377      2    1     1       20      1       2        3    10      2   \n",
              "7378      2    1     1       10      1       2        2    30      2   \n",
              "7379      2    2     1       10      1       2        3    20      2   \n",
              "\n",
              "      mh_stress  ...   N_CHOL    N_CHO   N_TDF     N_CA    N_FE      N_NA  \\\n",
              "0           0.0  ...  220.911  213.937  12.957  469.710   9.405  2117.652   \n",
              "1           1.0  ...  352.617  274.917  20.682  372.172  14.404  3699.691   \n",
              "3           0.0  ...   41.882  243.170  25.090  358.145  20.760  4282.505   \n",
              "4           0.0  ...  140.545  288.721  30.959  487.907  14.351  2875.440   \n",
              "7           1.0  ...   72.310  210.397  15.754  264.357   5.499  3105.538   \n",
              "...         ...  ...      ...      ...     ...      ...     ...       ...   \n",
              "7375        0.0  ...  691.964  702.860  30.675  729.327  21.411  6821.265   \n",
              "7376        0.0  ...  227.482  297.520  42.728  503.535  19.751  3801.607   \n",
              "7377        0.0  ...   56.957  490.710  28.559  446.249  14.001  7703.677   \n",
              "7378        1.0  ...    2.523  335.034  14.751  183.639  11.132  1480.816   \n",
              "7379        0.0  ...   29.512  331.486  19.802  538.297   8.958  1840.088   \n",
              "\n",
              "           N_K   N_VITC  LF_SAFE  LF_S2  \n",
              "0     2540.971   31.666      2.0    3.0  \n",
              "1     2589.378   43.118      2.0    3.0  \n",
              "3     1830.424   41.371      2.0    3.0  \n",
              "4     6069.345   88.895      2.0    3.0  \n",
              "7     2331.930  224.503      1.0    3.0  \n",
              "...        ...      ...      ...    ...  \n",
              "7375  5393.122   85.347      3.0    1.0  \n",
              "7376  5115.446  332.436      1.0    3.0  \n",
              "7377  2881.317   62.240      2.0    3.0  \n",
              "7378  1686.216   18.751      2.0    1.0  \n",
              "7379  1946.663   30.119      2.0    3.0  \n",
              "\n",
              "[5935 rows x 88 columns]"
            ],
            "text/html": [
              "\n",
              "  <div id=\"df-17c70be2-d5cd-4579-8d7c-e1787c1cfaf5\">\n",
              "    <div class=\"colab-df-container\">\n",
              "      <div>\n",
              "<style scoped>\n",
              "    .dataframe tbody tr th:only-of-type {\n",
              "        vertical-align: middle;\n",
              "    }\n",
              "\n",
              "    .dataframe tbody tr th {\n",
              "        vertical-align: top;\n",
              "    }\n",
              "\n",
              "    .dataframe thead th {\n",
              "        text-align: right;\n",
              "    }\n",
              "</style>\n",
              "<table border=\"1\" class=\"dataframe\">\n",
              "  <thead>\n",
              "    <tr style=\"text-align: right;\">\n",
              "      <th></th>\n",
              "      <th>apt_t</th>\n",
              "      <th>sex</th>\n",
              "      <th>cfam</th>\n",
              "      <th>allownc</th>\n",
              "      <th>house</th>\n",
              "      <th>live_t</th>\n",
              "      <th>marri_2</th>\n",
              "      <th>tins</th>\n",
              "      <th>npins</th>\n",
              "      <th>mh_stress</th>\n",
              "      <th>...</th>\n",
              "      <th>N_CHOL</th>\n",
              "      <th>N_CHO</th>\n",
              "      <th>N_TDF</th>\n",
              "      <th>N_CA</th>\n",
              "      <th>N_FE</th>\n",
              "      <th>N_NA</th>\n",
              "      <th>N_K</th>\n",
              "      <th>N_VITC</th>\n",
              "      <th>LF_SAFE</th>\n",
              "      <th>LF_S2</th>\n",
              "    </tr>\n",
              "  </thead>\n",
              "  <tbody>\n",
              "    <tr>\n",
              "      <th>0</th>\n",
              "      <td>1</td>\n",
              "      <td>2</td>\n",
              "      <td>3</td>\n",
              "      <td>20</td>\n",
              "      <td>2</td>\n",
              "      <td>3</td>\n",
              "      <td>1</td>\n",
              "      <td>10</td>\n",
              "      <td>1</td>\n",
              "      <td>0.0</td>\n",
              "      <td>...</td>\n",
              "      <td>220.911</td>\n",
              "      <td>213.937</td>\n",
              "      <td>12.957</td>\n",
              "      <td>469.710</td>\n",
              "      <td>9.405</td>\n",
              "      <td>2117.652</td>\n",
              "      <td>2540.971</td>\n",
              "      <td>31.666</td>\n",
              "      <td>2.0</td>\n",
              "      <td>3.0</td>\n",
              "    </tr>\n",
              "    <tr>\n",
              "      <th>1</th>\n",
              "      <td>1</td>\n",
              "      <td>1</td>\n",
              "      <td>3</td>\n",
              "      <td>20</td>\n",
              "      <td>2</td>\n",
              "      <td>3</td>\n",
              "      <td>1</td>\n",
              "      <td>10</td>\n",
              "      <td>1</td>\n",
              "      <td>1.0</td>\n",
              "      <td>...</td>\n",
              "      <td>352.617</td>\n",
              "      <td>274.917</td>\n",
              "      <td>20.682</td>\n",
              "      <td>372.172</td>\n",
              "      <td>14.404</td>\n",
              "      <td>3699.691</td>\n",
              "      <td>2589.378</td>\n",
              "      <td>43.118</td>\n",
              "      <td>2.0</td>\n",
              "      <td>3.0</td>\n",
              "    </tr>\n",
              "    <tr>\n",
              "      <th>3</th>\n",
              "      <td>1</td>\n",
              "      <td>1</td>\n",
              "      <td>4</td>\n",
              "      <td>20</td>\n",
              "      <td>1</td>\n",
              "      <td>3</td>\n",
              "      <td>1</td>\n",
              "      <td>20</td>\n",
              "      <td>1</td>\n",
              "      <td>0.0</td>\n",
              "      <td>...</td>\n",
              "      <td>41.882</td>\n",
              "      <td>243.170</td>\n",
              "      <td>25.090</td>\n",
              "      <td>358.145</td>\n",
              "      <td>20.760</td>\n",
              "      <td>4282.505</td>\n",
              "      <td>1830.424</td>\n",
              "      <td>41.371</td>\n",
              "      <td>2.0</td>\n",
              "      <td>3.0</td>\n",
              "    </tr>\n",
              "    <tr>\n",
              "      <th>4</th>\n",
              "      <td>1</td>\n",
              "      <td>2</td>\n",
              "      <td>4</td>\n",
              "      <td>20</td>\n",
              "      <td>1</td>\n",
              "      <td>3</td>\n",
              "      <td>1</td>\n",
              "      <td>20</td>\n",
              "      <td>1</td>\n",
              "      <td>0.0</td>\n",
              "      <td>...</td>\n",
              "      <td>140.545</td>\n",
              "      <td>288.721</td>\n",
              "      <td>30.959</td>\n",
              "      <td>487.907</td>\n",
              "      <td>14.351</td>\n",
              "      <td>2875.440</td>\n",
              "      <td>6069.345</td>\n",
              "      <td>88.895</td>\n",
              "      <td>2.0</td>\n",
              "      <td>3.0</td>\n",
              "    </tr>\n",
              "    <tr>\n",
              "      <th>7</th>\n",
              "      <td>1</td>\n",
              "      <td>2</td>\n",
              "      <td>1</td>\n",
              "      <td>20</td>\n",
              "      <td>3</td>\n",
              "      <td>3</td>\n",
              "      <td>3</td>\n",
              "      <td>10</td>\n",
              "      <td>1</td>\n",
              "      <td>1.0</td>\n",
              "      <td>...</td>\n",
              "      <td>72.310</td>\n",
              "      <td>210.397</td>\n",
              "      <td>15.754</td>\n",
              "      <td>264.357</td>\n",
              "      <td>5.499</td>\n",
              "      <td>3105.538</td>\n",
              "      <td>2331.930</td>\n",
              "      <td>224.503</td>\n",
              "      <td>1.0</td>\n",
              "      <td>3.0</td>\n",
              "    </tr>\n",
              "    <tr>\n",
              "      <th>...</th>\n",
              "      <td>...</td>\n",
              "      <td>...</td>\n",
              "      <td>...</td>\n",
              "      <td>...</td>\n",
              "      <td>...</td>\n",
              "      <td>...</td>\n",
              "      <td>...</td>\n",
              "      <td>...</td>\n",
              "      <td>...</td>\n",
              "      <td>...</td>\n",
              "      <td>...</td>\n",
              "      <td>...</td>\n",
              "      <td>...</td>\n",
              "      <td>...</td>\n",
              "      <td>...</td>\n",
              "      <td>...</td>\n",
              "      <td>...</td>\n",
              "      <td>...</td>\n",
              "      <td>...</td>\n",
              "      <td>...</td>\n",
              "      <td>...</td>\n",
              "    </tr>\n",
              "    <tr>\n",
              "      <th>7375</th>\n",
              "      <td>2</td>\n",
              "      <td>1</td>\n",
              "      <td>4</td>\n",
              "      <td>10</td>\n",
              "      <td>1</td>\n",
              "      <td>2</td>\n",
              "      <td>88</td>\n",
              "      <td>30</td>\n",
              "      <td>2</td>\n",
              "      <td>0.0</td>\n",
              "      <td>...</td>\n",
              "      <td>691.964</td>\n",
              "      <td>702.860</td>\n",
              "      <td>30.675</td>\n",
              "      <td>729.327</td>\n",
              "      <td>21.411</td>\n",
              "      <td>6821.265</td>\n",
              "      <td>5393.122</td>\n",
              "      <td>85.347</td>\n",
              "      <td>3.0</td>\n",
              "      <td>1.0</td>\n",
              "    </tr>\n",
              "    <tr>\n",
              "      <th>7376</th>\n",
              "      <td>2</td>\n",
              "      <td>2</td>\n",
              "      <td>2</td>\n",
              "      <td>20</td>\n",
              "      <td>1</td>\n",
              "      <td>2</td>\n",
              "      <td>3</td>\n",
              "      <td>10</td>\n",
              "      <td>2</td>\n",
              "      <td>0.0</td>\n",
              "      <td>...</td>\n",
              "      <td>227.482</td>\n",
              "      <td>297.520</td>\n",
              "      <td>42.728</td>\n",
              "      <td>503.535</td>\n",
              "      <td>19.751</td>\n",
              "      <td>3801.607</td>\n",
              "      <td>5115.446</td>\n",
              "      <td>332.436</td>\n",
              "      <td>1.0</td>\n",
              "      <td>3.0</td>\n",
              "    </tr>\n",
              "    <tr>\n",
              "      <th>7377</th>\n",
              "      <td>2</td>\n",
              "      <td>1</td>\n",
              "      <td>1</td>\n",
              "      <td>20</td>\n",
              "      <td>1</td>\n",
              "      <td>2</td>\n",
              "      <td>3</td>\n",
              "      <td>10</td>\n",
              "      <td>2</td>\n",
              "      <td>0.0</td>\n",
              "      <td>...</td>\n",
              "      <td>56.957</td>\n",
              "      <td>490.710</td>\n",
              "      <td>28.559</td>\n",
              "      <td>446.249</td>\n",
              "      <td>14.001</td>\n",
              "      <td>7703.677</td>\n",
              "      <td>2881.317</td>\n",
              "      <td>62.240</td>\n",
              "      <td>2.0</td>\n",
              "      <td>3.0</td>\n",
              "    </tr>\n",
              "    <tr>\n",
              "      <th>7378</th>\n",
              "      <td>2</td>\n",
              "      <td>1</td>\n",
              "      <td>1</td>\n",
              "      <td>10</td>\n",
              "      <td>1</td>\n",
              "      <td>2</td>\n",
              "      <td>2</td>\n",
              "      <td>30</td>\n",
              "      <td>2</td>\n",
              "      <td>1.0</td>\n",
              "      <td>...</td>\n",
              "      <td>2.523</td>\n",
              "      <td>335.034</td>\n",
              "      <td>14.751</td>\n",
              "      <td>183.639</td>\n",
              "      <td>11.132</td>\n",
              "      <td>1480.816</td>\n",
              "      <td>1686.216</td>\n",
              "      <td>18.751</td>\n",
              "      <td>2.0</td>\n",
              "      <td>1.0</td>\n",
              "    </tr>\n",
              "    <tr>\n",
              "      <th>7379</th>\n",
              "      <td>2</td>\n",
              "      <td>2</td>\n",
              "      <td>1</td>\n",
              "      <td>10</td>\n",
              "      <td>1</td>\n",
              "      <td>2</td>\n",
              "      <td>3</td>\n",
              "      <td>20</td>\n",
              "      <td>2</td>\n",
              "      <td>0.0</td>\n",
              "      <td>...</td>\n",
              "      <td>29.512</td>\n",
              "      <td>331.486</td>\n",
              "      <td>19.802</td>\n",
              "      <td>538.297</td>\n",
              "      <td>8.958</td>\n",
              "      <td>1840.088</td>\n",
              "      <td>1946.663</td>\n",
              "      <td>30.119</td>\n",
              "      <td>2.0</td>\n",
              "      <td>3.0</td>\n",
              "    </tr>\n",
              "  </tbody>\n",
              "</table>\n",
              "<p>5935 rows × 88 columns</p>\n",
              "</div>\n",
              "      <button class=\"colab-df-convert\" onclick=\"convertToInteractive('df-17c70be2-d5cd-4579-8d7c-e1787c1cfaf5')\"\n",
              "              title=\"Convert this dataframe to an interactive table.\"\n",
              "              style=\"display:none;\">\n",
              "        \n",
              "  <svg xmlns=\"http://www.w3.org/2000/svg\" height=\"24px\"viewBox=\"0 0 24 24\"\n",
              "       width=\"24px\">\n",
              "    <path d=\"M0 0h24v24H0V0z\" fill=\"none\"/>\n",
              "    <path d=\"M18.56 5.44l.94 2.06.94-2.06 2.06-.94-2.06-.94-.94-2.06-.94 2.06-2.06.94zm-11 1L8.5 8.5l.94-2.06 2.06-.94-2.06-.94L8.5 2.5l-.94 2.06-2.06.94zm10 10l.94 2.06.94-2.06 2.06-.94-2.06-.94-.94-2.06-.94 2.06-2.06.94z\"/><path d=\"M17.41 7.96l-1.37-1.37c-.4-.4-.92-.59-1.43-.59-.52 0-1.04.2-1.43.59L10.3 9.45l-7.72 7.72c-.78.78-.78 2.05 0 2.83L4 21.41c.39.39.9.59 1.41.59.51 0 1.02-.2 1.41-.59l7.78-7.78 2.81-2.81c.8-.78.8-2.07 0-2.86zM5.41 20L4 18.59l7.72-7.72 1.47 1.35L5.41 20z\"/>\n",
              "  </svg>\n",
              "      </button>\n",
              "      \n",
              "  <style>\n",
              "    .colab-df-container {\n",
              "      display:flex;\n",
              "      flex-wrap:wrap;\n",
              "      gap: 12px;\n",
              "    }\n",
              "\n",
              "    .colab-df-convert {\n",
              "      background-color: #E8F0FE;\n",
              "      border: none;\n",
              "      border-radius: 50%;\n",
              "      cursor: pointer;\n",
              "      display: none;\n",
              "      fill: #1967D2;\n",
              "      height: 32px;\n",
              "      padding: 0 0 0 0;\n",
              "      width: 32px;\n",
              "    }\n",
              "\n",
              "    .colab-df-convert:hover {\n",
              "      background-color: #E2EBFA;\n",
              "      box-shadow: 0px 1px 2px rgba(60, 64, 67, 0.3), 0px 1px 3px 1px rgba(60, 64, 67, 0.15);\n",
              "      fill: #174EA6;\n",
              "    }\n",
              "\n",
              "    [theme=dark] .colab-df-convert {\n",
              "      background-color: #3B4455;\n",
              "      fill: #D2E3FC;\n",
              "    }\n",
              "\n",
              "    [theme=dark] .colab-df-convert:hover {\n",
              "      background-color: #434B5C;\n",
              "      box-shadow: 0px 1px 3px 1px rgba(0, 0, 0, 0.15);\n",
              "      filter: drop-shadow(0px 1px 2px rgba(0, 0, 0, 0.3));\n",
              "      fill: #FFFFFF;\n",
              "    }\n",
              "  </style>\n",
              "\n",
              "      <script>\n",
              "        const buttonEl =\n",
              "          document.querySelector('#df-17c70be2-d5cd-4579-8d7c-e1787c1cfaf5 button.colab-df-convert');\n",
              "        buttonEl.style.display =\n",
              "          google.colab.kernel.accessAllowed ? 'block' : 'none';\n",
              "\n",
              "        async function convertToInteractive(key) {\n",
              "          const element = document.querySelector('#df-17c70be2-d5cd-4579-8d7c-e1787c1cfaf5');\n",
              "          const dataTable =\n",
              "            await google.colab.kernel.invokeFunction('convertToInteractive',\n",
              "                                                     [key], {});\n",
              "          if (!dataTable) return;\n",
              "\n",
              "          const docLinkHtml = 'Like what you see? Visit the ' +\n",
              "            '<a target=\"_blank\" href=https://colab.research.google.com/notebooks/data_table.ipynb>data table notebook</a>'\n",
              "            + ' to learn more about interactive tables.';\n",
              "          element.innerHTML = '';\n",
              "          dataTable['output_type'] = 'display_data';\n",
              "          await google.colab.output.renderOutput(dataTable, element);\n",
              "          const docLink = document.createElement('div');\n",
              "          docLink.innerHTML = docLinkHtml;\n",
              "          element.appendChild(docLink);\n",
              "        }\n",
              "      </script>\n",
              "    </div>\n",
              "  </div>\n",
              "  "
            ]
          },
          "metadata": {},
          "execution_count": 10
        }
      ]
    },
    {
      "cell_type": "markdown",
      "source": [
        "아까 결측과 값이 달라진걸볼수있음. mh_stress1 이 줄은걸 보니 무응답자중 우울증환자가 많다는걸 추측이 가능해짐\n"
      ],
      "metadata": {
        "id": "XD-JQ-f1j5vo"
      }
    },
    {
      "cell_type": "code",
      "source": [
        "null_check(df1)"
      ],
      "metadata": {
        "colab": {
          "base_uri": "https://localhost:8080/"
        },
        "id": "h3o3N9SOj4wU",
        "outputId": "a40f0cfa-a5bb-4729-8438-0e208f8ee1cc"
      },
      "execution_count": null,
      "outputs": [
        {
          "output_type": "stream",
          "name": "stdout",
          "text": [
            "mh_stress 1\n",
            "L_OUT_FQ 643\n",
            "LW_mt 2640\n",
            "LW_oc 2640\n",
            "HE_HP 845\n",
            "HE_anem 411\n",
            "O_chew_d 531\n",
            "L_BR_FQ 643\n",
            "L_LN_FQ 643\n",
            "L_DN_FQ 643\n",
            "DI4_pr 365\n",
            "DM1_pr 365\n",
            "incm 36\n",
            "edu 398\n",
            "occp 652\n",
            "HE_wt 5\n",
            "HE_wc 7\n",
            "HE_BMI 9\n",
            "N_EN 645\n",
            "N_WATER 645\n",
            "N_PROT 645\n",
            "N_FAT 645\n",
            "N_SFA 645\n",
            "N_MUFA 645\n",
            "N_PUFA 645\n",
            "N_CHOL 645\n",
            "N_CHO 645\n",
            "N_TDF 645\n",
            "N_CA 645\n",
            "N_FE 645\n",
            "N_NA 645\n",
            "N_K 645\n",
            "N_VITC 645\n",
            "LF_SAFE 354\n",
            "LF_S2 354\n"
          ]
        }
      ]
    },
    {
      "cell_type": "markdown",
      "source": [
        "결측률이 높은 부분 삭제"
      ],
      "metadata": {
        "id": "o_UKKNaHkqJs"
      }
    },
    {
      "cell_type": "code",
      "source": [
        "df2 = df1.drop(['LW_mt','LW_oc'],axis='columns',inplace=False)"
      ],
      "metadata": {
        "id": "quDmeXvpkqRC"
      },
      "execution_count": null,
      "outputs": []
    },
    {
      "cell_type": "code",
      "source": [
        "df2.describe()\n"
      ],
      "metadata": {
        "colab": {
          "base_uri": "https://localhost:8080/",
          "height": 394
        },
        "id": "Iey9lFtzfDSa",
        "outputId": "d67bb2f8-0e7a-4443-abbd-f8e55a2acea2"
      },
      "execution_count": null,
      "outputs": [
        {
          "output_type": "execute_result",
          "data": {
            "text/plain": [
              "             apt_t          sex         cfam      allownc        house  \\\n",
              "count  5935.000000  5935.000000  5935.000000  5935.000000  5935.000000   \n",
              "mean      1.507161     1.555181     3.057793    19.222578     1.829486   \n",
              "std       0.499991     0.496988     1.251300     3.451161     0.655978   \n",
              "min       1.000000     1.000000     1.000000    10.000000     1.000000   \n",
              "25%       1.000000     1.000000     2.000000    20.000000     1.000000   \n",
              "50%       2.000000     2.000000     3.000000    20.000000     2.000000   \n",
              "75%       2.000000     2.000000     4.000000    20.000000     2.000000   \n",
              "max       2.000000     2.000000     6.000000    99.000000     9.000000   \n",
              "\n",
              "            live_t      marri_2         tins        npins    mh_stress  ...  \\\n",
              "count  5935.000000  5935.000000  5935.000000  5935.000000  5934.000000  ...   \n",
              "mean      1.844819    21.952485    18.731424     1.303454     0.271149  ...   \n",
              "std       0.845504    36.845830    11.693536     0.815100     0.444590  ...   \n",
              "min       1.000000     1.000000    10.000000     1.000000     0.000000  ...   \n",
              "25%       1.000000     1.000000    10.000000     1.000000     0.000000  ...   \n",
              "50%       2.000000     1.000000    20.000000     1.000000     0.000000  ...   \n",
              "75%       2.000000     4.000000    20.000000     1.000000     1.000000  ...   \n",
              "max       5.000000    88.000000    99.000000     9.000000     1.000000  ...   \n",
              "\n",
              "            N_CHOL        N_CHO        N_TDF         N_CA         N_FE  \\\n",
              "count  5290.000000  5290.000000  5290.000000  5290.000000  5290.000000   \n",
              "mean    251.426087   313.905312    24.444346   491.780140    17.272302   \n",
              "std     282.460174   133.375861    14.003415   314.219462    11.920659   \n",
              "min       0.137000     7.173000     0.210000     5.401000     0.008000   \n",
              "25%      69.861750   223.391750    14.915000   284.223750    10.412000   \n",
              "50%     175.125000   295.344500    21.596500   426.221500    14.894000   \n",
              "75%     339.371250   383.326750    31.051500   616.074250    21.226250   \n",
              "max    7014.693000  1917.925000   158.909000  4026.348000   287.583000   \n",
              "\n",
              "                N_NA           N_K       N_VITC      LF_SAFE        LF_S2  \n",
              "count    5290.000000   5290.000000  5290.000000  5581.000000  5581.000000  \n",
              "mean     3845.975069   3032.421206   105.044051     1.571045     2.935316  \n",
              "std      3404.168789   1684.164395   120.842697     0.627489     0.276839  \n",
              "min         2.868000     16.499000    -0.121000     1.000000     1.000000  \n",
              "25%      2114.857500   1935.060000    30.028750     1.000000     3.000000  \n",
              "50%      3278.272500   2710.713500    62.349000     2.000000     3.000000  \n",
              "75%      4885.563250   3743.763750   136.316750     2.000000     3.000000  \n",
              "max    170392.575000  26645.021000  1947.548000     4.000000     4.000000  \n",
              "\n",
              "[8 rows x 86 columns]"
            ],
            "text/html": [
              "\n",
              "  <div id=\"df-92944f37-d7f9-42c4-9b22-b0f8fc6573eb\">\n",
              "    <div class=\"colab-df-container\">\n",
              "      <div>\n",
              "<style scoped>\n",
              "    .dataframe tbody tr th:only-of-type {\n",
              "        vertical-align: middle;\n",
              "    }\n",
              "\n",
              "    .dataframe tbody tr th {\n",
              "        vertical-align: top;\n",
              "    }\n",
              "\n",
              "    .dataframe thead th {\n",
              "        text-align: right;\n",
              "    }\n",
              "</style>\n",
              "<table border=\"1\" class=\"dataframe\">\n",
              "  <thead>\n",
              "    <tr style=\"text-align: right;\">\n",
              "      <th></th>\n",
              "      <th>apt_t</th>\n",
              "      <th>sex</th>\n",
              "      <th>cfam</th>\n",
              "      <th>allownc</th>\n",
              "      <th>house</th>\n",
              "      <th>live_t</th>\n",
              "      <th>marri_2</th>\n",
              "      <th>tins</th>\n",
              "      <th>npins</th>\n",
              "      <th>mh_stress</th>\n",
              "      <th>...</th>\n",
              "      <th>N_CHOL</th>\n",
              "      <th>N_CHO</th>\n",
              "      <th>N_TDF</th>\n",
              "      <th>N_CA</th>\n",
              "      <th>N_FE</th>\n",
              "      <th>N_NA</th>\n",
              "      <th>N_K</th>\n",
              "      <th>N_VITC</th>\n",
              "      <th>LF_SAFE</th>\n",
              "      <th>LF_S2</th>\n",
              "    </tr>\n",
              "  </thead>\n",
              "  <tbody>\n",
              "    <tr>\n",
              "      <th>count</th>\n",
              "      <td>5935.000000</td>\n",
              "      <td>5935.000000</td>\n",
              "      <td>5935.000000</td>\n",
              "      <td>5935.000000</td>\n",
              "      <td>5935.000000</td>\n",
              "      <td>5935.000000</td>\n",
              "      <td>5935.000000</td>\n",
              "      <td>5935.000000</td>\n",
              "      <td>5935.000000</td>\n",
              "      <td>5934.000000</td>\n",
              "      <td>...</td>\n",
              "      <td>5290.000000</td>\n",
              "      <td>5290.000000</td>\n",
              "      <td>5290.000000</td>\n",
              "      <td>5290.000000</td>\n",
              "      <td>5290.000000</td>\n",
              "      <td>5290.000000</td>\n",
              "      <td>5290.000000</td>\n",
              "      <td>5290.000000</td>\n",
              "      <td>5581.000000</td>\n",
              "      <td>5581.000000</td>\n",
              "    </tr>\n",
              "    <tr>\n",
              "      <th>mean</th>\n",
              "      <td>1.507161</td>\n",
              "      <td>1.555181</td>\n",
              "      <td>3.057793</td>\n",
              "      <td>19.222578</td>\n",
              "      <td>1.829486</td>\n",
              "      <td>1.844819</td>\n",
              "      <td>21.952485</td>\n",
              "      <td>18.731424</td>\n",
              "      <td>1.303454</td>\n",
              "      <td>0.271149</td>\n",
              "      <td>...</td>\n",
              "      <td>251.426087</td>\n",
              "      <td>313.905312</td>\n",
              "      <td>24.444346</td>\n",
              "      <td>491.780140</td>\n",
              "      <td>17.272302</td>\n",
              "      <td>3845.975069</td>\n",
              "      <td>3032.421206</td>\n",
              "      <td>105.044051</td>\n",
              "      <td>1.571045</td>\n",
              "      <td>2.935316</td>\n",
              "    </tr>\n",
              "    <tr>\n",
              "      <th>std</th>\n",
              "      <td>0.499991</td>\n",
              "      <td>0.496988</td>\n",
              "      <td>1.251300</td>\n",
              "      <td>3.451161</td>\n",
              "      <td>0.655978</td>\n",
              "      <td>0.845504</td>\n",
              "      <td>36.845830</td>\n",
              "      <td>11.693536</td>\n",
              "      <td>0.815100</td>\n",
              "      <td>0.444590</td>\n",
              "      <td>...</td>\n",
              "      <td>282.460174</td>\n",
              "      <td>133.375861</td>\n",
              "      <td>14.003415</td>\n",
              "      <td>314.219462</td>\n",
              "      <td>11.920659</td>\n",
              "      <td>3404.168789</td>\n",
              "      <td>1684.164395</td>\n",
              "      <td>120.842697</td>\n",
              "      <td>0.627489</td>\n",
              "      <td>0.276839</td>\n",
              "    </tr>\n",
              "    <tr>\n",
              "      <th>min</th>\n",
              "      <td>1.000000</td>\n",
              "      <td>1.000000</td>\n",
              "      <td>1.000000</td>\n",
              "      <td>10.000000</td>\n",
              "      <td>1.000000</td>\n",
              "      <td>1.000000</td>\n",
              "      <td>1.000000</td>\n",
              "      <td>10.000000</td>\n",
              "      <td>1.000000</td>\n",
              "      <td>0.000000</td>\n",
              "      <td>...</td>\n",
              "      <td>0.137000</td>\n",
              "      <td>7.173000</td>\n",
              "      <td>0.210000</td>\n",
              "      <td>5.401000</td>\n",
              "      <td>0.008000</td>\n",
              "      <td>2.868000</td>\n",
              "      <td>16.499000</td>\n",
              "      <td>-0.121000</td>\n",
              "      <td>1.000000</td>\n",
              "      <td>1.000000</td>\n",
              "    </tr>\n",
              "    <tr>\n",
              "      <th>25%</th>\n",
              "      <td>1.000000</td>\n",
              "      <td>1.000000</td>\n",
              "      <td>2.000000</td>\n",
              "      <td>20.000000</td>\n",
              "      <td>1.000000</td>\n",
              "      <td>1.000000</td>\n",
              "      <td>1.000000</td>\n",
              "      <td>10.000000</td>\n",
              "      <td>1.000000</td>\n",
              "      <td>0.000000</td>\n",
              "      <td>...</td>\n",
              "      <td>69.861750</td>\n",
              "      <td>223.391750</td>\n",
              "      <td>14.915000</td>\n",
              "      <td>284.223750</td>\n",
              "      <td>10.412000</td>\n",
              "      <td>2114.857500</td>\n",
              "      <td>1935.060000</td>\n",
              "      <td>30.028750</td>\n",
              "      <td>1.000000</td>\n",
              "      <td>3.000000</td>\n",
              "    </tr>\n",
              "    <tr>\n",
              "      <th>50%</th>\n",
              "      <td>2.000000</td>\n",
              "      <td>2.000000</td>\n",
              "      <td>3.000000</td>\n",
              "      <td>20.000000</td>\n",
              "      <td>2.000000</td>\n",
              "      <td>2.000000</td>\n",
              "      <td>1.000000</td>\n",
              "      <td>20.000000</td>\n",
              "      <td>1.000000</td>\n",
              "      <td>0.000000</td>\n",
              "      <td>...</td>\n",
              "      <td>175.125000</td>\n",
              "      <td>295.344500</td>\n",
              "      <td>21.596500</td>\n",
              "      <td>426.221500</td>\n",
              "      <td>14.894000</td>\n",
              "      <td>3278.272500</td>\n",
              "      <td>2710.713500</td>\n",
              "      <td>62.349000</td>\n",
              "      <td>2.000000</td>\n",
              "      <td>3.000000</td>\n",
              "    </tr>\n",
              "    <tr>\n",
              "      <th>75%</th>\n",
              "      <td>2.000000</td>\n",
              "      <td>2.000000</td>\n",
              "      <td>4.000000</td>\n",
              "      <td>20.000000</td>\n",
              "      <td>2.000000</td>\n",
              "      <td>2.000000</td>\n",
              "      <td>4.000000</td>\n",
              "      <td>20.000000</td>\n",
              "      <td>1.000000</td>\n",
              "      <td>1.000000</td>\n",
              "      <td>...</td>\n",
              "      <td>339.371250</td>\n",
              "      <td>383.326750</td>\n",
              "      <td>31.051500</td>\n",
              "      <td>616.074250</td>\n",
              "      <td>21.226250</td>\n",
              "      <td>4885.563250</td>\n",
              "      <td>3743.763750</td>\n",
              "      <td>136.316750</td>\n",
              "      <td>2.000000</td>\n",
              "      <td>3.000000</td>\n",
              "    </tr>\n",
              "    <tr>\n",
              "      <th>max</th>\n",
              "      <td>2.000000</td>\n",
              "      <td>2.000000</td>\n",
              "      <td>6.000000</td>\n",
              "      <td>99.000000</td>\n",
              "      <td>9.000000</td>\n",
              "      <td>5.000000</td>\n",
              "      <td>88.000000</td>\n",
              "      <td>99.000000</td>\n",
              "      <td>9.000000</td>\n",
              "      <td>1.000000</td>\n",
              "      <td>...</td>\n",
              "      <td>7014.693000</td>\n",
              "      <td>1917.925000</td>\n",
              "      <td>158.909000</td>\n",
              "      <td>4026.348000</td>\n",
              "      <td>287.583000</td>\n",
              "      <td>170392.575000</td>\n",
              "      <td>26645.021000</td>\n",
              "      <td>1947.548000</td>\n",
              "      <td>4.000000</td>\n",
              "      <td>4.000000</td>\n",
              "    </tr>\n",
              "  </tbody>\n",
              "</table>\n",
              "<p>8 rows × 86 columns</p>\n",
              "</div>\n",
              "      <button class=\"colab-df-convert\" onclick=\"convertToInteractive('df-92944f37-d7f9-42c4-9b22-b0f8fc6573eb')\"\n",
              "              title=\"Convert this dataframe to an interactive table.\"\n",
              "              style=\"display:none;\">\n",
              "        \n",
              "  <svg xmlns=\"http://www.w3.org/2000/svg\" height=\"24px\"viewBox=\"0 0 24 24\"\n",
              "       width=\"24px\">\n",
              "    <path d=\"M0 0h24v24H0V0z\" fill=\"none\"/>\n",
              "    <path d=\"M18.56 5.44l.94 2.06.94-2.06 2.06-.94-2.06-.94-.94-2.06-.94 2.06-2.06.94zm-11 1L8.5 8.5l.94-2.06 2.06-.94-2.06-.94L8.5 2.5l-.94 2.06-2.06.94zm10 10l.94 2.06.94-2.06 2.06-.94-2.06-.94-.94-2.06-.94 2.06-2.06.94z\"/><path d=\"M17.41 7.96l-1.37-1.37c-.4-.4-.92-.59-1.43-.59-.52 0-1.04.2-1.43.59L10.3 9.45l-7.72 7.72c-.78.78-.78 2.05 0 2.83L4 21.41c.39.39.9.59 1.41.59.51 0 1.02-.2 1.41-.59l7.78-7.78 2.81-2.81c.8-.78.8-2.07 0-2.86zM5.41 20L4 18.59l7.72-7.72 1.47 1.35L5.41 20z\"/>\n",
              "  </svg>\n",
              "      </button>\n",
              "      \n",
              "  <style>\n",
              "    .colab-df-container {\n",
              "      display:flex;\n",
              "      flex-wrap:wrap;\n",
              "      gap: 12px;\n",
              "    }\n",
              "\n",
              "    .colab-df-convert {\n",
              "      background-color: #E8F0FE;\n",
              "      border: none;\n",
              "      border-radius: 50%;\n",
              "      cursor: pointer;\n",
              "      display: none;\n",
              "      fill: #1967D2;\n",
              "      height: 32px;\n",
              "      padding: 0 0 0 0;\n",
              "      width: 32px;\n",
              "    }\n",
              "\n",
              "    .colab-df-convert:hover {\n",
              "      background-color: #E2EBFA;\n",
              "      box-shadow: 0px 1px 2px rgba(60, 64, 67, 0.3), 0px 1px 3px 1px rgba(60, 64, 67, 0.15);\n",
              "      fill: #174EA6;\n",
              "    }\n",
              "\n",
              "    [theme=dark] .colab-df-convert {\n",
              "      background-color: #3B4455;\n",
              "      fill: #D2E3FC;\n",
              "    }\n",
              "\n",
              "    [theme=dark] .colab-df-convert:hover {\n",
              "      background-color: #434B5C;\n",
              "      box-shadow: 0px 1px 3px 1px rgba(0, 0, 0, 0.15);\n",
              "      filter: drop-shadow(0px 1px 2px rgba(0, 0, 0, 0.3));\n",
              "      fill: #FFFFFF;\n",
              "    }\n",
              "  </style>\n",
              "\n",
              "      <script>\n",
              "        const buttonEl =\n",
              "          document.querySelector('#df-92944f37-d7f9-42c4-9b22-b0f8fc6573eb button.colab-df-convert');\n",
              "        buttonEl.style.display =\n",
              "          google.colab.kernel.accessAllowed ? 'block' : 'none';\n",
              "\n",
              "        async function convertToInteractive(key) {\n",
              "          const element = document.querySelector('#df-92944f37-d7f9-42c4-9b22-b0f8fc6573eb');\n",
              "          const dataTable =\n",
              "            await google.colab.kernel.invokeFunction('convertToInteractive',\n",
              "                                                     [key], {});\n",
              "          if (!dataTable) return;\n",
              "\n",
              "          const docLinkHtml = 'Like what you see? Visit the ' +\n",
              "            '<a target=\"_blank\" href=https://colab.research.google.com/notebooks/data_table.ipynb>data table notebook</a>'\n",
              "            + ' to learn more about interactive tables.';\n",
              "          element.innerHTML = '';\n",
              "          dataTable['output_type'] = 'display_data';\n",
              "          await google.colab.output.renderOutput(dataTable, element);\n",
              "          const docLink = document.createElement('div');\n",
              "          docLink.innerHTML = docLinkHtml;\n",
              "          element.appendChild(docLink);\n",
              "        }\n",
              "      </script>\n",
              "    </div>\n",
              "  </div>\n",
              "  "
            ]
          },
          "metadata": {},
          "execution_count": 13
        }
      ]
    },
    {
      "cell_type": "markdown",
      "source": [
        "0 : 정상 1:자살위험군\n",
        "\n",
        "비교해서 전체적인 비율을 확인-> 한자릿수나 차이가남 -> 임밸런스 데이터라고함 (기계학습은 5:5 비율일때 제일 잘되는데 사실 찾고자하는 1 은 보통 비율이 적음) -> 학습할데이터가 없는거임(의료데이터 특징) -> 이럴때 맞추는 방법이 있다 !!\n",
        "\n",
        "*1.오버샘플링* \n",
        "\n",
        "324 를 5000명과 맞춘다. => 324 명을 카피해서 5000 명을 만든다\n",
        "\n",
        "-문제점 : 오버피팅 (324명에대해서만 과하게 맞춤)\n",
        "\n",
        "*2.언더샘플링* \n",
        "\n",
        "5000명중 324개를 뽑는다 . \n",
        "\n",
        "-문제점 : 데이터손실\n",
        "\n",
        "*3.smote* \n",
        "\n",
        "knn 사용해서 거리구해서 비슷한 애들 반반 형성해서 사용하기 -> 중복데이터보다야 훨씬 좋음\n",
        "\n",
        "-문제점 : 데이터별로 사용이 적합하기도 아니기도함\n",
        "\n",
        " ex)불량품측정이야 가정의수가 많을수록 좋으나 의료데이터에서는 사람 한명한명이 소중한 데이터이기때문에 신빙성이 떨어진다고 봄.\n",
        "\n",
        "-데이터 건드리지 않고 하는 방법2개-\n",
        "\n",
        "*4.class 가중치 적용*\n",
        "\n",
        " 0과1중 1이 중요한 변수다 -> 학습할때 1 이 틀리는걸 크게 보고 보정하고, 0은 가중치를 적게주어 틀려도 상관없이 만든다 -> 가짜생성에 대한 비난은 피할수있음\n",
        "\n",
        "*5.앙상블학습* \n",
        "\n",
        "알고리즘여러개 합쳐서 쓰는것 "
      ],
      "metadata": {
        "id": "UVEIywlHji3H"
      }
    },
    {
      "cell_type": "code",
      "source": [
        "Counter(df2['mh_suicide'])"
      ],
      "metadata": {
        "colab": {
          "base_uri": "https://localhost:8080/"
        },
        "id": "948kiil_jd3J",
        "outputId": "342f3a9e-28a4-4703-f774-bd267818f22a"
      },
      "execution_count": null,
      "outputs": [
        {
          "output_type": "execute_result",
          "data": {
            "text/plain": [
              "Counter({0.0: 5611, 1.0: 324})"
            ]
          },
          "metadata": {},
          "execution_count": 14
        }
      ]
    },
    {
      "cell_type": "code",
      "source": [
        "import seaborn as sns\n"
      ],
      "metadata": {
        "id": "AMvOxtWomF1v"
      },
      "execution_count": null,
      "outputs": []
    },
    {
      "cell_type": "code",
      "source": [
        "f = sns.countplot(x='mh_suicide', data=df)\n",
        "f.set_title(\"Suicide presence distribution\")\n",
        "f.set_xticklabels(['didnt think Suicide', 'Think Suicide'])\n",
        "plt.xlabel(\"\")"
      ],
      "metadata": {
        "colab": {
          "base_uri": "https://localhost:8080/",
          "height": 299
        },
        "id": "Ws7r50H-mXHH",
        "outputId": "33f05ec0-48e3-44e7-f0fa-93693875f5e3"
      },
      "execution_count": null,
      "outputs": [
        {
          "output_type": "execute_result",
          "data": {
            "text/plain": [
              "Text(0.5, 0, '')"
            ]
          },
          "metadata": {},
          "execution_count": 16
        },
        {
          "output_type": "display_data",
          "data": {
            "text/plain": [
              "<Figure size 432x288 with 1 Axes>"
            ],
            "image/png": "[encoded data removed]"
          },
          "metadata": {
            "needs_background": "light"
          }
        }
      ]
    },
    {
      "cell_type": "code",
      "source": [
        "f = sns.countplot(x='mh_suicide', data=df, hue='sex')\n",
        "plt.legend(['Female', 'Male'])\n",
        "f.set_title(\"Suicide presence distribution by gender\")\n",
        "f.set_xticklabels(['No Suicide', 'Suicide'])\n",
        "plt.xlabel(\"\")"
      ],
      "metadata": {
        "colab": {
          "base_uri": "https://localhost:8080/",
          "height": 299
        },
        "id": "_G7UBcxNmUDQ",
        "outputId": "e3d07e81-8c02-4282-9311-dd01a2ccac7e"
      },
      "execution_count": null,
      "outputs": [
        {
          "output_type": "execute_result",
          "data": {
            "text/plain": [
              "Text(0.5, 0, '')"
            ]
          },
          "metadata": {},
          "execution_count": 17
        },
        {
          "output_type": "display_data",
          "data": {
            "text/plain": [
              "<Figure size 432x288 with 1 Axes>"
            ],
            "image/png": "[encoded data removed]"
          },
          "metadata": {
            "needs_background": "light"
          }
        }
      ]
    },
    {
      "cell_type": "markdown",
      "source": [],
      "metadata": {
        "id": "qNLlySrYmRQO"
      }
    },
    {
      "cell_type": "code",
      "source": [
        "mh_suicide_corr = df.corr()['mh_suicide']\n",
        "\n",
        "mh_suicide_corr.sort_values(axis=0)"
      ],
      "metadata": {
        "colab": {
          "base_uri": "https://localhost:8080/"
        },
        "id": "1qqLh5aMmGaf",
        "outputId": "edd4ff81-1360-4987-df72-299e19f62061"
      },
      "execution_count": null,
      "outputs": [
        {
          "output_type": "execute_result",
          "data": {
            "text/plain": [
              "DF2_pr       -0.182007\n",
              "LF_S2        -0.138665\n",
              "allownc      -0.098459\n",
              "edu          -0.091495\n",
              "incm         -0.082476\n",
              "                ...   \n",
              "occp          0.090633\n",
              "O_chew_d      0.111216\n",
              "LF_SAFE       0.120603\n",
              "mh_stress     0.220486\n",
              "mh_suicide    1.000000\n",
              "Name: mh_suicide, Length: 88, dtype: float64"
            ]
          },
          "metadata": {},
          "execution_count": 18
        }
      ]
    },
    {
      "cell_type": "markdown",
      "source": [
        "상관계수 찍음.\n",
        "의료데이터는 서로 독립변수가 아님.그래서 상관변수나 회귀분석으로 변수를 뽑았을때 점수와 같은 가벼운것이 아님. 그래도 공식이 될만하면 회귀분석을 통해 다중공선성을 적용할수있으나. 이런\n",
        "의료데이터는 서로 관계가 깊기때문에 아래 나온대로 영향을 미쳤다고 볼수없음. \n",
        "\n",
        "=> 그래서 딥러닝을 통해 뭐가 제일 중요한 요소인지 파악함"
      ],
      "metadata": {
        "id": "95cDQCqmmfPJ"
      }
    },
    {
      "cell_type": "code",
      "source": [
        "f = sns.countplot(x='mh_stress', data=df)\n",
        "f.set_title(\"stress presence distribution\")\n",
        "f.set_xticklabels(['No stress', 'stress'])\n",
        "plt.xlabel(\"\")"
      ],
      "metadata": {
        "colab": {
          "base_uri": "https://localhost:8080/",
          "height": 299
        },
        "id": "7VHAAqhzj1TV",
        "outputId": "ea385261-a580-4bb1-fa94-779a73df84a7"
      },
      "execution_count": null,
      "outputs": [
        {
          "output_type": "execute_result",
          "data": {
            "text/plain": [
              "Text(0.5, 0, '')"
            ]
          },
          "metadata": {},
          "execution_count": 19
        },
        {
          "output_type": "display_data",
          "data": {
            "text/plain": [
              "<Figure size 432x288 with 1 Axes>"
            ],
            "image/png": "[encoded data removed]"
          },
          "metadata": {
            "needs_background": "light"
          }
        }
      ]
    },
    {
      "cell_type": "code",
      "source": [
        "f = sns.countplot(x='mh_stress', data=df, hue='sex')\n",
        "plt.legend(['Female', 'Male'])\n",
        "f.set_title(\"Stress presence distribution by gender\")\n",
        "f.set_xticklabels(['No Stress', 'Stress'])\n",
        "plt.xlabel(\"\")"
      ],
      "metadata": {
        "colab": {
          "base_uri": "https://localhost:8080/",
          "height": 299
        },
        "id": "SMzv8rOHkFIi",
        "outputId": "2dfe30f3-66a4-43d2-d90f-574f86cef5f9"
      },
      "execution_count": null,
      "outputs": [
        {
          "output_type": "execute_result",
          "data": {
            "text/plain": [
              "Text(0.5, 0, '')"
            ]
          },
          "metadata": {},
          "execution_count": 20
        },
        {
          "output_type": "display_data",
          "data": {
            "text/plain": [
              "<Figure size 432x288 with 1 Axes>"
            ],
            "image/png": "[encoded data removed]"
          },
          "metadata": {
            "needs_background": "light"
          }
        }
      ]
    },
    {
      "cell_type": "markdown",
      "source": [
        "#데이터 전처리"
      ],
      "metadata": {
        "id": "ZqYPEKaakEnh"
      }
    },
    {
      "cell_type": "code",
      "source": [
        "from sklearn.base import BaseEstimator, TransformerMixin\n",
        "from sklearn.pipeline import Pipeline\n",
        "from sklearn.preprocessing import MinMaxScaler,StandardScaler,OneHotEncoder\n",
        "#수치형:scaler 범주형:onehotencoder \n",
        "from sklearn.impute import SimpleImputer #null값 대치용\n",
        "from sklearn.pipeline import FeatureUnion"
      ],
      "metadata": {
        "id": "7k2kV76fnM2H"
      },
      "execution_count": null,
      "outputs": []
    },
    {
      "cell_type": "code",
      "source": [
        "class DataFrameSelector(BaseEstimator, TransformerMixin):\n",
        "    def __init__(self, attribute_names):\n",
        "        self.attribute_names = attribute_names\n",
        "    def fit(self, X, y=None):\n",
        "        return self\n",
        "    def transform(self, X):\n",
        "        return X[self.attribute_names].values"
      ],
      "metadata": {
        "id": "yxddxUbWnYo_"
      },
      "execution_count": null,
      "outputs": []
    },
    {
      "cell_type": "code",
      "source": [
        "def pipeline(df, nums, cats):\n",
        "    \n",
        "    num_inputer = SimpleImputer(strategy='median')\n",
        "    num_pipeline=Pipeline([\n",
        "        (\"select_numeric\",DataFrameSelector(nums)),\n",
        "        (\"impute\", num_inputer),\n",
        "        (\"scaler\", StandardScaler())])\n",
        "    #num : 수치형만 결측치대체후 scaler 적용\n",
        "    cat_imputer = SimpleImputer(strategy='most_frequent')\n",
        "    cat_pipeline = Pipeline([\n",
        "        (\"select_cat\",DataFrameSelector(cats)),\n",
        "        (\"impute\", cat_imputer)])\n",
        "        #(\"encoder\", OneHotEncoder())])\n",
        "    #cat : 범주형만 가져와서 결측치 보정후, 데이터가 많아 원핫인코딩 생략\n",
        "    preprocess_pipeline = FeatureUnion(transformer_list=[\n",
        "    (\"num_pipeline\", num_pipeline),\n",
        "    (\"cat_pipeline\", cat_pipeline)])\n",
        "    \n",
        "    X=preprocess_pipeline.fit_transform(df)\n",
        "    #num(수치형) 과 cat(범주형) 을 합쳐서 전체 전처리함\n",
        "    return X"
      ],
      "metadata": {
        "id": "o1R4B0rynfu3"
      },
      "execution_count": null,
      "outputs": []
    },
    {
      "cell_type": "markdown",
      "source": [
        " FeatureUnion(transformer_list=[\n",
        "    (\"num_pipeline\", num_pipeline),\n",
        "    (\"cat_pipeline\", cat_pipeline)])\n",
        "    뉴메릭과 카테고리를 합침.\n",
        "\n",
        "  원핫인코딩 -> 공간차지가 많아짐 \n",
        "\n",
        "ex) 옷사이즈 처럼 하나를 골라아하는건 원핫인코딩, 근데 학년과같은 범주는 할 필요없음. impute만 한다. \n",
        "\n",
        "널값 대체시) 범주는 most+frequent 최빈값!\n",
        "\n",
        "뉴메릭은 평균이나 중앙값중. -> 자신없으면 빼거나 해야함. 의료데이터의 경우 평균은 큰의미가없다. 회귀식에 넣어서 하는게좋음.\n",
        "\n",
        "그리고 마지막으로 합해서 전처리를 한다"
      ],
      "metadata": {
        "id": "nyI3PlsMnzIn"
      }
    },
    {
      "cell_type": "markdown",
      "source": [
        "넣어야함"
      ],
      "metadata": {
        "id": "l7knKWltpL9G"
      }
    },
    {
      "cell_type": "code",
      "source": [
        "nums = ['incm', 'edu', 'occp', 'marri_1', 'HE_wt', 'HE_wc', 'HE_BMI', 'N_EN', 'N_WATER', 'N_PROT', 'N_FAT', 'N_SFA', 'N_MUFA', 'N_PUFA', 'N_CHOL', 'N_CHO', 'N_TDF', 'N_CA', 'N_FE', 'N_NA', 'N_K', 'N_VITC', 'LF_SAFE', 'LF_S2']\n",
        "cats = ['apt_t', 'sex', 'cfam', 'allownc', 'house', 'live_t', 'marri_2', 'tins', 'npins', 'DI2_pr', 'DI3_pr', 'DI4_pr', 'DI5_pr', 'DI6_pr', 'DM1_pr', 'DM2_pr', 'DM3_pr', 'DM4_pr', 'D_8_2', 'D_8_4', 'DJ4_pr', 'DE1_pr', 'DE2_pr', 'DC1_pr', 'DC2_pr', 'DC3_pr', 'DC4_pr', 'DC5_pr', 'DC6_pr', 'DC7_pr', 'DF2_pr', 'DL1_pr', 'DJ8_pr', 'DH2_pr', 'DH3_pr', 'DN1_pr', 'DK8_pr', 'DK9_pr', 'DK4_pr', 'LQ4_00', 'LQ1_sb', 'LQ_1EQL', 'LQ_2EQL', 'LQ_3EQL', 'LQ_4EQL', 'LQ_5EQL', 'educ', 'EC1_1', 'BO1', 'BO1_1', 'BO2_1', 'BD1_11', 'mh_stress', 'BE8_1', 'HE_HP', 'HE_anem', 'O_chew_d', 'L_BR_FQ', 'L_LN_FQ', 'L_DN_FQ']"
      ],
      "metadata": {
        "id": "rInx6FBSpIZG"
      },
      "execution_count": null,
      "outputs": []
    },
    {
      "cell_type": "markdown",
      "source": [
        "그리고 위에 정의했던 전처리과정 pipeline 에다가 넣어서 진행시킴"
      ],
      "metadata": {
        "id": "JOM3qjntmsI1"
      }
    },
    {
      "cell_type": "markdown",
      "source": [
        "#x 데이터만 전처리 완료!"
      ],
      "metadata": {
        "id": "1g_RGJHtm28F"
      }
    },
    {
      "cell_type": "code",
      "source": [
        "X_data = pipeline(df2, nums, cats)"
      ],
      "metadata": {
        "id": "wqCMCGTlpSMN"
      },
      "execution_count": null,
      "outputs": []
    },
    {
      "cell_type": "code",
      "source": [
        "y_label = df2['mh_suicide']"
      ],
      "metadata": {
        "id": "Q2J7bKPpm8B2"
      },
      "execution_count": null,
      "outputs": []
    },
    {
      "cell_type": "markdown",
      "source": [
        "y 레이블 분리하면서 y 데이터 전처리 진행"
      ],
      "metadata": {
        "id": "Yo_DVZAan9Gh"
      }
    },
    {
      "cell_type": "code",
      "source": [
        "from sklearn.model_selection import train_test_split\n"
      ],
      "metadata": {
        "id": "VHT3e-kenBLB"
      },
      "execution_count": null,
      "outputs": []
    },
    {
      "cell_type": "markdown",
      "source": [
        "train_test_split 을 사용해 비중을 똑같이하면서 잘라줌. ??"
      ],
      "metadata": {
        "id": "-H4bRMAopvPu"
      }
    },
    {
      "cell_type": "code",
      "source": [
        "X_train, X_test, y_train, y_test = train_test_split(X_data, y_label, test_size=0.3, random_state=0)\n",
        "\n",
        "X_train = np.asarray(X_train)\n",
        "y_train = np.asarray(y_train)\n",
        "X_test = np.asarray(X_test)\n",
        "y_test = np.asarray(y_test)"
      ],
      "metadata": {
        "id": "4R5jg4WXpt32"
      },
      "execution_count": null,
      "outputs": []
    },
    {
      "cell_type": "code",
      "source": [
        "print('Train data shape: {0}'.format(X_train.shape))\n",
        "print('Test data shape: {0}'.format(X_test.shape))\n",
        "\n",
        "print('Train data label => %s' %Counter(y_train))\n",
        "print('Test data label => %s' %Counter(y_test))"
      ],
      "metadata": {
        "colab": {
          "base_uri": "https://localhost:8080/"
        },
        "id": "QOjulBe9nvMB",
        "outputId": "cd62ed06-60f8-4f23-cc07-c5461b2df1bc"
      },
      "execution_count": null,
      "outputs": [
        {
          "output_type": "stream",
          "name": "stdout",
          "text": [
            "Train data shape: (4154, 84)\n",
            "Test data shape: (1781, 84)\n",
            "Train data label => Counter({0.0: 3926, 1.0: 228})\n",
            "Test data label => Counter({0.0: 1685, 1.0: 96})\n"
          ]
        }
      ]
    },
    {
      "cell_type": "markdown",
      "source": [
        "#smote 모델 이용 -> 데이터 맞추기  9/20"
      ],
      "metadata": {
        "id": "9GFAM3hPoCwl"
      }
    },
    {
      "cell_type": "markdown",
      "source": [
        "모델생성을 위해 train 으로만 가지고 돌린다."
      ],
      "metadata": {
        "id": "oelYb4ropDCK"
      }
    },
    {
      "cell_type": "code",
      "source": [
        "from imblearn.over_sampling import SMOTE\n",
        "\n",
        "smote = SMOTE(random_state=0)\n",
        "X_train_over,y_train_over = smote.fit_resample(X_train,y_train)"
      ],
      "metadata": {
        "id": "IcLCeu4uoQBj"
      },
      "execution_count": null,
      "outputs": []
    },
    {
      "cell_type": "code",
      "source": [
        "print('SMOTE 적용 전 학습용 피처/레이블 데이터 세트: ', X_train.shape, y_train.shape)\n",
        "print('SMOTE 적용 전 레이블 값 분포: \\n', pd.Series(y_train).value_counts())\n",
        "print('SMOTE 적용 후 학습용 피처/레이블 데이터 세트: ', X_train_over.shape, y_train_over.shape)\n",
        "print('SMOTE 적용 후 레이블 값 분포: \\n', pd.Series(y_train_over).value_counts())"
      ],
      "metadata": {
        "colab": {
          "base_uri": "https://localhost:8080/"
        },
        "id": "Co0V0pw8oYq_",
        "outputId": "f0f84645-ac5e-4171-9387-308ecb98e334"
      },
      "execution_count": null,
      "outputs": [
        {
          "output_type": "stream",
          "name": "stdout",
          "text": [
            "SMOTE 적용 전 학습용 피처/레이블 데이터 세트:  (4154, 84) (4154,)\n",
            "SMOTE 적용 전 레이블 값 분포: \n",
            " 0.0    3926\n",
            "1.0     228\n",
            "dtype: int64\n",
            "SMOTE 적용 후 학습용 피처/레이블 데이터 세트:  (7852, 84) (7852,)\n",
            "SMOTE 적용 후 레이블 값 분포: \n",
            " 0.0    3926\n",
            "1.0    3926\n",
            "dtype: int64\n"
          ]
        }
      ]
    },
    {
      "cell_type": "code",
      "source": [
        "from tensorflow.keras.layers import Dense,SimpleRNN,LSTM,Dropout\n",
        "from tensorflow.keras import models\n",
        "from tensorflow.keras.optimizers import RMSprop\n",
        "import matplotlib.pyplot as plt"
      ],
      "metadata": {
        "id": "JgOIrrhJpbNW"
      },
      "execution_count": null,
      "outputs": []
    },
    {
      "cell_type": "markdown",
      "source": [
        "#네트워크 구성하는법"
      ],
      "metadata": {
        "id": "DE8CaiaXKXSE"
      }
    },
    {
      "cell_type": "code",
      "source": [
        "from tensorflow.keras.callbacks import EarlyStopping, ModelCheckpoint\n",
        "from tensorflow.keras.models import load_model\n",
        "\n",
        "model = models.Sequential() # 단일데이터타입(정형 하나만 쓴다) -> sequential\n",
        "model.add(Dense(32, input_dim = 84, activation='relu')) #32개노드 , 84개의변수\n",
        "model.add(Dense(32, activation='relu'))\n",
        "model.add(Dense(1, activation='sigmoid'))\n",
        "\n",
        "model.compile(optimizer='RMSprop',loss='binary_crossentropy',metrics=['accuracy'])"
      ],
      "metadata": {
        "id": "SAApaxsnp2kO"
      },
      "execution_count": null,
      "outputs": []
    },
    {
      "cell_type": "markdown",
      "source": [
        "보통 데이터가 만개 안쪽이면 32개 노드로 함\n",
        "\n",
        "히든레이어는 데이터보다는 피처의 수와 상관있음.\n",
        "피처가 이렇게 많으면 3개층까지도 필요없음. 너무 많으면 오버피팅이 있을수있다.\n",
        "\n",
        "엔트로피가 안정적인상태 -> 0과 1이 분류되어있다.\n",
        "그래서 compile -> 변수를 찾아냄 (크로스 엔트로피 이용)"
      ],
      "metadata": {
        "id": "4i6N6SDWqNSO"
      }
    },
    {
      "cell_type": "markdown",
      "source": [
        "##학습시키기"
      ],
      "metadata": {
        "id": "1CiskAQ4MLhs"
      }
    },
    {
      "cell_type": "code",
      "source": [
        "history = model.fit(X_train_over,y_train_over,epochs=100,batch_size=512,validation_data=(X_test, y_test))\n",
        "#학습 100 번하는걸 history 에 저장함"
      ],
      "metadata": {
        "colab": {
          "base_uri": "https://localhost:8080/"
        },
        "id": "ISovYC13qBfk",
        "outputId": "d628fc2f-3651-4870-9961-7c65147b5963"
      },
      "execution_count": null,
      "outputs": [
        {
          "output_type": "stream",
          "name": "stdout",
          "text": [
            "Epoch 1/100\n",
            "16/16 [==============================] - 1s 12ms/step - loss: 1.3672 - accuracy: 0.5120 - val_loss: 0.4886 - val_accuracy: 0.8024\n",
            "Epoch 2/100\n",
            "16/16 [==============================] - 0s 3ms/step - loss: 0.7613 - accuracy: 0.5627 - val_loss: 0.5621 - val_accuracy: 0.7423\n",
            "Epoch 3/100\n",
            "16/16 [==============================] - 0s 4ms/step - loss: 0.6855 - accuracy: 0.6048 - val_loss: 0.4652 - val_accuracy: 0.8220\n",
            "Epoch 4/100\n",
            "16/16 [==============================] - 0s 3ms/step - loss: 0.6670 - accuracy: 0.6219 - val_loss: 0.4115 - val_accuracy: 0.8624\n",
            "Epoch 5/100\n",
            "16/16 [==============================] - 0s 3ms/step - loss: 0.6248 - accuracy: 0.6538 - val_loss: 1.1539 - val_accuracy: 0.1875\n",
            "Epoch 6/100\n",
            "16/16 [==============================] - 0s 3ms/step - loss: 0.6241 - accuracy: 0.6489 - val_loss: 0.7475 - val_accuracy: 0.5216\n",
            "Epoch 7/100\n",
            "16/16 [==============================] - 0s 3ms/step - loss: 0.6274 - accuracy: 0.6519 - val_loss: 0.7376 - val_accuracy: 0.5446\n",
            "Epoch 8/100\n",
            "16/16 [==============================] - 0s 3ms/step - loss: 0.5819 - accuracy: 0.6909 - val_loss: 0.5466 - val_accuracy: 0.7367\n",
            "Epoch 9/100\n",
            "16/16 [==============================] - 0s 5ms/step - loss: 0.5901 - accuracy: 0.6808 - val_loss: 0.4598 - val_accuracy: 0.8181\n",
            "Epoch 10/100\n",
            "16/16 [==============================] - 0s 3ms/step - loss: 0.5756 - accuracy: 0.6885 - val_loss: 1.0484 - val_accuracy: 0.3156\n",
            "Epoch 11/100\n",
            "16/16 [==============================] - 0s 3ms/step - loss: 0.5769 - accuracy: 0.6933 - val_loss: 0.5146 - val_accuracy: 0.7760\n",
            "Epoch 12/100\n",
            "16/16 [==============================] - 0s 2ms/step - loss: 0.5572 - accuracy: 0.7059 - val_loss: 0.6968 - val_accuracy: 0.6075\n",
            "Epoch 13/100\n",
            "16/16 [==============================] - 0s 3ms/step - loss: 0.5607 - accuracy: 0.7040 - val_loss: 0.7582 - val_accuracy: 0.5508\n",
            "Epoch 14/100\n",
            "16/16 [==============================] - 0s 3ms/step - loss: 0.5343 - accuracy: 0.7328 - val_loss: 0.5083 - val_accuracy: 0.7805\n",
            "Epoch 15/100\n",
            "16/16 [==============================] - 0s 3ms/step - loss: 0.5405 - accuracy: 0.7243 - val_loss: 0.5992 - val_accuracy: 0.6957\n",
            "Epoch 16/100\n",
            "16/16 [==============================] - 0s 3ms/step - loss: 0.5268 - accuracy: 0.7310 - val_loss: 0.4584 - val_accuracy: 0.8108\n",
            "Epoch 17/100\n",
            "16/16 [==============================] - 0s 3ms/step - loss: 0.5302 - accuracy: 0.7249 - val_loss: 0.2817 - val_accuracy: 0.9158\n",
            "Epoch 18/100\n",
            "16/16 [==============================] - 0s 3ms/step - loss: 0.5147 - accuracy: 0.7454 - val_loss: 0.2802 - val_accuracy: 0.9147\n",
            "Epoch 19/100\n",
            "16/16 [==============================] - 0s 3ms/step - loss: 0.5181 - accuracy: 0.7408 - val_loss: 0.8036 - val_accuracy: 0.5233\n",
            "Epoch 20/100\n",
            "16/16 [==============================] - 0s 4ms/step - loss: 0.4945 - accuracy: 0.7603 - val_loss: 1.0936 - val_accuracy: 0.3492\n",
            "Epoch 21/100\n",
            "16/16 [==============================] - 0s 4ms/step - loss: 0.4952 - accuracy: 0.7596 - val_loss: 0.5540 - val_accuracy: 0.7339\n",
            "Epoch 22/100\n",
            "16/16 [==============================] - 0s 3ms/step - loss: 0.4925 - accuracy: 0.7528 - val_loss: 0.8553 - val_accuracy: 0.4902\n",
            "Epoch 23/100\n",
            "16/16 [==============================] - 0s 3ms/step - loss: 0.4929 - accuracy: 0.7515 - val_loss: 0.6672 - val_accuracy: 0.6468\n",
            "Epoch 24/100\n",
            "16/16 [==============================] - 0s 3ms/step - loss: 0.4900 - accuracy: 0.7590 - val_loss: 0.5266 - val_accuracy: 0.7586\n",
            "Epoch 25/100\n",
            "16/16 [==============================] - 0s 3ms/step - loss: 0.4800 - accuracy: 0.7626 - val_loss: 0.3203 - val_accuracy: 0.8855\n",
            "Epoch 26/100\n",
            "16/16 [==============================] - 0s 5ms/step - loss: 0.4666 - accuracy: 0.7729 - val_loss: 0.4724 - val_accuracy: 0.7833\n",
            "Epoch 27/100\n",
            "16/16 [==============================] - 0s 5ms/step - loss: 0.4813 - accuracy: 0.7607 - val_loss: 0.2967 - val_accuracy: 0.9001\n",
            "Epoch 28/100\n",
            "16/16 [==============================] - 0s 4ms/step - loss: 0.4636 - accuracy: 0.7753 - val_loss: 0.4176 - val_accuracy: 0.8276\n",
            "Epoch 29/100\n",
            "16/16 [==============================] - 0s 4ms/step - loss: 0.4599 - accuracy: 0.7795 - val_loss: 0.2839 - val_accuracy: 0.9023\n",
            "Epoch 30/100\n",
            "16/16 [==============================] - 0s 3ms/step - loss: 0.4536 - accuracy: 0.7794 - val_loss: 0.7424 - val_accuracy: 0.6042\n",
            "Epoch 31/100\n",
            "16/16 [==============================] - 0s 5ms/step - loss: 0.4462 - accuracy: 0.7873 - val_loss: 0.4580 - val_accuracy: 0.7917\n",
            "Epoch 32/100\n",
            "16/16 [==============================] - 0s 3ms/step - loss: 0.4512 - accuracy: 0.7813 - val_loss: 0.3552 - val_accuracy: 0.8664\n",
            "Epoch 33/100\n",
            "16/16 [==============================] - 0s 3ms/step - loss: 0.4444 - accuracy: 0.7867 - val_loss: 0.4838 - val_accuracy: 0.7816\n",
            "Epoch 34/100\n",
            "16/16 [==============================] - 0s 3ms/step - loss: 0.4440 - accuracy: 0.7905 - val_loss: 0.6791 - val_accuracy: 0.6502\n",
            "Epoch 35/100\n",
            "16/16 [==============================] - 0s 5ms/step - loss: 0.4318 - accuracy: 0.7938 - val_loss: 0.3177 - val_accuracy: 0.8843\n",
            "Epoch 36/100\n",
            "16/16 [==============================] - 0s 4ms/step - loss: 0.4391 - accuracy: 0.7885 - val_loss: 0.7640 - val_accuracy: 0.6131\n",
            "Epoch 37/100\n",
            "16/16 [==============================] - 0s 3ms/step - loss: 0.4204 - accuracy: 0.8035 - val_loss: 0.4044 - val_accuracy: 0.8321\n",
            "Epoch 38/100\n",
            "16/16 [==============================] - 0s 3ms/step - loss: 0.4206 - accuracy: 0.8048 - val_loss: 0.4806 - val_accuracy: 0.7844\n",
            "Epoch 39/100\n",
            "16/16 [==============================] - 0s 4ms/step - loss: 0.4203 - accuracy: 0.8015 - val_loss: 0.6258 - val_accuracy: 0.6873\n",
            "Epoch 40/100\n",
            "16/16 [==============================] - 0s 4ms/step - loss: 0.4213 - accuracy: 0.8031 - val_loss: 0.6015 - val_accuracy: 0.7092\n",
            "Epoch 41/100\n",
            "16/16 [==============================] - 0s 3ms/step - loss: 0.4082 - accuracy: 0.8083 - val_loss: 0.4475 - val_accuracy: 0.8007\n",
            "Epoch 42/100\n",
            "16/16 [==============================] - 0s 3ms/step - loss: 0.4143 - accuracy: 0.8120 - val_loss: 0.4314 - val_accuracy: 0.8085\n",
            "Epoch 43/100\n",
            "16/16 [==============================] - 0s 3ms/step - loss: 0.3941 - accuracy: 0.8192 - val_loss: 0.9183 - val_accuracy: 0.4947\n",
            "Epoch 44/100\n",
            "16/16 [==============================] - 0s 3ms/step - loss: 0.4095 - accuracy: 0.8083 - val_loss: 0.4760 - val_accuracy: 0.7816\n",
            "Epoch 45/100\n",
            "16/16 [==============================] - 0s 3ms/step - loss: 0.3849 - accuracy: 0.8231 - val_loss: 0.3087 - val_accuracy: 0.8849\n",
            "Epoch 46/100\n",
            "16/16 [==============================] - 0s 3ms/step - loss: 0.3934 - accuracy: 0.8209 - val_loss: 0.4606 - val_accuracy: 0.7883\n",
            "Epoch 47/100\n",
            "16/16 [==============================] - 0s 3ms/step - loss: 0.3931 - accuracy: 0.8209 - val_loss: 0.6095 - val_accuracy: 0.6968\n",
            "Epoch 48/100\n",
            "16/16 [==============================] - 0s 4ms/step - loss: 0.3851 - accuracy: 0.8214 - val_loss: 0.7435 - val_accuracy: 0.6255\n",
            "Epoch 49/100\n",
            "16/16 [==============================] - 0s 3ms/step - loss: 0.3885 - accuracy: 0.8222 - val_loss: 0.5270 - val_accuracy: 0.7524\n",
            "Epoch 50/100\n",
            "16/16 [==============================] - 0s 3ms/step - loss: 0.3812 - accuracy: 0.8241 - val_loss: 0.4915 - val_accuracy: 0.7698\n",
            "Epoch 51/100\n",
            "16/16 [==============================] - 0s 4ms/step - loss: 0.3708 - accuracy: 0.8310 - val_loss: 0.4893 - val_accuracy: 0.7771\n",
            "Epoch 52/100\n",
            "16/16 [==============================] - 0s 4ms/step - loss: 0.3828 - accuracy: 0.8269 - val_loss: 0.3338 - val_accuracy: 0.8675\n",
            "Epoch 53/100\n",
            "16/16 [==============================] - 0s 3ms/step - loss: 0.3726 - accuracy: 0.8287 - val_loss: 0.3196 - val_accuracy: 0.8787\n",
            "Epoch 54/100\n",
            "16/16 [==============================] - 0s 4ms/step - loss: 0.3718 - accuracy: 0.8281 - val_loss: 0.3583 - val_accuracy: 0.8585\n",
            "Epoch 55/100\n",
            "16/16 [==============================] - 0s 4ms/step - loss: 0.3653 - accuracy: 0.8406 - val_loss: 0.4274 - val_accuracy: 0.8175\n",
            "Epoch 56/100\n",
            "16/16 [==============================] - 0s 3ms/step - loss: 0.3652 - accuracy: 0.8389 - val_loss: 0.3184 - val_accuracy: 0.8793\n",
            "Epoch 57/100\n",
            "16/16 [==============================] - 0s 3ms/step - loss: 0.3601 - accuracy: 0.8413 - val_loss: 0.3407 - val_accuracy: 0.8697\n",
            "Epoch 58/100\n",
            "16/16 [==============================] - 0s 3ms/step - loss: 0.3491 - accuracy: 0.8462 - val_loss: 0.4371 - val_accuracy: 0.8141\n",
            "Epoch 59/100\n",
            "16/16 [==============================] - 0s 3ms/step - loss: 0.3656 - accuracy: 0.8343 - val_loss: 0.5553 - val_accuracy: 0.7479\n",
            "Epoch 60/100\n",
            "16/16 [==============================] - 0s 3ms/step - loss: 0.3414 - accuracy: 0.8525 - val_loss: 0.5316 - val_accuracy: 0.7546\n",
            "Epoch 61/100\n",
            "16/16 [==============================] - 0s 3ms/step - loss: 0.3566 - accuracy: 0.8409 - val_loss: 0.3188 - val_accuracy: 0.8821\n",
            "Epoch 62/100\n",
            "16/16 [==============================] - 0s 3ms/step - loss: 0.3512 - accuracy: 0.8481 - val_loss: 0.3257 - val_accuracy: 0.8821\n",
            "Epoch 63/100\n",
            "16/16 [==============================] - 0s 3ms/step - loss: 0.3284 - accuracy: 0.8576 - val_loss: 0.3301 - val_accuracy: 0.8754\n",
            "Epoch 64/100\n",
            "16/16 [==============================] - 0s 3ms/step - loss: 0.3397 - accuracy: 0.8467 - val_loss: 0.2943 - val_accuracy: 0.8978\n",
            "Epoch 65/100\n",
            "16/16 [==============================] - 0s 3ms/step - loss: 0.3379 - accuracy: 0.8518 - val_loss: 0.6256 - val_accuracy: 0.7013\n",
            "Epoch 66/100\n",
            "16/16 [==============================] - 0s 3ms/step - loss: 0.3392 - accuracy: 0.8528 - val_loss: 0.2994 - val_accuracy: 0.8916\n",
            "Epoch 67/100\n",
            "16/16 [==============================] - 0s 3ms/step - loss: 0.3440 - accuracy: 0.8467 - val_loss: 0.3341 - val_accuracy: 0.8759\n",
            "Epoch 68/100\n",
            "16/16 [==============================] - 0s 4ms/step - loss: 0.3287 - accuracy: 0.8584 - val_loss: 0.6753 - val_accuracy: 0.6755\n",
            "Epoch 69/100\n",
            "16/16 [==============================] - 0s 3ms/step - loss: 0.3326 - accuracy: 0.8510 - val_loss: 0.6118 - val_accuracy: 0.7097\n",
            "Epoch 70/100\n",
            "16/16 [==============================] - 0s 3ms/step - loss: 0.3274 - accuracy: 0.8586 - val_loss: 0.8710 - val_accuracy: 0.5671\n",
            "Epoch 71/100\n",
            "16/16 [==============================] - 0s 3ms/step - loss: 0.3292 - accuracy: 0.8594 - val_loss: 0.3193 - val_accuracy: 0.8832\n",
            "Epoch 72/100\n",
            "16/16 [==============================] - 0s 3ms/step - loss: 0.3227 - accuracy: 0.8566 - val_loss: 0.3536 - val_accuracy: 0.8619\n",
            "Epoch 73/100\n",
            "16/16 [==============================] - 0s 4ms/step - loss: 0.3116 - accuracy: 0.8663 - val_loss: 0.3227 - val_accuracy: 0.8815\n",
            "Epoch 74/100\n",
            "16/16 [==============================] - 0s 3ms/step - loss: 0.3345 - accuracy: 0.8515 - val_loss: 0.2881 - val_accuracy: 0.9001\n",
            "Epoch 75/100\n",
            "16/16 [==============================] - 0s 3ms/step - loss: 0.3226 - accuracy: 0.8585 - val_loss: 0.3563 - val_accuracy: 0.8647\n",
            "Epoch 76/100\n",
            "16/16 [==============================] - 0s 5ms/step - loss: 0.3034 - accuracy: 0.8723 - val_loss: 0.3620 - val_accuracy: 0.8540\n",
            "Epoch 77/100\n",
            "16/16 [==============================] - 0s 4ms/step - loss: 0.3032 - accuracy: 0.8749 - val_loss: 0.3821 - val_accuracy: 0.8568\n",
            "Epoch 78/100\n",
            "16/16 [==============================] - 0s 6ms/step - loss: 0.3150 - accuracy: 0.8641 - val_loss: 0.4619 - val_accuracy: 0.7951\n",
            "Epoch 79/100\n",
            "16/16 [==============================] - 0s 4ms/step - loss: 0.2989 - accuracy: 0.8767 - val_loss: 0.6649 - val_accuracy: 0.6794\n",
            "Epoch 80/100\n",
            "16/16 [==============================] - 0s 7ms/step - loss: 0.3130 - accuracy: 0.8660 - val_loss: 0.4673 - val_accuracy: 0.7911\n",
            "Epoch 81/100\n",
            "16/16 [==============================] - 0s 5ms/step - loss: 0.3045 - accuracy: 0.8706 - val_loss: 0.7188 - val_accuracy: 0.6637\n",
            "Epoch 82/100\n",
            "16/16 [==============================] - 0s 4ms/step - loss: 0.3014 - accuracy: 0.8734 - val_loss: 0.3475 - val_accuracy: 0.8731\n",
            "Epoch 83/100\n",
            "16/16 [==============================] - 0s 3ms/step - loss: 0.2948 - accuracy: 0.8761 - val_loss: 0.3375 - val_accuracy: 0.8804\n",
            "Epoch 84/100\n",
            "16/16 [==============================] - 0s 4ms/step - loss: 0.2902 - accuracy: 0.8747 - val_loss: 0.3611 - val_accuracy: 0.8624\n",
            "Epoch 85/100\n",
            "16/16 [==============================] - 0s 3ms/step - loss: 0.2941 - accuracy: 0.8785 - val_loss: 0.3180 - val_accuracy: 0.8883\n",
            "Epoch 86/100\n",
            "16/16 [==============================] - 0s 4ms/step - loss: 0.2919 - accuracy: 0.8776 - val_loss: 0.4188 - val_accuracy: 0.8355\n",
            "Epoch 87/100\n",
            "16/16 [==============================] - 0s 4ms/step - loss: 0.2898 - accuracy: 0.8794 - val_loss: 0.4847 - val_accuracy: 0.7816\n",
            "Epoch 88/100\n",
            "16/16 [==============================] - 0s 4ms/step - loss: 0.2798 - accuracy: 0.8804 - val_loss: 0.4060 - val_accuracy: 0.8355\n",
            "Epoch 89/100\n",
            "16/16 [==============================] - 0s 4ms/step - loss: 0.2882 - accuracy: 0.8809 - val_loss: 0.3517 - val_accuracy: 0.8681\n",
            "Epoch 90/100\n",
            "16/16 [==============================] - 0s 4ms/step - loss: 0.2696 - accuracy: 0.8877 - val_loss: 0.3055 - val_accuracy: 0.8950\n",
            "Epoch 91/100\n",
            "16/16 [==============================] - 0s 3ms/step - loss: 0.2866 - accuracy: 0.8794 - val_loss: 0.3158 - val_accuracy: 0.8995\n",
            "Epoch 92/100\n",
            "16/16 [==============================] - 0s 5ms/step - loss: 0.2730 - accuracy: 0.8865 - val_loss: 0.3419 - val_accuracy: 0.8787\n",
            "Epoch 93/100\n",
            "16/16 [==============================] - 0s 3ms/step - loss: 0.2768 - accuracy: 0.8839 - val_loss: 0.3613 - val_accuracy: 0.8692\n",
            "Epoch 94/100\n",
            "16/16 [==============================] - 0s 3ms/step - loss: 0.2721 - accuracy: 0.8873 - val_loss: 0.2963 - val_accuracy: 0.8984\n",
            "Epoch 95/100\n",
            "16/16 [==============================] - 0s 3ms/step - loss: 0.2533 - accuracy: 0.8960 - val_loss: 0.2845 - val_accuracy: 0.9264\n",
            "Epoch 96/100\n",
            "16/16 [==============================] - 0s 4ms/step - loss: 0.2765 - accuracy: 0.8828 - val_loss: 0.5807 - val_accuracy: 0.7490\n",
            "Epoch 97/100\n",
            "16/16 [==============================] - 0s 3ms/step - loss: 0.2642 - accuracy: 0.8917 - val_loss: 0.3865 - val_accuracy: 0.8591\n",
            "Epoch 98/100\n",
            "16/16 [==============================] - 0s 3ms/step - loss: 0.2477 - accuracy: 0.9008 - val_loss: 0.4222 - val_accuracy: 0.8349\n",
            "Epoch 99/100\n",
            "16/16 [==============================] - 0s 4ms/step - loss: 0.2690 - accuracy: 0.8906 - val_loss: 0.3766 - val_accuracy: 0.8664\n",
            "Epoch 100/100\n",
            "16/16 [==============================] - 0s 4ms/step - loss: 0.2699 - accuracy: 0.8888 - val_loss: 0.3596 - val_accuracy: 0.8697\n"
          ]
        }
      ]
    },
    {
      "cell_type": "markdown",
      "source": [
        "model.fit 이 학습을 시키키는건데.\n",
        "좋은네트워크가 무엇인지 알기위해 에코를 100으로 크게키워 봐야 알기쉽다.\n",
        "\n",
        "batch size 랜덤으로 512개만 뽑아서 그거로만 미분하여 찾는것."
      ],
      "metadata": {
        "id": "qlyHllvSrfDZ"
      }
    },
    {
      "cell_type": "code",
      "source": [
        "loss = history.history['loss']\n",
        "val_loss = history.history['val_loss']\n",
        "\n",
        "epochs = range(1, len(loss) + 1)\n",
        "\n",
        "plt.plot(epochs, loss, 'bo', label='Training loss')\n",
        "plt.plot(epochs, val_loss, 'b', label='Validation loss')\n",
        "plt.title('Training and validation loss')\n",
        "plt.xlabel('Epochs')\n",
        "plt.ylabel('Loss')\n",
        "plt.legend()\n",
        "\n",
        "plt.show()\n",
        "\n",
        "acc = history.history['accuracy']\n",
        "val_acc = history.history['val_accuracy']\n",
        "\n",
        "plt.plot(epochs, acc, 'bo', label='Training acc')\n",
        "plt.plot(epochs, val_acc, 'b', label='Validation acc')\n",
        "plt.title('Training and validation accuracy')\n",
        "plt.xlabel('Epochs')\n",
        "plt.ylabel('Accuracy')\n",
        "plt.legend()\n",
        "\n",
        "plt.show()"
      ],
      "metadata": {
        "colab": {
          "base_uri": "https://localhost:8080/",
          "height": 573
        },
        "id": "JurFr65GsFUM",
        "outputId": "6c56b6a5-1e5e-4abc-94d8-289ee51f0cd5"
      },
      "execution_count": null,
      "outputs": [
        {
          "output_type": "display_data",
          "data": {
            "text/plain": [
              "<Figure size 432x288 with 1 Axes>"
            ],
            "image/png": "[encoded data removed]"
          },
          "metadata": {
            "needs_background": "light"
          }
        },
        {
          "output_type": "display_data",
          "data": {
            "text/plain": [
              "<Figure size 432x288 with 1 Axes>"
            ],
            "image/png": "[encoded data removed]"
          },
          "metadata": {
            "needs_background": "light"
          }
        }
      ]
    },
    {
      "cell_type": "markdown",
      "source": [
        "첫번째 -> 학습을 할수록 loss 값은 떨어지나, validation 의 변동성이 매우 심함.->안정적 학습이 안됨. 못맞추는애들이 심하다는걸 의미함.\n",
        "\n",
        "두번째 -> 학습할수록 training accuracy 높아짐. 전반적으로 vali acc  역시 8개의 피처로 잡기 어렵다를 의미함. "
      ],
      "metadata": {
        "id": "FgFdGgkesag3"
      }
    },
    {
      "cell_type": "markdown",
      "source": [
        "#스멀러로 다시 모델학습\n",
        "히든노드 8개로 줄여본다."
      ],
      "metadata": {
        "id": "MAG4ptwptexT"
      }
    },
    {
      "cell_type": "code",
      "source": [
        "smaller = models.Sequential()\n",
        "smaller.add(Dense(8, input_dim = 84, activation='relu'))\n",
        "smaller.add(Dense(8, activation='relu'))\n",
        "smaller.add(Dense(1, activation='sigmoid'))\n",
        "\n",
        "smaller.compile(optimizer='rmsprop',\n",
        "                loss='binary_crossentropy',\n",
        "                metrics=['accuracy'])"
      ],
      "metadata": {
        "id": "X6Y284YJqB5G"
      },
      "execution_count": null,
      "outputs": []
    },
    {
      "cell_type": "code",
      "source": [
        "smaller_hist = smaller.fit(X_train_over,y_train_over,epochs=100,batch_size=512,validation_data=(X_test, y_test))\n"
      ],
      "metadata": {
        "colab": {
          "base_uri": "https://localhost:8080/"
        },
        "id": "moSDTIK6qCIw",
        "outputId": "8fbabc32-2b70-43e1-fdea-f0dec2e4c62f"
      },
      "execution_count": null,
      "outputs": [
        {
          "output_type": "stream",
          "name": "stdout",
          "text": [
            "Epoch 1/100\n",
            "16/16 [==============================] - 1s 21ms/step - loss: 0.9614 - accuracy: 0.5229 - val_loss: 0.8702 - val_accuracy: 0.5783\n",
            "Epoch 2/100\n",
            "16/16 [==============================] - 0s 21ms/step - loss: 0.7687 - accuracy: 0.5204 - val_loss: 0.7955 - val_accuracy: 0.5255\n",
            "Epoch 3/100\n",
            "16/16 [==============================] - 0s 7ms/step - loss: 0.7153 - accuracy: 0.5470 - val_loss: 0.7420 - val_accuracy: 0.4997\n",
            "Epoch 4/100\n",
            "16/16 [==============================] - 0s 5ms/step - loss: 0.6808 - accuracy: 0.5722 - val_loss: 0.6558 - val_accuracy: 0.5862\n",
            "Epoch 5/100\n",
            "16/16 [==============================] - 0s 5ms/step - loss: 0.6601 - accuracy: 0.5913 - val_loss: 0.6426 - val_accuracy: 0.6182\n",
            "Epoch 6/100\n",
            "16/16 [==============================] - 0s 6ms/step - loss: 0.6499 - accuracy: 0.6056 - val_loss: 0.6533 - val_accuracy: 0.6238\n",
            "Epoch 7/100\n",
            "16/16 [==============================] - 0s 7ms/step - loss: 0.6433 - accuracy: 0.6136 - val_loss: 0.6512 - val_accuracy: 0.6002\n",
            "Epoch 8/100\n",
            "16/16 [==============================] - 0s 10ms/step - loss: 0.6363 - accuracy: 0.6223 - val_loss: 0.6645 - val_accuracy: 0.6086\n",
            "Epoch 9/100\n",
            "16/16 [==============================] - 0s 6ms/step - loss: 0.6297 - accuracy: 0.6288 - val_loss: 0.5817 - val_accuracy: 0.6962\n",
            "Epoch 10/100\n",
            "16/16 [==============================] - 0s 6ms/step - loss: 0.6252 - accuracy: 0.6345 - val_loss: 0.7112 - val_accuracy: 0.5261\n",
            "Epoch 11/100\n",
            "16/16 [==============================] - 0s 5ms/step - loss: 0.6202 - accuracy: 0.6443 - val_loss: 0.5818 - val_accuracy: 0.7075\n",
            "Epoch 12/100\n",
            "16/16 [==============================] - 0s 10ms/step - loss: 0.6122 - accuracy: 0.6513 - val_loss: 0.6272 - val_accuracy: 0.6777\n",
            "Epoch 13/100\n",
            "16/16 [==============================] - 0s 8ms/step - loss: 0.6083 - accuracy: 0.6516 - val_loss: 0.6482 - val_accuracy: 0.6047\n",
            "Epoch 14/100\n",
            "16/16 [==============================] - 0s 8ms/step - loss: 0.6013 - accuracy: 0.6563 - val_loss: 0.6254 - val_accuracy: 0.6631\n",
            "Epoch 15/100\n",
            "16/16 [==============================] - 0s 7ms/step - loss: 0.5925 - accuracy: 0.6691 - val_loss: 0.5120 - val_accuracy: 0.8063\n",
            "Epoch 16/100\n",
            "16/16 [==============================] - 0s 5ms/step - loss: 0.5857 - accuracy: 0.6755 - val_loss: 0.5006 - val_accuracy: 0.8130\n",
            "Epoch 17/100\n",
            "16/16 [==============================] - 0s 14ms/step - loss: 0.5824 - accuracy: 0.6775 - val_loss: 0.5001 - val_accuracy: 0.8214\n",
            "Epoch 18/100\n",
            "16/16 [==============================] - 0s 10ms/step - loss: 0.5730 - accuracy: 0.6870 - val_loss: 0.4647 - val_accuracy: 0.8484\n",
            "Epoch 19/100\n",
            "16/16 [==============================] - 0s 13ms/step - loss: 0.5689 - accuracy: 0.6879 - val_loss: 0.5929 - val_accuracy: 0.7395\n",
            "Epoch 20/100\n",
            "16/16 [==============================] - 0s 4ms/step - loss: 0.5629 - accuracy: 0.6947 - val_loss: 0.6024 - val_accuracy: 0.7310\n",
            "Epoch 21/100\n",
            "16/16 [==============================] - 0s 7ms/step - loss: 0.5599 - accuracy: 0.6978 - val_loss: 0.5630 - val_accuracy: 0.7743\n",
            "Epoch 22/100\n",
            "16/16 [==============================] - 0s 11ms/step - loss: 0.5514 - accuracy: 0.7033 - val_loss: 0.6216 - val_accuracy: 0.7030\n",
            "Epoch 23/100\n",
            "16/16 [==============================] - 0s 8ms/step - loss: 0.5483 - accuracy: 0.7076 - val_loss: 0.4896 - val_accuracy: 0.8226\n",
            "Epoch 24/100\n",
            "16/16 [==============================] - 0s 9ms/step - loss: 0.5457 - accuracy: 0.7086 - val_loss: 0.4722 - val_accuracy: 0.8405\n",
            "Epoch 25/100\n",
            "16/16 [==============================] - 0s 6ms/step - loss: 0.5383 - accuracy: 0.7119 - val_loss: 0.4561 - val_accuracy: 0.8428\n",
            "Epoch 26/100\n",
            "16/16 [==============================] - 0s 4ms/step - loss: 0.5361 - accuracy: 0.7143 - val_loss: 0.6262 - val_accuracy: 0.6923\n",
            "Epoch 27/100\n",
            "16/16 [==============================] - 0s 6ms/step - loss: 0.5297 - accuracy: 0.7213 - val_loss: 0.4394 - val_accuracy: 0.8563\n",
            "Epoch 28/100\n",
            "16/16 [==============================] - 0s 5ms/step - loss: 0.5270 - accuracy: 0.7118 - val_loss: 0.5685 - val_accuracy: 0.7642\n",
            "Epoch 29/100\n",
            "16/16 [==============================] - 0s 4ms/step - loss: 0.5209 - accuracy: 0.7229 - val_loss: 0.4638 - val_accuracy: 0.8304\n",
            "Epoch 30/100\n",
            "16/16 [==============================] - 0s 9ms/step - loss: 0.5189 - accuracy: 0.7250 - val_loss: 0.5437 - val_accuracy: 0.7844\n",
            "Epoch 31/100\n",
            "16/16 [==============================] - 0s 5ms/step - loss: 0.5167 - accuracy: 0.7248 - val_loss: 0.5932 - val_accuracy: 0.7322\n",
            "Epoch 32/100\n",
            "16/16 [==============================] - 0s 8ms/step - loss: 0.5104 - accuracy: 0.7338 - val_loss: 0.4465 - val_accuracy: 0.8417\n",
            "Epoch 33/100\n",
            "16/16 [==============================] - 0s 14ms/step - loss: 0.5113 - accuracy: 0.7261 - val_loss: 0.6144 - val_accuracy: 0.7238\n",
            "Epoch 34/100\n",
            "16/16 [==============================] - 0s 5ms/step - loss: 0.5065 - accuracy: 0.7337 - val_loss: 0.5500 - val_accuracy: 0.7827\n",
            "Epoch 35/100\n",
            "16/16 [==============================] - 0s 7ms/step - loss: 0.5029 - accuracy: 0.7385 - val_loss: 0.5202 - val_accuracy: 0.7580\n",
            "Epoch 36/100\n",
            "16/16 [==============================] - 0s 5ms/step - loss: 0.5012 - accuracy: 0.7355 - val_loss: 0.5389 - val_accuracy: 0.7821\n",
            "Epoch 37/100\n",
            "16/16 [==============================] - 0s 6ms/step - loss: 0.4982 - accuracy: 0.7336 - val_loss: 0.4338 - val_accuracy: 0.8428\n",
            "Epoch 38/100\n",
            "16/16 [==============================] - 0s 8ms/step - loss: 0.4938 - accuracy: 0.7390 - val_loss: 0.5739 - val_accuracy: 0.7552\n",
            "Epoch 39/100\n",
            "16/16 [==============================] - 0s 12ms/step - loss: 0.4965 - accuracy: 0.7382 - val_loss: 0.5692 - val_accuracy: 0.7614\n",
            "Epoch 40/100\n",
            "16/16 [==============================] - 0s 8ms/step - loss: 0.4903 - accuracy: 0.7468 - val_loss: 0.5642 - val_accuracy: 0.7647\n",
            "Epoch 41/100\n",
            "16/16 [==============================] - 0s 5ms/step - loss: 0.4881 - accuracy: 0.7458 - val_loss: 0.5012 - val_accuracy: 0.8074\n",
            "Epoch 42/100\n",
            "16/16 [==============================] - 0s 5ms/step - loss: 0.4870 - accuracy: 0.7450 - val_loss: 0.4227 - val_accuracy: 0.8518\n",
            "Epoch 43/100\n",
            "16/16 [==============================] - 0s 7ms/step - loss: 0.4857 - accuracy: 0.7454 - val_loss: 0.5927 - val_accuracy: 0.7434\n",
            "Epoch 44/100\n",
            "16/16 [==============================] - 0s 5ms/step - loss: 0.4821 - accuracy: 0.7539 - val_loss: 0.5457 - val_accuracy: 0.7777\n",
            "Epoch 45/100\n",
            "16/16 [==============================] - 0s 5ms/step - loss: 0.4785 - accuracy: 0.7513 - val_loss: 0.4924 - val_accuracy: 0.8198\n",
            "Epoch 46/100\n",
            "16/16 [==============================] - 0s 5ms/step - loss: 0.4789 - accuracy: 0.7505 - val_loss: 0.4181 - val_accuracy: 0.8529\n",
            "Epoch 47/100\n",
            "16/16 [==============================] - 0s 8ms/step - loss: 0.4758 - accuracy: 0.7539 - val_loss: 0.4773 - val_accuracy: 0.8259\n",
            "Epoch 48/100\n",
            "16/16 [==============================] - 0s 10ms/step - loss: 0.4759 - accuracy: 0.7520 - val_loss: 0.5318 - val_accuracy: 0.7810\n",
            "Epoch 49/100\n",
            "16/16 [==============================] - 0s 9ms/step - loss: 0.4716 - accuracy: 0.7583 - val_loss: 0.4935 - val_accuracy: 0.8069\n",
            "Epoch 50/100\n",
            "16/16 [==============================] - 0s 19ms/step - loss: 0.4707 - accuracy: 0.7570 - val_loss: 0.5111 - val_accuracy: 0.7900\n",
            "Epoch 51/100\n",
            "16/16 [==============================] - 0s 7ms/step - loss: 0.4684 - accuracy: 0.7574 - val_loss: 0.5219 - val_accuracy: 0.7973\n",
            "Epoch 52/100\n",
            "16/16 [==============================] - 0s 5ms/step - loss: 0.4653 - accuracy: 0.7611 - val_loss: 0.5381 - val_accuracy: 0.7799\n",
            "Epoch 53/100\n",
            "16/16 [==============================] - 0s 8ms/step - loss: 0.4645 - accuracy: 0.7643 - val_loss: 0.5053 - val_accuracy: 0.8063\n",
            "Epoch 54/100\n",
            "16/16 [==============================] - 0s 4ms/step - loss: 0.4629 - accuracy: 0.7646 - val_loss: 0.4644 - val_accuracy: 0.8271\n",
            "Epoch 55/100\n",
            "16/16 [==============================] - 0s 4ms/step - loss: 0.4596 - accuracy: 0.7655 - val_loss: 0.4648 - val_accuracy: 0.8310\n",
            "Epoch 56/100\n",
            "16/16 [==============================] - 0s 8ms/step - loss: 0.4609 - accuracy: 0.7644 - val_loss: 0.4290 - val_accuracy: 0.8535\n",
            "Epoch 57/100\n",
            "16/16 [==============================] - 0s 6ms/step - loss: 0.4555 - accuracy: 0.7681 - val_loss: 0.5349 - val_accuracy: 0.7423\n",
            "Epoch 58/100\n",
            "16/16 [==============================] - 0s 8ms/step - loss: 0.4572 - accuracy: 0.7666 - val_loss: 0.4826 - val_accuracy: 0.6513\n",
            "Epoch 59/100\n",
            "16/16 [==============================] - 0s 5ms/step - loss: 0.4557 - accuracy: 0.7667 - val_loss: 0.5651 - val_accuracy: 0.6575\n",
            "Epoch 60/100\n",
            "16/16 [==============================] - 0s 11ms/step - loss: 0.4487 - accuracy: 0.7681 - val_loss: 0.5008 - val_accuracy: 0.8164\n",
            "Epoch 61/100\n",
            "16/16 [==============================] - 0s 8ms/step - loss: 0.4530 - accuracy: 0.7688 - val_loss: 0.5496 - val_accuracy: 0.7681\n",
            "Epoch 62/100\n",
            "16/16 [==============================] - 0s 7ms/step - loss: 0.4470 - accuracy: 0.7697 - val_loss: 0.6198 - val_accuracy: 0.7187\n",
            "Epoch 63/100\n",
            "16/16 [==============================] - 0s 4ms/step - loss: 0.4510 - accuracy: 0.7659 - val_loss: 0.5799 - val_accuracy: 0.7586\n",
            "Epoch 64/100\n",
            "16/16 [==============================] - 0s 5ms/step - loss: 0.4522 - accuracy: 0.7664 - val_loss: 0.4710 - val_accuracy: 0.8271\n",
            "Epoch 65/100\n",
            "16/16 [==============================] - 0s 8ms/step - loss: 0.4425 - accuracy: 0.7731 - val_loss: 0.4243 - val_accuracy: 0.8490\n",
            "Epoch 66/100\n",
            "16/16 [==============================] - 0s 5ms/step - loss: 0.4464 - accuracy: 0.7678 - val_loss: 0.4325 - val_accuracy: 0.8484\n",
            "Epoch 67/100\n",
            "16/16 [==============================] - 0s 5ms/step - loss: 0.4450 - accuracy: 0.7718 - val_loss: 0.5195 - val_accuracy: 0.7951\n",
            "Epoch 68/100\n",
            "16/16 [==============================] - 0s 4ms/step - loss: 0.4408 - accuracy: 0.7745 - val_loss: 0.4790 - val_accuracy: 0.7428\n",
            "Epoch 69/100\n",
            "16/16 [==============================] - 0s 4ms/step - loss: 0.4452 - accuracy: 0.7705 - val_loss: 0.5822 - val_accuracy: 0.7238\n",
            "Epoch 70/100\n",
            "16/16 [==============================] - 0s 6ms/step - loss: 0.4416 - accuracy: 0.7713 - val_loss: 0.4979 - val_accuracy: 0.8136\n",
            "Epoch 71/100\n",
            "16/16 [==============================] - 0s 9ms/step - loss: 0.4330 - accuracy: 0.7751 - val_loss: 0.4410 - val_accuracy: 0.8366\n",
            "Epoch 72/100\n",
            "16/16 [==============================] - 0s 5ms/step - loss: 0.4431 - accuracy: 0.7718 - val_loss: 0.4467 - val_accuracy: 0.8366\n",
            "Epoch 73/100\n",
            "16/16 [==============================] - 0s 5ms/step - loss: 0.4352 - accuracy: 0.7797 - val_loss: 0.4159 - val_accuracy: 0.8473\n",
            "Epoch 74/100\n",
            "16/16 [==============================] - 0s 5ms/step - loss: 0.4383 - accuracy: 0.7766 - val_loss: 0.4123 - val_accuracy: 0.8563\n",
            "Epoch 75/100\n",
            "16/16 [==============================] - 0s 6ms/step - loss: 0.4373 - accuracy: 0.7789 - val_loss: 0.5377 - val_accuracy: 0.7883\n",
            "Epoch 76/100\n",
            "16/16 [==============================] - 0s 5ms/step - loss: 0.4299 - accuracy: 0.7776 - val_loss: 0.5632 - val_accuracy: 0.7704\n",
            "Epoch 77/100\n",
            "16/16 [==============================] - 0s 7ms/step - loss: 0.4319 - accuracy: 0.7802 - val_loss: 0.4090 - val_accuracy: 0.8630\n",
            "Epoch 78/100\n",
            "16/16 [==============================] - 0s 8ms/step - loss: 0.4303 - accuracy: 0.7790 - val_loss: 0.4497 - val_accuracy: 0.8405\n",
            "Epoch 79/100\n",
            "16/16 [==============================] - 0s 5ms/step - loss: 0.4312 - accuracy: 0.7795 - val_loss: 0.4758 - val_accuracy: 0.8209\n",
            "Epoch 80/100\n",
            "16/16 [==============================] - 0s 9ms/step - loss: 0.4269 - accuracy: 0.7821 - val_loss: 0.6049 - val_accuracy: 0.7496\n",
            "Epoch 81/100\n",
            "16/16 [==============================] - 0s 8ms/step - loss: 0.4265 - accuracy: 0.7834 - val_loss: 0.6802 - val_accuracy: 0.6951\n",
            "Epoch 82/100\n",
            "16/16 [==============================] - 0s 5ms/step - loss: 0.4262 - accuracy: 0.7804 - val_loss: 0.5270 - val_accuracy: 0.7956\n",
            "Epoch 83/100\n",
            "16/16 [==============================] - 0s 4ms/step - loss: 0.4255 - accuracy: 0.7801 - val_loss: 0.4377 - val_accuracy: 0.8389\n",
            "Epoch 84/100\n",
            "16/16 [==============================] - 0s 6ms/step - loss: 0.4233 - accuracy: 0.7779 - val_loss: 0.5444 - val_accuracy: 0.7844\n",
            "Epoch 85/100\n",
            "16/16 [==============================] - 0s 8ms/step - loss: 0.4249 - accuracy: 0.7827 - val_loss: 0.4834 - val_accuracy: 0.8175\n",
            "Epoch 86/100\n",
            "16/16 [==============================] - 0s 4ms/step - loss: 0.4250 - accuracy: 0.7827 - val_loss: 0.4552 - val_accuracy: 0.8321\n",
            "Epoch 87/100\n",
            "16/16 [==============================] - 0s 8ms/step - loss: 0.4219 - accuracy: 0.7848 - val_loss: 0.5278 - val_accuracy: 0.7923\n",
            "Epoch 88/100\n",
            "16/16 [==============================] - 0s 8ms/step - loss: 0.4211 - accuracy: 0.7809 - val_loss: 0.4732 - val_accuracy: 0.8226\n",
            "Epoch 89/100\n",
            "16/16 [==============================] - 0s 11ms/step - loss: 0.4146 - accuracy: 0.7862 - val_loss: 0.5326 - val_accuracy: 0.7889\n",
            "Epoch 90/100\n",
            "16/16 [==============================] - 0s 5ms/step - loss: 0.4210 - accuracy: 0.7823 - val_loss: 0.4530 - val_accuracy: 0.8287\n",
            "Epoch 91/100\n",
            "16/16 [==============================] - 0s 8ms/step - loss: 0.4147 - accuracy: 0.7882 - val_loss: 0.4132 - val_accuracy: 0.8624\n",
            "Epoch 92/100\n",
            "16/16 [==============================] - 0s 4ms/step - loss: 0.4158 - accuracy: 0.7868 - val_loss: 0.4742 - val_accuracy: 0.7058\n",
            "Epoch 93/100\n",
            "16/16 [==============================] - 0s 6ms/step - loss: 0.4162 - accuracy: 0.7871 - val_loss: 0.4979 - val_accuracy: 0.8125\n",
            "Epoch 94/100\n",
            "16/16 [==============================] - 0s 5ms/step - loss: 0.4074 - accuracy: 0.7915 - val_loss: 0.4320 - val_accuracy: 0.8394\n",
            "Epoch 95/100\n",
            "16/16 [==============================] - 0s 5ms/step - loss: 0.4176 - accuracy: 0.7881 - val_loss: 0.4760 - val_accuracy: 0.8209\n",
            "Epoch 96/100\n",
            "16/16 [==============================] - 0s 7ms/step - loss: 0.4143 - accuracy: 0.7876 - val_loss: 0.5306 - val_accuracy: 0.6143\n",
            "Epoch 97/100\n",
            "16/16 [==============================] - 0s 8ms/step - loss: 0.4097 - accuracy: 0.7867 - val_loss: 0.4614 - val_accuracy: 0.8338\n",
            "Epoch 98/100\n",
            "16/16 [==============================] - 0s 7ms/step - loss: 0.4098 - accuracy: 0.7872 - val_loss: 0.5257 - val_accuracy: 0.7928\n",
            "Epoch 99/100\n",
            "16/16 [==============================] - 0s 6ms/step - loss: 0.4065 - accuracy: 0.7906 - val_loss: 0.5271 - val_accuracy: 0.8001\n",
            "Epoch 100/100\n",
            "16/16 [==============================] - 0s 7ms/step - loss: 0.4035 - accuracy: 0.7969 - val_loss: 0.4141 - val_accuracy: 0.8624\n"
          ]
        }
      ]
    },
    {
      "cell_type": "code",
      "source": [
        "loss = smaller_hist.history['loss']\n",
        "val_loss = smaller_hist.history['val_loss']\n",
        "\n",
        "epochs = range(1, len(loss) + 1)\n",
        "\n",
        "plt.plot(epochs, loss, 'bo', label='Training loss')\n",
        "plt.plot(epochs, val_loss, 'b', label='Validation loss')\n",
        "plt.title('Training and validation loss')\n",
        "plt.xlabel('Epochs')\n",
        "plt.ylabel('Loss')\n",
        "plt.legend()\n",
        "\n",
        "plt.show()\n",
        "\n",
        "acc = smaller_hist.history['accuracy']\n",
        "val_acc = smaller_hist.history['val_accuracy']\n",
        "\n",
        "plt.plot(epochs, acc, 'bo', label='Training acc')\n",
        "plt.plot(epochs, val_acc, 'b', label='Validation acc')\n",
        "plt.title('Training and validation accuracy')\n",
        "plt.xlabel('Epochs')\n",
        "plt.ylabel('Accuracy')\n",
        "plt.legend()\n",
        "\n",
        "plt.show()"
      ],
      "metadata": {
        "colab": {
          "base_uri": "https://localhost:8080/",
          "height": 573
        },
        "id": "NZ7RexfRqCdF",
        "outputId": "e8f5ad3c-a064-49fe-f9f8-28539ba26fd2"
      },
      "execution_count": null,
      "outputs": [
        {
          "output_type": "display_data",
          "data": {
            "text/plain": [
              "<Figure size 432x288 with 1 Axes>"
            ],
            "image/png": "[encoded data removed]"
          },
          "metadata": {
            "needs_background": "light"
          }
        },
        {
          "output_type": "display_data",
          "data": {
            "text/plain": [
              "<Figure size 432x288 with 1 Axes>"
            ],
            "image/png": "[encoded data removed]"
          },
          "metadata": {
            "needs_background": "light"
          }
        }
      ]
    },
    {
      "cell_type": "markdown",
      "source": [
        "아까는 training 근처에서 변동성이 심했음"
      ],
      "metadata": {
        "id": "GAKVKpftGlXW"
      }
    },
    {
      "cell_type": "code",
      "source": [
        "#32개노드와 8개노드 각 모델 비교해보기 : 에폭값이 같아야 같이 찍어짐\n",
        "hist_dict = history.history\n",
        "smaller_dict = smaller_hist.history\n",
        "\n",
        "val_acc = hist_dict['val_accuracy']\n",
        "val_loss = hist_dict['val_loss']\n",
        "smaller_val_acc = smaller_dict['val_accuracy']\n",
        "smaller_val_loss = smaller_dict['val_loss']\n",
        "\n",
        "epochs = range(1, len(val_acc)+1)\n",
        "\n",
        "# ‘b’는 파란색 실선, 'r'은 빨간색 실선을 의미합니다\n",
        "plt.plot(epochs, smaller_val_acc, 'b', label='Smaller model')\n",
        "plt.plot(epochs, val_acc, 'r', label='Original model')\n",
        "plt.xlabel('Epochs')\n",
        "plt.ylabel('Accuracy')\n",
        "plt.legend()\n",
        "plt.show()\n",
        "\n",
        "# ‘b’는 파란색 실선, 'r'은 빨간색 실선을 의미합니다\n",
        "plt.plot(epochs, smaller_val_loss, 'b', label='Smaller model')\n",
        "plt.plot(epochs, val_loss, 'r', label='Original model')\n",
        "plt.xlabel('Epochs')\n",
        "plt.ylabel('Loss')\n",
        "plt.legend()\n",
        "plt.show()"
      ],
      "metadata": {
        "colab": {
          "base_uri": "https://localhost:8080/",
          "height": 541
        },
        "id": "QpXf79Plt8DO",
        "outputId": "9ad4c6c0-3f39-4fa2-b749-65026c020777"
      },
      "execution_count": null,
      "outputs": [
        {
          "output_type": "display_data",
          "data": {
            "text/plain": [
              "<Figure size 432x288 with 1 Axes>"
            ],
            "image/png": "[encoded data removed]"
          },
          "metadata": {
            "needs_background": "light"
          }
        },
        {
          "output_type": "display_data",
          "data": {
            "text/plain": [
              "<Figure size 432x288 with 1 Axes>"
            ],
            "image/png": "[encoded data removed]"
          },
          "metadata": {
            "needs_background": "light"
          }
        }
      ]
    },
    {
      "cell_type": "code",
      "source": [],
      "metadata": {
        "id": "cFeGujMBS70x"
      },
      "execution_count": null,
      "outputs": []
    },
    {
      "cell_type": "markdown",
      "source": [
        "1. acc 보면 파란색이 미세하게 낮은걸 볼수있음 -> 학습을 덜 하고있다.\n",
        "\n",
        "2. loss 빨간색의 손실값이 낮은걸 알수있음 -> 용량이 클 수록 잘한다\n",
        "\n",
        "=> 노드수 키워서 해볼까?"
      ],
      "metadata": {
        "id": "cGIcZOAfuXNM"
      }
    },
    {
      "cell_type": "markdown",
      "source": [
        "##노드수 키운 모델"
      ],
      "metadata": {
        "id": "2BQXeEF1S14X"
      }
    },
    {
      "cell_type": "code",
      "source": [
        "bigger = models.Sequential()\n",
        "bigger.add(Dense(128, input_dim = 84, activation='relu'))\n",
        "bigger.add(Dense(128, activation='relu'))\n",
        "bigger.add(Dense(1, activation='sigmoid'))\n",
        "\n",
        "bigger.compile(optimizer='rmsprop',\n",
        "                loss='binary_crossentropy',\n",
        "                metrics=['accuracy'])"
      ],
      "metadata": {
        "id": "HZpP1h0ruUv4"
      },
      "execution_count": null,
      "outputs": []
    },
    {
      "cell_type": "code",
      "source": [
        "bigger_hist = bigger.fit(X_train_over,y_train_over,epochs=100,batch_size=512,validation_data=(X_test, y_test))"
      ],
      "metadata": {
        "id": "OgPZtQXqueEg",
        "colab": {
          "base_uri": "https://localhost:8080/"
        },
        "outputId": "66fbc5fa-73f7-445f-f682-660c18e1e2de"
      },
      "execution_count": null,
      "outputs": [
        {
          "output_type": "stream",
          "name": "stdout",
          "text": [
            "Epoch 1/100\n",
            "16/16 [==============================] - 1s 11ms/step - loss: 1.2326 - accuracy: 0.5427 - val_loss: 1.0005 - val_accuracy: 0.3038\n",
            "Epoch 2/100\n",
            "16/16 [==============================] - 0s 5ms/step - loss: 0.7584 - accuracy: 0.5858 - val_loss: 0.9139 - val_accuracy: 0.3268\n",
            "Epoch 3/100\n",
            "16/16 [==============================] - 0s 6ms/step - loss: 0.7057 - accuracy: 0.6005 - val_loss: 1.0838 - val_accuracy: 0.2291\n",
            "Epoch 4/100\n",
            "16/16 [==============================] - 0s 7ms/step - loss: 0.6631 - accuracy: 0.6244 - val_loss: 0.9851 - val_accuracy: 0.2880\n",
            "Epoch 5/100\n",
            "16/16 [==============================] - 0s 6ms/step - loss: 0.6483 - accuracy: 0.6332 - val_loss: 1.1330 - val_accuracy: 0.2201\n",
            "Epoch 6/100\n",
            "16/16 [==============================] - 0s 6ms/step - loss: 0.6136 - accuracy: 0.6592 - val_loss: 1.0585 - val_accuracy: 0.2942\n",
            "Epoch 7/100\n",
            "16/16 [==============================] - 0s 7ms/step - loss: 0.6350 - accuracy: 0.6421 - val_loss: 0.7760 - val_accuracy: 0.4947\n",
            "Epoch 8/100\n",
            "16/16 [==============================] - 0s 6ms/step - loss: 0.5473 - accuracy: 0.7122 - val_loss: 0.7352 - val_accuracy: 0.5778\n",
            "Epoch 9/100\n",
            "16/16 [==============================] - 0s 6ms/step - loss: 0.5689 - accuracy: 0.7070 - val_loss: 0.3229 - val_accuracy: 0.9147\n",
            "Epoch 10/100\n",
            "16/16 [==============================] - 0s 8ms/step - loss: 0.5618 - accuracy: 0.7087 - val_loss: 0.4003 - val_accuracy: 0.8669\n",
            "Epoch 11/100\n",
            "16/16 [==============================] - 0s 6ms/step - loss: 0.5143 - accuracy: 0.7331 - val_loss: 0.3067 - val_accuracy: 0.9208\n",
            "Epoch 12/100\n",
            "16/16 [==============================] - 0s 7ms/step - loss: 0.5057 - accuracy: 0.7370 - val_loss: 0.4499 - val_accuracy: 0.8349\n",
            "Epoch 13/100\n",
            "16/16 [==============================] - 0s 5ms/step - loss: 0.4714 - accuracy: 0.7695 - val_loss: 1.0276 - val_accuracy: 0.3863\n",
            "Epoch 14/100\n",
            "16/16 [==============================] - 0s 6ms/step - loss: 0.5043 - accuracy: 0.7604 - val_loss: 0.3992 - val_accuracy: 0.8652\n",
            "Epoch 15/100\n",
            "16/16 [==============================] - 0s 6ms/step - loss: 0.4530 - accuracy: 0.7769 - val_loss: 0.2552 - val_accuracy: 0.9309\n",
            "Epoch 16/100\n",
            "16/16 [==============================] - 0s 4ms/step - loss: 0.4662 - accuracy: 0.7667 - val_loss: 0.3288 - val_accuracy: 0.8978\n",
            "Epoch 17/100\n",
            "16/16 [==============================] - 0s 5ms/step - loss: 0.4454 - accuracy: 0.7765 - val_loss: 0.2534 - val_accuracy: 0.9287\n",
            "Epoch 18/100\n",
            "16/16 [==============================] - 0s 4ms/step - loss: 0.4232 - accuracy: 0.7938 - val_loss: 0.2765 - val_accuracy: 0.9264\n",
            "Epoch 19/100\n",
            "16/16 [==============================] - 0s 6ms/step - loss: 0.4143 - accuracy: 0.8012 - val_loss: 0.7281 - val_accuracy: 0.6070\n",
            "Epoch 20/100\n",
            "16/16 [==============================] - 0s 4ms/step - loss: 0.3953 - accuracy: 0.8141 - val_loss: 0.8311 - val_accuracy: 0.5671\n",
            "Epoch 21/100\n",
            "16/16 [==============================] - 0s 5ms/step - loss: 0.3935 - accuracy: 0.8223 - val_loss: 0.4922 - val_accuracy: 0.7956\n",
            "Epoch 22/100\n",
            "16/16 [==============================] - 0s 4ms/step - loss: 0.3700 - accuracy: 0.8324 - val_loss: 0.8109 - val_accuracy: 0.5794\n",
            "Epoch 23/100\n",
            "16/16 [==============================] - 0s 5ms/step - loss: 0.3629 - accuracy: 0.8311 - val_loss: 0.7117 - val_accuracy: 0.6317\n",
            "Epoch 24/100\n",
            "16/16 [==============================] - 0s 7ms/step - loss: 0.3490 - accuracy: 0.8439 - val_loss: 0.3658 - val_accuracy: 0.8754\n",
            "Epoch 25/100\n",
            "16/16 [==============================] - 0s 8ms/step - loss: 0.3537 - accuracy: 0.8428 - val_loss: 0.2622 - val_accuracy: 0.9332\n",
            "Epoch 26/100\n",
            "16/16 [==============================] - 0s 6ms/step - loss: 0.3166 - accuracy: 0.8674 - val_loss: 0.2848 - val_accuracy: 0.9220\n",
            "Epoch 27/100\n",
            "16/16 [==============================] - 0s 6ms/step - loss: 0.3274 - accuracy: 0.8608 - val_loss: 0.6361 - val_accuracy: 0.6996\n",
            "Epoch 28/100\n",
            "16/16 [==============================] - 0s 6ms/step - loss: 0.3116 - accuracy: 0.8653 - val_loss: 0.5055 - val_accuracy: 0.7737\n",
            "Epoch 29/100\n",
            "16/16 [==============================] - 0s 6ms/step - loss: 0.2913 - accuracy: 0.8763 - val_loss: 0.4543 - val_accuracy: 0.8192\n",
            "Epoch 30/100\n",
            "16/16 [==============================] - 0s 8ms/step - loss: 0.3211 - accuracy: 0.8605 - val_loss: 0.6197 - val_accuracy: 0.7215\n",
            "Epoch 31/100\n",
            "16/16 [==============================] - 0s 7ms/step - loss: 0.2783 - accuracy: 0.8878 - val_loss: 0.5462 - val_accuracy: 0.7507\n",
            "Epoch 32/100\n",
            "16/16 [==============================] - 0s 7ms/step - loss: 0.2780 - accuracy: 0.8854 - val_loss: 0.3398 - val_accuracy: 0.8905\n",
            "Epoch 33/100\n",
            "16/16 [==============================] - 0s 6ms/step - loss: 0.2628 - accuracy: 0.8954 - val_loss: 0.3165 - val_accuracy: 0.8989\n",
            "Epoch 34/100\n",
            "16/16 [==============================] - 0s 4ms/step - loss: 0.2714 - accuracy: 0.8864 - val_loss: 0.3728 - val_accuracy: 0.8810\n",
            "Epoch 35/100\n",
            "16/16 [==============================] - 0s 4ms/step - loss: 0.2538 - accuracy: 0.9000 - val_loss: 0.3191 - val_accuracy: 0.9034\n",
            "Epoch 36/100\n",
            "16/16 [==============================] - 0s 5ms/step - loss: 0.2355 - accuracy: 0.9072 - val_loss: 0.3752 - val_accuracy: 0.8619\n",
            "Epoch 37/100\n",
            "16/16 [==============================] - 0s 4ms/step - loss: 0.2376 - accuracy: 0.9072 - val_loss: 0.6298 - val_accuracy: 0.7204\n",
            "Epoch 38/100\n",
            "16/16 [==============================] - 0s 4ms/step - loss: 0.2504 - accuracy: 0.9021 - val_loss: 0.5396 - val_accuracy: 0.7743\n",
            "Epoch 39/100\n",
            "16/16 [==============================] - 0s 4ms/step - loss: 0.2171 - accuracy: 0.9171 - val_loss: 0.4206 - val_accuracy: 0.8366\n",
            "Epoch 40/100\n",
            "16/16 [==============================] - 0s 4ms/step - loss: 0.2197 - accuracy: 0.9128 - val_loss: 0.3192 - val_accuracy: 0.9124\n",
            "Epoch 41/100\n",
            "16/16 [==============================] - 0s 4ms/step - loss: 0.1936 - accuracy: 0.9288 - val_loss: 0.3168 - val_accuracy: 0.9399\n",
            "Epoch 42/100\n",
            "16/16 [==============================] - 0s 4ms/step - loss: 0.2156 - accuracy: 0.9170 - val_loss: 0.3543 - val_accuracy: 0.9090\n",
            "Epoch 43/100\n",
            "16/16 [==============================] - 0s 6ms/step - loss: 0.2142 - accuracy: 0.9151 - val_loss: 0.3808 - val_accuracy: 0.8658\n",
            "Epoch 44/100\n",
            "16/16 [==============================] - 0s 6ms/step - loss: 0.1847 - accuracy: 0.9308 - val_loss: 0.3876 - val_accuracy: 0.8714\n",
            "Epoch 45/100\n",
            "16/16 [==============================] - 0s 6ms/step - loss: 0.1855 - accuracy: 0.9314 - val_loss: 0.4983 - val_accuracy: 0.8040\n",
            "Epoch 46/100\n",
            "16/16 [==============================] - 0s 5ms/step - loss: 0.1770 - accuracy: 0.9372 - val_loss: 0.3361 - val_accuracy: 0.9394\n",
            "Epoch 47/100\n",
            "16/16 [==============================] - 0s 4ms/step - loss: 0.1653 - accuracy: 0.9401 - val_loss: 0.9494 - val_accuracy: 0.6008\n",
            "Epoch 48/100\n",
            "16/16 [==============================] - 0s 4ms/step - loss: 0.1856 - accuracy: 0.9296 - val_loss: 0.6118 - val_accuracy: 0.7636\n",
            "Epoch 49/100\n",
            "16/16 [==============================] - 0s 4ms/step - loss: 0.1855 - accuracy: 0.9349 - val_loss: 0.3500 - val_accuracy: 0.9017\n",
            "Epoch 50/100\n",
            "16/16 [==============================] - 0s 4ms/step - loss: 0.1641 - accuracy: 0.9414 - val_loss: 0.3574 - val_accuracy: 0.8950\n",
            "Epoch 51/100\n",
            "16/16 [==============================] - 0s 4ms/step - loss: 0.1476 - accuracy: 0.9494 - val_loss: 0.4746 - val_accuracy: 0.8338\n",
            "Epoch 52/100\n",
            "16/16 [==============================] - 0s 5ms/step - loss: 0.1509 - accuracy: 0.9460 - val_loss: 0.4242 - val_accuracy: 0.8737\n",
            "Epoch 53/100\n",
            "16/16 [==============================] - 0s 4ms/step - loss: 0.1670 - accuracy: 0.9371 - val_loss: 0.3940 - val_accuracy: 0.8810\n",
            "Epoch 54/100\n",
            "16/16 [==============================] - 0s 5ms/step - loss: 0.1470 - accuracy: 0.9480 - val_loss: 0.5343 - val_accuracy: 0.8175\n",
            "Epoch 55/100\n",
            "16/16 [==============================] - 0s 5ms/step - loss: 0.1350 - accuracy: 0.9544 - val_loss: 0.4240 - val_accuracy: 0.9001\n",
            "Epoch 56/100\n",
            "16/16 [==============================] - 0s 6ms/step - loss: 0.1799 - accuracy: 0.9278 - val_loss: 0.3616 - val_accuracy: 0.9147\n",
            "Epoch 57/100\n",
            "16/16 [==============================] - 0s 5ms/step - loss: 0.1229 - accuracy: 0.9594 - val_loss: 0.3664 - val_accuracy: 0.9180\n",
            "Epoch 58/100\n",
            "16/16 [==============================] - 0s 6ms/step - loss: 0.1261 - accuracy: 0.9592 - val_loss: 0.4065 - val_accuracy: 0.8843\n",
            "Epoch 59/100\n",
            "16/16 [==============================] - 0s 5ms/step - loss: 0.1535 - accuracy: 0.9454 - val_loss: 0.3769 - val_accuracy: 0.9023\n",
            "Epoch 60/100\n",
            "16/16 [==============================] - 0s 6ms/step - loss: 0.0825 - accuracy: 0.9803 - val_loss: 0.4316 - val_accuracy: 0.8832\n",
            "Epoch 61/100\n",
            "16/16 [==============================] - 0s 6ms/step - loss: 0.1412 - accuracy: 0.9511 - val_loss: 0.3953 - val_accuracy: 0.9135\n",
            "Epoch 62/100\n",
            "16/16 [==============================] - 0s 7ms/step - loss: 0.1245 - accuracy: 0.9553 - val_loss: 0.4140 - val_accuracy: 0.9304\n",
            "Epoch 63/100\n",
            "16/16 [==============================] - 0s 7ms/step - loss: 0.1050 - accuracy: 0.9671 - val_loss: 0.3843 - val_accuracy: 0.9332\n",
            "Epoch 64/100\n",
            "16/16 [==============================] - 0s 5ms/step - loss: 0.1278 - accuracy: 0.9533 - val_loss: 0.6671 - val_accuracy: 0.7821\n",
            "Epoch 65/100\n",
            "16/16 [==============================] - 0s 5ms/step - loss: 0.1257 - accuracy: 0.9554 - val_loss: 0.4086 - val_accuracy: 0.9354\n",
            "Epoch 66/100\n",
            "16/16 [==============================] - 0s 8ms/step - loss: 0.0884 - accuracy: 0.9731 - val_loss: 0.4092 - val_accuracy: 0.9270\n",
            "Epoch 67/100\n",
            "16/16 [==============================] - 0s 6ms/step - loss: 0.1303 - accuracy: 0.9562 - val_loss: 0.4628 - val_accuracy: 0.8703\n",
            "Epoch 68/100\n",
            "16/16 [==============================] - 0s 6ms/step - loss: 0.0995 - accuracy: 0.9638 - val_loss: 0.6119 - val_accuracy: 0.8007\n",
            "Epoch 69/100\n",
            "16/16 [==============================] - 0s 6ms/step - loss: 0.1185 - accuracy: 0.9591 - val_loss: 0.4144 - val_accuracy: 0.9017\n",
            "Epoch 70/100\n",
            "16/16 [==============================] - 0s 6ms/step - loss: 0.0875 - accuracy: 0.9712 - val_loss: 0.4203 - val_accuracy: 0.9175\n",
            "Epoch 71/100\n",
            "16/16 [==============================] - 0s 7ms/step - loss: 0.1016 - accuracy: 0.9647 - val_loss: 0.4254 - val_accuracy: 0.9197\n",
            "Epoch 72/100\n",
            "16/16 [==============================] - 0s 7ms/step - loss: 0.1226 - accuracy: 0.9562 - val_loss: 0.4162 - val_accuracy: 0.9062\n",
            "Epoch 73/100\n",
            "16/16 [==============================] - 0s 7ms/step - loss: 0.0941 - accuracy: 0.9652 - val_loss: 0.6469 - val_accuracy: 0.7838\n",
            "Epoch 74/100\n",
            "16/16 [==============================] - 0s 6ms/step - loss: 0.0593 - accuracy: 0.9843 - val_loss: 0.4532 - val_accuracy: 0.9388\n",
            "Epoch 75/100\n",
            "16/16 [==============================] - 0s 8ms/step - loss: 0.1146 - accuracy: 0.9592 - val_loss: 0.4449 - val_accuracy: 0.9012\n",
            "Epoch 76/100\n",
            "16/16 [==============================] - 0s 6ms/step - loss: 0.0851 - accuracy: 0.9729 - val_loss: 0.4475 - val_accuracy: 0.8995\n",
            "Epoch 77/100\n",
            "16/16 [==============================] - 0s 4ms/step - loss: 0.1021 - accuracy: 0.9638 - val_loss: 0.4372 - val_accuracy: 0.9124\n",
            "Epoch 78/100\n",
            "16/16 [==============================] - 0s 4ms/step - loss: 0.0759 - accuracy: 0.9753 - val_loss: 0.4699 - val_accuracy: 0.8888\n",
            "Epoch 79/100\n",
            "16/16 [==============================] - 0s 4ms/step - loss: 0.0753 - accuracy: 0.9764 - val_loss: 0.4499 - val_accuracy: 0.9186\n",
            "Epoch 80/100\n",
            "16/16 [==============================] - 0s 5ms/step - loss: 0.0821 - accuracy: 0.9720 - val_loss: 0.4433 - val_accuracy: 0.9180\n",
            "Epoch 81/100\n",
            "16/16 [==============================] - 0s 5ms/step - loss: 0.0685 - accuracy: 0.9794 - val_loss: 0.5029 - val_accuracy: 0.8725\n",
            "Epoch 82/100\n",
            "16/16 [==============================] - 0s 6ms/step - loss: 0.0608 - accuracy: 0.9819 - val_loss: 0.4692 - val_accuracy: 0.9102\n",
            "Epoch 83/100\n",
            "16/16 [==============================] - 0s 5ms/step - loss: 0.1242 - accuracy: 0.9512 - val_loss: 0.4519 - val_accuracy: 0.9203\n",
            "Epoch 84/100\n",
            "16/16 [==============================] - 0s 6ms/step - loss: 0.0456 - accuracy: 0.9879 - val_loss: 0.4935 - val_accuracy: 0.8860\n",
            "Epoch 85/100\n",
            "16/16 [==============================] - 0s 5ms/step - loss: 0.0715 - accuracy: 0.9764 - val_loss: 0.4677 - val_accuracy: 0.9090\n",
            "Epoch 86/100\n",
            "16/16 [==============================] - 0s 4ms/step - loss: 0.0585 - accuracy: 0.9824 - val_loss: 0.5762 - val_accuracy: 0.9467\n",
            "Epoch 87/100\n",
            "16/16 [==============================] - 0s 4ms/step - loss: 0.1036 - accuracy: 0.9659 - val_loss: 0.4798 - val_accuracy: 0.9186\n",
            "Epoch 88/100\n",
            "16/16 [==============================] - 0s 5ms/step - loss: 0.0528 - accuracy: 0.9860 - val_loss: 0.4973 - val_accuracy: 0.9439\n",
            "Epoch 89/100\n",
            "16/16 [==============================] - 0s 4ms/step - loss: 0.0628 - accuracy: 0.9772 - val_loss: 0.4951 - val_accuracy: 0.8939\n",
            "Epoch 90/100\n",
            "16/16 [==============================] - 0s 4ms/step - loss: 0.1286 - accuracy: 0.9534 - val_loss: 0.4506 - val_accuracy: 0.9186\n",
            "Epoch 91/100\n",
            "16/16 [==============================] - 0s 4ms/step - loss: 0.0361 - accuracy: 0.9913 - val_loss: 0.5346 - val_accuracy: 0.9371\n",
            "Epoch 92/100\n",
            "16/16 [==============================] - 0s 4ms/step - loss: 0.0856 - accuracy: 0.9713 - val_loss: 0.9514 - val_accuracy: 0.6990\n",
            "Epoch 93/100\n",
            "16/16 [==============================] - 0s 5ms/step - loss: 0.0506 - accuracy: 0.9843 - val_loss: 0.4986 - val_accuracy: 0.9118\n",
            "Epoch 94/100\n",
            "16/16 [==============================] - 0s 5ms/step - loss: 0.0503 - accuracy: 0.9869 - val_loss: 0.5939 - val_accuracy: 0.9450\n",
            "Epoch 95/100\n",
            "16/16 [==============================] - 0s 5ms/step - loss: 0.0742 - accuracy: 0.9713 - val_loss: 0.4980 - val_accuracy: 0.9225\n",
            "Epoch 96/100\n",
            "16/16 [==============================] - 0s 4ms/step - loss: 0.0716 - accuracy: 0.9748 - val_loss: 0.4925 - val_accuracy: 0.9175\n",
            "Epoch 97/100\n",
            "16/16 [==============================] - 0s 5ms/step - loss: 0.0375 - accuracy: 0.9903 - val_loss: 0.6069 - val_accuracy: 0.9422\n",
            "Epoch 98/100\n",
            "16/16 [==============================] - 0s 6ms/step - loss: 0.0885 - accuracy: 0.9740 - val_loss: 0.5071 - val_accuracy: 0.9113\n",
            "Epoch 99/100\n",
            "16/16 [==============================] - 0s 5ms/step - loss: 0.0560 - accuracy: 0.9803 - val_loss: 1.1396 - val_accuracy: 0.6828\n",
            "Epoch 100/100\n",
            "16/16 [==============================] - 0s 4ms/step - loss: 0.0646 - accuracy: 0.9801 - val_loss: 0.5110 - val_accuracy: 0.9169\n"
          ]
        }
      ]
    },
    {
      "cell_type": "code",
      "source": [
        "loss = bigger_hist.history['loss']\n",
        "val_loss = bigger_hist.history['val_loss']\n",
        "\n",
        "epochs = range(1, len(loss) + 1)\n",
        "\n",
        "plt.plot(epochs, loss, 'bo', label='Training loss')\n",
        "plt.plot(epochs, val_loss, 'b', label='Validation loss')\n",
        "plt.title('Training and validation loss')\n",
        "plt.xlabel('Epochs')\n",
        "plt.ylabel('Loss')\n",
        "plt.legend()\n",
        "\n",
        "plt.show()\n",
        "\n",
        "acc = bigger_hist.history['accuracy']\n",
        "val_acc = bigger_hist.history['val_accuracy']\n",
        "\n",
        "plt.plot(epochs, acc, 'bo', label='Training acc')\n",
        "plt.plot(epochs, val_acc, 'b', label='Validation acc')\n",
        "plt.title('Training and validation accuracy')\n",
        "plt.xlabel('Epochs')\n",
        "plt.ylabel('Accuracy')\n",
        "plt.legend()\n",
        "\n",
        "plt.show()"
      ],
      "metadata": {
        "id": "7x7DG6zlukNl",
        "colab": {
          "base_uri": "https://localhost:8080/",
          "height": 573
        },
        "outputId": "ba237cfd-b395-480d-958e-77437dd2cf5e"
      },
      "execution_count": null,
      "outputs": [
        {
          "output_type": "display_data",
          "data": {
            "text/plain": [
              "<Figure size 432x288 with 1 Axes>"
            ],
            "image/png": "[encoded data removed]"
          },
          "metadata": {
            "needs_background": "light"
          }
        },
        {
          "output_type": "display_data",
          "data": {
            "text/plain": [
              "<Figure size 432x288 with 1 Axes>"
            ],
            "image/png": "[encoded data removed]"
          },
          "metadata": {
            "needs_background": "light"
          }
        }
      ]
    },
    {
      "cell_type": "markdown",
      "source": [
        "loss 값은 줄으나,validation 의 변동성이 심함 --> 오버피팅\n",
        "\n",
        "원인: feature , data 사이즈 작은데 너무 많은 노드를 사용해서. 피처를 너무 많이 잡아내서 생김 => 128개까지는 필요없다는 결론을 도출\n",
        "\n"
      ],
      "metadata": {
        "id": "G_4OnxR0ThHL"
      }
    },
    {
      "cell_type": "markdown",
      "source": [
        "#8, 32, 128 중 몇개의 노드수를 택해야 할까?\n",
        "\n",
        "8개와 32개를 비교해보면 32에 비해 낮은 acc 를 가지고 있음.\n",
        "128 은 acc와 loss가 매우좋지만 변동성이 심해 오버피팅을 보임.\n",
        "\n",
        "32~64개 사이를 다시 만드는게 좋겠음"
      ],
      "metadata": {
        "id": "3VLqIt7IT9Oi"
      }
    },
    {
      "cell_type": "code",
      "source": [
        "bigger_dict = bigger_hist.history\n",
        "smaller_dict = smaller_hist.history\n",
        "\n",
        "bigger_val_acc = bigger_dict['val_accuracy']\n",
        "bigger_val_loss = bigger_dict['val_loss']\n",
        "smaller_val_acc = smaller_dict['val_accuracy']\n",
        "smaller_val_loss = smaller_dict['val_loss']\n",
        "\n",
        "epochs = range(1, len(val_acc)+1)"
      ],
      "metadata": {
        "id": "2u2jlEovvNJb"
      },
      "execution_count": null,
      "outputs": []
    },
    {
      "cell_type": "code",
      "source": [
        "# ‘b’는 파란색 실선, 'r'은 빨간색 실선을 의미합니다\n",
        "plt.plot(epochs, smaller_val_acc, 'b', label='Smaller model')\n",
        "plt.plot(epochs, bigger_val_acc, 'r', label='Bigger model')\n",
        "plt.xlabel('Epochs')\n",
        "plt.ylabel('Accuracy')\n",
        "plt.legend()\n",
        "plt.show()\n",
        "\n",
        "# ‘b’는 파란색 실선, 'r'은 빨간색 실선을 의미합니다\n",
        "plt.plot(epochs, smaller_val_loss, 'b', label='Smaller model')\n",
        "plt.plot(epochs, bigger_val_loss, 'r', label='Bigger model')\n",
        "plt.xlabel('Epochs')\n",
        "plt.ylabel('Loss')\n",
        "plt.legend()\n",
        "plt.show()"
      ],
      "metadata": {
        "id": "2Ku27pQ2vOoD",
        "colab": {
          "base_uri": "https://localhost:8080/",
          "height": 541
        },
        "outputId": "ac9b2fb2-8c77-40ee-c326-6215c446ad82"
      },
      "execution_count": null,
      "outputs": [
        {
          "output_type": "display_data",
          "data": {
            "text/plain": [
              "<Figure size 432x288 with 1 Axes>"
            ],
            "image/png": "[encoded data removed]"
          },
          "metadata": {
            "needs_background": "light"
          }
        },
        {
          "output_type": "display_data",
          "data": {
            "text/plain": [
              "<Figure size 432x288 with 1 Axes>"
            ],
            "image/png": "[encoded data removed]"
          },
          "metadata": {
            "needs_background": "light"
          }
        }
      ]
    },
    {
      "cell_type": "markdown",
      "source": [
        "#혹시 히든레이어 하나 더 추가하려면 어떻게 해야할까? 어떻게 될까?"
      ],
      "metadata": {
        "id": "BIBAdwFFUmOd"
      }
    },
    {
      "cell_type": "code",
      "source": [
        "model1 = models.Sequential()\n",
        "model1.add(Dense(32, input_dim = 84, activation='relu'))\n",
        "model1.add(Dense(32, activation='relu'))\n",
        "model1.add(Dense(32, activation='relu')) #층하나 더 쌓은것.\n",
        "model1.add(Dense(1, activation='sigmoid'))\n",
        "\n",
        "model1.compile(optimizer='RMSprop',loss='binary_crossentropy',metrics=['accuracy'])"
      ],
      "metadata": {
        "id": "XbJ6vyV5kv7a"
      },
      "execution_count": null,
      "outputs": []
    },
    {
      "cell_type": "code",
      "source": [
        "history1 = model1.fit(X_train_over,y_train_over,epochs=100,batch_size=512,validation_data=(X_test, y_test))"
      ],
      "metadata": {
        "colab": {
          "base_uri": "https://localhost:8080/"
        },
        "id": "m1ohu7aIlCM6",
        "outputId": "9dfa8e00-358d-4c70-d063-dde22a2ecc89"
      },
      "execution_count": null,
      "outputs": [
        {
          "output_type": "stream",
          "name": "stdout",
          "text": [
            "Epoch 1/100\n",
            "16/16 [==============================] - 1s 11ms/step - loss: 0.7587 - accuracy: 0.5652 - val_loss: 0.6406 - val_accuracy: 0.7069\n",
            "Epoch 2/100\n",
            "16/16 [==============================] - 0s 4ms/step - loss: 0.6452 - accuracy: 0.6139 - val_loss: 0.6668 - val_accuracy: 0.6502\n",
            "Epoch 3/100\n",
            "16/16 [==============================] - 0s 4ms/step - loss: 0.6293 - accuracy: 0.6416 - val_loss: 0.5303 - val_accuracy: 0.8304\n",
            "Epoch 4/100\n",
            "16/16 [==============================] - 0s 3ms/step - loss: 0.6226 - accuracy: 0.6368 - val_loss: 0.5272 - val_accuracy: 0.8231\n",
            "Epoch 5/100\n",
            "16/16 [==============================] - 0s 4ms/step - loss: 0.6015 - accuracy: 0.6640 - val_loss: 0.8769 - val_accuracy: 0.3790\n",
            "Epoch 6/100\n",
            "16/16 [==============================] - 0s 5ms/step - loss: 0.5899 - accuracy: 0.6812 - val_loss: 0.7059 - val_accuracy: 0.5424\n",
            "Epoch 7/100\n",
            "16/16 [==============================] - 0s 4ms/step - loss: 0.5949 - accuracy: 0.6680 - val_loss: 0.6740 - val_accuracy: 0.6109\n",
            "Epoch 8/100\n",
            "16/16 [==============================] - 0s 3ms/step - loss: 0.5641 - accuracy: 0.7034 - val_loss: 0.4851 - val_accuracy: 0.8069\n",
            "Epoch 9/100\n",
            "16/16 [==============================] - 0s 3ms/step - loss: 0.5642 - accuracy: 0.6957 - val_loss: 0.4417 - val_accuracy: 0.8473\n",
            "Epoch 10/100\n",
            "16/16 [==============================] - 0s 4ms/step - loss: 0.5546 - accuracy: 0.7050 - val_loss: 0.8519 - val_accuracy: 0.4868\n",
            "Epoch 11/100\n",
            "16/16 [==============================] - 0s 3ms/step - loss: 0.5466 - accuracy: 0.7134 - val_loss: 0.5052 - val_accuracy: 0.7799\n",
            "Epoch 12/100\n",
            "16/16 [==============================] - 0s 3ms/step - loss: 0.5330 - accuracy: 0.7253 - val_loss: 0.8520 - val_accuracy: 0.4509\n",
            "Epoch 13/100\n",
            "16/16 [==============================] - 0s 6ms/step - loss: 0.5300 - accuracy: 0.7275 - val_loss: 0.6400 - val_accuracy: 0.6637\n",
            "Epoch 14/100\n",
            "16/16 [==============================] - 0s 3ms/step - loss: 0.5168 - accuracy: 0.7476 - val_loss: 0.4938 - val_accuracy: 0.8091\n",
            "Epoch 15/100\n",
            "16/16 [==============================] - 0s 3ms/step - loss: 0.4998 - accuracy: 0.7522 - val_loss: 0.5790 - val_accuracy: 0.7260\n",
            "Epoch 16/100\n",
            "16/16 [==============================] - 0s 3ms/step - loss: 0.5100 - accuracy: 0.7397 - val_loss: 0.5389 - val_accuracy: 0.7636\n",
            "Epoch 17/100\n",
            "16/16 [==============================] - 0s 3ms/step - loss: 0.4901 - accuracy: 0.7599 - val_loss: 0.3362 - val_accuracy: 0.8922\n",
            "Epoch 18/100\n",
            "16/16 [==============================] - 0s 4ms/step - loss: 0.4851 - accuracy: 0.7626 - val_loss: 0.3001 - val_accuracy: 0.9141\n",
            "Epoch 19/100\n",
            "16/16 [==============================] - 0s 3ms/step - loss: 0.4826 - accuracy: 0.7630 - val_loss: 0.7600 - val_accuracy: 0.5508\n",
            "Epoch 20/100\n",
            "16/16 [==============================] - 0s 3ms/step - loss: 0.4587 - accuracy: 0.7902 - val_loss: 1.0694 - val_accuracy: 0.3779\n",
            "Epoch 21/100\n",
            "16/16 [==============================] - 0s 5ms/step - loss: 0.4683 - accuracy: 0.7762 - val_loss: 0.3344 - val_accuracy: 0.8866\n",
            "Epoch 22/100\n",
            "16/16 [==============================] - 0s 3ms/step - loss: 0.4618 - accuracy: 0.7785 - val_loss: 0.3958 - val_accuracy: 0.8568\n",
            "Epoch 23/100\n",
            "16/16 [==============================] - 0s 3ms/step - loss: 0.4546 - accuracy: 0.7811 - val_loss: 0.4277 - val_accuracy: 0.8327\n",
            "Epoch 24/100\n",
            "16/16 [==============================] - 0s 3ms/step - loss: 0.4414 - accuracy: 0.7911 - val_loss: 0.3583 - val_accuracy: 0.8748\n",
            "Epoch 25/100\n",
            "16/16 [==============================] - 0s 3ms/step - loss: 0.4370 - accuracy: 0.7960 - val_loss: 0.3052 - val_accuracy: 0.9034\n",
            "Epoch 26/100\n",
            "16/16 [==============================] - 0s 3ms/step - loss: 0.4386 - accuracy: 0.7885 - val_loss: 0.5313 - val_accuracy: 0.7456\n",
            "Epoch 27/100\n",
            "16/16 [==============================] - 0s 3ms/step - loss: 0.4200 - accuracy: 0.8110 - val_loss: 0.3283 - val_accuracy: 0.8855\n",
            "Epoch 28/100\n",
            "16/16 [==============================] - 0s 3ms/step - loss: 0.4157 - accuracy: 0.8104 - val_loss: 0.4035 - val_accuracy: 0.8389\n",
            "Epoch 29/100\n",
            "16/16 [==============================] - 0s 3ms/step - loss: 0.4199 - accuracy: 0.8034 - val_loss: 0.2957 - val_accuracy: 0.9034\n",
            "Epoch 30/100\n",
            "16/16 [==============================] - 0s 3ms/step - loss: 0.4033 - accuracy: 0.8137 - val_loss: 0.4729 - val_accuracy: 0.7906\n",
            "Epoch 31/100\n",
            "16/16 [==============================] - 0s 3ms/step - loss: 0.4055 - accuracy: 0.8143 - val_loss: 0.7389 - val_accuracy: 0.6086\n",
            "Epoch 32/100\n",
            "16/16 [==============================] - 0s 4ms/step - loss: 0.3976 - accuracy: 0.8197 - val_loss: 0.4084 - val_accuracy: 0.8327\n",
            "Epoch 33/100\n",
            "16/16 [==============================] - 0s 3ms/step - loss: 0.3887 - accuracy: 0.8263 - val_loss: 0.5408 - val_accuracy: 0.7456\n",
            "Epoch 34/100\n",
            "16/16 [==============================] - 0s 3ms/step - loss: 0.3897 - accuracy: 0.8242 - val_loss: 0.7801 - val_accuracy: 0.5626\n",
            "Epoch 35/100\n",
            "16/16 [==============================] - 0s 5ms/step - loss: 0.3626 - accuracy: 0.8481 - val_loss: 0.6928 - val_accuracy: 0.6401\n",
            "Epoch 36/100\n",
            "16/16 [==============================] - 0s 4ms/step - loss: 0.3764 - accuracy: 0.8329 - val_loss: 0.8664 - val_accuracy: 0.5688\n",
            "Epoch 37/100\n",
            "16/16 [==============================] - 0s 3ms/step - loss: 0.3725 - accuracy: 0.8328 - val_loss: 0.4941 - val_accuracy: 0.7833\n",
            "Epoch 38/100\n",
            "16/16 [==============================] - 0s 4ms/step - loss: 0.3654 - accuracy: 0.8341 - val_loss: 0.6263 - val_accuracy: 0.6917\n",
            "Epoch 39/100\n",
            "16/16 [==============================] - 0s 3ms/step - loss: 0.3570 - accuracy: 0.8413 - val_loss: 0.5127 - val_accuracy: 0.7743\n",
            "Epoch 40/100\n",
            "16/16 [==============================] - 0s 4ms/step - loss: 0.3545 - accuracy: 0.8436 - val_loss: 0.3041 - val_accuracy: 0.9001\n",
            "Epoch 41/100\n",
            "16/16 [==============================] - 0s 5ms/step - loss: 0.3524 - accuracy: 0.8425 - val_loss: 0.3234 - val_accuracy: 0.8866\n",
            "Epoch 42/100\n",
            "16/16 [==============================] - 0s 5ms/step - loss: 0.3441 - accuracy: 0.8518 - val_loss: 0.4009 - val_accuracy: 0.8344\n",
            "Epoch 43/100\n",
            "16/16 [==============================] - 0s 5ms/step - loss: 0.3453 - accuracy: 0.8509 - val_loss: 0.6085 - val_accuracy: 0.7131\n",
            "Epoch 44/100\n",
            "16/16 [==============================] - 0s 5ms/step - loss: 0.3405 - accuracy: 0.8562 - val_loss: 0.4947 - val_accuracy: 0.7765\n",
            "Epoch 45/100\n",
            "16/16 [==============================] - 0s 4ms/step - loss: 0.3211 - accuracy: 0.8649 - val_loss: 0.9713 - val_accuracy: 0.5244\n",
            "Epoch 46/100\n",
            "16/16 [==============================] - 0s 5ms/step - loss: 0.3280 - accuracy: 0.8609 - val_loss: 0.4547 - val_accuracy: 0.8080\n",
            "Epoch 47/100\n",
            "16/16 [==============================] - 0s 4ms/step - loss: 0.3304 - accuracy: 0.8535 - val_loss: 0.5736 - val_accuracy: 0.7378\n",
            "Epoch 48/100\n",
            "16/16 [==============================] - 0s 4ms/step - loss: 0.3212 - accuracy: 0.8591 - val_loss: 0.7619 - val_accuracy: 0.6373\n",
            "Epoch 49/100\n",
            "16/16 [==============================] - 0s 3ms/step - loss: 0.3158 - accuracy: 0.8679 - val_loss: 0.2853 - val_accuracy: 0.9130\n",
            "Epoch 50/100\n",
            "16/16 [==============================] - 0s 3ms/step - loss: 0.3069 - accuracy: 0.8683 - val_loss: 0.3665 - val_accuracy: 0.8664\n",
            "Epoch 51/100\n",
            "16/16 [==============================] - 0s 3ms/step - loss: 0.3138 - accuracy: 0.8661 - val_loss: 0.4947 - val_accuracy: 0.7838\n",
            "Epoch 52/100\n",
            "16/16 [==============================] - 0s 4ms/step - loss: 0.3131 - accuracy: 0.8674 - val_loss: 0.3374 - val_accuracy: 0.8754\n",
            "Epoch 53/100\n",
            "16/16 [==============================] - 0s 5ms/step - loss: 0.2990 - accuracy: 0.8730 - val_loss: 0.3522 - val_accuracy: 0.8720\n",
            "Epoch 54/100\n",
            "16/16 [==============================] - 0s 3ms/step - loss: 0.3028 - accuracy: 0.8693 - val_loss: 0.4597 - val_accuracy: 0.8125\n",
            "Epoch 55/100\n",
            "16/16 [==============================] - 0s 4ms/step - loss: 0.2959 - accuracy: 0.8751 - val_loss: 0.5345 - val_accuracy: 0.7625\n",
            "Epoch 56/100\n",
            "16/16 [==============================] - 0s 3ms/step - loss: 0.2906 - accuracy: 0.8746 - val_loss: 0.3290 - val_accuracy: 0.8905\n",
            "Epoch 57/100\n",
            "16/16 [==============================] - 0s 3ms/step - loss: 0.2980 - accuracy: 0.8768 - val_loss: 0.3480 - val_accuracy: 0.8810\n",
            "Epoch 58/100\n",
            "16/16 [==============================] - 0s 3ms/step - loss: 0.2933 - accuracy: 0.8788 - val_loss: 0.3298 - val_accuracy: 0.8860\n",
            "Epoch 59/100\n",
            "16/16 [==============================] - 0s 3ms/step - loss: 0.2781 - accuracy: 0.8869 - val_loss: 0.3376 - val_accuracy: 0.8838\n",
            "Epoch 60/100\n",
            "16/16 [==============================] - 0s 3ms/step - loss: 0.2792 - accuracy: 0.8833 - val_loss: 0.3457 - val_accuracy: 0.8810\n",
            "Epoch 61/100\n",
            "16/16 [==============================] - 0s 3ms/step - loss: 0.2806 - accuracy: 0.8827 - val_loss: 0.3400 - val_accuracy: 0.8905\n",
            "Epoch 62/100\n",
            "16/16 [==============================] - 0s 4ms/step - loss: 0.2743 - accuracy: 0.8854 - val_loss: 0.3404 - val_accuracy: 0.8911\n",
            "Epoch 63/100\n",
            "16/16 [==============================] - 0s 3ms/step - loss: 0.2798 - accuracy: 0.8804 - val_loss: 0.4103 - val_accuracy: 0.8422\n",
            "Epoch 64/100\n",
            "16/16 [==============================] - 0s 3ms/step - loss: 0.2601 - accuracy: 0.8903 - val_loss: 0.3947 - val_accuracy: 0.8535\n",
            "Epoch 65/100\n",
            "16/16 [==============================] - 0s 3ms/step - loss: 0.2632 - accuracy: 0.8939 - val_loss: 0.3085 - val_accuracy: 0.9130\n",
            "Epoch 66/100\n",
            "16/16 [==============================] - 0s 3ms/step - loss: 0.2476 - accuracy: 0.9003 - val_loss: 0.3224 - val_accuracy: 0.8995\n",
            "Epoch 67/100\n",
            "16/16 [==============================] - 0s 3ms/step - loss: 0.2733 - accuracy: 0.8845 - val_loss: 0.3475 - val_accuracy: 0.8821\n",
            "Epoch 68/100\n",
            "16/16 [==============================] - 0s 4ms/step - loss: 0.2523 - accuracy: 0.8947 - val_loss: 0.4538 - val_accuracy: 0.8254\n",
            "Epoch 69/100\n",
            "16/16 [==============================] - 0s 3ms/step - loss: 0.2466 - accuracy: 0.8980 - val_loss: 0.3309 - val_accuracy: 0.8911\n",
            "Epoch 70/100\n",
            "16/16 [==============================] - 0s 3ms/step - loss: 0.2645 - accuracy: 0.8893 - val_loss: 0.3470 - val_accuracy: 0.8827\n",
            "Epoch 71/100\n",
            "16/16 [==============================] - 0s 3ms/step - loss: 0.2368 - accuracy: 0.9044 - val_loss: 0.3044 - val_accuracy: 0.9152\n",
            "Epoch 72/100\n",
            "16/16 [==============================] - 0s 3ms/step - loss: 0.2587 - accuracy: 0.8923 - val_loss: 0.3336 - val_accuracy: 0.8933\n",
            "Epoch 73/100\n",
            "16/16 [==============================] - 0s 3ms/step - loss: 0.2356 - accuracy: 0.9087 - val_loss: 0.5132 - val_accuracy: 0.8029\n",
            "Epoch 74/100\n",
            "16/16 [==============================] - 0s 3ms/step - loss: 0.2318 - accuracy: 0.9070 - val_loss: 0.3017 - val_accuracy: 0.9203\n",
            "Epoch 75/100\n",
            "16/16 [==============================] - 0s 3ms/step - loss: 0.2463 - accuracy: 0.9012 - val_loss: 0.3177 - val_accuracy: 0.9113\n",
            "Epoch 76/100\n",
            "16/16 [==============================] - 0s 3ms/step - loss: 0.2326 - accuracy: 0.9065 - val_loss: 0.3787 - val_accuracy: 0.8742\n",
            "Epoch 77/100\n",
            "16/16 [==============================] - 0s 3ms/step - loss: 0.2327 - accuracy: 0.9078 - val_loss: 0.3382 - val_accuracy: 0.8967\n",
            "Epoch 78/100\n",
            "16/16 [==============================] - 0s 3ms/step - loss: 0.2334 - accuracy: 0.9107 - val_loss: 0.3398 - val_accuracy: 0.8933\n",
            "Epoch 79/100\n",
            "16/16 [==============================] - 0s 4ms/step - loss: 0.2266 - accuracy: 0.9107 - val_loss: 0.3473 - val_accuracy: 0.8899\n",
            "Epoch 80/100\n",
            "16/16 [==============================] - 0s 3ms/step - loss: 0.2313 - accuracy: 0.9078 - val_loss: 0.5672 - val_accuracy: 0.7748\n",
            "Epoch 81/100\n",
            "16/16 [==============================] - 0s 3ms/step - loss: 0.2250 - accuracy: 0.9126 - val_loss: 0.3875 - val_accuracy: 0.8692\n",
            "Epoch 82/100\n",
            "16/16 [==============================] - 0s 3ms/step - loss: 0.2171 - accuracy: 0.9143 - val_loss: 0.3873 - val_accuracy: 0.8737\n",
            "Epoch 83/100\n",
            "16/16 [==============================] - 0s 4ms/step - loss: 0.2278 - accuracy: 0.9102 - val_loss: 0.4055 - val_accuracy: 0.8692\n",
            "Epoch 84/100\n",
            "16/16 [==============================] - 0s 4ms/step - loss: 0.2154 - accuracy: 0.9189 - val_loss: 0.5937 - val_accuracy: 0.7726\n",
            "Epoch 85/100\n",
            "16/16 [==============================] - 0s 3ms/step - loss: 0.2185 - accuracy: 0.9170 - val_loss: 0.5226 - val_accuracy: 0.8057\n",
            "Epoch 86/100\n",
            "16/16 [==============================] - 0s 3ms/step - loss: 0.2223 - accuracy: 0.9115 - val_loss: 0.4477 - val_accuracy: 0.8338\n",
            "Epoch 87/100\n",
            "16/16 [==============================] - 0s 4ms/step - loss: 0.2125 - accuracy: 0.9162 - val_loss: 0.4864 - val_accuracy: 0.8226\n",
            "Epoch 88/100\n",
            "16/16 [==============================] - 0s 4ms/step - loss: 0.2034 - accuracy: 0.9223 - val_loss: 0.4454 - val_accuracy: 0.8445\n",
            "Epoch 89/100\n",
            "16/16 [==============================] - 0s 3ms/step - loss: 0.2058 - accuracy: 0.9181 - val_loss: 0.5906 - val_accuracy: 0.7698\n",
            "Epoch 90/100\n",
            "16/16 [==============================] - 0s 3ms/step - loss: 0.2161 - accuracy: 0.9140 - val_loss: 0.3673 - val_accuracy: 0.8922\n",
            "Epoch 91/100\n",
            "16/16 [==============================] - 0s 5ms/step - loss: 0.1907 - accuracy: 0.9282 - val_loss: 0.3544 - val_accuracy: 0.9141\n",
            "Epoch 92/100\n",
            "16/16 [==============================] - 0s 4ms/step - loss: 0.1942 - accuracy: 0.9272 - val_loss: 0.5489 - val_accuracy: 0.7956\n",
            "Epoch 93/100\n",
            "16/16 [==============================] - 0s 4ms/step - loss: 0.1938 - accuracy: 0.9260 - val_loss: 0.4905 - val_accuracy: 0.8327\n",
            "Epoch 94/100\n",
            "16/16 [==============================] - 0s 6ms/step - loss: 0.2014 - accuracy: 0.9214 - val_loss: 0.4485 - val_accuracy: 0.8501\n",
            "Epoch 95/100\n",
            "16/16 [==============================] - 0s 3ms/step - loss: 0.1969 - accuracy: 0.9258 - val_loss: 0.4993 - val_accuracy: 0.8181\n",
            "Epoch 96/100\n",
            "16/16 [==============================] - 0s 3ms/step - loss: 0.2061 - accuracy: 0.9201 - val_loss: 0.5047 - val_accuracy: 0.8198\n",
            "Epoch 97/100\n",
            "16/16 [==============================] - 0s 5ms/step - loss: 0.1983 - accuracy: 0.9264 - val_loss: 0.4194 - val_accuracy: 0.8703\n",
            "Epoch 98/100\n",
            "16/16 [==============================] - 0s 4ms/step - loss: 0.1907 - accuracy: 0.9266 - val_loss: 0.6040 - val_accuracy: 0.7816\n",
            "Epoch 99/100\n",
            "16/16 [==============================] - 0s 3ms/step - loss: 0.1805 - accuracy: 0.9293 - val_loss: 0.7380 - val_accuracy: 0.7221\n",
            "Epoch 100/100\n",
            "16/16 [==============================] - 0s 3ms/step - loss: 0.1896 - accuracy: 0.9270 - val_loss: 0.6532 - val_accuracy: 0.7546\n"
          ]
        }
      ]
    },
    {
      "cell_type": "code",
      "source": [
        "loss = history1.history['loss']\n",
        "val_loss = history1.history['val_loss']\n",
        "\n",
        "epochs = range(1, len(loss) + 1)\n",
        "\n",
        "plt.plot(epochs, loss, 'bo', label='Training loss')\n",
        "plt.plot(epochs, val_loss, 'b', label='Validation loss')\n",
        "plt.title('Training and validation loss')\n",
        "plt.xlabel('Epochs')\n",
        "plt.ylabel('Loss')\n",
        "plt.legend()\n",
        "\n",
        "plt.show()\n",
        "\n",
        "acc = history1.history['accuracy']\n",
        "val_acc = history1.history['val_accuracy']\n",
        "\n",
        "plt.plot(epochs, acc, 'bo', label='Training acc')\n",
        "plt.plot(epochs, val_acc, 'b', label='Validation acc')\n",
        "plt.title('Training and validation accuracy')\n",
        "plt.xlabel('Epochs')\n",
        "plt.ylabel('Accuracy')\n",
        "plt.legend()\n",
        "\n",
        "plt.show()"
      ],
      "metadata": {
        "id": "NKITHFrOvQVo",
        "colab": {
          "base_uri": "https://localhost:8080/",
          "height": 573
        },
        "outputId": "271aa49e-6fbe-44e3-fb59-a2f19209d5c7"
      },
      "execution_count": null,
      "outputs": [
        {
          "output_type": "display_data",
          "data": {
            "text/plain": [
              "<Figure size 432x288 with 1 Axes>"
            ],
            "image/png": "[encoded data removed]"
          },
          "metadata": {
            "needs_background": "light"
          }
        },
        {
          "output_type": "display_data",
          "data": {
            "text/plain": [
              "<Figure size 432x288 with 1 Axes>"
            ],
            "image/png": "[encoded data removed]"
          },
          "metadata": {
            "needs_background": "light"
          }
        }
      ]
    },
    {
      "cell_type": "markdown",
      "source": [
        "1. loss 의 변동성이 붕 뜸. -> 좋은모델은 아니다. 오버피팅도아님\n",
        "2. acc 도 traing 근처에도 잘 못옴\n",
        "\n",
        "정형데이터는 2개층이면 충분한 경우가 많다.\n",
        "히든레이어는 피처수와 관계가 있다. 이미지와 같이 피처가 많을때 3개층 이상이 효력이있다.\n",
        "\n",
        "##이유\n",
        "한 레이어를 통할때마다 다른 피처를 잡아낸다 -> 피처가 작기때문에 히든레이어를 많이 쌓아봐야 -> 보고보고봐도 얻어낼게없음\n",
        "\n",
        "근데 이미지는 한 레이어를 통과할때마다 그 레이어가 어떤 피처를 잡아내는지 알수있음.\n",
        "그래서 한레이어마다의 개수를 조정할수있다.\n",
        "\n",
        "보통 데이터가 1만넘어보면 그때 노드개수를 늘려보던가하는 방법이 있다......"
      ],
      "metadata": {
        "id": "UcBufuQlwUBk"
      }
    },
    {
      "cell_type": "markdown",
      "source": [
        "#설명가능 인공지능 기술\n",
        "비정형엔 shap 을 많이 사용한다.\n",
        "자살고위험군데이터 참고하기..\n"
      ],
      "metadata": {
        "id": "PWFlLcrQnziW"
      }
    },
    {
      "cell_type": "markdown",
      "source": [
        "#얼리스탑핑 기술\n",
        "에폭값 100번돌다 loss값은 줄어들다 더이상 떨어지지 않는 지점 앞에서 잘라주는 기법\n",
        "\n",
        "원리 : patience 수 를 줘서 (10)x번을 줘도 더 떨어지지 않으면 그때 자름 , 여기서 더 나은가를 알기위해서는 매 에폭값을 돌때마다(학습할때마다) 저장을 해놔야함"
      ],
      "metadata": {
        "id": "q-IbK0q_zpvL"
      }
    },
    {
      "cell_type": "code",
      "source": [
        "import os\n",
        "from tensorflow.keras.callbacks import ModelCheckpoint,EarlyStopping\n",
        "\n",
        "MODEL_DIR = './model/' #모델 저장해놓을 디렉토리\n",
        "if not os.path.exists(MODEL_DIR):\n",
        "    os.mkdir(MODEL_DIR)\n",
        "\n",
        "modelpath=\"./model/{epoch:02d}-{val_loss:.4f}.hdf5\"\n",
        "mc = ModelCheckpoint(filepath=modelpath, monitor='val_loss', mode='min', verbose=1, save_best_only=True)\n",
        "\n",
        "es = EarlyStopping(monitor='val_loss', mode='min', verbose=1, patience=10)"
      ],
      "metadata": {
        "id": "B4RUIHtk0KLC"
      },
      "execution_count": null,
      "outputs": []
    },
    {
      "cell_type": "code",
      "source": [
        "final_model_hist = model.fit(X_train_over,y_train_over,\n",
        "                                   epochs=100,batch_size=512,validation_data=(X_test, y_test),\n",
        "                                   callbacks=[es,mc])"
      ],
      "metadata": {
        "colab": {
          "base_uri": "https://localhost:8080/"
        },
        "id": "C2Zk15__0Xvi",
        "outputId": "5c2fd8b4-3cc4-43ca-867d-857aababfecb"
      },
      "execution_count": null,
      "outputs": [
        {
          "output_type": "stream",
          "name": "stdout",
          "text": [
            "Epoch 1/100\n",
            " 1/16 [>.............................] - ETA: 0s - loss: 0.2290 - accuracy: 0.9238\n",
            "Epoch 1: val_loss improved from inf to 0.37354, saving model to ./model/01-0.3735.hdf5\n",
            "16/16 [==============================] - 0s 7ms/step - loss: 0.2545 - accuracy: 0.8994 - val_loss: 0.3735 - val_accuracy: 0.8636\n",
            "Epoch 2/100\n",
            " 1/16 [>.............................] - ETA: 0s - loss: 0.1953 - accuracy: 0.9414\n",
            "Epoch 2: val_loss improved from 0.37354 to 0.34392, saving model to ./model/02-0.3439.hdf5\n",
            "16/16 [==============================] - 0s 5ms/step - loss: 0.2529 - accuracy: 0.8975 - val_loss: 0.3439 - val_accuracy: 0.8793\n",
            "Epoch 3/100\n",
            " 1/16 [>.............................] - ETA: 0s - loss: 0.2637 - accuracy: 0.8945\n",
            "Epoch 3: val_loss improved from 0.34392 to 0.33788, saving model to ./model/03-0.3379.hdf5\n",
            "16/16 [==============================] - 0s 5ms/step - loss: 0.2575 - accuracy: 0.8944 - val_loss: 0.3379 - val_accuracy: 0.8871\n",
            "Epoch 4/100\n",
            " 1/16 [>.............................] - ETA: 0s - loss: 0.2438 - accuracy: 0.8926\n",
            "Epoch 4: val_loss improved from 0.33788 to 0.33079, saving model to ./model/04-0.3308.hdf5\n",
            "16/16 [==============================] - 0s 4ms/step - loss: 0.2628 - accuracy: 0.8889 - val_loss: 0.3308 - val_accuracy: 0.8899\n",
            "Epoch 5/100\n",
            " 1/16 [>.............................] - ETA: 0s - loss: 0.2505 - accuracy: 0.8984\n",
            "Epoch 5: val_loss did not improve from 0.33079\n",
            "16/16 [==============================] - 0s 3ms/step - loss: 0.2525 - accuracy: 0.8984 - val_loss: 0.4992 - val_accuracy: 0.7838\n",
            "Epoch 6/100\n",
            " 1/16 [>.............................] - ETA: 0s - loss: 0.2546 - accuracy: 0.8965\n",
            "Epoch 6: val_loss did not improve from 0.33079\n",
            "16/16 [==============================] - 0s 5ms/step - loss: 0.2406 - accuracy: 0.9003 - val_loss: 0.5890 - val_accuracy: 0.7501\n",
            "Epoch 7/100\n",
            " 1/16 [>.............................] - ETA: 0s - loss: 0.3460 - accuracy: 0.8672\n",
            "Epoch 7: val_loss did not improve from 0.33079\n",
            "16/16 [==============================] - 0s 4ms/step - loss: 0.2558 - accuracy: 0.8961 - val_loss: 0.4453 - val_accuracy: 0.8248\n",
            "Epoch 8/100\n",
            " 1/16 [>.............................] - ETA: 0s - loss: 0.2085 - accuracy: 0.9238\n",
            "Epoch 8: val_loss did not improve from 0.33079\n",
            "16/16 [==============================] - 0s 5ms/step - loss: 0.2337 - accuracy: 0.9077 - val_loss: 0.4190 - val_accuracy: 0.8473\n",
            "Epoch 9/100\n",
            " 1/16 [>.............................] - ETA: 0s - loss: 0.1918 - accuracy: 0.9238\n",
            "Epoch 9: val_loss did not improve from 0.33079\n",
            "16/16 [==============================] - 0s 5ms/step - loss: 0.2461 - accuracy: 0.9019 - val_loss: 0.4682 - val_accuracy: 0.8080\n",
            "Epoch 10/100\n",
            "15/16 [===========================>..] - ETA: 0s - loss: 0.2422 - accuracy: 0.9017\n",
            "Epoch 10: val_loss did not improve from 0.33079\n",
            "16/16 [==============================] - 0s 6ms/step - loss: 0.2414 - accuracy: 0.9021 - val_loss: 0.5158 - val_accuracy: 0.7911\n",
            "Epoch 11/100\n",
            " 1/16 [>.............................] - ETA: 0s - loss: 0.2323 - accuracy: 0.9082\n",
            "Epoch 11: val_loss did not improve from 0.33079\n",
            "16/16 [==============================] - 0s 4ms/step - loss: 0.2417 - accuracy: 0.9038 - val_loss: 0.3398 - val_accuracy: 0.8849\n",
            "Epoch 12/100\n",
            " 1/16 [>.............................] - ETA: 0s - loss: 0.2419 - accuracy: 0.9023\n",
            "Epoch 12: val_loss did not improve from 0.33079\n",
            "16/16 [==============================] - 0s 4ms/step - loss: 0.2285 - accuracy: 0.9082 - val_loss: 0.3766 - val_accuracy: 0.8664\n",
            "Epoch 13/100\n",
            " 1/16 [>.............................] - ETA: 0s - loss: 0.1734 - accuracy: 0.9531\n",
            "Epoch 13: val_loss did not improve from 0.33079\n",
            "16/16 [==============================] - 0s 3ms/step - loss: 0.2295 - accuracy: 0.9100 - val_loss: 0.3673 - val_accuracy: 0.8787\n",
            "Epoch 14/100\n",
            " 1/16 [>.............................] - ETA: 0s - loss: 0.2245 - accuracy: 0.9219\n",
            "Epoch 14: val_loss did not improve from 0.33079\n",
            "16/16 [==============================] - 0s 5ms/step - loss: 0.2366 - accuracy: 0.9070 - val_loss: 0.3674 - val_accuracy: 0.8759\n",
            "Epoch 14: early stopping\n"
          ]
        }
      ]
    },
    {
      "cell_type": "markdown",
      "source": [
        "14회만에 끝나버린걸 알수있음.\n",
        "디렉토리 보니 4회 저장된걸 알수있는데 4회게 제일 좋다고 판단."
      ],
      "metadata": {
        "id": "ztYSAUnY1GLk"
      }
    },
    {
      "cell_type": "code",
      "source": [
        "model.save('/content/model/04-0.3308.hdf5')"
      ],
      "metadata": {
        "id": "VF2NL8k31sWG"
      },
      "execution_count": null,
      "outputs": []
    },
    {
      "cell_type": "markdown",
      "source": [
        "최종으로 뽑힌 이름을 써서 저장을 해놓는다."
      ],
      "metadata": {
        "id": "rZnB7Exu1vh-"
      }
    },
    {
      "cell_type": "code",
      "source": [
        "new_model=tf.keras.models.load_model('/content/model/04-0.3308.hdf5')"
      ],
      "metadata": {
        "id": "SS24tNEd18u5"
      },
      "execution_count": null,
      "outputs": []
    },
    {
      "cell_type": "markdown",
      "source": [
        "저장해놓은 모델 불러오는법 load\n",
        "\n",
        "이제 new model 로 진행하면된다."
      ],
      "metadata": {
        "id": "zWChOP9Y1_J0"
      }
    },
    {
      "cell_type": "markdown",
      "source": [
        "#의료데이터 특성상 recall 값을 찾아줘야한다.\n",
        "confusion matrix 진행"
      ],
      "metadata": {
        "id": "kJHOykx32mlV"
      }
    },
    {
      "cell_type": "code",
      "source": [
        "from sklearn.metrics import classification_report, confusion_matrix"
      ],
      "metadata": {
        "id": "r1hc6Zxn2Enk"
      },
      "execution_count": null,
      "outputs": []
    },
    {
      "cell_type": "code",
      "source": [
        "predictions = new_model.predict(X_test)\n",
        "bi_predictions = tf.round(predictions).numpy().flatten()"
      ],
      "metadata": {
        "id": "sWKSE32928Uh"
      },
      "execution_count": null,
      "outputs": []
    },
    {
      "cell_type": "markdown",
      "source": [
        "범주형으로 전환하는 작업이다~"
      ],
      "metadata": {
        "id": "ykhIGy7Q3JZ0"
      }
    },
    {
      "cell_type": "code",
      "source": [
        "print(classification_report(y_test, bi_predictions))"
      ],
      "metadata": {
        "colab": {
          "base_uri": "https://localhost:8080/"
        },
        "id": "o_PeZMcF3AzP",
        "outputId": "d41174d9-49d3-44de-abee-661ec309e9f2"
      },
      "execution_count": null,
      "outputs": [
        {
          "output_type": "stream",
          "name": "stdout",
          "text": [
            "              precision    recall  f1-score   support\n",
            "\n",
            "         0.0       0.96      0.90      0.93      1685\n",
            "         1.0       0.19      0.40      0.26        96\n",
            "\n",
            "    accuracy                           0.88      1781\n",
            "   macro avg       0.58      0.65      0.59      1781\n",
            "weighted avg       0.92      0.88      0.90      1781\n",
            "\n"
          ]
        }
      ]
    },
    {
      "cell_type": "markdown",
      "source": [
        "정답값과 예측값을 넣는다. binary 범주형값만 넣을수있다.\n",
        "\n",
        "전체 acc 는 0과1을 제대로 맞춘값의 평균\n",
        "그러나 우리의 관심사는 1 , recall 값이 제일 중요하다. 현재 1을 1이라고 맞춘것은 40%. 전체 acc 볼게 아니라 1을 맞추는걸봐야한다.\n",
        "\n",
        "여기서 설명가능인공지능 넣게되면 가장 중요한 변수를 찾아낼수있다.\n",
        "근데 40% 확률에 모델에다가 설명가능인공지능을 넣는다면 누가 신뢰한단말인고."
      ],
      "metadata": {
        "id": "6RlTwwtg3Crw"
      }
    },
    {
      "cell_type": "markdown",
      "source": [
        "#AUC그려보기"
      ],
      "metadata": {
        "id": "Pva4Zxb6-kPV"
      }
    },
    {
      "cell_type": "code",
      "source": [
        "import matplotlib as mpl\n",
        "from sklearn import metrics"
      ],
      "metadata": {
        "id": "1d5HLTDw-aws"
      },
      "execution_count": null,
      "outputs": []
    },
    {
      "cell_type": "code",
      "source": [
        "# ROC 그리기\n",
        "fpr, tpr, thresholds = metrics.roc_curve(y_test, bi_predictions) #곡선 그리기\n",
        "\n",
        "plt.plot(fpr, tpr)\n",
        "plt.fill_between(fpr, tpr, color='y')\n",
        "plt.plot([0, 1], [0, 1], '--')\n",
        "plt.xlabel('False Positive Rate(1 - Specificity)')\n",
        "plt.ylabel('True Positive Rate(Sensitivity)')\n",
        "\n",
        "score = metrics.auc(fpr, tpr) #면적 구하기\n",
        "print(score) #1.0\n",
        "\n",
        "plt.title('ROC (Receiver Operating Characteristic) Curve (AUC = {})'.format(round(score,4)))\n",
        "plt.show()"
      ],
      "metadata": {
        "colab": {
          "base_uri": "https://localhost:8080/",
          "height": 313
        },
        "id": "Ekyn-vNq-ckz",
        "outputId": "0fed3c54-13ca-4cc0-9da5-59fe1dfea253"
      },
      "execution_count": null,
      "outputs": [
        {
          "output_type": "stream",
          "name": "stdout",
          "text": [
            "0.6495487141444115\n"
          ]
        },
        {
          "output_type": "display_data",
          "data": {
            "text/plain": [
              "<Figure size 432x288 with 1 Axes>"
            ],
            "image/png": "[encoded data removed]"
          },
          "metadata": {
            "needs_background": "light"
          }
        }
      ]
    },
    {
      "cell_type": "markdown",
      "source": [
        "해석방법 : 1을 잘맞추면 사각형 면적이 커지고, 반반이면 세모.\n",
        "뒤로갈수록 좀 못맞춘것같다.\n",
        "\n",
        "이 모델총평 : 0 에대한 사람에겐 잘 쓰이지만 1 에대한사람은 좀...\n",
        "\n",
        "\n",
        "acuracy 는 1에 가까우나, auc 0.6 에다가 설명가능인공지능 말하려면 건강한사람에게는 적합하나\n",
        "1인 사람에게는 좀 어렵다. => 인공지능에 대한 신뢰성.\n",
        "\n",
        "모델튜닝할때는 auc 를 0.7 이상은 되도록 튜닝해야함."
      ],
      "metadata": {
        "id": "9tuAt-FW-pDF"
      }
    }
  ]
}